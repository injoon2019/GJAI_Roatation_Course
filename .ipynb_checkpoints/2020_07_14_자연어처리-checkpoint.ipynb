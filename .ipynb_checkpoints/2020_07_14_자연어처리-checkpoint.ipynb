{
 "cells": [
  {
   "cell_type": "markdown",
   "metadata": {},
   "source": [
    "### 정규식"
   ]
  },
  {
   "cell_type": "code",
   "execution_count": 2,
   "metadata": {},
   "outputs": [
    {
     "name": "stdout",
     "output_type": "stream",
     "text": [
      "None\n",
      "None\n",
      "None\n",
      "None\n"
     ]
    }
   ],
   "source": [
    "import re\n",
    "\n",
    "list_a = ['ab', 'a1b', 'a12b', 'a123b'] #검사 대상\n",
    "p = re.compile('abc')  #규칙을 만드는 것 \n",
    "\n",
    "for i in list_a:\n",
    "    print(p.match(i))  #검사 결과는 Match Object이다. 어떤 인덱스부터 어디까지 매치되는지, 매치된 문자가 뭐지 정보를 담고 있다. "
   ]
  },
  {
   "cell_type": "code",
   "execution_count": 3,
   "metadata": {},
   "outputs": [
    {
     "name": "stdout",
     "output_type": "stream",
     "text": [
      "None\n",
      "None\n",
      "<re.Match object; span=(0, 4), match='a12b'>\n",
      "None\n"
     ]
    }
   ],
   "source": [
    "import re\n",
    "\n",
    "list_a = ['ab', 'a1b', 'a12b', 'a123b'] \n",
    "p = re.compile('a..b')  #a와 b사이에 문자가 두개가 있어야한다\n",
    "                        # .:모든 문자 (줄바꿈제외, 공백포함)\n",
    "\n",
    "for i in list_a:\n",
    "    print(p.match(i)) "
   ]
  },
  {
   "cell_type": "code",
   "execution_count": 4,
   "metadata": {},
   "outputs": [
    {
     "name": "stdout",
     "output_type": "stream",
     "text": [
      "None\n",
      "<re.Match object; span=(0, 3), match='a1b'>\n",
      "<re.Match object; span=(0, 4), match='a12b'>\n",
      "<re.Match object; span=(0, 5), match='a123b'>\n"
     ]
    }
   ],
   "source": [
    "import re\n",
    "\n",
    "list_a = ['ab', 'a1b', 'a12b', 'a123b'] \n",
    "p = re.compile('a.+b')  #+는 최소 한번 이상을 의미한다. 즉 .+이므로 아무 문자가 한번이상 오면된다\n",
    "\n",
    "for i in list_a:\n",
    "    print(p.match(i)) "
   ]
  },
  {
   "cell_type": "code",
   "execution_count": 5,
   "metadata": {},
   "outputs": [
    {
     "name": "stdout",
     "output_type": "stream",
     "text": [
      "<re.Match object; span=(0, 2), match='ab'>\n",
      "<re.Match object; span=(0, 3), match='a1b'>\n",
      "<re.Match object; span=(0, 4), match='a12b'>\n",
      "<re.Match object; span=(0, 5), match='a123b'>\n"
     ]
    }
   ],
   "source": [
    "import re\n",
    "\n",
    "list_a = ['ab', 'a1b', 'a12b', 'a123b'] \n",
    "p = re.compile('a.*b')  #*는 아무것도 없는것도 포함한다. \n",
    "\n",
    "for i in list_a:\n",
    "    print(p.match(i)) "
   ]
  },
  {
   "cell_type": "code",
   "execution_count": 6,
   "metadata": {},
   "outputs": [
    {
     "name": "stdout",
     "output_type": "stream",
     "text": [
      "None\n",
      "<re.Match object; span=(0, 3), match='a1b'>\n",
      "<re.Match object; span=(0, 4), match='a12b'>\n",
      "None\n"
     ]
    }
   ],
   "source": [
    "import re\n",
    "\n",
    "list_a = ['ab', 'a1b', 'a12b', 'a123b'] \n",
    "p = re.compile('a.{1,2}b')  # {}는 개수의 범위를 지정한다. {1,2}는 .이 한개 혹은 2개를 의미한다. 두개 이상을 나타날때는 {2,}로 표현가능\n",
    "\n",
    "for i in list_a:\n",
    "    print(p.match(i)) "
   ]
  },
  {
   "cell_type": "code",
   "execution_count": 7,
   "metadata": {},
   "outputs": [
    {
     "name": "stdout",
     "output_type": "stream",
     "text": [
      "<re.Match object; span=(4, 6), match='ab'>\n",
      "<re.Match object; span=(0, 2), match='ab'>\n",
      "None\n",
      "None\n",
      "None\n"
     ]
    }
   ],
   "source": [
    "import re\n",
    "\n",
    "list_a = ['123 ab', 'ab', 'a1b', 'a12b', 'a123b'] \n",
    "p = re.compile('ab')  # {}는 개수의 범위를 지정한다. \n",
    "\n",
    "for i in list_a:\n",
    "    print(p.search(i))  #match는 문자열의 처음부터 시작하므로, '123 ab'는 안잡힌다. search는 문자열 전체를 보므로 탐색된다"
   ]
  },
  {
   "cell_type": "code",
   "execution_count": 8,
   "metadata": {},
   "outputs": [
    {
     "name": "stdout",
     "output_type": "stream",
     "text": [
      "['a', 'a', 'a', 'a', 'a', 'a']\n"
     ]
    }
   ],
   "source": [
    "import re\n",
    "\n",
    "a = 'ab abcd abcdddfdfd adsasdfasdfs'\n",
    "p = re.compile('a')\n",
    "\n",
    "print(p.findall(a))"
   ]
  },
  {
   "cell_type": "code",
   "execution_count": 9,
   "metadata": {},
   "outputs": [],
   "source": [
    "#####연습문제 1번 풀어봄"
   ]
  },
  {
   "cell_type": "code",
   "execution_count": 10,
   "metadata": {},
   "outputs": [
    {
     "name": "stdout",
     "output_type": "stream",
     "text": [
      "<re.Match object; span=(0, 2), match='ab'>\n",
      "<re.Match object; span=(0, 3), match='a1b'>\n",
      "<re.Match object; span=(0, 4), match='a12b'>\n",
      "<re.Match object; span=(0, 5), match='a123b'>\n"
     ]
    }
   ],
   "source": [
    "import re\n",
    "\n",
    "a = ['ab', 'a1b', 'a12b', 'a123b']\n",
    "p = re.compile('a.*b', re.I) #re.I 혹은 re.IGNORANCE 대소문자를 무시하고 찾는다\n",
    "\n",
    "for i in a:\n",
    "    print(p.match(i).)   #match object에 대해 span() match() 등 사용가능"
   ]
  },
  {
   "cell_type": "code",
   "execution_count": 1,
   "metadata": {},
   "outputs": [
    {
     "name": "stdout",
     "output_type": "stream",
     "text": [
      "None\n",
      "None\n",
      "<re.Match object; span=(0, 4), match='a12b'>\n",
      "None\n"
     ]
    }
   ],
   "source": [
    "import re\n",
    "\n",
    "a = ['ab', 'a1b', 'a12b', 'a123b']\n",
    "p = re.compile('a\\d\\db') # d는 숫자를 의미하고 D는 숫자가 아닌 것을 의미한다\n",
    "                          # '\\'는 \n",
    "\n",
    "for i in a:\n",
    "    print(p.match(i))   #match object에 대해 span() match() 등 사용가능"
   ]
  },
  {
   "cell_type": "code",
   "execution_count": 6,
   "metadata": {},
   "outputs": [
    {
     "name": "stdout",
     "output_type": "stream",
     "text": [
      "학점 2.0\n"
     ]
    }
   ],
   "source": [
    "import re\n",
    "\n",
    "a = '김준태 - 학점 2.0'\n",
    "p = re.compile('(?P<name>\\w+)\\s.\\s(?P<grade>.+\\s.+)') \n",
    "                          \n",
    "print(p.match(a).group(2))  #괄호로 그룹을 만들면 번호로 그룹을 가져올 수 있다"
   ]
  },
  {
   "cell_type": "code",
   "execution_count": 7,
   "metadata": {},
   "outputs": [
    {
     "name": "stdout",
     "output_type": "stream",
     "text": [
      "김준태\n"
     ]
    }
   ],
   "source": [
    "import re\n",
    "\n",
    "a = '김준태 - 학점 2.0'\n",
    "p = re.compile('(?P<name>\\w+)\\s.+\\s(?P<grade>.+\\s.+)')\n",
    "\n",
    "print(p.match(a).group(1))"
   ]
  },
  {
   "cell_type": "code",
   "execution_count": 16,
   "metadata": {},
   "outputs": [
    {
     "name": "stdout",
     "output_type": "stream",
     "text": [
      "<re.Match object; span=(0, 9), match='김준태 - 김준태'>\n"
     ]
    }
   ],
   "source": [
    "import re\n",
    "\n",
    "a = '김준태 - 김준태'\n",
    "#p = re.compile('(?P<name>\\w+)\\s.+\\s\\1') # r을 붙여야한다\n",
    "p = re.compile(r'(?P<name>\\w+)\\s.+\\s\\1') # \\1은 앞의 그룹을 재참조하는 것이다.          \n",
    "print(p.match(a)) \n",
    "\n",
    "#\\1은 내부에서 재참조 가능하게 함\n",
    "\n",
    "# (?P<name>\\w+)\\s.\\s\\1\n",
    "# 김준태 - \n",
    "# [(?P<name>\\w+) -> 김준태] -> 1번째 그룹 -> \\1 (김준태)"
   ]
  },
  {
   "cell_type": "code",
   "execution_count": 19,
   "metadata": {},
   "outputs": [],
   "source": [
    "###3번 문제 품"
   ]
  },
  {
   "cell_type": "code",
   "execution_count": 21,
   "metadata": {},
   "outputs": [
    {
     "name": "stdout",
     "output_type": "stream",
     "text": [
      "ab\n",
      "a1b\n",
      "dddd\n",
      "a123b\n"
     ]
    }
   ],
   "source": [
    "import re\n",
    "\n",
    "list_a = ['ab', 'a1b', 'a12b', 'a123b']\n",
    "p = re.compile('a..b') \n",
    "\n",
    "for i in list_a:\n",
    "    print(p.sub('dddd', i)) # sub(바뀐뒤의 문자, 바꿀 대상)"
   ]
  },
  {
   "cell_type": "code",
   "execution_count": 22,
   "metadata": {},
   "outputs": [
    {
     "name": "stdout",
     "output_type": "stream",
     "text": [
      "학점 2.0 - 김준태\n"
     ]
    }
   ],
   "source": [
    "import re\n",
    "\n",
    "a=\"김준태 - 학점 2.0\"\n",
    "p = re.compile(r'(?P<name>\\w+)\\s.\\s(?P<grade>.+\\s.+)') \n",
    "print(p.sub(\"\\g<grade> - \\g<name>\", a))"
   ]
  },
  {
   "cell_type": "code",
   "execution_count": 21,
   "metadata": {},
   "outputs": [
    {
     "name": "stdout",
     "output_type": "stream",
     "text": [
      "학점 2.0 - 김준태\n"
     ]
    }
   ],
   "source": [
    "import re\n",
    "\n",
    "a=\"김준태 - 학점 2.0\"\n",
    "p = re.compile(r'(?P<name>\\w+)\\s.\\s(?P<grade>.+\\s.+)')\n",
    "               \n",
    "print(p.sub(\"\\g<grade> - \\g<name>\", a))"
   ]
  },
  {
   "cell_type": "code",
   "execution_count": null,
   "metadata": {},
   "outputs": [],
   "source": []
  }
 ],
 "metadata": {
  "kernelspec": {
   "display_name": "Python 3",
   "language": "python",
   "name": "python3"
  },
  "language_info": {
   "codemirror_mode": {
    "name": "ipython",
    "version": 3
   },
   "file_extension": ".py",
   "mimetype": "text/x-python",
   "name": "python",
   "nbconvert_exporter": "python",
   "pygments_lexer": "ipython3",
   "version": "3.7.6"
  }
 },
 "nbformat": 4,
 "nbformat_minor": 4
}
