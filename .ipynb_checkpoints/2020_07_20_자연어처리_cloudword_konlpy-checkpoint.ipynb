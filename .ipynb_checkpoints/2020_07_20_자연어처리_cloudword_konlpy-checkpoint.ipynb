{
 "cells": [
  {
   "cell_type": "code",
   "execution_count": 1,
   "metadata": {
    "colab": {
     "base_uri": "https://localhost:8080/",
     "height": 618
    },
    "colab_type": "code",
    "executionInfo": {
     "elapsed": 7497,
     "status": "ok",
     "timestamp": 1595322144096,
     "user": {
      "displayName": "손인준",
      "photoUrl": "",
      "userId": "15372208487667366533"
     },
     "user_tz": -540
    },
    "id": "PFoRtRsZZOPr",
    "outputId": "7db23954-1a87-460c-b076-0853c2c7ab7c"
   },
   "outputs": [
    {
     "name": "stdout",
     "output_type": "stream",
     "text": [
      "Collecting konlpy\n",
      "\u001b[?25l  Downloading https://files.pythonhosted.org/packages/85/0e/f385566fec837c0b83f216b2da65db9997b35dd675e107752005b7d392b1/konlpy-0.5.2-py2.py3-none-any.whl (19.4MB)\n",
      "\u001b[K     |████████████████████████████████| 19.4MB 1.3MB/s \n",
      "\u001b[?25hCollecting tweepy>=3.7.0\n",
      "  Downloading https://files.pythonhosted.org/packages/bb/7c/99d51f80f3b77b107ebae2634108717362c059a41384a1810d13e2429a81/tweepy-3.9.0-py2.py3-none-any.whl\n",
      "Collecting beautifulsoup4==4.6.0\n",
      "\u001b[?25l  Downloading https://files.pythonhosted.org/packages/9e/d4/10f46e5cfac773e22707237bfcd51bbffeaf0a576b0a847ec7ab15bd7ace/beautifulsoup4-4.6.0-py3-none-any.whl (86kB)\n",
      "\u001b[K     |████████████████████████████████| 92kB 9.2MB/s \n",
      "\u001b[?25hCollecting JPype1>=0.7.0\n",
      "\u001b[?25l  Downloading https://files.pythonhosted.org/packages/50/49/725710351d78d26c65337b1e3b322d7b27b34b704535ab56afc0d9ab0ffd/JPype1-1.0.1-cp36-cp36m-manylinux2010_x86_64.whl (3.8MB)\n",
      "\u001b[K     |████████████████████████████████| 3.8MB 41.3MB/s \n",
      "\u001b[?25hRequirement already satisfied: lxml>=4.1.0 in /usr/local/lib/python3.6/dist-packages (from konlpy) (4.2.6)\n",
      "Requirement already satisfied: numpy>=1.6 in /usr/local/lib/python3.6/dist-packages (from konlpy) (1.18.5)\n",
      "Collecting colorama\n",
      "  Downloading https://files.pythonhosted.org/packages/c9/dc/45cdef1b4d119eb96316b3117e6d5708a08029992b2fee2c143c7a0a5cc5/colorama-0.4.3-py2.py3-none-any.whl\n",
      "Requirement already satisfied: requests[socks]>=2.11.1 in /usr/local/lib/python3.6/dist-packages (from tweepy>=3.7.0->konlpy) (2.23.0)\n",
      "Requirement already satisfied: six>=1.10.0 in /usr/local/lib/python3.6/dist-packages (from tweepy>=3.7.0->konlpy) (1.12.0)\n",
      "Requirement already satisfied: requests-oauthlib>=0.7.0 in /usr/local/lib/python3.6/dist-packages (from tweepy>=3.7.0->konlpy) (1.3.0)\n",
      "Requirement already satisfied: typing-extensions; python_version < \"3.8\" in /usr/local/lib/python3.6/dist-packages (from JPype1>=0.7.0->konlpy) (3.7.4.2)\n",
      "Requirement already satisfied: certifi>=2017.4.17 in /usr/local/lib/python3.6/dist-packages (from requests[socks]>=2.11.1->tweepy>=3.7.0->konlpy) (2020.6.20)\n",
      "Requirement already satisfied: idna<3,>=2.5 in /usr/local/lib/python3.6/dist-packages (from requests[socks]>=2.11.1->tweepy>=3.7.0->konlpy) (2.10)\n",
      "Requirement already satisfied: chardet<4,>=3.0.2 in /usr/local/lib/python3.6/dist-packages (from requests[socks]>=2.11.1->tweepy>=3.7.0->konlpy) (3.0.4)\n",
      "Requirement already satisfied: urllib3!=1.25.0,!=1.25.1,<1.26,>=1.21.1 in /usr/local/lib/python3.6/dist-packages (from requests[socks]>=2.11.1->tweepy>=3.7.0->konlpy) (1.24.3)\n",
      "Requirement already satisfied: PySocks!=1.5.7,>=1.5.6; extra == \"socks\" in /usr/local/lib/python3.6/dist-packages (from requests[socks]>=2.11.1->tweepy>=3.7.0->konlpy) (1.7.1)\n",
      "Requirement already satisfied: oauthlib>=3.0.0 in /usr/local/lib/python3.6/dist-packages (from requests-oauthlib>=0.7.0->tweepy>=3.7.0->konlpy) (3.1.0)\n",
      "Installing collected packages: tweepy, beautifulsoup4, JPype1, colorama, konlpy\n",
      "  Found existing installation: tweepy 3.6.0\n",
      "    Uninstalling tweepy-3.6.0:\n",
      "      Successfully uninstalled tweepy-3.6.0\n",
      "  Found existing installation: beautifulsoup4 4.6.3\n",
      "    Uninstalling beautifulsoup4-4.6.3:\n",
      "      Successfully uninstalled beautifulsoup4-4.6.3\n",
      "Successfully installed JPype1-1.0.1 beautifulsoup4-4.6.0 colorama-0.4.3 konlpy-0.5.2 tweepy-3.9.0\n"
     ]
    }
   ],
   "source": [
    "!pip install konlpy\n"
   ]
  },
  {
   "cell_type": "code",
   "execution_count": 2,
   "metadata": {
    "colab": {
     "base_uri": "https://localhost:8080/",
     "height": 34
    },
    "colab_type": "code",
    "executionInfo": {
     "elapsed": 3286,
     "status": "ok",
     "timestamp": 1595322148682,
     "user": {
      "displayName": "손인준",
      "photoUrl": "",
      "userId": "15372208487667366533"
     },
     "user_tz": -540
    },
    "id": "6vb6-Eq2ZOPu",
    "outputId": "f2dad9c8-b7f7-4739-f319-73ef40ce9280"
   },
   "outputs": [
    {
     "name": "stdout",
     "output_type": "stream",
     "text": [
      "['text']\n"
     ]
    }
   ],
   "source": [
    "from konlpy.tag import Okt\n",
    "\n",
    "print(Okt().morphs('text'))"
   ]
  },
  {
   "cell_type": "code",
   "execution_count": 3,
   "metadata": {
    "colab": {},
    "colab_type": "code",
    "executionInfo": {
     "elapsed": 3112,
     "status": "ok",
     "timestamp": 1595322148683,
     "user": {
      "displayName": "손인준",
      "photoUrl": "",
      "userId": "15372208487667366533"
     },
     "user_tz": -540
    },
    "id": "J5ORfoT2cgYD"
   },
   "outputs": [],
   "source": [
    "from wordcloud import WordCloud\n",
    "import matplotlib.pyplot as plt"
   ]
  },
  {
   "cell_type": "code",
   "execution_count": 4,
   "metadata": {
    "colab": {
     "base_uri": "https://localhost:8080/",
     "height": 70
    },
    "colab_type": "code",
    "executionInfo": {
     "elapsed": 4185,
     "status": "ok",
     "timestamp": 1595322149918,
     "user": {
      "displayName": "손인준",
      "photoUrl": "",
      "userId": "15372208487667366533"
     },
     "user_tz": -540
    },
    "id": "r7kxqJCZZOPx",
    "outputId": "760dbc79-a024-4ca9-a1d0-5b921a943267"
   },
   "outputs": [
    {
     "name": "stdout",
     "output_type": "stream",
     "text": [
      "[nltk_data] Downloading package stopwords to /root/nltk_data...\n",
      "[nltk_data]   Unzipping corpora/stopwords.zip.\n"
     ]
    },
    {
     "data": {
      "text/plain": [
       "True"
      ]
     },
     "execution_count": 4,
     "metadata": {
      "tags": []
     },
     "output_type": "execute_result"
    }
   ],
   "source": [
    "import nltk\n",
    "from nltk.corpus import stopwords\n",
    "nltk.download('stopwords')\n",
    "\n",
    "\n"
   ]
  },
  {
   "cell_type": "code",
   "execution_count": 5,
   "metadata": {
    "colab": {},
    "colab_type": "code",
    "executionInfo": {
     "elapsed": 4044,
     "status": "ok",
     "timestamp": 1595322149919,
     "user": {
      "displayName": "손인준",
      "photoUrl": "",
      "userId": "15372208487667366533"
     },
     "user_tz": -540
    },
    "id": "w9HrlbLgbLbF"
   },
   "outputs": [],
   "source": [
    "text = '1기, 2기때는 그렇게 유명하지 않았는데, 이두희가 더 지니어스에 출현해 이름을 알리고, 이두희/더 지니어스 멋쟁이 사자처럼 2기의 활동 성과가 언론을 크게 타면서 3기때는 157개 대학, 3,812명. 평균경쟁률 12.7:1 을 기록했다. 2기에서 만든 세계 최초 야동 취향 저격 사이트인 직박구리 가 페이스북 등 SNS 에서 크게 인기를 얻은 것이 멋쟁이 사자처럼을 알리는데 큰 역할을 했다. 이외에도 자소설닷컴 등 멋쟁이사자처럼의 활동이 창업으로 연결되는 성과가 현 정권의 여러 창업 프로젝트 홍보, 소프트웨어 역량 강화 등등과 맞물려 언론을 잘 탄 것도 인기를 얻게 된 요인. 하지만 대학생 외에 초중고등학생을 절대 받지 않는다.'\n"
   ]
  },
  {
   "cell_type": "code",
   "execution_count": 6,
   "metadata": {
    "colab": {},
    "colab_type": "code",
    "executionInfo": {
     "elapsed": 3883,
     "status": "ok",
     "timestamp": 1595322149919,
     "user": {
      "displayName": "손인준",
      "photoUrl": "",
      "userId": "15372208487667366533"
     },
     "user_tz": -540
    },
    "id": "sloRJTH_dv1f"
   },
   "outputs": [],
   "source": [
    "from nltk.stem import PorterStemmer\n",
    "from nltk.tokenize import WordPunctTokenizer\n",
    "\n",
    "words = WordPunctTokenizer().tokenize(text)"
   ]
  },
  {
   "cell_type": "code",
   "execution_count": 7,
   "metadata": {
    "colab": {
     "base_uri": "https://localhost:8080/",
     "height": 54
    },
    "colab_type": "code",
    "executionInfo": {
     "elapsed": 3719,
     "status": "ok",
     "timestamp": 1595322149920,
     "user": {
      "displayName": "손인준",
      "photoUrl": "",
      "userId": "15372208487667366533"
     },
     "user_tz": -540
    },
    "id": "N4Dr6OZZd2nh",
    "outputId": "d13ce29b-e98e-4201-db7f-cf970d2ef804"
   },
   "outputs": [
    {
     "name": "stdout",
     "output_type": "stream",
     "text": [
      "['1기', '2기때는', '그렇게', '유명하지', '않았는데', '이두희가', '더', '지니어스에', '출현해', '이름을', '알리고', '이두희', '/', '더', '지니어스', '멋쟁이', '사자처럼', '2기의', '활동', '성과가', '언론을', '크게', '타면서', '3기때는', '157개', '대학', '3', '812명', '평균경쟁률', '12', '7', ':', '1', '을', '기록했다', '2기에서', '만든', '세계', '최초', '야동', '취향', '저격', '사이트인', '직박구리', '가', '페이스북', '등', 'SNS', '에서', '크게', '인기를', '얻은', '것이', '멋쟁이', '사자처럼을', '알리는데', '큰', '역할을', '했다', '이외에도', '자소설닷컴', '등', '멋쟁이사자처럼의', '활동이', '창업으로', '연결되는', '성과가', '현', '정권의', '여러', '창업', '프로젝트', '홍보', '소프트웨어', '역량', '강화', '등등과', '맞물려', '언론을', '잘', '탄', '것도', '인기를', '얻게', '된', '요인', '하지만', '대학생', '외에', '초중고등학생을', '절대', '받지', '않는다']\n"
     ]
    }
   ],
   "source": [
    "sw=['.', ',', \"'\"]\n",
    "sw_removed = []\n",
    "for i in words:\n",
    "    if i.lower() not in sw:\n",
    "        sw_removed.append(i)\n",
    "\n",
    "print(sw_removed)"
   ]
  },
  {
   "cell_type": "code",
   "execution_count": 8,
   "metadata": {
    "colab": {
     "base_uri": "https://localhost:8080/",
     "height": 54
    },
    "colab_type": "code",
    "executionInfo": {
     "elapsed": 3532,
     "status": "ok",
     "timestamp": 1595322149920,
     "user": {
      "displayName": "손인준",
      "photoUrl": "",
      "userId": "15372208487667366533"
     },
     "user_tz": -540
    },
    "id": "73GovbJDeCcG",
    "outputId": "f45f7314-1015-4912-a13a-f8b175430f7c"
   },
   "outputs": [
    {
     "name": "stdout",
     "output_type": "stream",
     "text": [
      "Counter({'더': 2, '멋쟁이': 2, '성과가': 2, '언론을': 2, '크게': 2, '등': 2, '인기를': 2, '1기': 1, '2기때는': 1, '그렇게': 1, '유명하지': 1, '않았는데': 1, '이두희가': 1, '지니어스에': 1, '출현해': 1, '이름을': 1, '알리고': 1, '이두희': 1, '/': 1, '지니어스': 1, '사자처럼': 1, '2기의': 1, '활동': 1, '타면서': 1, '3기때는': 1, '157개': 1, '대학': 1, '3': 1, '812명': 1, '평균경쟁률': 1, '12': 1, '7': 1, ':': 1, '1': 1, '을': 1, '기록했다': 1, '2기에서': 1, '만든': 1, '세계': 1, '최초': 1, '야동': 1, '취향': 1, '저격': 1, '사이트인': 1, '직박구리': 1, '가': 1, '페이스북': 1, 'SNS': 1, '에서': 1, '얻은': 1, '것이': 1, '사자처럼을': 1, '알리는데': 1, '큰': 1, '역할을': 1, '했다': 1, '이외에도': 1, '자소설닷컴': 1, '멋쟁이사자처럼의': 1, '활동이': 1, '창업으로': 1, '연결되는': 1, '현': 1, '정권의': 1, '여러': 1, '창업': 1, '프로젝트': 1, '홍보': 1, '소프트웨어': 1, '역량': 1, '강화': 1, '등등과': 1, '맞물려': 1, '잘': 1, '탄': 1, '것도': 1, '얻게': 1, '된': 1, '요인': 1, '하지만': 1, '대학생': 1, '외에': 1, '초중고등학생을': 1, '절대': 1, '받지': 1, '않는다': 1})\n"
     ]
    }
   ],
   "source": [
    "from collections import Counter\n",
    "\n",
    "#빈도수대로 정렬\n",
    "count_list = Counter(sw_removed)\n",
    "print(count_list)"
   ]
  },
  {
   "cell_type": "code",
   "execution_count": 9,
   "metadata": {
    "colab": {
     "base_uri": "https://localhost:8080/",
     "height": 34
    },
    "colab_type": "code",
    "executionInfo": {
     "elapsed": 3362,
     "status": "ok",
     "timestamp": 1595322149920,
     "user": {
      "displayName": "손인준",
      "photoUrl": "",
      "userId": "15372208487667366533"
     },
     "user_tz": -540
    },
    "id": "eMbZlGCaeGc8",
    "outputId": "0e9881dc-50fd-4e51-ff59-fb6af940a1c4"
   },
   "outputs": [
    {
     "name": "stdout",
     "output_type": "stream",
     "text": [
      "[('더', 2), ('멋쟁이', 2), ('성과가', 2), ('언론을', 2), ('크게', 2), ('등', 2), ('인기를', 2), ('1기', 1), ('2기때는', 1), ('그렇게', 1)]\n"
     ]
    }
   ],
   "source": [
    "common_cl = count_list.most_common(10)  #제일 많이 나온 10개만 추출\n",
    "print(common_cl)"
   ]
  },
  {
   "cell_type": "code",
   "execution_count": 10,
   "metadata": {
    "colab": {
     "base_uri": "https://localhost:8080/",
     "height": 70
    },
    "colab_type": "code",
    "executionInfo": {
     "elapsed": 3193,
     "status": "ok",
     "timestamp": 1595322149921,
     "user": {
      "displayName": "손인준",
      "photoUrl": "",
      "userId": "15372208487667366533"
     },
     "user_tz": -540
    },
    "id": "arXW_MNXeIqg",
    "outputId": "8da39a94-c5d9-4c1a-c1c1-bdc9177863b7"
   },
   "outputs": [
    {
     "name": "stdout",
     "output_type": "stream",
     "text": [
      "[('더', 2), ('멋쟁이', 2), ('성과가', 2), ('언론을', 2), ('크게', 2), ('등', 2), ('인기를', 2), ('1기', 1), ('2기때는', 1), ('그렇게', 1)]\n",
      "\n",
      "{'더': 0, '멋쟁이': 1, '성과가': 2, '언론을': 3, '크게': 4, '등': 5, '인기를': 6, '1기': 7, '2기때는': 8, '그렇게': 9}\n"
     ]
    }
   ],
   "source": [
    "#각 항목에 인덱스를 붙여준다\n",
    "common_cl_dict = {}\n",
    "\n",
    "#빈도 순위대로 0위~9위까지 (빈도수가 가장 높은게 0등)\n",
    "#딕셔너리 형태로 '단어':빈도순위\n",
    "print(common_cl)\n",
    "print()\n",
    "i=0\n",
    "for (key, value) in common_cl:\n",
    "    common_cl_dict[key] = i\n",
    "    i+=1\n",
    "\n",
    "print(common_cl_dict)"
   ]
  },
  {
   "cell_type": "code",
   "execution_count": 11,
   "metadata": {
    "colab": {
     "base_uri": "https://localhost:8080/",
     "height": 54
    },
    "colab_type": "code",
    "executionInfo": {
     "elapsed": 3014,
     "status": "ok",
     "timestamp": 1595322149921,
     "user": {
      "displayName": "손인준",
      "photoUrl": "",
      "userId": "15372208487667366533"
     },
     "user_tz": -540
    },
    "id": "YTXqovUPeLyl",
    "outputId": "50750905-32b0-4ef8-a023-88b40490415c"
   },
   "outputs": [
    {
     "name": "stdout",
     "output_type": "stream",
     "text": [
      "[[1, 0, 0, 0, 0, 0, 0, 0, 0, 0], [0, 1, 0, 0, 0, 0, 0, 0, 0, 0], [0, 0, 1, 0, 0, 0, 0, 0, 0, 0], [0, 0, 0, 1, 0, 0, 0, 0, 0, 0], [0, 0, 0, 0, 1, 0, 0, 0, 0, 0], [0, 0, 0, 0, 0, 1, 0, 0, 0, 0], [0, 0, 0, 0, 0, 0, 1, 0, 0, 0], [0, 0, 0, 0, 0, 0, 0, 1, 0, 0], [0, 0, 0, 0, 0, 0, 0, 0, 1, 0], [0, 0, 0, 0, 0, 0, 0, 0, 0, 1]]\n"
     ]
    }
   ],
   "source": [
    "import numpy as np\n",
    "\n",
    "# one_hot = np.zeros((10,10),int)\n",
    "# np.fill_diagonal(one_hot, 1)\n",
    "# one_hot.tolist()\n",
    "\n",
    "#원핫 벡터 만들기\n",
    "oh_vector_list = []\n",
    "\n",
    "for value in common_cl_dict.values():\n",
    "    oh_vector = [0]*len(common_cl_dict)\n",
    "    oh_vector[value] = 1\n",
    "    oh_vector_list.append(oh_vector)\n",
    "    \n",
    "print(oh_vector_list)"
   ]
  },
  {
   "cell_type": "code",
   "execution_count": 13,
   "metadata": {
    "colab": {
     "base_uri": "https://localhost:8080/",
     "height": 198
    },
    "colab_type": "code",
    "executionInfo": {
     "elapsed": 848,
     "status": "ok",
     "timestamp": 1595322180150,
     "user": {
      "displayName": "손인준",
      "photoUrl": "",
      "userId": "15372208487667366533"
     },
     "user_tz": -540
    },
    "id": "Cze_WrlGePYR",
    "outputId": "9d4971b5-f387-467b-e4f5-0a183ade78bc"
   },
   "outputs": [
    {
     "data": {
      "image/png": "[encoded data removed]",
      "text/plain": [
       "<Figure size 432x288 with 1 Axes>"
      ]
     },
     "metadata": {
      "needs_background": "light",
      "tags": []
     },
     "output_type": "display_data"
    }
   ],
   "source": [
    "from wordcloud import WordCloud\n",
    "import matplotlib.pyplot as plt\n",
    "\n",
    "my_wc = WordCloud(font_path=\"ssangmungdong.ttf\")\n",
    "plt.imshow(my_wc.generate_from_frequencies(count_list))\n",
    "plt.axis('off')\n",
    "plt.show()"
   ]
  },
  {
   "cell_type": "code",
   "execution_count": null,
   "metadata": {
    "colab": {},
    "colab_type": "code",
    "executionInfo": {
     "elapsed": 3006,
     "status": "aborted",
     "timestamp": 1595322150251,
     "user": {
      "displayName": "손인준",
      "photoUrl": "",
      "userId": "15372208487667366533"
     },
     "user_tz": -540
    },
    "id": "z_oDWl4_eSMp"
   },
   "outputs": [],
   "source": []
  }
 ],
 "metadata": {
  "colab": {
   "collapsed_sections": [],
   "name": "2020_07_20_자연어처리.ipynb",
   "provenance": []
  },
  "kernelspec": {
   "display_name": "Python 3",
   "language": "python",
   "name": "python3"
  },
  "language_info": {
   "codemirror_mode": {
    "name": "ipython",
    "version": 3
   },
   "file_extension": ".py",
   "mimetype": "text/x-python",
   "name": "python",
   "nbconvert_exporter": "python",
   "pygments_lexer": "ipython3",
   "version": "3.7.6"
  }
 },
 "nbformat": 4,
 "nbformat_minor": 1
}
