{
 "cells": [
  {
   "cell_type": "markdown",
   "metadata": {},
   "source": [
    "### mini-project 0203"
   ]
  },
  {
   "cell_type": "code",
   "execution_count": 57,
   "metadata": {},
   "outputs": [
    {
     "data": {
      "text/html": [
       "<div>\n",
       "<style scoped>\n",
       "    .dataframe tbody tr th:only-of-type {\n",
       "        vertical-align: middle;\n",
       "    }\n",
       "\n",
       "    .dataframe tbody tr th {\n",
       "        vertical-align: top;\n",
       "    }\n",
       "\n",
       "    .dataframe thead th {\n",
       "        text-align: right;\n",
       "    }\n",
       "</style>\n",
       "<table border=\"1\" class=\"dataframe\">\n",
       "  <thead>\n",
       "    <tr style=\"text-align: right;\">\n",
       "      <th></th>\n",
       "      <th>number</th>\n",
       "      <th>companyName</th>\n",
       "      <th>adress</th>\n",
       "      <th>adressBystreet</th>\n",
       "      <th>dateOflicensing</th>\n",
       "      <th>stateOfbusiness</th>\n",
       "      <th>dateOfclosure</th>\n",
       "      <th>startdateOfcessation</th>\n",
       "      <th>duedateOfcessation</th>\n",
       "      <th>dateOfreOpen</th>\n",
       "      <th>...</th>\n",
       "      <th>numOfmenWorker</th>\n",
       "      <th>yearOfStart</th>\n",
       "      <th>multipleUse</th>\n",
       "      <th>grade</th>\n",
       "      <th>sizeOfsite</th>\n",
       "      <th>numOfwomenWorker</th>\n",
       "      <th>vicintyOfsite</th>\n",
       "      <th>sanitaryName</th>\n",
       "      <th>businessCondition</th>\n",
       "      <th>totalOfworker</th>\n",
       "    </tr>\n",
       "  </thead>\n",
       "  <tbody>\n",
       "    <tr>\n",
       "      <th>0</th>\n",
       "      <td>1</td>\n",
       "      <td>#11(Sharp eleven)</td>\n",
       "      <td>서울특별시 양천구 목동 956번지 롯데캐슬위너 상가동 107호(한두3길 44)</td>\n",
       "      <td>서울특별시 양천구 목동중앙북로 38 (목동,롯데캐슬위너 상가동 107호(한두3길 44))</td>\n",
       "      <td>20080917</td>\n",
       "      <td>운영중</td>\n",
       "      <td>NaN</td>\n",
       "      <td>NaN</td>\n",
       "      <td>NaN</td>\n",
       "      <td>NaN</td>\n",
       "      <td>...</td>\n",
       "      <td>NaN</td>\n",
       "      <td>2008.0</td>\n",
       "      <td>N</td>\n",
       "      <td>NaN</td>\n",
       "      <td>20.80</td>\n",
       "      <td>NaN</td>\n",
       "      <td>NaN</td>\n",
       "      <td>휴게음식점</td>\n",
       "      <td>커피숍</td>\n",
       "      <td>NaN</td>\n",
       "    </tr>\n",
       "    <tr>\n",
       "      <th>1</th>\n",
       "      <td>2</td>\n",
       "      <td>( 주)커피빈코리아청주지웰시티점</td>\n",
       "      <td>충청북도 청주시 흥덕구 복대동 3379번지 신영지웰시티1차상업시설 124-1, 12...</td>\n",
       "      <td>충청북도 청주시 흥덕구 대농로 17 (복대동,신영지웰시티1차상업시설 124-1, 1...</td>\n",
       "      <td>20101124</td>\n",
       "      <td>운영중</td>\n",
       "      <td>NaN</td>\n",
       "      <td>NaN</td>\n",
       "      <td>NaN</td>\n",
       "      <td>NaN</td>\n",
       "      <td>...</td>\n",
       "      <td>NaN</td>\n",
       "      <td>2010.0</td>\n",
       "      <td>N</td>\n",
       "      <td>NaN</td>\n",
       "      <td>212.72</td>\n",
       "      <td>NaN</td>\n",
       "      <td>NaN</td>\n",
       "      <td>휴게음식점</td>\n",
       "      <td>커피숍</td>\n",
       "      <td>NaN</td>\n",
       "    </tr>\n",
       "    <tr>\n",
       "      <th>2</th>\n",
       "      <td>3</td>\n",
       "      <td>(aA)더블에이</td>\n",
       "      <td>경상북도 경산시 사동 39번지 108-2호</td>\n",
       "      <td>경상북도 경산시 백자로10길 3-11, 108-2호 (사동)</td>\n",
       "      <td>20130902</td>\n",
       "      <td>운영중</td>\n",
       "      <td>NaN</td>\n",
       "      <td>NaN</td>\n",
       "      <td>NaN</td>\n",
       "      <td>NaN</td>\n",
       "      <td>...</td>\n",
       "      <td>NaN</td>\n",
       "      <td>2013.0</td>\n",
       "      <td>N</td>\n",
       "      <td>NaN</td>\n",
       "      <td>20.04</td>\n",
       "      <td>NaN</td>\n",
       "      <td>아파트지역</td>\n",
       "      <td>휴게음식점</td>\n",
       "      <td>커피숍</td>\n",
       "      <td>NaN</td>\n",
       "    </tr>\n",
       "    <tr>\n",
       "      <th>3</th>\n",
       "      <td>4</td>\n",
       "      <td>(강서)카페치따</td>\n",
       "      <td>서울특별시 강서구 등촌동 63-12번지 외 2필지 어위쉬예다인 (지상 1층) 104호</td>\n",
       "      <td>서울특별시 강서구 양천로 452, 1층 104호 (등촌동, 3동 어위쉬예다인)</td>\n",
       "      <td>20121108</td>\n",
       "      <td>운영중</td>\n",
       "      <td>NaN</td>\n",
       "      <td>NaN</td>\n",
       "      <td>NaN</td>\n",
       "      <td>NaN</td>\n",
       "      <td>...</td>\n",
       "      <td>NaN</td>\n",
       "      <td>2012.0</td>\n",
       "      <td>N</td>\n",
       "      <td>NaN</td>\n",
       "      <td>64.17</td>\n",
       "      <td>NaN</td>\n",
       "      <td>NaN</td>\n",
       "      <td>휴게음식점</td>\n",
       "      <td>커피숍</td>\n",
       "      <td>NaN</td>\n",
       "    </tr>\n",
       "    <tr>\n",
       "      <th>4</th>\n",
       "      <td>5</td>\n",
       "      <td>(로즈버드)명동아바타</td>\n",
       "      <td>서울특별시 중구 명동2가 83-5번지 (아바타1층1218)</td>\n",
       "      <td>NaN</td>\n",
       "      <td>20020911</td>\n",
       "      <td>폐업 등</td>\n",
       "      <td>20071105.0</td>\n",
       "      <td>NaN</td>\n",
       "      <td>NaN</td>\n",
       "      <td>NaN</td>\n",
       "      <td>...</td>\n",
       "      <td>0.0</td>\n",
       "      <td>2002.0</td>\n",
       "      <td>N</td>\n",
       "      <td>NaN</td>\n",
       "      <td>11.40</td>\n",
       "      <td>0.0</td>\n",
       "      <td>NaN</td>\n",
       "      <td>휴게음식점</td>\n",
       "      <td>커피숍</td>\n",
       "      <td>0.0</td>\n",
       "    </tr>\n",
       "    <tr>\n",
       "      <th>...</th>\n",
       "      <td>...</td>\n",
       "      <td>...</td>\n",
       "      <td>...</td>\n",
       "      <td>...</td>\n",
       "      <td>...</td>\n",
       "      <td>...</td>\n",
       "      <td>...</td>\n",
       "      <td>...</td>\n",
       "      <td>...</td>\n",
       "      <td>...</td>\n",
       "      <td>...</td>\n",
       "      <td>...</td>\n",
       "      <td>...</td>\n",
       "      <td>...</td>\n",
       "      <td>...</td>\n",
       "      <td>...</td>\n",
       "      <td>...</td>\n",
       "      <td>...</td>\n",
       "      <td>...</td>\n",
       "      <td>...</td>\n",
       "      <td>...</td>\n",
       "    </tr>\n",
       "    <tr>\n",
       "      <th>46827</th>\n",
       "      <td>46828</td>\n",
       "      <td>美칠커피(MICILL COFFEE)</td>\n",
       "      <td>서울특별시 마포구 상암동 1605번지</td>\n",
       "      <td>서울특별시 마포구 월드컵북로 396 (상암동, 누리꿈스퀘어 B1107)</td>\n",
       "      <td>20140214</td>\n",
       "      <td>폐업 등</td>\n",
       "      <td>20141110.0</td>\n",
       "      <td>NaN</td>\n",
       "      <td>NaN</td>\n",
       "      <td>NaN</td>\n",
       "      <td>...</td>\n",
       "      <td>NaN</td>\n",
       "      <td>2014.0</td>\n",
       "      <td>N</td>\n",
       "      <td>NaN</td>\n",
       "      <td>30.61</td>\n",
       "      <td>NaN</td>\n",
       "      <td>NaN</td>\n",
       "      <td>휴게음식점</td>\n",
       "      <td>커피숍</td>\n",
       "      <td>NaN</td>\n",
       "    </tr>\n",
       "    <tr>\n",
       "      <th>46828</th>\n",
       "      <td>46829</td>\n",
       "      <td>逍遊遙(소유요)커피숍</td>\n",
       "      <td>충청남도 홍성군 홍성읍 월산리 847-1번지 303호</td>\n",
       "      <td>충청남도 홍성군 홍성읍 법원로 47</td>\n",
       "      <td>20110622</td>\n",
       "      <td>운영중</td>\n",
       "      <td>NaN</td>\n",
       "      <td>NaN</td>\n",
       "      <td>NaN</td>\n",
       "      <td>NaN</td>\n",
       "      <td>...</td>\n",
       "      <td>NaN</td>\n",
       "      <td>2011.0</td>\n",
       "      <td>N</td>\n",
       "      <td>NaN</td>\n",
       "      <td>44.21</td>\n",
       "      <td>NaN</td>\n",
       "      <td>NaN</td>\n",
       "      <td>휴게음식점</td>\n",
       "      <td>커피숍</td>\n",
       "      <td>NaN</td>\n",
       "    </tr>\n",
       "    <tr>\n",
       "      <th>46829</th>\n",
       "      <td>46830</td>\n",
       "      <td>李家고로케</td>\n",
       "      <td>경상북도 경주시 황성동 472-41번지</td>\n",
       "      <td>경상북도 경주시 황성로 21-4 (황성동)</td>\n",
       "      <td>20130412</td>\n",
       "      <td>운영중</td>\n",
       "      <td>NaN</td>\n",
       "      <td>NaN</td>\n",
       "      <td>NaN</td>\n",
       "      <td>NaN</td>\n",
       "      <td>...</td>\n",
       "      <td>NaN</td>\n",
       "      <td>2013.0</td>\n",
       "      <td>N</td>\n",
       "      <td>NaN</td>\n",
       "      <td>35.70</td>\n",
       "      <td>NaN</td>\n",
       "      <td>주택가주변</td>\n",
       "      <td>휴게음식점</td>\n",
       "      <td>커피숍</td>\n",
       "      <td>NaN</td>\n",
       "    </tr>\n",
       "    <tr>\n",
       "      <th>46830</th>\n",
       "      <td>46831</td>\n",
       "      <td>至忍플로레죵</td>\n",
       "      <td>서울특별시 서초구 서초동 1471-17번지 지하1층</td>\n",
       "      <td>서울특별시 서초구 남부순환로317길 31, 지하1층 (서초동)</td>\n",
       "      <td>20110420</td>\n",
       "      <td>폐업 등</td>\n",
       "      <td>20150122.0</td>\n",
       "      <td>NaN</td>\n",
       "      <td>NaN</td>\n",
       "      <td>NaN</td>\n",
       "      <td>...</td>\n",
       "      <td>NaN</td>\n",
       "      <td>2011.0</td>\n",
       "      <td>N</td>\n",
       "      <td>NaN</td>\n",
       "      <td>46.20</td>\n",
       "      <td>NaN</td>\n",
       "      <td>NaN</td>\n",
       "      <td>휴게음식점</td>\n",
       "      <td>커피숍</td>\n",
       "      <td>NaN</td>\n",
       "    </tr>\n",
       "    <tr>\n",
       "      <th>46831</th>\n",
       "      <td>46832</td>\n",
       "      <td>香'S 카페</td>\n",
       "      <td>전라남도 장성군 삼계면 주산리 746-8번지</td>\n",
       "      <td>전라남도 장성군 삼계면 주산1길 45</td>\n",
       "      <td>20140619</td>\n",
       "      <td>운영중</td>\n",
       "      <td>NaN</td>\n",
       "      <td>NaN</td>\n",
       "      <td>NaN</td>\n",
       "      <td>NaN</td>\n",
       "      <td>...</td>\n",
       "      <td>NaN</td>\n",
       "      <td>2014.0</td>\n",
       "      <td>N</td>\n",
       "      <td>NaN</td>\n",
       "      <td>176.49</td>\n",
       "      <td>NaN</td>\n",
       "      <td>기타</td>\n",
       "      <td>휴게음식점</td>\n",
       "      <td>커피숍</td>\n",
       "      <td>NaN</td>\n",
       "    </tr>\n",
       "  </tbody>\n",
       "</table>\n",
       "<p>46832 rows × 23 columns</p>\n",
       "</div>"
      ],
      "text/plain": [
       "       number          companyName  \\\n",
       "0           1    #11(Sharp eleven)   \n",
       "1           2    ( 주)커피빈코리아청주지웰시티점   \n",
       "2           3             (aA)더블에이   \n",
       "3           4             (강서)카페치따   \n",
       "4           5          (로즈버드)명동아바타   \n",
       "...       ...                  ...   \n",
       "46827   46828  美칠커피(MICILL COFFEE)   \n",
       "46828   46829          逍遊遙(소유요)커피숍   \n",
       "46829   46830                李家고로케   \n",
       "46830   46831               至忍플로레죵   \n",
       "46831   46832               香'S 카페   \n",
       "\n",
       "                                                  adress  \\\n",
       "0           서울특별시 양천구 목동 956번지 롯데캐슬위너 상가동 107호(한두3길 44)    \n",
       "1      충청북도 청주시 흥덕구 복대동 3379번지 신영지웰시티1차상업시설 124-1, 12...   \n",
       "2                                경상북도 경산시 사동 39번지 108-2호   \n",
       "3        서울특별시 강서구 등촌동 63-12번지 외 2필지 어위쉬예다인 (지상 1층) 104호   \n",
       "4                      서울특별시 중구 명동2가 83-5번지 (아바타1층1218)    \n",
       "...                                                  ...   \n",
       "46827                              서울특별시 마포구 상암동 1605번지    \n",
       "46828                      충청남도 홍성군 홍성읍 월산리 847-1번지 303호   \n",
       "46829                             경상북도 경주시 황성동 472-41번지    \n",
       "46830                      서울특별시 서초구 서초동 1471-17번지 지하1층    \n",
       "46831                          전라남도 장성군 삼계면 주산리 746-8번지    \n",
       "\n",
       "                                          adressBystreet  dateOflicensing  \\\n",
       "0      서울특별시 양천구 목동중앙북로 38 (목동,롯데캐슬위너 상가동 107호(한두3길 44))         20080917   \n",
       "1      충청북도 청주시 흥덕구 대농로 17 (복대동,신영지웰시티1차상업시설 124-1, 1...         20101124   \n",
       "2                      경상북도 경산시 백자로10길 3-11, 108-2호 (사동)         20130902   \n",
       "3            서울특별시 강서구 양천로 452, 1층 104호 (등촌동, 3동 어위쉬예다인)         20121108   \n",
       "4                                                    NaN         20020911   \n",
       "...                                                  ...              ...   \n",
       "46827            서울특별시 마포구 월드컵북로 396 (상암동, 누리꿈스퀘어 B1107)         20140214   \n",
       "46828                                충청남도 홍성군 홍성읍 법원로 47         20110622   \n",
       "46829                            경상북도 경주시 황성로 21-4 (황성동)         20130412   \n",
       "46830                 서울특별시 서초구 남부순환로317길 31, 지하1층 (서초동)         20110420   \n",
       "46831                               전라남도 장성군 삼계면 주산1길 45         20140619   \n",
       "\n",
       "      stateOfbusiness  dateOfclosure  startdateOfcessation  \\\n",
       "0                 운영중            NaN                   NaN   \n",
       "1                 운영중            NaN                   NaN   \n",
       "2                 운영중            NaN                   NaN   \n",
       "3                 운영중            NaN                   NaN   \n",
       "4                폐업 등     20071105.0                   NaN   \n",
       "...               ...            ...                   ...   \n",
       "46827            폐업 등     20141110.0                   NaN   \n",
       "46828             운영중            NaN                   NaN   \n",
       "46829             운영중            NaN                   NaN   \n",
       "46830            폐업 등     20150122.0                   NaN   \n",
       "46831             운영중            NaN                   NaN   \n",
       "\n",
       "       duedateOfcessation  dateOfreOpen  ...  numOfmenWorker  yearOfStart  \\\n",
       "0                     NaN           NaN  ...             NaN       2008.0   \n",
       "1                     NaN           NaN  ...             NaN       2010.0   \n",
       "2                     NaN           NaN  ...             NaN       2013.0   \n",
       "3                     NaN           NaN  ...             NaN       2012.0   \n",
       "4                     NaN           NaN  ...             0.0       2002.0   \n",
       "...                   ...           ...  ...             ...          ...   \n",
       "46827                 NaN           NaN  ...             NaN       2014.0   \n",
       "46828                 NaN           NaN  ...             NaN       2011.0   \n",
       "46829                 NaN           NaN  ...             NaN       2013.0   \n",
       "46830                 NaN           NaN  ...             NaN       2011.0   \n",
       "46831                 NaN           NaN  ...             NaN       2014.0   \n",
       "\n",
       "      multipleUse  grade  sizeOfsite numOfwomenWorker vicintyOfsite  \\\n",
       "0               N    NaN       20.80              NaN           NaN   \n",
       "1               N    NaN      212.72              NaN           NaN   \n",
       "2               N    NaN       20.04              NaN         아파트지역   \n",
       "3               N    NaN       64.17              NaN           NaN   \n",
       "4               N    NaN       11.40              0.0           NaN   \n",
       "...           ...    ...         ...              ...           ...   \n",
       "46827           N    NaN       30.61              NaN           NaN   \n",
       "46828           N    NaN       44.21              NaN           NaN   \n",
       "46829           N    NaN       35.70              NaN         주택가주변   \n",
       "46830           N    NaN       46.20              NaN           NaN   \n",
       "46831           N    NaN      176.49              NaN            기타   \n",
       "\n",
       "       sanitaryName  businessCondition totalOfworker  \n",
       "0             휴게음식점                커피숍           NaN  \n",
       "1             휴게음식점                커피숍           NaN  \n",
       "2             휴게음식점                커피숍           NaN  \n",
       "3             휴게음식점                커피숍           NaN  \n",
       "4             휴게음식점                커피숍           0.0  \n",
       "...             ...                ...           ...  \n",
       "46827         휴게음식점                커피숍           NaN  \n",
       "46828         휴게음식점                커피숍           NaN  \n",
       "46829         휴게음식점                커피숍           NaN  \n",
       "46830         휴게음식점                커피숍           NaN  \n",
       "46831         휴게음식점                커피숍           NaN  \n",
       "\n",
       "[46832 rows x 23 columns]"
      ]
     },
     "execution_count": 57,
     "metadata": {},
     "output_type": "execute_result"
    }
   ],
   "source": [
    "import sys\n",
    "import os\n",
    "import pandas as pd\n",
    "import numpy as np\n",
    "import matplotlib.pyplot as plt\n",
    "\n",
    "os.chdir(r'C:\\Users\\injoo\\OneDrive\\Desktop\\광주 인공지능 사관학교\\실습 파일\\라이브러리 실습\\________\\data')\n",
    "df = pd.read_csv(\"data_coffee.csv\", encoding = \"ms949\")\n",
    "df"
   ]
  },
  {
   "cell_type": "code",
   "execution_count": 58,
   "metadata": {},
   "outputs": [
    {
     "name": "stdout",
     "output_type": "stream",
     "text": [
      "(46832,)\n"
     ]
    },
    {
     "data": {
      "text/plain": [
       "count    46813.000000\n",
       "mean        75.531012\n",
       "std        135.088745\n",
       "min          0.000000\n",
       "25%         28.120000\n",
       "50%         50.000000\n",
       "75%         93.750000\n",
       "max      24075.000000\n",
       "Name: sizeOfsite, dtype: float64"
      ]
     },
     "execution_count": 58,
     "metadata": {},
     "output_type": "execute_result"
    }
   ],
   "source": [
    "#1. 매장의 규모 (sizeOfsite) 변수를 요약\n",
    "df.columns\n",
    "sr = df['sizeOfsite']\n",
    "print(sr.shape)\n",
    "\n",
    "sr.describe()  #\n"
   ]
  },
  {
   "cell_type": "code",
   "execution_count": 32,
   "metadata": {},
   "outputs": [
    {
     "data": {
      "text/plain": [
       "19"
      ]
     },
     "execution_count": 32,
     "metadata": {},
     "output_type": "execute_result"
    }
   ],
   "source": [
    "sr.isnull().sum()  #결측치의 개수"
   ]
  },
  {
   "cell_type": "code",
   "execution_count": 33,
   "metadata": {},
   "outputs": [
    {
     "data": {
      "text/plain": [
       "0.0004057055005124701"
      ]
     },
     "execution_count": 33,
     "metadata": {},
     "output_type": "execute_result"
    }
   ],
   "source": [
    "sr.isnull().mean()"
   ]
  },
  {
   "cell_type": "code",
   "execution_count": 35,
   "metadata": {},
   "outputs": [
    {
     "data": {
      "text/plain": [
       "(46813,)"
      ]
     },
     "execution_count": 35,
     "metadata": {},
     "output_type": "execute_result"
    }
   ],
   "source": [
    "#2. sizeOfsize이 결측치를 제거하고 히스토그램\n",
    "sr = sr.dropna()\n",
    "sr.shape\n"
   ]
  },
  {
   "cell_type": "code",
   "execution_count": 41,
   "metadata": {},
   "outputs": [
    {
     "data": {
      "image/png": "[encoded data removed]",
      "text/plain": [
       "<Figure size 432x288 with 1 Axes>"
      ]
     },
     "metadata": {
      "needs_background": "light"
     },
     "output_type": "display_data"
    }
   ],
   "source": [
    "plt.hist(sr, bins=50, color=\"green\", alpha=0.4, density=True)\n",
    "plt.show()"
   ]
  },
  {
   "cell_type": "code",
   "execution_count": 54,
   "metadata": {},
   "outputs": [
    {
     "data": {
      "image/png": "[encoded data removed]",
      "text/plain": [
       "<Figure size 432x288 with 1 Axes>"
      ]
     },
     "metadata": {
      "needs_background": "light"
     },
     "output_type": "display_data"
    }
   ],
   "source": [
    "#3. 매장규모가 500이상인 outlier 제외하고 히스토그램을 그려본다\n",
    "sr = sr[sr<500]\n",
    "sr = sr[sr>0]\n",
    "plt.hist(sr, bins=40, color=\"green\", alpha=0.3)\n",
    "plt.show()"
   ]
  },
  {
   "cell_type": "code",
   "execution_count": 56,
   "metadata": {},
   "outputs": [
    {
     "data": {
      "image/png": "[encoded data removed]",
      "text/plain": [
       "<Figure size 432x288 with 1 Axes>"
      ]
     },
     "metadata": {
      "needs_background": "light"
     },
     "output_type": "display_data"
    }
   ],
   "source": [
    "log_sr = np.log(sr+1)\n",
    "plt.hist( log_sr, bins=40, color=\"green\", alpha=0.3, density=True) #density True는 전체에 대한 비율이고 False는 real number\n",
    "plt.show()"
   ]
  },
  {
   "cell_type": "markdown",
   "metadata": {},
   "source": [
    "### mini-project 0204"
   ]
  },
  {
   "cell_type": "code",
   "execution_count": 68,
   "metadata": {},
   "outputs": [
    {
     "data": {
      "text/plain": [
       "Index(['OrderDate', 'Region', 'Rep', 'Item', 'Units', 'Unit Price'], dtype='object')"
      ]
     },
     "execution_count": 68,
     "metadata": {},
     "output_type": "execute_result"
    }
   ],
   "source": [
    "df = pd.read_csv(\"data_officesupplies.csv\")\n",
    "df.Region.value_counts()\n",
    "df.columns"
   ]
  },
  {
   "cell_type": "code",
   "execution_count": 73,
   "metadata": {},
   "outputs": [
    {
     "data": {
      "image/png": "[encoded data removed]",
      "text/plain": [
       "<Figure size 432x288 with 1 Axes>"
      ]
     },
     "metadata": {
      "needs_background": "light"
     },
     "output_type": "display_data"
    }
   ],
   "source": [
    "boxplot = df.boxplot(column=['Units'], by=['Region'])"
   ]
  },
  {
   "cell_type": "code",
   "execution_count": 78,
   "metadata": {},
   "outputs": [],
   "source": [
    "west = df[df.Region=='West'].Units\n",
    "east = df[df.Region=='East'].Units\n",
    "central = df[df.Region=='Central'].Units"
   ]
  },
  {
   "cell_type": "code",
   "execution_count": 84,
   "metadata": {},
   "outputs": [],
   "source": [
    "#df2 = pd.DataFrame(data={'West':list(west), 'East':list(east)})\n",
    "#west, east, central의 길이가 달라서 한개의 데이터 프레임으로 만들 수가 없다\n",
    "# df2.plot.box()\n",
    "# plt.show()"
   ]
  },
  {
   "cell_type": "code",
   "execution_count": 85,
   "metadata": {},
   "outputs": [
    {
     "data": {
      "text/plain": [
       "{'whiskers': [<matplotlib.lines.Line2D at 0x15da6ace948>,\n",
       "  <matplotlib.lines.Line2D at 0x15da6aceac8>,\n",
       "  <matplotlib.lines.Line2D at 0x15da79f8f48>,\n",
       "  <matplotlib.lines.Line2D at 0x15da85b0888>,\n",
       "  <matplotlib.lines.Line2D at 0x15da7ab02c8>,\n",
       "  <matplotlib.lines.Line2D at 0x15da79b9c08>],\n",
       " 'caps': [<matplotlib.lines.Line2D at 0x15da6ace708>,\n",
       "  <matplotlib.lines.Line2D at 0x15da85b0b48>,\n",
       "  <matplotlib.lines.Line2D at 0x15da4d65788>,\n",
       "  <matplotlib.lines.Line2D at 0x15da4d65a88>,\n",
       "  <matplotlib.lines.Line2D at 0x15da79b9c48>,\n",
       "  <matplotlib.lines.Line2D at 0x15da79b9708>],\n",
       " 'boxes': [<matplotlib.lines.Line2D at 0x15da6ace808>,\n",
       "  <matplotlib.lines.Line2D at 0x15da51a0148>,\n",
       "  <matplotlib.lines.Line2D at 0x15da7ab0348>],\n",
       " 'medians': [<matplotlib.lines.Line2D at 0x15da85b0748>,\n",
       "  <matplotlib.lines.Line2D at 0x15da7a75488>,\n",
       "  <matplotlib.lines.Line2D at 0x15da7258e08>],\n",
       " 'fliers': [<matplotlib.lines.Line2D at 0x15da6961b48>,\n",
       "  <matplotlib.lines.Line2D at 0x15da7a75e88>,\n",
       "  <matplotlib.lines.Line2D at 0x15da7258f08>],\n",
       " 'means': []}"
      ]
     },
     "execution_count": 85,
     "metadata": {},
     "output_type": "execute_result"
    },
    {
     "data": {
      "image/png": "[encoded data removed]",
      "text/plain": [
       "<Figure size 432x288 with 1 Axes>"
      ]
     },
     "metadata": {
      "needs_background": "light"
     },
     "output_type": "display_data"
    }
   ],
   "source": [
    "plt.boxplot([west, east, central])"
   ]
  },
  {
   "cell_type": "code",
   "execution_count": 93,
   "metadata": {},
   "outputs": [],
   "source": [
    "#list(df.groupby('REgion'))\n",
    "my_groups = df.groupby('Region')\n",
    "my_names = []\n",
    "my_list = []\n",
    "\n",
    "for name, dfb in my_groups:\n",
    "    my_names += [name] #append와 같다\n",
    "    my_list += [dfb.Units]"
   ]
  },
  {
   "cell_type": "code",
   "execution_count": 94,
   "metadata": {},
   "outputs": [
    {
     "data": {
      "text/plain": [
       "[2     55\n",
       " 4     42\n",
       " 7      2\n",
       " 8      7\n",
       " 11    28\n",
       " 14    14\n",
       " 16    11\n",
       " 17    96\n",
       " 18    94\n",
       " 19    67\n",
       " 20    28\n",
       " 23    46\n",
       " 24    50\n",
       " 25    87\n",
       " 26    36\n",
       " 28    27\n",
       " 31    50\n",
       " 33    66\n",
       " 34    75\n",
       " 36    90\n",
       " 37    53\n",
       " 39    80\n",
       " 41     5\n",
       " 42    90\n",
       " Name: Units, dtype: int64,\n",
       " 0     62\n",
       " 1     29\n",
       " 3     81\n",
       " 5     35\n",
       " 9     16\n",
       " 13    64\n",
       " 15    15\n",
       " 21    74\n",
       " 22    95\n",
       " 27     4\n",
       " 32    60\n",
       " 35    96\n",
       " 40    60\n",
       " Name: Units, dtype: int64,\n",
       " 6      3\n",
       " 10    76\n",
       " 12    57\n",
       " 29     7\n",
       " 30    56\n",
       " 38    32\n",
       " Name: Units, dtype: int64]"
      ]
     },
     "execution_count": 94,
     "metadata": {},
     "output_type": "execute_result"
    }
   ],
   "source": [
    "my_list"
   ]
  },
  {
   "cell_type": "code",
   "execution_count": 95,
   "metadata": {},
   "outputs": [
    {
     "data": {
      "image/png": "[encoded data removed]",
      "text/plain": [
       "<Figure size 432x288 with 1 Axes>"
      ]
     },
     "metadata": {
      "needs_background": "light"
     },
     "output_type": "display_data"
    }
   ],
   "source": [
    "plt.boxplot(my_list, notch=False, labels=my_names)\n",
    "plt.show()"
   ]
  },
  {
   "cell_type": "markdown",
   "metadata": {},
   "source": [
    "### Mini-Project 0205\n",
    "혈액형 별 신장을 구한다\n",
    "groupby 메서드 사용\n",
    "pivot_table 메서드 사용"
   ]
  },
  {
   "cell_type": "code",
   "execution_count": 96,
   "metadata": {},
   "outputs": [
    {
     "data": {
      "text/html": [
       "<div>\n",
       "<style scoped>\n",
       "    .dataframe tbody tr th:only-of-type {\n",
       "        vertical-align: middle;\n",
       "    }\n",
       "\n",
       "    .dataframe tbody tr th {\n",
       "        vertical-align: top;\n",
       "    }\n",
       "\n",
       "    .dataframe thead th {\n",
       "        text-align: right;\n",
       "    }\n",
       "</style>\n",
       "<table border=\"1\" class=\"dataframe\">\n",
       "  <thead>\n",
       "    <tr style=\"text-align: right;\">\n",
       "      <th></th>\n",
       "      <th>name</th>\n",
       "      <th>gender</th>\n",
       "      <th>age</th>\n",
       "      <th>grade</th>\n",
       "      <th>absence</th>\n",
       "      <th>bloodtype</th>\n",
       "      <th>height</th>\n",
       "      <th>weight</th>\n",
       "    </tr>\n",
       "  </thead>\n",
       "  <tbody>\n",
       "    <tr>\n",
       "      <th>0</th>\n",
       "      <td>Jared Diamond</td>\n",
       "      <td>M</td>\n",
       "      <td>23</td>\n",
       "      <td>3</td>\n",
       "      <td>Y</td>\n",
       "      <td>O</td>\n",
       "      <td>165.3</td>\n",
       "      <td>68.2</td>\n",
       "    </tr>\n",
       "    <tr>\n",
       "      <th>1</th>\n",
       "      <td>Sarah O'Donnel</td>\n",
       "      <td>F</td>\n",
       "      <td>22</td>\n",
       "      <td>2</td>\n",
       "      <td>N</td>\n",
       "      <td>AB</td>\n",
       "      <td>170.1</td>\n",
       "      <td>53.0</td>\n",
       "    </tr>\n",
       "    <tr>\n",
       "      <th>2</th>\n",
       "      <td>Brian Martin</td>\n",
       "      <td>M</td>\n",
       "      <td>24</td>\n",
       "      <td>4</td>\n",
       "      <td>N</td>\n",
       "      <td>B</td>\n",
       "      <td>175.0</td>\n",
       "      <td>80.1</td>\n",
       "    </tr>\n",
       "    <tr>\n",
       "      <th>3</th>\n",
       "      <td>David Hassel</td>\n",
       "      <td>M</td>\n",
       "      <td>23</td>\n",
       "      <td>3</td>\n",
       "      <td>N</td>\n",
       "      <td>AB</td>\n",
       "      <td>182.1</td>\n",
       "      <td>85.7</td>\n",
       "    </tr>\n",
       "    <tr>\n",
       "      <th>4</th>\n",
       "      <td>Clara Rodriquez</td>\n",
       "      <td>F</td>\n",
       "      <td>20</td>\n",
       "      <td>1</td>\n",
       "      <td>Y</td>\n",
       "      <td>A</td>\n",
       "      <td>168.0</td>\n",
       "      <td>49.5</td>\n",
       "    </tr>\n",
       "  </tbody>\n",
       "</table>\n",
       "</div>"
      ],
      "text/plain": [
       "              name gender  age  grade absence bloodtype  height  weight\n",
       "0    Jared Diamond      M   23      3       Y         O   165.3    68.2\n",
       "1   Sarah O'Donnel      F   22      2       N        AB   170.1    53.0\n",
       "2     Brian Martin      M   24      4       N         B   175.0    80.1\n",
       "3     David Hassel      M   23      3       N        AB   182.1    85.7\n",
       "4  Clara Rodriquez      F   20      1       Y         A   168.0    49.5"
      ]
     },
     "execution_count": 96,
     "metadata": {},
     "output_type": "execute_result"
    }
   ],
   "source": [
    "df = pd.read_csv(\"data_studentlist_en.csv\")\n",
    "df.head()"
   ]
  },
  {
   "cell_type": "code",
   "execution_count": 107,
   "metadata": {},
   "outputs": [
    {
     "data": {
      "text/html": [
       "<div>\n",
       "<style scoped>\n",
       "    .dataframe tbody tr th:only-of-type {\n",
       "        vertical-align: middle;\n",
       "    }\n",
       "\n",
       "    .dataframe tbody tr th {\n",
       "        vertical-align: top;\n",
       "    }\n",
       "\n",
       "    .dataframe thead th {\n",
       "        text-align: right;\n",
       "    }\n",
       "</style>\n",
       "<table border=\"1\" class=\"dataframe\">\n",
       "  <thead>\n",
       "    <tr style=\"text-align: right;\">\n",
       "      <th></th>\n",
       "      <th>height</th>\n",
       "    </tr>\n",
       "    <tr>\n",
       "      <th>bloodtype</th>\n",
       "      <th></th>\n",
       "    </tr>\n",
       "  </thead>\n",
       "  <tbody>\n",
       "    <tr>\n",
       "      <th>A</th>\n",
       "      <td>169.075</td>\n",
       "    </tr>\n",
       "    <tr>\n",
       "      <th>AB</th>\n",
       "      <td>177.400</td>\n",
       "    </tr>\n",
       "    <tr>\n",
       "      <th>B</th>\n",
       "      <td>171.280</td>\n",
       "    </tr>\n",
       "    <tr>\n",
       "      <th>O</th>\n",
       "      <td>165.140</td>\n",
       "    </tr>\n",
       "  </tbody>\n",
       "</table>\n",
       "</div>"
      ],
      "text/plain": [
       "            height\n",
       "bloodtype         \n",
       "A          169.075\n",
       "AB         177.400\n",
       "B          171.280\n",
       "O          165.140"
      ]
     },
     "execution_count": 107,
     "metadata": {},
     "output_type": "execute_result"
    }
   ],
   "source": [
    "df1 = df.groupby(\"bloodtype\")[['height']].mean()   #그냥 ['height']면 series로 나온다\n",
    "df1"
   ]
  },
  {
   "cell_type": "code",
   "execution_count": 105,
   "metadata": {},
   "outputs": [
    {
     "data": {
      "text/html": [
       "<div>\n",
       "<style scoped>\n",
       "    .dataframe tbody tr th:only-of-type {\n",
       "        vertical-align: middle;\n",
       "    }\n",
       "\n",
       "    .dataframe tbody tr th {\n",
       "        vertical-align: top;\n",
       "    }\n",
       "\n",
       "    .dataframe thead th {\n",
       "        text-align: right;\n",
       "    }\n",
       "</style>\n",
       "<table border=\"1\" class=\"dataframe\">\n",
       "  <thead>\n",
       "    <tr style=\"text-align: right;\">\n",
       "      <th></th>\n",
       "      <th>height</th>\n",
       "    </tr>\n",
       "    <tr>\n",
       "      <th>bloodtype</th>\n",
       "      <th></th>\n",
       "    </tr>\n",
       "  </thead>\n",
       "  <tbody>\n",
       "    <tr>\n",
       "      <th>A</th>\n",
       "      <td>169.075</td>\n",
       "    </tr>\n",
       "    <tr>\n",
       "      <th>AB</th>\n",
       "      <td>177.400</td>\n",
       "    </tr>\n",
       "    <tr>\n",
       "      <th>B</th>\n",
       "      <td>171.280</td>\n",
       "    </tr>\n",
       "    <tr>\n",
       "      <th>O</th>\n",
       "      <td>165.140</td>\n",
       "    </tr>\n",
       "  </tbody>\n",
       "</table>\n",
       "</div>"
      ],
      "text/plain": [
       "            height\n",
       "bloodtype         \n",
       "A          169.075\n",
       "AB         177.400\n",
       "B          171.280\n",
       "O          165.140"
      ]
     },
     "execution_count": 105,
     "metadata": {},
     "output_type": "execute_result"
    }
   ],
   "source": [
    "pd.pivot_table(df, index=['bloodtype'],values=['height'], aggfunc=np.mean, fill_value=0)"
   ]
  },
  {
   "cell_type": "code",
   "execution_count": 108,
   "metadata": {},
   "outputs": [
    {
     "data": {
      "text/html": [
       "<div>\n",
       "<style scoped>\n",
       "    .dataframe tbody tr th:only-of-type {\n",
       "        vertical-align: middle;\n",
       "    }\n",
       "\n",
       "    .dataframe tbody tr th {\n",
       "        vertical-align: top;\n",
       "    }\n",
       "\n",
       "    .dataframe thead th {\n",
       "        text-align: right;\n",
       "    }\n",
       "</style>\n",
       "<table border=\"1\" class=\"dataframe\">\n",
       "  <thead>\n",
       "    <tr style=\"text-align: right;\">\n",
       "      <th>bloodtype</th>\n",
       "      <th>A</th>\n",
       "      <th>AB</th>\n",
       "      <th>B</th>\n",
       "      <th>O</th>\n",
       "    </tr>\n",
       "  </thead>\n",
       "  <tbody>\n",
       "    <tr>\n",
       "      <th>height</th>\n",
       "      <td>169.075</td>\n",
       "      <td>177.4</td>\n",
       "      <td>171.28</td>\n",
       "      <td>165.14</td>\n",
       "    </tr>\n",
       "  </tbody>\n",
       "</table>\n",
       "</div>"
      ],
      "text/plain": [
       "bloodtype        A     AB       B       O\n",
       "height     169.075  177.4  171.28  165.14"
      ]
     },
     "execution_count": 108,
     "metadata": {},
     "output_type": "execute_result"
    }
   ],
   "source": [
    "pd.pivot_table(df, columns=['bloodtype'],values=['height'], aggfunc=np.mean, fill_value=0)"
   ]
  },
  {
   "cell_type": "code",
   "execution_count": null,
   "metadata": {},
   "outputs": [],
   "source": []
  }
 ],
 "metadata": {
  "kernelspec": {
   "display_name": "Python 3",
   "language": "python",
   "name": "python3"
  },
  "language_info": {
   "codemirror_mode": {
    "name": "ipython",
    "version": 3
   },
   "file_extension": ".py",
   "mimetype": "text/x-python",
   "name": "python",
   "nbconvert_exporter": "python",
   "pygments_lexer": "ipython3",
   "version": "3.7.6"
  }
 },
 "nbformat": 4,
 "nbformat_minor": 4
}
