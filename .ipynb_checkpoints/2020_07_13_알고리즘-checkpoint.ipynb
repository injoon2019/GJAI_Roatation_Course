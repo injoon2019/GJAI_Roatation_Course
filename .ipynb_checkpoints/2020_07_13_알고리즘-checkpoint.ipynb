{
 "cells": [
  {
   "cell_type": "markdown",
   "metadata": {},
   "source": [
    "### 알고리즘"
   ]
  },
  {
   "cell_type": "code",
   "execution_count": 4,
   "metadata": {},
   "outputs": [
    {
     "name": "stdout",
     "output_type": "stream",
     "text": [
      "0\n",
      "3\n",
      "12\n",
      "30\n"
     ]
    }
   ],
   "source": [
    "# 나머지와 몫이 같은 수 구하기\n",
    "def div_equal_dividend(n):\n",
    "        return int((n+1)*(n-1)*n/2)\n",
    "    \n",
    "print(div_equal_dividend(1))   \n",
    "print(div_equal_dividend(2))\n",
    "print(div_equal_dividend(3))\n",
    "print(div_equal_dividend(4))\n"
   ]
  },
  {
   "cell_type": "code",
   "execution_count": null,
   "metadata": {},
   "outputs": [],
   "source": []
  }
 ],
 "metadata": {
  "kernelspec": {
   "display_name": "Python 3",
   "language": "python",
   "name": "python3"
  },
  "language_info": {
   "codemirror_mode": {
    "name": "ipython",
    "version": 3
   },
   "file_extension": ".py",
   "mimetype": "text/x-python",
   "name": "python",
   "nbconvert_exporter": "python",
   "pygments_lexer": "ipython3",
   "version": "3.7.6"
  }
 },
 "nbformat": 4,
 "nbformat_minor": 4
}
