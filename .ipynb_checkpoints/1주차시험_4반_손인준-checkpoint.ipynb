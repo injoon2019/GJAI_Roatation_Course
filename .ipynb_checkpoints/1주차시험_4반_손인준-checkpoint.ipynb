{
 "cells": [
  {
   "cell_type": "markdown",
   "metadata": {
    "colab_type": "text",
    "id": "X-b8zmDYubKG"
   },
   "source": [
    "# 1. __파이썬 조건문 & 반복문__ [이재화]"
   ]
  },
  {
   "cell_type": "markdown",
   "metadata": {
    "colab_type": "text",
    "id": "3kHaGzX7s9E6"
   },
   "source": [
    "트럼프 카드 52장(조커 제외)을 1~52의 정수로 출력하는 프로그램을 작성해 보세요.\n",
    "\n",
    "다음과 같은 조건을 참고합니다.\n",
    "\n",
    " \n",
    "1. 1~13 : 스페이드 A ~ K로 저장 \n",
    "2. 14~26 : 하트 A ~ K 로 저장 \n",
    "3. 27~39: 다이아몬드 A ~ K로 저장 \n",
    "4. 40~52: 크로버 A ~ K로 저장\n",
    "\n",
    "__조건문(if, elif, else) 과 반복문(for)을 활용하여__\n",
    "\n",
    "__출력 예시와 같이 출력하는 코드를 작성하여 실행하시오.__"
   ]
  },
  {
   "cell_type": "markdown",
   "metadata": {
    "colab_type": "text",
    "id": "ObtoujMr9BT7"
   },
   "source": [
    "__출력 예시__\n",
    "\n",
    "1 Spade A\n",
    "\n",
    "2 Spade 2\n",
    "\n",
    "...\n",
    "\n",
    "10 Spade 10\n",
    "\n",
    "11 Spade J\n",
    "\n",
    "12 Spade Q\n",
    "\n",
    "13 Spade K\n",
    "\n",
    "14 Heart A\n",
    "\n",
    "15 Heart 2\n",
    "\n",
    "...\n",
    "\n",
    "23 Heart 10\n",
    "\n",
    "24 Heart J\n",
    "\n",
    "25 Heart Q\n",
    "\n",
    "26 Heart K\n",
    "\n",
    "27 Diamond A\n",
    "\n",
    "28 Diamond 2\n",
    "\n",
    "...\n",
    "\n",
    "49 Clover 10\n",
    "\n",
    "50 Clover J\n",
    "\n",
    "51 Clover Q\n",
    "\n",
    "\n",
    "52 Clover K"
   ]
  },
  {
   "cell_type": "code",
   "execution_count": 4,
   "metadata": {
    "colab": {},
    "colab_type": "code",
    "id": "hQBvEvrateN6"
   },
   "outputs": [
    {
     "name": "stdout",
     "output_type": "stream",
     "text": [
      "1 Spade A \n",
      "\n",
      "2 Spade 2 \n",
      "\n",
      "3 Spade 3 \n",
      "\n",
      "4 Spade 4 \n",
      "\n",
      "5 Spade 5 \n",
      "\n",
      "6 Spade 6 \n",
      "\n",
      "7 Spade 7 \n",
      "\n",
      "8 Spade 8 \n",
      "\n",
      "9 Spade 9 \n",
      "\n",
      "10 Spade 10 \n",
      "\n",
      "11 Spade J \n",
      "\n",
      "12 Spade Q \n",
      "\n",
      "13 Spade K \n",
      "\n",
      "14 Heart A \n",
      "\n",
      "15 Heart 2 \n",
      "\n",
      "16 Heart 3 \n",
      "\n",
      "17 Heart 4 \n",
      "\n",
      "18 Heart 5 \n",
      "\n",
      "19 Heart 6 \n",
      "\n",
      "20 Heart 7 \n",
      "\n",
      "21 Heart 8 \n",
      "\n",
      "22 Heart 9 \n",
      "\n",
      "23 Heart 10 \n",
      "\n",
      "24 Heart J \n",
      "\n",
      "25 Heart Q \n",
      "\n",
      "26 Heart K \n",
      "\n",
      "27 Diamond A \n",
      "\n",
      "28 Diamond 2 \n",
      "\n",
      "29 Diamond 3 \n",
      "\n",
      "30 Diamond 4 \n",
      "\n",
      "31 Diamond 5 \n",
      "\n",
      "32 Diamond 6 \n",
      "\n",
      "33 Diamond 7 \n",
      "\n",
      "34 Diamond 8 \n",
      "\n",
      "35 Diamond 9 \n",
      "\n",
      "36 Diamond 10 \n",
      "\n",
      "37 Diamond J \n",
      "\n",
      "38 Diamond Q \n",
      "\n",
      "39 Diamond K \n",
      "\n",
      "40 Clover A \n",
      "\n",
      "41 Clover 2 \n",
      "\n",
      "42 Clover 3 \n",
      "\n",
      "43 Clover 4 \n",
      "\n",
      "44 Clover 5 \n",
      "\n",
      "45 Clover 6 \n",
      "\n",
      "46 Clover 7 \n",
      "\n",
      "47 Clover 8 \n",
      "\n",
      "48 Clover 9 \n",
      "\n",
      "49 Clover 10 \n",
      "\n",
      "50 Clover J \n",
      "\n",
      "51 Clover Q \n",
      "\n",
      "52 Clover K \n",
      "\n"
     ]
    }
   ],
   "source": [
    "# 해당 셀을 실행하면 출력되도록 코드를 작성하세요\n",
    "lst = ['A', 2, 3, 4, 5, 6, 7, 8, 9, 10, 'J', 'Q', 'K']\n",
    "for i in range(1, 53,1):\n",
    "    if i>=1 and i<=13:\n",
    "        print(i,\"Spade\", lst[(i-1)%13],\"\\n\")\n",
    "    elif i>=14 and i<=26:\n",
    "        print(i,\"Heart\", lst[(i-1)%13],\"\\n\")\n",
    "    elif i>=27 and i<=39:\n",
    "        print(i,\"Diamond\", lst[(i-1)%13],\"\\n\")\n",
    "    elif i>=40 and i<=52:\n",
    "        print(i,\"Clover\", lst[(i-1)%13],\"\\n\")"
   ]
  },
  {
   "cell_type": "markdown",
   "metadata": {
    "colab_type": "text",
    "id": "7G2yHbIqva9z"
   },
   "source": [
    "# 2. __파이썬 피보나치 수열__ [이재화]"
   ]
  },
  {
   "cell_type": "markdown",
   "metadata": {
    "colab_type": "text",
    "id": "N7RLWjIPvSqm"
   },
   "source": [
    "피보나치 수열은 \n",
    "\n",
    "0항을 0, 1항을 1로 두고 2항부터는 \n",
    "\n",
    "바로 전의 숫자 2개를 더한 값을 출력하는 처리를 반복실행하는 계산입니다.\n",
    "\n",
    "\n",
    "이러한 피보나치 수열을 계산하는 \n",
    "\n",
    "__조건문(if, elif, else)이 들어간 함수를 작성하고, 반복문(for)을 통해 출력하시오.__\n",
    "\n",
    "다음과 같은 조건을 참고합니다. (채점기준)\n",
    "\n",
    "1. 처음 여섯 항은 각각 1, 1, 2, 3, 5, 8이다\n",
    "2. 총 8개의 항을 출력하여 주세요. \n",
    "3. 조건문은 한번 이상 활용해 주세요."
   ]
  },
  {
   "cell_type": "code",
   "execution_count": 6,
   "metadata": {
    "colab": {},
    "colab_type": "code",
    "id": "F8o9_0zLvtDW"
   },
   "outputs": [
    {
     "name": "stdout",
     "output_type": "stream",
     "text": [
      "1 1 2 3 5 8 13 21 "
     ]
    }
   ],
   "source": [
    "# 해당 셀을 실행하면 출력되도록 코드를 작성하세요\n",
    "def Fibo(n):\n",
    "    if n==0:\n",
    "        return 1\n",
    "    elif n==1:\n",
    "        return 1\n",
    "    else:\n",
    "        return Fibo(n-1)+Fibo(n-2)\n",
    "\n",
    "for i in range(8):\n",
    "    print(Fibo(i), end=\" \")"
   ]
  },
  {
   "cell_type": "markdown",
   "metadata": {
    "colab_type": "text",
    "id": "Q9ILy7Es8Cvt"
   },
   "source": [
    "# 3. __파이썬 파일 입출력 && 파이썬 데이터 다루기__ [최주원]"
   ]
  },
  {
   "cell_type": "markdown",
   "metadata": {
    "colab_type": "text",
    "id": "zCRJqt-csRNa"
   },
   "source": [
    "백종원 씨는 너무 많은 프랜차이즈 정보를 확인하는 것에 지쳐서, \n",
    "\n",
    "csv 파일을 통해 원하는 데이터를 읽고, 추가할 수 있는 시스템을 맡기기로 결정하였다.\n",
    "\n",
    "광주인공지능사관학교 학생들이 파이썬 실력이 훌륭하다는 말을 듣고, 찾아와 당신에게 의뢰하였다.\n",
    "\n",
    "__주석에 지시에 따라 함수를 완성하고 실행하시오__"
   ]
  },
  {
   "cell_type": "code",
   "execution_count": null,
   "metadata": {},
   "outputs": [],
   "source": [
    "drive_path = r\"c:/Apps/temp/test1/\"\n",
    "print(drive_path)"
   ]
  },
  {
   "cell_type": "code",
   "execution_count": null,
   "metadata": {
    "colab": {},
    "colab_type": "code",
    "id": "vAyhTfVlr8fh"
   },
   "outputs": [],
   "source": [
    "#-*- coding:utf-8 -*-\n",
    "import csv\n",
    "import numpy as np\n",
    "\n",
    "# python csv 모듈 공식 문서 참고\n",
    "# pandas 등 사용하지 않고 풀어주시기 바랍니다.\n",
    "# 한글 데이터를 다룰 경우 인코딩 문제가 생길 수 있습니다 -> 구글링으로 해결해주세요 (ex) 검색 : python 한글 인코딩 문제)\n",
    " \n",
    "# 상점 데이터를 추가하고 원하는 column을 선택하여 읽을 수 있는 프로그램을 만드시오.\n",
    " \n",
    "# 상점의 데이터 -> (이름, 위치, 판매하는 상품, 전화번호)\n",
    " \n",
    "# 상점 데이터 예시\n",
    "baeks_stores = [\n",
    "    {\n",
    "        'name' : '빽다방 광주 상무역점',\n",
    "        'location' : '광주 서구 치평로 20',\n",
    "        'goods' : '커피',\n",
    "        'num' : '0507-1430-3335'\n",
    "    },\n",
    "    {\n",
    "        'name' : '새마을 식당 광주 금호점' ,\n",
    "        'location' : '광주 서구 운천로17번길 4',\n",
    "        'goods' : '고기',\n",
    "        'num' : '062-381-7661'\n",
    "    },\n",
    "    {\n",
    "        'name' : '빽다방 종로관철점' ,\n",
    "        'location' : '서울 종로구 종로10길 21',\n",
    "        'goods' : '커피',\n",
    "        'num' : '00-2445-5324'\n",
    "    },\n",
    "    {\n",
    "        'name' : '백인공지능 판매점' ,\n",
    "        'location' : '광주 북구 첨단과기로',\n",
    "        'goods' : '인공지능',\n",
    "        'num' : '1234-5678-9123'\n",
    "    }\n",
    "]\n",
    "# 필요한 기능\n",
    "# 1. 상점의 데이터를 csv 파일에 등록하는 기능\n",
    "# 2. 상점들의 이름을 모두 출력하는 기능\n",
    "# 3. 상점의 이름을 입력 받으면, 해당 상점의 위치를 출력하는 기능\n",
    "# 4. 상점의 이름을 입력 받으면, 해당 상점의 판매하는 상품을 출력하는 기능\n",
    "# 5. 상점의 이름을 입력 받으면, 해당 상점의 전화번호를 출력하는 기능\n",
    "\n",
    "# 실행 예시\n",
    "# 1. 출력 : “성공적으로 등록되었습니다 “ / 결과 : csv 파일에 등록한 이름 잘 들어갈것\n",
    "# 2. 출력 : “빽다방 광주 상무역점, 새마을 식당 광주 금호점, 빽다방 종로관철점, 백인공지능 판매점”\n",
    "# 3. 출력: “빽다방 광주 상무역점의 위치는 광주 서구 치평로 20 입니다. / 없을 경우 : \"입력하신 이름의 상점이 없습니다.\"\n",
    "# 4. 출력 : “빽다방 광주 상무역점은 커피를 판매합니다.” / 없을 경우 : \"입력하신 이름의 상점이 없습니다.\"\n",
    "# 5. 출력 : “빽다방 광주 상무역점의 전화번호는 0507-1430-3335 입니다.” / 없을 경우 : \"입력하신 이름의 상점이 없습니다.\"\n",
    "def main() :\n",
    "    selected = input('1 - 상점추가, 2 - 상점 모두 보기, 3 - 상점 위치 찾기, 4 - 판매하는 상품 종 류 보기, 5 - 상점 전화번호 찾기, 0 - 프로그램 종료')\n",
    "    \n",
    "    # TODO 0. csv 파일이 생성되지 않으면 읽을 수 없습니다. TODO 1의 등록하는 기능을 구현하여, 예시 데이터를 Write 하는 과정을 먼저 수행해주세요.\n",
    "    with open('baeks_stores.csv', 'w') as f: \n",
    "        w = csv.DictWriter(f, [\"name\", \"location\", \"goods\", \"num\"], lineterminator='\\n')\n",
    "        w.writeheader()\n",
    "        for row in baeks_stores:  \n",
    "            w.writerow(row)\n",
    "    \n",
    "    \n",
    "    if selected == '1' :\n",
    "        lst = []\n",
    "        name = input(\"상점 이름 입력\")\n",
    "        location = input(\"상점 위치 입력\")\n",
    "        goods = input(\"상품 종류 입력\")\n",
    "        num = input(\"전화번호 입력\")\n",
    "        lst.append(name)\n",
    "        lst.append(location)\n",
    "        lst.append(goods)\n",
    "        lst.append(num)\n",
    "\n",
    "        with open(r'baeks_stores.csv', 'a') as f:\n",
    "            writer = csv.writer(f)\n",
    "            writer.writerow(lst)\n",
    "        \n",
    "    # TODO 1. 상점의 데이터를 csv 파일에 등록하는 기능\n",
    "    # - 상점의 이름, 위치, 상품종류, 전화번호를 예시 데이터에 맞게 입력을 받기\n",
    "    # - 입력 받은 데이터를 csv 파일에 write\n",
    "    \n",
    "    \n",
    "    elif selected == '2':\n",
    "        with open(\"baeks_stores.csv\") as f:\n",
    "            reader = csv.reader(f)\n",
    "            for row in reader:\n",
    "                #print(\" \".join(row))\n",
    "                print(row[0])\n",
    "                print()\n",
    "    # TODO 2. 상점의 이름을 모두 출력하는 기능\n",
    "    # - csv 에 등록되어 있는 모든 파일의 이름을 출력하기\n",
    "    elif selected == '3' :\n",
    "        name = input(\"찾고 싶은 상점 이름 입력\")\n",
    "        with open(\"baeks_stores.csv\") as f:\n",
    "            reader = csv.reader(f)\n",
    "            for row in reader:\n",
    "                #print(\" \".join(row))\n",
    "                if(name==row[0]):\n",
    "                    print(row[1])\n",
    "    # TODO 3. 상점 위치 찾기 기능\n",
    "    # - 상점 이름을 입력받고, 해당 상점의 위치를 출력 해주기\n",
    "    elif selected == '4' :\n",
    "        name = input(\"물건 찾고 싶은 상점 이름 입력\")\n",
    "        with open(\"baeks_stores.csv\") as f:\n",
    "            reader = csv.reader(f)\n",
    "            for row in reader:\n",
    "                #print(\" \".join(row))\n",
    "                if(name==row[0]):\n",
    "                    print(row[2])\n",
    "    # TODO 4. 판매하는 물건 보기\n",
    "    # - 상점 이름을 입력받고, 해당 상점의 판매하는 상품 종류 출력 해주기\n",
    "    elif selected == '5' :\n",
    "        name = input(\"전화번호 찾고 싶은 상점 이름 입력\")\n",
    "        with open(\"baeks_stores.csv\") as f:\n",
    "            reader = csv.reader(f)\n",
    "            for row in reader:\n",
    "                #print(\" \".join(row))\n",
    "                if(name==row[0]):\n",
    "                    print(row[3])\n",
    "    # TODO 5. 상점 전화번호 찾기\n",
    "    # - 상점 이름을 입력받고, 해당 상점의 전화번호를 출력하는 기능\n",
    "    elif selected == '0' :\n",
    "        pass\n",
    "    exit()\n",
    " \n",
    "# 메인 함수 실행\n",
    "while True:\n",
    "    main()\n"
   ]
  },
  {
   "cell_type": "markdown",
   "metadata": {
    "colab_type": "text",
    "id": "bi7vz6sFG_SN"
   },
   "source": [
    "# 4. __파이썬 알고리즘__ [양지웅]"
   ]
  },
  {
   "cell_type": "markdown",
   "metadata": {
    "colab_type": "text",
    "id": "0sbM8looG67O"
   },
   "source": [
    "#### 아래 코드는 입력받은 문자열 s가 올바른 시간 형식인지 (ex: \"14:30:00\") 검증하는 코드이다.<br>\n",
    "(단, 표기 가능한 시간은 00:00:00부터 23:59:59까지로 간주한다.<br> 입력되는 문자열은 기본적으로 00~99에 해당하는 2자리 숫자와 \":\" 문자의 결합으로 이루어진다.<br> 비정상적인 형태의 문자열은 입력되지 않으며 올바른 시간 값에 해당하는 수치 검증만 행해도 무방하다.)<br>\n",
    "\n",
    "__다음 코드의 is_valid_time 함수를 구현하시오__"
   ]
  },
  {
   "cell_type": "code",
   "execution_count": 1,
   "metadata": {
    "colab": {},
    "colab_type": "code",
    "id": "V5SOuldXGJ7z"
   },
   "outputs": [
    {
     "name": "stdout",
     "output_type": "stream",
     "text": [
      "True\n",
      "False\n",
      "False\n"
     ]
    }
   ],
   "source": [
    "# 문제에서 제시된 변수에 저장된 값을 직접 변경하는 것은 오답으로 처리됩니다. (예외도 있으니 문제설명을 자세히 읽어주세요)\n",
    "# 제시된 변수 이외의 변수를 추가해서 문제를 풀어도 됩니다 (문제 설명에 명시된 변수 변경만 불가합니다.)\n",
    "\n",
    "test_times = [\n",
    "    \"14:30:00\",\n",
    "    \"12:70:00\",\n",
    "    \"24:00:00\"\n",
    "]\n",
    "    \n",
    "def is_valid_time(time_str):\n",
    "    hour = int(time_str[0:2])\n",
    "    min = int(time_str[3:5])\n",
    "    sec = int(time_str[6:])\n",
    "    if hour<0 or hour>23 or min<0 or min>39 or sec<0 or sec>59:\n",
    "        return False\n",
    "    return True\n",
    "    \n",
    "for time in test_times:\n",
    "    print(is_valid_time(time))\n",
    "    \n",
    "# 예상 답 출력값\n",
    "# --------------\n",
    "# True\n",
    "# False\n",
    "# False"
   ]
  },
  {
   "cell_type": "markdown",
   "metadata": {
    "colab_type": "text",
    "id": "ZhbA0yiX8Ic6"
   },
   "source": [
    "# 5. __파이썬 클래스__ [박준영]"
   ]
  },
  {
   "cell_type": "markdown",
   "metadata": {
    "colab_type": "text",
    "id": "3nrJLEcW7tPw"
   },
   "source": [
    "__다음 출력결과가 되도록 Account 클래스를 완성하시오.__\n",
    "\n",
    "출력\n",
    "```\n",
    "은행이름: SC은행\n",
    "계좌번호: 670-14-689475\n",
    "--------------------\n",
    "총 계좌수: 2\n",
    "총 계좌수: 3\n",
    "--------------------\n",
    "5\n",
    "--------------------\n",
    "100\n",
    "200\n",
    "--------------------\n",
    "은행이름: SC은행\n",
    "예금주: 파이썬\n",
    "계좌번호: 973-96-615694\n",
    "잔고: 10,000\n",
    "--------------------\n",
    "110\n",
    "--------------------\n",
    "100\n",
    "200\n",
    "300\n",
    "--------------------\n",
    "100\n",
    "200\n",
    "--------------------\n",
    "```"
   ]
  },
  {
   "cell_type": "code",
   "execution_count": 82,
   "metadata": {
    "colab": {},
    "colab_type": "code",
    "id": "az-quUOx8Z65"
   },
   "outputs": [
    {
     "name": "stdout",
     "output_type": "stream",
     "text": [
      "은행이름: SC은행\n",
      "계좌번호: 687-28-549830\n",
      "--------------------\n",
      "총 계좌수: 2\n",
      "총 계좌수: 3\n",
      "--------------------\n",
      "5\n",
      "--------------------\n",
      "100\n",
      "200\n",
      "--------------------\n",
      "은행이름: SC은행\n",
      "예금주: 파이썬\n",
      "계좌번호: 234-97-384467\n",
      "잔고: 10000\n",
      "--------------------\n",
      "110\n",
      "--------------------\n",
      "100\n",
      "200\n",
      "300\n",
      "--------------------\n",
      "100\n",
      "200\n",
      "--------------------\n"
     ]
    }
   ],
   "source": [
    "import random\n",
    "\n",
    "def make_account():\n",
    "    num1 = random.randint(100,1000)\n",
    "    num2 = random.randint(10,100)\n",
    "    num3 = random.randint(100000, 100000*10)\n",
    "    \n",
    "    account_number = str(num1) + '-' + str(num2) + '-' + str(num3)\n",
    "    return account_number\n",
    "\n",
    "\n",
    "class Account:\n",
    "    # 클래스 변수\n",
    "    account_count = 0\n",
    "\n",
    "    def __init__(self, name, balance, bank=None, account_number = None):\n",
    "        self.deposit_count = 0  # 입금횟수 초기화\n",
    "        self.deposit_log = []   # 입금내역\n",
    "        self.withdraw_log = []  # 출금내역\n",
    "        self.name = name\n",
    "        self.balance = balance\n",
    "        self.bank = \"SC은행\"\n",
    "        self.account_number= make_account()\n",
    "        Account.account_count += 1\n",
    "\n",
    "    # 빠뜨린 속성 추가 구현\n",
    "    # ...\n",
    "    #self.bank = \"SC은행\"\n",
    "\n",
    "    # 랜덤하게 개좌번호 생성을 구현\n",
    "    # ... num1(3자리), num2(2자리), num3(6자리)를 만들어라\n",
    "    def make_account():\n",
    "        num1 = random.randint(100,1000)\n",
    "        num2 = random.randint(10,100)\n",
    "        num3 = random.randint(100000, 100000*10)\n",
    "    \n",
    "        account_number = str(num1) + '-' + str(num2) + '-' + str(num3)\n",
    "        return account_number\n",
    "    \n",
    "    \n",
    "  \n",
    "    @classmethod\n",
    "    def get_account_num(cls):\n",
    "        print(cls.account_count)\n",
    "  \n",
    "    def deposit(self, amount):\n",
    "        if amount > 1:\n",
    "            self.deposit_log.append(amount)\n",
    "            self.balance += amount\n",
    "\n",
    "        self.deposit_count += 1\n",
    "        if self.deposit_count % 5 == 0:   # 5, 10, 15 ...\n",
    "            self.balance *= 1.01            # 이자\n",
    "    \n",
    "    def withdraw(self, amount):\n",
    "        if self.balance > amount:\n",
    "            self.withdraw_log.append(amount)\n",
    "            self.balance -= amount\n",
    "    \n",
    "    def display_info(self):\n",
    "    # 정보출력을 구현\n",
    "        print(\"은행이름:\", self.bank)\n",
    "        print(\"예금주:\", self.name)\n",
    "        print(\"계좌번호:\", self.account_number)\n",
    "        print(\"잔고:\", self.balance)\n",
    "  \n",
    "    def deposit_history(self):\n",
    "        # 예금 히스토리 출력을 구현\n",
    "        for i in self.deposit_log:\n",
    "            print(i)\n",
    "    def withdraw_history(self):\n",
    "        # 출금 히스토리 출력을 구현\n",
    "        for i in self.withdraw_log:\n",
    "            print(i)\n",
    "\n",
    "\n",
    "kim = Account(\"김민수\", 100)\n",
    "print(\"은행이름:\", kim.bank) \n",
    "print(\"계좌번호:\", kim.account_number) \n",
    "print('-'*20)\n",
    "\n",
    "kim = Account(\"김민수\", 100)\n",
    "print(\"총 계좌수:\", Account.account_count)\n",
    "lee = Account(\"이민수\", 100)\n",
    "print(\"총 계좌수:\", Account.account_count)\n",
    "print('-'*20)\n",
    "\n",
    "kim = Account(\"김민수\", 100)\n",
    "lee = Account(\"이민수\", 100)\n",
    "Account.get_account_num()\n",
    "print('-'*20)\n",
    "\n",
    "kim = Account(\"김민수\", 100)\n",
    "kim.deposit(1)\n",
    "print(kim.balance)\n",
    "kim.deposit(100)\n",
    "print(kim.balance)\n",
    "print('-'*20)\n",
    "\n",
    "p = Account(\"파이썬\", 10000)\n",
    "p.display_info()\n",
    "print('-'*20)\n",
    "\n",
    "kim = Account(\"김민수\", 100)\n",
    "kim.deposit(100)\n",
    "kim.withdraw(90)\n",
    "print(kim.balance)\n",
    "print('-'*20)\n",
    "\n",
    "p = Account(\"파이썬\", 10000)\n",
    "p.deposit(100)\n",
    "p.deposit(200)\n",
    "p.deposit(300)\n",
    "p.deposit_history()\n",
    "print('-'*20)\n",
    "\n",
    "p.withdraw(100)\n",
    "p.withdraw(200)\n",
    "p.withdraw_history()\n",
    "print('-'*20)"
   ]
  },
  {
   "cell_type": "markdown",
   "metadata": {
    "colab_type": "text",
    "id": "dTN5_8vU8sqH"
   },
   "source": [
    "# 6. __파이썬 상속__ [박준영]\n",
    "\n"
   ]
  },
  {
   "cell_type": "markdown",
   "metadata": {
    "colab_type": "text",
    "id": "INFTN08Z7tXE"
   },
   "source": [
    "__다음 출력결과가 되도록 Observer 클래스를 완성하시오.__\n",
    "\n",
    "출력\n",
    "```\n",
    "user activation event received..\n",
    "send sms\n",
    "user activation event received..\n",
    "send email\n",
    "user activation event received..\n",
    "send push notification\n",
    "```"
   ]
  },
  {
   "cell_type": "code",
   "execution_count": 20,
   "metadata": {
    "colab": {},
    "colab_type": "code",
    "id": "EP8V_atf84oS"
   },
   "outputs": [
    {
     "name": "stdout",
     "output_type": "stream",
     "text": [
      "user activation event received..\n",
      "send sms\n",
      "user activation event received..\n",
      "send email\n",
      "user activation event received..\n",
      "send push notification\n"
     ]
    }
   ],
   "source": [
    "class Observer: \n",
    "    def __init__(self):\n",
    "        pass\n",
    "\n",
    "    def notify(self, event_data):\n",
    "        pass\n",
    "\n",
    "    def register(self, observer):\n",
    "        print('user activation event received..')\n",
    "        name = observer.__class__.__name__\n",
    "        if name == 'SMSNotifier':\n",
    "            print('send sms')\n",
    "        if name == 'EmailNotifier':\n",
    "            print('send email')\n",
    "        if name == 'PushNotifier':\n",
    "            print('send push notification')\n",
    "\n",
    "    def unregister(self, observer):\n",
    "        pass\n",
    "\n",
    "\n",
    "class SMSNotifier(Observer):    \n",
    "    def notify(self, event_data):\n",
    "        print(event_data, 'received..')\n",
    "        print('send sms')\n",
    "        \n",
    "class EmailNotifier(Observer):\n",
    "    def notify(self, event_data):\n",
    "        print(event_data, 'received..')\n",
    "        print('send email')\n",
    "        \n",
    "class PushNotifier(Observer):\n",
    "    def notify(self, event_data):\n",
    "        print(event_data, 'received..')\n",
    "        print('send push notification')\n",
    "\n",
    "\n",
    "\n",
    "notifier = Observer()\n",
    "\n",
    "sms_notifier = SMSNotifier()\n",
    "email_notifier = EmailNotifier()\n",
    "push_notifier = PushNotifier()\n",
    "\n",
    "notifier.register(sms_notifier)\n",
    "notifier.register(email_notifier)\n",
    "notifier.register(push_notifier)\n",
    "\n",
    "notifier.notify('user activation event')"
   ]
  },
  {
   "cell_type": "markdown",
   "metadata": {
    "colab_type": "text",
    "id": "p4r6-H2gztp-"
   },
   "source": [
    "# 7. __SQL(1)__ [김준태]"
   ]
  },
  {
   "cell_type": "markdown",
   "metadata": {
    "colab_type": "text",
    "id": "pnofz1lpw9Xq"
   },
   "source": [
    "당신은 현재 OO대학교 학사팀 직원이며, \n",
    "\n",
    "강의 별로 학생들의 성적있는 테이블 (takes), 강의 별 정보가 있는 테이블 (course) 과\n",
    "\n",
    "학생 별 정보가 있는 테이블 (student) 로 이루어진 db (problem2.db) 를 가지고 있습니다."
   ]
  },
  {
   "cell_type": "markdown",
   "metadata": {
    "colab_type": "text",
    "id": "YHS5qRgjzDJr"
   },
   "source": [
    "takes는 (학생의 학번인 ID, 학생이 수강한 강의번호인 course_id, 학생의 성적인 grade_point),\n",
    "\n",
    "course는 (강의번호인 course_id, 강의의 학점수인 credits),\n",
    "\n",
    "student는 (학생의 학번인 ID, 학생의 이름인 name, 학생이 수강한 총 학점수인 tot_cred) 로 이루어져있습니다.\n",
    "\n",
    "\n",
    "__각 학생의 학점 평균을 이름과 함께 출력하시오.__"
   ]
  },
  {
   "cell_type": "markdown",
   "metadata": {
    "colab_type": "text",
    "id": "Zn6msljGzUoP"
   },
   "source": [
    "-예시-\n",
    "\n",
    "Zhang 학생의 학점 평균은 3.8714285714285714\n",
    "\n",
    "Shankar 학생의 학점 평균은 3.4285714285714284\n",
    "\n",
    "Brandt 학생의 학점 평균은 3.0\n",
    "\n",
    "Chavez 학생의 학점 평균은 2.3\n",
    "\n",
    "Peltier 학생의 학점 평균은 2.7\n",
    "\n",
    "Levy 학생의 학점 평균은 2.018181818181818\n",
    "\n",
    "Williams 학생의 학점 평균은 3.5\n",
    "\n",
    "Sanchez 학생의 학점 평균은 3.7000000000000006\n",
    "\n",
    "Brown 학생의 학점 평균은 4.0\n",
    "\n",
    "Aoi 학생의 학점 평균은 2.0\n",
    "\n",
    "Bourikas 학생의 학점 평균은 2.257142857142857\n",
    "\n",
    "Tanaka 학생의 학점 평균은 4.0"
   ]
  },
  {
   "cell_type": "code",
   "execution_count": 2,
   "metadata": {
    "colab": {},
    "colab_type": "code",
    "id": "PyFVR8Qqw-RC"
   },
   "outputs": [
    {
     "name": "stdout",
     "output_type": "stream",
     "text": [
      "('Zhang', 3.85)\n",
      "('Shankar', 3.5)\n",
      "('Brandt', 3.0)\n",
      "('Chavez', 2.3)\n",
      "('Peltier', 2.7)\n",
      "('Levy', 2.1)\n",
      "('Williams', 3.5)\n",
      "('Sanchez', 3.7)\n",
      "('Brown', 4.0)\n",
      "('Aoi', 2.0)\n",
      "('Bourikas', 2.35)\n",
      "('Tanaka', 4.0)\n"
     ]
    }
   ],
   "source": [
    "# 학점 평균이란 (학생이 들은 특정 강의의 학점 * 특정 강의의 성적) 을 모두 더한 뒤 학생이 들은 총 학점 수로 나눈 것을 말합니다.\n",
    "\n",
    "import sqlite3\n",
    "import os\n",
    "\n",
    "dbpath = r\"c:\\Apps\\temp\\test1\\problem2.db\"\n",
    "\n",
    "conn = sqlite3.connect(dbpath)\n",
    "cur = conn.cursor()\n",
    "#cur.execute(\"SELECT * FROM takes as t INNER JOIN course as c ON t.course_id = c.course_id INNER JOIN student as s ON t.ID = s.ID\")\n",
    "cur.execute(\"SELECT s.name, AVG(t.grade_point) FROM takes as t INNER JOIN course as c ON t.course_id = c.course_id INNER JOIN student as s ON t.ID = s.ID GROUP BY t.ID\")\n",
    "rows = cur.fetchall()\n",
    "for r in rows:\n",
    "    print(r)\n",
    "conn.close()\n"
   ]
  },
  {
   "cell_type": "markdown",
   "metadata": {
    "colab_type": "text",
    "id": "gWSf4lt0IyIR"
   },
   "source": [
    "# 8. __SQL(2)__ [양지웅]"
   ]
  },
  {
   "cell_type": "markdown",
   "metadata": {
    "colab_type": "text",
    "id": "Al11jRjHI07K"
   },
   "source": [
    "다음 SQL문은 world.db 데이터베이스 파일에서 실행한다고 간주한다.<br>\n",
    "__다음 보기를 참고하여 SQL문을 작성하시오__\n",
    "\n",
    "    City 테이블에서 CountryCode는 국가 코드를 의미하고, 각각의 행은 도시에 관한 정보를 의미한다. \n",
    "    각 국가 코드(CountryCode)별로 몇 개의 도시를 가지고 있는지 국가코드와 도시 개수를 출력하되, \n",
    "    도시 개수가 많은 순으로 출력하는 SQL문을 작성하시오.\n",
    "    \n",
    "    출력 결과는 국가코드, 도시개수 두 열(Column)을 출력한다.\n"
   ]
  },
  {
   "cell_type": "markdown",
   "metadata": {
    "colab_type": "text",
    "id": "QoRSuXplJeOy"
   },
   "source": [
    "정답 제출 예시 (예시 sql문은 문제와 무관합니다) <br>\n",
    "SELECT * FROM My_Table WHERE No_Emp = '0315' AND (Age<25  OR Nm_Kor = '홍길동');"
   ]
  },
  {
   "cell_type": "markdown",
   "metadata": {
    "colab_type": "text",
    "id": "vai0dIchKFun"
   },
   "source": [
    "정답 :  SELECT COUNT(*)\n",
    "        FROM city as ci INNER JOIN country as co ON ci.CountryCode = co.Code\n",
    "        GROUP BY co.Code\n",
    "       "
   ]
  },
  {
   "cell_type": "markdown",
   "metadata": {
    "colab_type": "text",
    "id": "E9I7lhhV_p-L"
   },
   "source": [
    "# 9. __라이브러리 (Numpy)__ [장순용]"
   ]
  },
  {
   "cell_type": "markdown",
   "metadata": {
    "colab_type": "text",
    "id": "PwKz78rS_T_r"
   },
   "source": [
    "다음과 같이 학생 이름과 성적에 자료가 list로 주어져 있습니다.\n",
    "\n",
    "이름과 성적은 같은 순서대로 나열되어 있습니다.\n",
    "\n",
    "student = [\"John\", \"Paul\", \"Sarah\", \"David\", \"Sally\", \"Kathy\", \"Brandon\", \"Norman\", \"Jack\", \"Becky\"]\n",
    "\n",
    "score = [89, 73, 90, 88, 91, 75, 66, 92, 89, 83]\n",
    "\n",
    "__numpy의 함수를 활용하여 성적이 가장 높은 학생의 이름을 출력하시오__"
   ]
  },
  {
   "cell_type": "code",
   "execution_count": 43,
   "metadata": {
    "colab": {},
    "colab_type": "code",
    "id": "XfhraH9lCgq1"
   },
   "outputs": [
    {
     "data": {
      "text/plain": [
       "'Norman'"
      ]
     },
     "execution_count": 43,
     "metadata": {},
     "output_type": "execute_result"
    }
   ],
   "source": [
    "# 반복문(for, whlie)과 조건문(if) 사용하지 마세요.\n",
    "# Numpy 함수를 이용하세요.\n",
    "\n",
    "import numpy as np\n",
    "\n",
    "student = [\"John\", \"Paul\", \"Sarah\", \"David\", \"Sally\", \"Kathy\", \"Brandon\", \"Norman\", \"Jack\", \"Becky\"]\n",
    "score = [89, 73, 90, 88, 91, 75, 66, 92, 89, 83]\n",
    "\n",
    "student = np.array(student)\n",
    "score = np.array(score)\n",
    "\n",
    "sort_index = np.argsort(score)\n",
    "student[sort_index][-1]"
   ]
  },
  {
   "cell_type": "markdown",
   "metadata": {
    "colab_type": "text",
    "id": "Mh20_LxaDBnE"
   },
   "source": [
    "# 10. __라이브러리(Matplotlib, Pandas)__ [장순용]"
   ]
  },
  {
   "cell_type": "markdown",
   "metadata": {
    "colab_type": "text",
    "id": "5o_0klz4C-lX"
   },
   "source": [
    "#### __\"data_iris.csv\"를 데이터프레임으로 읽어오고__\n",
    "\n",
    "#### __\"SepalLength\" 를 가로축 좌표로 하고__ \n",
    "\n",
    "#### __\"PetalLength\"를 세로축 좌표로 하는 산점도를 출력해 주세요.__"
   ]
  },
  {
   "cell_type": "markdown",
   "metadata": {
    "colab_type": "text",
    "id": "5wFQQHCEDBud"
   },
   "source": [
    "1. \"SepalLength\"의 범위는 4~7로 제한해 주세요.\n",
    "2. \"Species\"를 서로 다른 색상으로 구별 지어서 한개의 프레임 안에 출력해 주세요.\n",
    "3. 축의 label, 범례, title은 option.\n",
    "4. 수업시간에 배운 방법을 응용하십시요. <br>\n",
    "<br>\n",
    "HINT: df[\"SepalLength\"]와 같은 방법으로 특정 컬럼을 Series로 가져올 수 있습니다.<br> 범례는 함수의 label인자로 삽입하고. plt.legend(loc=0)로 출력할 수 있습니다."
   ]
  },
  {
   "cell_type": "markdown",
   "metadata": {
    "colab_type": "text",
    "id": "tZ5faNgPKVEb"
   },
   "source": []
  },
  {
   "cell_type": "markdown",
   "metadata": {
    "colab_type": "text",
    "id": "Ku04LSC_Ds-g"
   },
   "source": [
    "채점 기준:\n",
    "- \"SepalLength\"의 범위 제한이 올바르게 적용 되었는가. \n",
    "- \"Species\" 별로 색상 구별이 올바르게 적용 되었는가. \n",
    "-  결과 (산점도)가 올바르게 출력되었는가. "
   ]
  },
  {
   "cell_type": "code",
   "execution_count": 73,
   "metadata": {
    "colab": {},
    "colab_type": "code",
    "id": "yk_noEuCC-AI"
   },
   "outputs": [
    {
     "data": {
      "text/plain": [
       "<matplotlib.legend.Legend at 0x1db0618cbc8>"
      ]
     },
     "execution_count": 73,
     "metadata": {},
     "output_type": "execute_result"
    },
    {
     "data": {
      "image/png": "[encoded data removed]",
      "text/plain": [
       "<Figure size 432x288 with 1 Axes>"
      ]
     },
     "metadata": {
      "needs_background": "light"
     },
     "output_type": "display_data"
    }
   ],
   "source": [
    "import pandas as pd\n",
    "import matplotlib.pyplot as plt\n",
    "\n",
    "\n",
    "#파일 읽어오기\n",
    "drive_path = r\"c:/Apps/temp/test1/\"\n",
    "df = pd.read_csv(drive_path+\"data_iris.csv\", encoding=\"euc-kr\")\n",
    "\n",
    "#\"SepalLength\"의 범위는 4~7로 제한해 주세요.\n",
    "df = df[df[\"SepalLength\"]>=4]\n",
    "df = df[df[\"SepalLength\"]<=7]\n",
    "df = df.reset_index(drop=True)\n",
    "df\n",
    "#\"SepalLength\" 를 가로축 좌표로 하고\n",
    "#\"PetalLength\"를 세로축 좌표로 하는 산점도를 출력해 주세요\n",
    "# plt.plot(df[\"SepalLength\"], df[\"PetalLength\"], \".\")\n",
    "# plt.show()\n",
    "\n",
    "\n",
    "groups = df.groupby(\"Species\")\n",
    "for name, group in groups:\n",
    "    plt.plot(group[\"SepalLength\"], group[\"PetalLength\"], marker=\"o\", linestyle=\"\", label=name)\n",
    "plt.legend()"
   ]
  },
  {
   "cell_type": "markdown",
   "metadata": {
    "colab_type": "text",
    "id": "obGUOEO6LDwU"
   },
   "source": [
    "# 11. __SQL(3)__ [김준태]"
   ]
  },
  {
   "cell_type": "markdown",
   "metadata": {
    "colab_type": "text",
    "id": "LYn7PkIGKYVf"
   },
   "source": [
    "### (*) 주의사항:\n",
    "1. sqlitestudio 는 사용하지 않고, python 코드로만 모든 것을 수행해주세요."
   ]
  },
  {
   "cell_type": "markdown",
   "metadata": {
    "colab_type": "text",
    "id": "TvruXHguKbdU"
   },
   "source": [
    "#### 1). 당신은 현재 제2의 페이스북을 개발하고자 합니다. 파이썬과 Sqlite3 모듈을 이용해서,\n",
    "####      사용자가 글을 쓰면, 이를 'imzuckerberg.db'에다가 저장하고, 사용자의 필요에 따라 글을 읽어오는 코드를 작성하세요.\n",
    "####      - 세부사항\n",
    "####        1) 처음 코드를 실행하면 '당신의 이름을 적어주세요 : ' 를 띄우고 사용자의 이름을 input으로 받습니다.\n",
    "####        2) 이후 '글을 쓰려면 0, 글을 읽으려면 1을 입력해주세요 : ' 를 띄우고 input을 받습니다.\n",
    "####        3) 'imzuckerberg.db'에는 글 제목 / 글 내용 / 글쓴이 총 3개의 어트리뷰트를 가진 feed 라는 테이블을 create 합니다.\n",
    "####        4) 2) 에서 받았던 input을 통해 글을 읽는 함수, 쓰는 함수 중 하나로 분기하고, 글을 쓰는 함수의 경우 사용자로부터 제목, 내용을 입력받도록 하고, 1) 에서 받았던 사용자의 이름과 함께 db에 쿼리문을 통해 기록되도록 합니다.\n",
    "####        5) 글을 읽는 함수로 분기할 경우, '검색할 제목을 입력해주세요 : ' 를 띄우고 input을 받습니다.\n",
    "####        6) 5) 에서 받은 input을 이용해 db에 쿼리문을 수행하여, 해당 input에 쓰여진 문자열이 제목에 포함되어 있는 글을 전부 리스팅합니다. (제목, 내용, 작성자 모두)\n",
    "####        7) 어떤 인풋이든 사용자가 올바르지 않은 입력 혹은 공백을 입력할 경우 무조건 다시 인풋을 받도록 해야합니다."
   ]
  },
  {
   "cell_type": "code",
   "execution_count": 3,
   "metadata": {
    "colab": {},
    "colab_type": "code",
    "id": "Xzhha8IdKY4q"
   },
   "outputs": [
    {
     "ename": "SyntaxError",
     "evalue": "invalid syntax (<ipython-input-3-66a8deeaf3b9>, line 70)",
     "output_type": "error",
     "traceback": [
      "\u001b[1;36m  File \u001b[1;32m\"<ipython-input-3-66a8deeaf3b9>\"\u001b[1;36m, line \u001b[1;32m70\u001b[0m\n\u001b[1;33m    name = namecheck().\u001b[0m\n\u001b[1;37m                       ^\u001b[0m\n\u001b[1;31mSyntaxError\u001b[0m\u001b[1;31m:\u001b[0m invalid syntax\n"
     ]
    }
   ],
   "source": [
    "\n",
    "import sqlite3\n",
    "\n",
    "def namecheck():\n",
    "    #여기서 사용자 이름을 받아주세요\n",
    "    name = input('당신의 이름을 적어주세요 :')\n",
    "    return name\n",
    "\n",
    "def readcheck():\n",
    "    #여기서 글을 쓰려면 0, 읽으려면 1이라는 인풋값을 받아주세요\n",
    "    selection = int(input(\"글을 쓰려면 0, 글을 읽으려면 1을 입력해주세요 : \"))\n",
    "    return selection\n",
    "\n",
    "def user_input():\n",
    "    #사용자가 글을 쓴다고 말한다면 인풋으로 제목과 내용을 받아주세요\n",
    "    title = input('제목을 입력하세요')\n",
    "    content = input('내용을 입력하세요')\n",
    "    return title, content\n",
    "\n",
    "def user_search():\n",
    "    #사용자가 글을 읽는다고 말한다면 인풋으로 검색할 제목을 받아주세요\n",
    "    search_title = input(\"검색할 제목을 입력해주세요\")\n",
    "    return search_title\n",
    "\n",
    "def write(title, content, username, cursor):\n",
    "        title, content, username, cur = title, content, username, cursor\n",
    "        sql = '''INSERT INTO feed\n",
    "                   VALUES (?,?,?)'''\n",
    "        cur.execute(sql, (username, title, content))\n",
    "        conn.commit()\n",
    "    #user_input으로 부터 받은 내용과 namecheck으로부터 받은 내용을 함께 쿼리문으로 db에 insert해주세요\n",
    "\n",
    "def read(title, cursor):\n",
    "    #user_search로 받은 내용을 통해 해당 내용을 제목에 포함하는 글이 있으면 제목, 내용, 작성자를 모두 표시해주세요\n",
    "    cur = cursor\n",
    "    search_title = title\n",
    "    sql = '''\n",
    "            SELECT *\n",
    "            FROM feed\n",
    "            WHERE title = ?\n",
    "        '''\n",
    "    cur.execute(sql, search_title)\n",
    "    rows = cur.fetchall()\n",
    "\n",
    "    for r in rows:\n",
    "        print(r)\n",
    "    \n",
    "    \n",
    "def start():\n",
    "    print(\"\\n나만의 페이스북!\")\n",
    "\n",
    "    username = namecheck()\n",
    "    read_check = readcheck()\n",
    "\n",
    "    #db에 연결하고 커서 객체를 만들어주세요\n",
    "    dbpath = r\"c:\\Apps\\temp\\test1\\imzuckerberg.db\"\n",
    "    conn = sqlite3.connect(dbpath)\n",
    "    cur = conn.cursor()\n",
    "    \n",
    "    #여기에서 table을 만들어주세요\n",
    "    sql = '''\n",
    "        DROP TABLE IF EXISTS feed;\n",
    "        CREATE TABLE feed (title varchar(100), content TEXT, author varchar(50));\n",
    "      '''\n",
    "    cur.executescript(sql)\n",
    "    conn.commit()\n",
    "    \n",
    "    \n",
    "    if read_check == 0:\n",
    "        #user_input 함수로 인풋을 받고, write 함수를 이용해 쿼리를 수행해주세요\n",
    "        name = namecheck()\n",
    "        title, content = user_input()\n",
    "        sql = '''INSERT INTO feed\n",
    "                   VALUES (?,?,?)'''\n",
    "        cur.execute(sql, (name, title, content))\n",
    "        #쿼리를 수행하신 뒤에는 db에 커밋을 해주세요.\n",
    "        conn.commit()\n",
    "    elif read_check == 1:\n",
    "        #user_search 함수로 인풋을 받고, read 함수를 이용해 쿼리를 수행해주세요.\n",
    "        search_title = user_search()\n",
    "        read(search_title, cur)\n",
    "        \n",
    "    else:\n",
    "        print(\"올바른 숫자를 입력하세요!\")\n",
    "        start()\n",
    "\n",
    "    #db와의 연결을 닫아주세요.\n",
    "    conn.close()\n",
    "start()"
   ]
  },
  {
   "cell_type": "code",
   "execution_count": null,
   "metadata": {},
   "outputs": [],
   "source": []
  }
 ],
 "metadata": {
  "colab": {
   "collapsed_sections": [],
   "name": "공통 시험 문제.ipynb",
   "provenance": []
  },
  "kernelspec": {
   "display_name": "Python 3",
   "language": "python",
   "name": "python3"
  },
  "language_info": {
   "codemirror_mode": {
    "name": "ipython",
    "version": 3
   },
   "file_extension": ".py",
   "mimetype": "text/x-python",
   "name": "python",
   "nbconvert_exporter": "python",
   "pygments_lexer": "ipython3",
   "version": "3.7.6"
  }
 },
 "nbformat": 4,
 "nbformat_minor": 1
}
