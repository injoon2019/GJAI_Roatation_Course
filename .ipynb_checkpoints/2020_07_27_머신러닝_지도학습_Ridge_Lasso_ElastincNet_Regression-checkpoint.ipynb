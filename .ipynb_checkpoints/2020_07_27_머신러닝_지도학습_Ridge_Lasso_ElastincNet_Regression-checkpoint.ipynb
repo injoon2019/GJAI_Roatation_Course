{
 "cells": [
  {
   "cell_type": "code",
   "execution_count": 1,
   "metadata": {
    "colab": {},
    "colab_type": "code",
    "id": "m_B-TcuF2G5X",
    "slideshow": {
     "slide_type": "skip"
    }
   },
   "outputs": [
    {
     "data": {
      "text/plain": [
       "'0.22.1'"
      ]
     },
     "execution_count": 1,
     "metadata": {},
     "output_type": "execute_result"
    }
   ],
   "source": [
    "# !pip install mglearn\n",
    "import mglearn\n",
    "import sklearn\n",
    "sklearn.__version__"
   ]
  },
  {
   "cell_type": "markdown",
   "metadata": {
    "colab_type": "text",
    "id": "gTZHDr3OogcO",
    "slideshow": {
     "slide_type": "slide"
    }
   },
   "source": [
    "# 지도학습 - 규제선형모델 (Ridge_Lasso_Regression)\n"
   ]
  },
  {
   "cell_type": "markdown",
   "metadata": {
    "colab_type": "text",
    "id": "GeEb2zESkWkI",
    "slideshow": {
     "slide_type": "slide"
    }
   },
   "source": [
    "Linear Regression의 문제\n",
    "\n",
    "- 단순 선형회귀 : 단 하나의 특성(feature)을 가지고 라벨값(label) 또는 타깃(target)을 예측하기 위한\n",
    "회귀 모델을 찾는 것\n",
    "- 다중 선형회귀 : 여러 개의 특성을 활용해서 회귀모델을 찾는 것\n",
    "\n",
    "\n"
   ]
  },
  {
   "cell_type": "markdown",
   "metadata": {
    "colab_type": "text",
    "id": "naenDMKWko1w",
    "slideshow": {
     "slide_type": "slide"
    }
   },
   "source": [
    "다중 선형 회귀 모델은 과대적합(overfitting) 될 때가 종종 발생\n",
    "\n",
    "주어진 샘플들의 특성값들과 라벨값의 관계를 필요이상으로 너무 자세하게 복잡하게 분석했다는 것\n",
    "- 새로운 데이터가 주어졌을 때 제대로 예측해내기가 어려움 (일반화 능력이 떨어짐)\n",
    "- Ridge / Lasso / Elastic Regression 등장"
   ]
  },
  {
   "cell_type": "markdown",
   "metadata": {
    "colab_type": "text",
    "id": "ZxqInZoR3GeR",
    "slideshow": {
     "slide_type": "slide"
    }
   },
   "source": [
    "Bias(편향) 오차와 Variance(분산) 오차\n",
    "\n",
    "특성이 증가하면 복잡성이 증가 -> variance는 증가, bias는 감소 -> Overfitting 발생\n",
    "\n",
    "- bias 감소가 variance의 증가와 같아지는 최적의 point를 찾아야 함\n",
    "- Overfitting 문제 해결 : 데이터의 복잡도 줄이기, 정규화를 통한 분산 감소\n",
    "\n",
    "\n",
    "학습을 시킬수록 (=모델 복잡도가 올라갈 수록) Bias(편향)은 줄어드나(↓)  Variance(분산)는 올라간다(↑)\n",
    "\n",
    "학습이 덜될수록 (=모델 복잡도가 낮을수록) Bias(편향)은 올라가나(↑) Variance(분산)는 내려간다(↓)"
   ]
  },
  {
   "cell_type": "markdown",
   "metadata": {
    "colab_type": "text",
    "id": "lW0YyHhd-MAx",
    "slideshow": {
     "slide_type": "slide"
    }
   },
   "source": [
    "\n",
    "|구분| 모델 복잡도| 적합성|\n",
    "|---|---|---|\n",
    "|Bias 오차가 낮은 & Variance 오차가 높은|복잡| 과대적합(over fitting)|\n",
    " |Bias 오차가 높은 Variance 오차가 낮은| 단순| 과소적합(under fitting)|\n",
    "\n",
    "* Bias(편향) 에러가 높아지는 것은  많은 데이터를 고려하지 않아 (=모델이 너무 단순)  정확한 예측을 하지 못하는 경우\n",
    "\n",
    "* Variance(분산) 에러는 노이즈까지 전부 학습하여 (=모델이 너무 복잡) 약간의 input에도 예측 Y 값이 크게 흔들리는 것\n",
    "\n",
    "이 두가지 에러가 상호 Trade-off 관계에 있어서 이 둘을 모두 잡는 것은 불가능 한 딜레마가 발생"
   ]
  },
  {
   "cell_type": "markdown",
   "metadata": {
    "colab_type": "text",
    "id": "XggniyAHpb9n",
    "slideshow": {
     "slide_type": "slide"
    }
   },
   "source": [
    "정규화(Regularization, 규제)\n",
    "\n",
    "- 과대적합이 되지 않도록 모델을 강제로 제한하는 것을 의미.\n",
    "- 가중치(w)의 값을 조정하여 제약을 주는 것.\n",
    "\n",
    "- L1 규제 : Lasso\n",
    "  - <font  color=red>w의 모든 원소에 똑같은 힘으로 규제를 적용하는 방법. 특정 계수들은 0이 됨.      \n",
    "  - 특성선택(Feature Selection)이 자동으로 이루어진다.</font>\n",
    "\n",
    "- L2 규제 : Ridge\n",
    "  - <font  color=red>w의 모든 원소에 골고루 규제를 적용하여 0에 가깝게 만든다.</font>\n"
   ]
  },
  {
   "cell_type": "markdown",
   "metadata": {
    "colab_type": "text",
    "id": "zHeJUocP-DZR",
    "slideshow": {
     "slide_type": "slide"
    }
   },
   "source": [
    "## Ridge Regression"
   ]
  },
  {
   "cell_type": "markdown",
   "metadata": {
    "colab_type": "text",
    "id": "xm-rHLfBFiuz",
    "slideshow": {
     "slide_type": "slide"
    }
   },
   "source": [
    "평균제곱오차식에 alpha 항이 추가\n",
    "- alpha 값을 크게 하면 패널티 효과가 커지고(가중치 감소),\n",
    "- alpha 값을 작게 하면 그 반대가 된다."
   ]
  },
  {
   "cell_type": "markdown",
   "metadata": {
    "colab_type": "text",
    "id": "OC0QA0yjmhrT",
    "slideshow": {
     "slide_type": "slide"
    }
   },
   "source": [
    "- 기존 선형회귀에서는 적절한 가중치와 편향을 찾아내는 것이 관건\n",
    "- 추가적인 제약 조건(규제항)을 포함 -> 가중치에 대한 제곱의 합을 사용\n",
    "- <font  color=blue>MSE가 최소가 되게 하는 가중치(w)와 편향(b)을 찾는</font> 동시에 <font  color=red> MSE와 규제항의 합이 최소</font>가 되어야 함 -> 가중치 W의 모든 원소가 0이 되거나 0에 근사하도록 -> <font  color=blue>학습한 가중치 (W)의 제곱을 규제항 (L2 규제)</font>으로 사용\n",
    "\n",
    "> \\\\( cost(W,b)\\\\ =MSE+규제항\\\\ =MSE+\\alpha \\cdot { L }_{ 2 }norm\\\\ =\\cfrac { 1 }{ m } \\sum _{ i=1 }^{ m }{ (H({ x }^{ (i) })-{ y }^{ (i) }) } ^{ 2 }+\\alpha \\sum _{ j=1 }^{ n }{ { w }_{ j }^{ 2 } } \\\\ (n : 가중치의 개수, α : 규제의 정도) \\\\)\n",
    "\n",
    "> MSE에 의한 Overfitting을 줄이기 위해 α를 크게 함 -> 정확도 감소 -> α가 너무 크면 MSE의 비중이 작아져서 과소적합 가능성 증가\n",
    "\n",
    "- α가 증가하면 Bias(편향)는 증가하고 Variance(분산)는 감소하며 α가 0이 되면 MSE와 동일하게 되어 선형 회귀모델이 됨 -> Ridge 모델은 <font  color=blue>bias을 약간 손해보면서 Variance를 크게 줄여</font> 성능의 향상\n",
    "- 단점 : <font  color=blue>몇몇 변수가 중요하더라도 모든 변수에 대해 적합 해야 하고 완벽한 0은 나오지 않음</font> -> 예측의 문제가 아니라 해석의 문제"
   ]
  },
  {
   "cell_type": "markdown",
   "metadata": {
    "colab_type": "text",
    "id": "eSxLnLuiIMTI",
    "slideshow": {
     "slide_type": "slide"
    }
   },
   "source": [
    "Ridge()\n",
    "```\n",
    "Ridge(alpha, fit_intercept, normalize, copy_X, max_iter, tol, solver, random_state)\n",
    "```\n",
    "\n",
    "- alpha : 값이 클수록 강력한 정규화(규제) 설정하여 분산을 줄임, 양수로 설정\n",
    "- fit_intercept : 모형에 상수항 (절편)이 있는가 없는가를 결정하는 인수 (default : True)\n",
    "- normalize : 매개변수 무시 여부\n",
    "- copy_X : X의 복사 여부\n",
    "- max_iter : 계산에 사용할 작업 수\n",
    "- tol : 정밀도\n",
    "- solver : 계산에 사용할 알고리즘 (auto, svd, cholesky, lsqr, sparse_cg, sag, saga)\n",
    "- random_state : 난수 seed 설정\n"
   ]
  },
  {
   "cell_type": "markdown",
   "metadata": {
    "colab_type": "text",
    "id": "B750N3Vajl4k",
    "slideshow": {
     "slide_type": "slide"
    }
   },
   "source": [
    "#### Ridge_Lasso_Regression 실습 01\n",
    "\n",
    "확장 보스턴 집값 셋에 선형회귀 적용"
   ]
  },
  {
   "cell_type": "code",
   "execution_count": 2,
   "metadata": {
    "colab": {},
    "colab_type": "code",
    "id": "WNWaeRb-O3yY",
    "slideshow": {
     "slide_type": "slide"
    }
   },
   "outputs": [],
   "source": [
    "import numpy as np\n",
    "import matplotlib.pyplot as plt\n",
    "from sklearn.linear_model import LinearRegression, Ridge, Lasso, ElasticNet\n",
    "%matplotlib inline"
   ]
  },
  {
   "cell_type": "code",
   "execution_count": 3,
   "metadata": {
    "colab": {},
    "colab_type": "code",
    "id": "XZHI09W-jlXi",
    "slideshow": {
     "slide_type": "slide"
    }
   },
   "outputs": [],
   "source": [
    "# 확장 보스턴 집값\n",
    "from sklearn.model_selection import train_test_split\n",
    "import mglearn\n",
    "\n",
    "X, y = mglearn.datasets.load_extended_boston()\n",
    "X_train, X_test, y_train, y_test = train_test_split(X, y, random_state=0)\n",
    "mode_lr = LinearRegression().fit(X_train, y_train)"
   ]
  },
  {
   "cell_type": "code",
   "execution_count": 4,
   "metadata": {
    "colab": {
     "base_uri": "https://localhost:8080/",
     "height": 35
    },
    "colab_type": "code",
    "executionInfo": {
     "elapsed": 614,
     "status": "ok",
     "timestamp": 1595422475820,
     "user": {
      "displayName": "oz To",
      "photoUrl": "",
      "userId": "12937505880450462933"
     },
     "user_tz": -540
    },
    "id": "ryLkC1Vojyz-",
    "outputId": "16517f58-c9b3-41c1-becc-44ff2347519d",
    "slideshow": {
     "slide_type": "slide"
    }
   },
   "outputs": [
    {
     "data": {
      "text/plain": [
       "0.9520519609032729"
      ]
     },
     "execution_count": 4,
     "metadata": {},
     "output_type": "execute_result"
    }
   ],
   "source": [
    "# 훈련 세트 점수\n",
    "mode_lr.score(X_train, y_train)"
   ]
  },
  {
   "cell_type": "code",
   "execution_count": 5,
   "metadata": {
    "colab": {
     "base_uri": "https://localhost:8080/",
     "height": 35
    },
    "colab_type": "code",
    "executionInfo": {
     "elapsed": 449,
     "status": "ok",
     "timestamp": 1595422476068,
     "user": {
      "displayName": "oz To",
      "photoUrl": "",
      "userId": "12937505880450462933"
     },
     "user_tz": -540
    },
    "id": "Dok3l3PYjvO6",
    "outputId": "419c6f44-fb18-4205-d31a-007ac1f41bab",
    "slideshow": {
     "slide_type": "slide"
    }
   },
   "outputs": [
    {
     "data": {
      "text/plain": [
       "0.607472195966585"
      ]
     },
     "execution_count": 5,
     "metadata": {},
     "output_type": "execute_result"
    }
   ],
   "source": [
    "# 테스트 세트 점수\n",
    "mode_lr.score(X_test, y_test)"
   ]
  },
  {
   "cell_type": "markdown",
   "metadata": {
    "colab_type": "text",
    "id": "jgo3UgzhlDJs",
    "slideshow": {
     "slide_type": "slide"
    }
   },
   "source": [
    "- 훈련 셋에 비해 테스트 셋의 경우 정확도가 많이 떨어짐 -> 과대적합"
   ]
  },
  {
   "cell_type": "markdown",
   "metadata": {
    "colab_type": "text",
    "id": "aiDpGVLn1GOX",
    "slideshow": {
     "slide_type": "slide"
    }
   },
   "source": [
    "확장 보스턴 집값 셋에 릿지회귀 적용"
   ]
  },
  {
   "cell_type": "code",
   "execution_count": 6,
   "metadata": {
    "colab": {
     "base_uri": "https://localhost:8080/",
     "height": 52
    },
    "colab_type": "code",
    "executionInfo": {
     "elapsed": 670,
     "status": "ok",
     "timestamp": 1595422296120,
     "user": {
      "displayName": "oz To",
      "photoUrl": "",
      "userId": "12937505880450462933"
     },
     "user_tz": -540
    },
    "id": "6_tFVO-Bk65j",
    "outputId": "7aaacc78-2f96-43f8-f6a4-1bc11eb9582c",
    "slideshow": {
     "slide_type": "slide"
    }
   },
   "outputs": [
    {
     "name": "stdout",
     "output_type": "stream",
     "text": [
      "훈련 세트 점수: 0.89\n",
      "테스트 세트 점수: 0.75\n"
     ]
    }
   ],
   "source": [
    "# model_ridge\n",
    "model_ridge = Ridge().fit(X_train, y_train)\n",
    "\n",
    "print(\"훈련 세트 점수: {:.2f}\".format(model_ridge.score(X_train, y_train)))\n",
    "print(\"테스트 세트 점수: {:.2f}\".format(model_ridge.score(X_test, y_test)))"
   ]
  },
  {
   "cell_type": "code",
   "execution_count": 7,
   "metadata": {
    "colab": {
     "base_uri": "https://localhost:8080/",
     "height": 52
    },
    "colab_type": "code",
    "executionInfo": {
     "elapsed": 715,
     "status": "ok",
     "timestamp": 1595422373671,
     "user": {
      "displayName": "oz To",
      "photoUrl": "",
      "userId": "12937505880450462933"
     },
     "user_tz": -540
    },
    "id": "_rbTBK10lJTj",
    "outputId": "2a4768b2-70d4-46d1-deff-0d2a70178cbd",
    "slideshow": {
     "slide_type": "slide"
    }
   },
   "outputs": [
    {
     "name": "stdout",
     "output_type": "stream",
     "text": [
      "훈련 세트 점수: 0.79\n",
      "테스트 세트 점수: 0.64\n"
     ]
    }
   ],
   "source": [
    "# model_ridge_alpha_10\n",
    "model_ridge_alpha_10 = Ridge(alpha=10).fit(X_train, y_train)\n",
    "\n",
    "print(\"훈련 세트 점수: {:.2f}\".format(model_ridge_alpha_10.score(X_train, y_train)))\n",
    "print(\"테스트 세트 점수: {:.2f}\".format(model_ridge_alpha_10.score(X_test, y_test)))"
   ]
  },
  {
   "cell_type": "code",
   "execution_count": 8,
   "metadata": {
    "colab": {
     "base_uri": "https://localhost:8080/",
     "height": 52
    },
    "colab_type": "code",
    "executionInfo": {
     "elapsed": 411,
     "status": "ok",
     "timestamp": 1595422373905,
     "user": {
      "displayName": "oz To",
      "photoUrl": "",
      "userId": "12937505880450462933"
     },
     "user_tz": -540
    },
    "id": "c2P_hwP1j0Ok",
    "outputId": "f0438b61-31e3-44e5-a3ec-5ba9b6626875",
    "slideshow": {
     "slide_type": "slide"
    }
   },
   "outputs": [
    {
     "name": "stdout",
     "output_type": "stream",
     "text": [
      "훈련 세트 점수: 0.93\n",
      "테스트 세트 점수: 0.77\n"
     ]
    }
   ],
   "source": [
    "# model_ridge_alpha_01\n",
    "model_ridge_alpha_01 = Ridge(alpha=0.1).fit(X_train, y_train)\n",
    "\n",
    "print(\"훈련 세트 점수: {:.2f}\".format(model_ridge_alpha_01.score(X_train, y_train)))\n",
    "print(\"테스트 세트 점수: {:.2f}\".format(model_ridge_alpha_01.score(X_test, y_test)))"
   ]
  },
  {
   "cell_type": "code",
   "execution_count": 9,
   "metadata": {
    "colab": {
     "base_uri": "https://localhost:8080/",
     "height": 297
    },
    "colab_type": "code",
    "executionInfo": {
     "elapsed": 1003,
     "status": "ok",
     "timestamp": 1595422595010,
     "user": {
      "displayName": "oz To",
      "photoUrl": "",
      "userId": "12937505880450462933"
     },
     "user_tz": -540
    },
    "id": "BuPdim3e1Ij5",
    "outputId": "e4a04c7d-f8db-41e4-c106-8eca70b3902e",
    "slideshow": {
     "slide_type": "slide"
    }
   },
   "outputs": [
    {
     "data": {
      "text/plain": [
       "<matplotlib.legend.Legend at 0x22cbe726908>"
      ]
     },
     "execution_count": 9,
     "metadata": {},
     "output_type": "execute_result"
    },
    {
     "data": {
      "image/png": "[encoded data removed]",
      "text/plain": [
       "<Figure size 432x288 with 1 Axes>"
      ]
     },
     "metadata": {
      "needs_background": "light"
     },
     "output_type": "display_data"
    }
   ],
   "source": [
    "# α 값의 변화에 따른 가중치 (coef_)의 변화\n",
    "plt.plot(model_ridge_alpha_01.coef_, '^', label='Ridge alpha=0.1')\n",
    "plt.plot(model_ridge_alpha_10.coef_, 'v', label='Ridge alpha=10')\n",
    "plt.plot(model_ridge.coef_, 's', label='Ridge alpha=1')\n",
    "plt.plot(mode_lr.coef_, 'o', label='LinearRegression')\n",
    "\n",
    "plt.hlines(0, 0, len(mode_lr.coef_))\n",
    "\n",
    "plt.xlabel(\"Coef list\") # 가중치(w) 목록\n",
    "plt.ylabel(\"Coef size\") # 가중치(w) 값\n",
    "\n",
    "plt.ylim(-25, 25)\n",
    "plt.legend()"
   ]
  },
  {
   "cell_type": "markdown",
   "metadata": {
    "colab_type": "text",
    "id": "5b_4GUNhmsTI",
    "slideshow": {
     "slide_type": "slide"
    }
   },
   "source": [
    "- x 축은 coef_의 원소를 위치대로 나열한 것 (x=0은 첫 번째 특성에 연관된 계수이고 x=1은 두 번째 특성에 연관된 계수로 x=100까지 계속)\n",
    "- y 축은 각 계수의 수치\n",
    "\n",
    "- alpha=10일 때 대부분의 계수는 -3과 3 사이에 위치\n",
    "- alpha=1일 때 Ridge 모델의 계수는 좀 더 증가\n",
    "- alpha=0.1일 때 계수는 더 커지며 아무런 규제가 없는(alpha=0) 선형 회귀의 계수는 값이 더 커져 그림 밖으로 넘어감."
   ]
  },
  {
   "cell_type": "markdown",
   "metadata": {
    "colab_type": "text",
    "id": "VMETHZ_bm9dv",
    "slideshow": {
     "slide_type": "slide"
    }
   },
   "source": [
    "## Lasso Regression"
   ]
  },
  {
   "cell_type": "markdown",
   "metadata": {
    "colab_type": "text",
    "id": "q7W0ttDOJhLJ",
    "slideshow": {
     "slide_type": "slide"
    }
   },
   "source": [
    "- 릿지 회귀의 단점을 해결하기 위해 대안으로 나온 방법\n",
    "학습한 가중치의 절대값을 규제항(L1 규제)으로 사용 – 가중치의 절대값의 합을 사용\n",
    "- 학습한 가중치의 절대값을 규제항(L1 규제)으로 사용 – 가중치의 절대값의 합을 사용\n",
    "\n",
    "> \\\\(  \\begin{align} \n",
    "cost(W,b)   \\\\ \n",
    "& =MSE+규제항 \\\\  \n",
    "& =MSE+\\alpha \\cdot { L }_{ 1 }norm \\\\  \n",
    "& =\\cfrac { 1 }{ m } \\sum _{ i=1 }^{ m }{ (H({ x }^{ (i) })-{ y }^{ (i) }) } ^{ 2 }+\\alpha \\sum _{ j=1 }^{ n }{ \\left| { w }_{ j } \\right|  }  \\\\\n",
    "& (n:가중치의개수,α:규제의정도)  \\end{align} \\\\)\n",
    "\n",
    "\n",
    "- 적당한 α만으로 몇몇 계수를 정확하게 0으로 만들 수 있음 -> 해석을 용이하게 함\n",
    "- MSE와 규제항의 합이 최소가 되게 하는 파라미터 W와 b를 찾는 것이 Lasso의 목표\n",
    "- MSE항이 작아질 수록 오차가 작아지고, L1-norm이 작아질 수록 많은 가중치들이 0이 되거나 0에 가까워짐 -> 데이터 전 처리에 주로 사용 (필요 없는 데이터 제거)\n",
    "- Ridge와 Lasso의 성능 차이는 사용하는 데이터의 상황에 따라 다름 -> 유의미한 변수가 적을 때는 Lasso가 반대의 경우는 Ridge가 더 좋은 성능을 보임."
   ]
  },
  {
   "cell_type": "markdown",
   "metadata": {
    "colab_type": "text",
    "id": "x60tFa_hIwF3",
    "slideshow": {
     "slide_type": "slide"
    }
   },
   "source": [
    "Lasso()\n",
    "```\n",
    "Lasso(alpha, fit_intercept, normalize, precompute, copy_X, max_iter, tol, warm_start, positive, solver, random_state, selection)\n",
    "```\n",
    "- alpha : 값이 클수록 강력한 정규화(규제) 설정하여 분산을 줄임, 양수로 설정\n",
    "- fit_intercept : 모형에 상수항 (절편)이 있는가 없는가를 결정하는 인수 (default : True)\n",
    "- normalize : 매개변수 무시 여부\n",
    "- precompute : 계산속도를 높이기 위해 미리 계산된 그램 매트릭스를 사용할 것인지 여부\n",
    "- copy_X : X의 복사 여부\n",
    "- max_iter : 계산에 사용할 작업 수\n",
    "- tol : 정밀도\n",
    "- warm_start : 이전 모델을 초기화로 적합하게 사용할 것인지 여부\n",
    "- positive : 계수가 양수로 사용할 것인지 여부\n",
    "- solver : 계산에 사용할 알고리즘 (auto, svd, cholesky, lsqr, sparse_cg, sag, saga)\n",
    "- random_state : 난수 seed 설정\n",
    "- selection : 계수의 업데이트 방법 설정 (random으로 설정하면 tol이 1e-4보다 높을 때 빠른 수렴)"
   ]
  },
  {
   "cell_type": "code",
   "execution_count": 10,
   "metadata": {
    "colab": {
     "base_uri": "https://localhost:8080/",
     "height": 70
    },
    "colab_type": "code",
    "executionInfo": {
     "elapsed": 725,
     "status": "ok",
     "timestamp": 1595423129273,
     "user": {
      "displayName": "oz To",
      "photoUrl": "",
      "userId": "12937505880450462933"
     },
     "user_tz": -540
    },
    "id": "5UKOcWuwnpO9",
    "outputId": "be468277-448b-49f8-cc92-9905e282ccaa",
    "slideshow": {
     "slide_type": "slide"
    }
   },
   "outputs": [
    {
     "name": "stdout",
     "output_type": "stream",
     "text": [
      "훈련 세트 점수: 0.29\n",
      "테스트 세트 점수: 0.21\n",
      "사용한 특성의 수: 4\n"
     ]
    }
   ],
   "source": [
    "from sklearn.linear_model import Lasso\n",
    "\n",
    "# lasso\n",
    "model_lasso = Lasso().fit(X_train, y_train)\n",
    "\n",
    "print(\"훈련 세트 점수: {:.2f}\".format(model_lasso.score(X_train, y_train)))\n",
    "print(\"테스트 세트 점수: {:.2f}\".format(model_lasso.score(X_test, y_test)))\n",
    "print(\"사용한 특성의 수: {}\".format(   np.sum( model_lasso.coef_ != 0 )   ))"
   ]
  },
  {
   "cell_type": "code",
   "execution_count": 11,
   "metadata": {
    "colab": {
     "base_uri": "https://localhost:8080/",
     "height": 70
    },
    "colab_type": "code",
    "executionInfo": {
     "elapsed": 459,
     "status": "ok",
     "timestamp": 1595423129276,
     "user": {
      "displayName": "oz To",
      "photoUrl": "",
      "userId": "12937505880450462933"
     },
     "user_tz": -540
    },
    "id": "NLvanwS8nsar",
    "outputId": "2b88de80-8b81-4045-f9f7-4ebfb712096b",
    "slideshow": {
     "slide_type": "slide"
    }
   },
   "outputs": [
    {
     "name": "stdout",
     "output_type": "stream",
     "text": [
      "훈련 세트 점수: 0.90\n",
      "테스트 세트 점수: 0.77\n",
      "사용한 특성의 수: 33\n"
     ]
    }
   ],
   "source": [
    "# \"max_iter\" 기본값을 증가시키지 않으면 max_iter 값을 늘리라는 경고가 발생합니다.\n",
    "# lasso001\n",
    "model_lasso001 = Lasso(alpha=0.01, max_iter=10000).fit(X_train, y_train)\n",
    "\n",
    "print(\"훈련 세트 점수: {:.2f}\".format(model_lasso001.score(X_train, y_train)))\n",
    "print(\"테스트 세트 점수: {:.2f}\".format(model_lasso001.score(X_test, y_test)))\n",
    "print(\"사용한 특성의 수: {}\".format(   np.sum( model_lasso001.coef_ != 0 )   ))"
   ]
  },
  {
   "cell_type": "code",
   "execution_count": 12,
   "metadata": {
    "colab": {
     "base_uri": "https://localhost:8080/",
     "height": 70
    },
    "colab_type": "code",
    "executionInfo": {
     "elapsed": 2830,
     "status": "ok",
     "timestamp": 1595423131929,
     "user": {
      "displayName": "oz To",
      "photoUrl": "",
      "userId": "12937505880450462933"
     },
     "user_tz": -540
    },
    "id": "DCinK1qdnuX4",
    "outputId": "481c7790-a374-4023-ff31-03cce6e0f571",
    "slideshow": {
     "slide_type": "slide"
    }
   },
   "outputs": [
    {
     "name": "stdout",
     "output_type": "stream",
     "text": [
      "훈련 세트 점수: 0.95\n",
      "테스트 세트 점수: 0.64\n",
      "사용한 특성의 수: 96\n"
     ]
    }
   ],
   "source": [
    "# lasso00001\n",
    "model_lasso00001 = Lasso(alpha=0.0001, max_iter=100000).fit(X_train, y_train)\n",
    "\n",
    "print(\"훈련 세트 점수: {:.2f}\".format(model_lasso00001.score(X_train, y_train)))\n",
    "print(\"테스트 세트 점수: {:.2f}\".format(model_lasso00001.score(X_test, y_test)))\n",
    "print(\"사용한 특성의 수: {}\".format(   np.sum( model_lasso00001.coef_ != 0 )   ))"
   ]
  },
  {
   "cell_type": "code",
   "execution_count": 13,
   "metadata": {
    "colab": {
     "base_uri": "https://localhost:8080/",
     "height": 341
    },
    "colab_type": "code",
    "executionInfo": {
     "elapsed": 1244,
     "status": "ok",
     "timestamp": 1595423133190,
     "user": {
      "displayName": "oz To",
      "photoUrl": "",
      "userId": "12937505880450462933"
     },
     "user_tz": -540
    },
    "id": "wKIA7aP3nKhl",
    "outputId": "35315a72-bf02-4772-bfb0-3736dbe12505",
    "slideshow": {
     "slide_type": "slide"
    }
   },
   "outputs": [
    {
     "data": {
      "text/plain": [
       "<matplotlib.legend.Legend at 0x22cbe812f48>"
      ]
     },
     "execution_count": 13,
     "metadata": {},
     "output_type": "execute_result"
    },
    {
     "data": {
      "image/png": "[encoded data removed]",
      "text/plain": [
       "<Figure size 432x288 with 1 Axes>"
      ]
     },
     "metadata": {
      "needs_background": "light"
     },
     "output_type": "display_data"
    }
   ],
   "source": [
    "# α 값의 변화에 따른 가중치 (coef_)의 변화\n",
    "plt.plot(model_lasso00001.coef_, '^', label='Lasso alpha=0.0001')\n",
    "plt.plot(model_lasso001.coef_, 'v', label='Lasso alpha=0.01')\n",
    "plt.plot(model_lasso.coef_, 's', label='Lasso alpha=1')\n",
    "plt.plot(mode_lr.coef_, 'o', label='LinearRegression')\n",
    "\n",
    "plt.hlines(0, 0, len(mode_lr.coef_))\n",
    "\n",
    "plt.xlabel(\"Coef list\") # 가중치(w) 목록\n",
    "plt.ylabel(\"Coef size\") # 가중치(w) 값\n",
    "\n",
    "plt.ylim(-25, 25)\n",
    "plt.legend(ncol=2, loc=(0, 1.05))"
   ]
  },
  {
   "cell_type": "markdown",
   "metadata": {
    "colab_type": "text",
    "id": "baAgXBxpnO3X",
    "slideshow": {
     "slide_type": "slide"
    }
   },
   "source": [
    "- alpha=1일 때 가중치가 대부분 0\n",
    "- alpha=0.01이면 0이 되는 특성이 약간 감소\n",
    "- alpha=0.0001이면 규제가 약해져서 값도 커짐\n",
    "\n",
    "- alpha=0.1인 리지 회귀는 alpha=0.01인 라쏘 회귀와 성능이 비슷하지만 리지 회귀를 사용하면 어떤 계수도 0이 되지 않음.\n",
    "\n",
    "- 보통 리지 회귀를 주로 사용하지만 특성이 많고 그 중 일부분만 사용하고자 한다면 라쏘가 좋은 선택"
   ]
  },
  {
   "cell_type": "markdown",
   "metadata": {
    "colab_type": "text",
    "id": "nX0vWJyMzyHw",
    "slideshow": {
     "slide_type": "slide"
    }
   },
   "source": [
    "## ElasticNet Regression"
   ]
  },
  {
   "cell_type": "markdown",
   "metadata": {
    "colab_type": "text",
    "id": "qNhBEvwxz1nb",
    "slideshow": {
     "slide_type": "slide"
    }
   },
   "source": [
    "- 선형 회귀에 2가지 규제항 (L1 규제항, L2 규제항)을 추가한 것\n",
    "\n",
    "> \\begin{align}\n",
    "cost(W,b)\\\\ \n",
    "& =MSE+규제항\\\\\n",
    "& =MSE+ { \\alpha }_{ 1 }\\cdot { L }_{ 1 }norm + { \\alpha }_{ 2 }\\cdot { L }_{ 2 }norm\\\\\n",
    "& =\\cfrac { 1 }{ m } \\sum _{ i=1 }^{ m }{ (H({ x }^{ (i) })-{ y }^{ (i) }) } ^{ 2 } +\\alpha _{ 1 }\\sum _{ j=1 }^{ n }{ \\left| { w }_{ j } \\right|  +\\alpha _{ 2 }\\sum _{ j=1 }^{ n }{ { w }_{ j }^{ 2 } } } \\\\\n",
    "& (n:가중치의개수,α:규제의정도) \\end{align}"
   ]
  },
  {
   "cell_type": "markdown",
   "metadata": {
    "colab_type": "text",
    "id": "Sulpmmg910dE"
   },
   "source": [
    "ElasticNet()\n",
    "```\n",
    "ElasticNet(alpha, l1_ratio, fit_intercept, normalize, precompute, max_iter, copy_X,\n",
    "tol, warm_start, positive, random_state, selection)\n",
    "```\n",
    "- alpha : 값이 클수록 강력한 정규화(규제) 설정하여 분산을 줄임, 양수로 설정\n",
    "- l1_ratio : L1 규제의 비율 (혼합비율?)\n",
    "- fit_intercept : 모형에 상수항 (절편)이 있는가 없는가를 결정하는 인수 (default : True)\n",
    "- normalize : 매개변수 무시 여부\n",
    "- precompute : 계산속도를 높이기 위해 미리 계산된 그램 매트릭스를 사용할 것인지 여부\n",
    "- copy_X : X의 복사 여부\n",
    "- max_iter : 계산에 사용할 작업 수\n",
    "- tol : 정밀도\n",
    "- warm_start : 이전 모델을 초기화로 적합하게 사용할 것인지 여부\n",
    "- positive : 계수가 양수로 사용할 것인지 여부\n",
    "- random_state : 난수 seed 설정\n",
    "- selection : 계수의 업데이트 방법 설정 (random으로 설정하면 tol이 1e-4보다 높을 때 빠른 수렴)"
   ]
  },
  {
   "cell_type": "markdown",
   "metadata": {
    "colab_type": "text",
    "id": "0eXTUaIV94K9",
    "slideshow": {
     "slide_type": "slide"
    }
   },
   "source": [
    "## 다항회귀"
   ]
  },
  {
   "cell_type": "code",
   "execution_count": 14,
   "metadata": {
    "colab": {
     "base_uri": "https://localhost:8080/",
     "height": 282
    },
    "colab_type": "code",
    "executionInfo": {
     "elapsed": 832,
     "status": "ok",
     "timestamp": 1595505214628,
     "user": {
      "displayName": "oz To",
      "photoUrl": "",
      "userId": "12937505880450462933"
     },
     "user_tz": -540
    },
    "id": "yHOmjG5DxhDn",
    "outputId": "16cc84fe-147f-43da-a95c-2d3983feec0d",
    "slideshow": {
     "slide_type": "slide"
    }
   },
   "outputs": [
    {
     "data": {
      "text/plain": [
       "<matplotlib.collections.PathCollection at 0x22cbe7a2d48>"
      ]
     },
     "execution_count": 14,
     "metadata": {},
     "output_type": "execute_result"
    },
    {
     "data": {
      "image/png": "[encoded data removed]",
      "text/plain": [
       "<Figure size 432x288 with 1 Axes>"
      ]
     },
     "metadata": {
      "needs_background": "light"
     },
     "output_type": "display_data"
    }
   ],
   "source": [
    "import numpy as np\n",
    "import matplotlib.pyplot as plt\n",
    "%matplotlib inline\n",
    "\n",
    "n = 100\n",
    "\n",
    "x = 6 * np.random.rand(n, 1) - 3\n",
    "y = 0.5 * x**2 + x + 2 + np.random.rand(n, 1)\n",
    "\n",
    "plt.scatter(x, y, s=5)"
   ]
  },
  {
   "cell_type": "code",
   "execution_count": 15,
   "metadata": {
    "colab": {
     "base_uri": "https://localhost:8080/",
     "height": 34
    },
    "colab_type": "code",
    "executionInfo": {
     "elapsed": 798,
     "status": "ok",
     "timestamp": 1595505188308,
     "user": {
      "displayName": "oz To",
      "photoUrl": "",
      "userId": "12937505880450462933"
     },
     "user_tz": -540
    },
    "id": "SpYNOsFfyNL_",
    "outputId": "bb839599-b244-4213-c359-8a25f48c3a64",
    "slideshow": {
     "slide_type": "slide"
    }
   },
   "outputs": [
    {
     "data": {
      "text/plain": [
       "((100, 1), (100, 2))"
      ]
     },
     "execution_count": 15,
     "metadata": {},
     "output_type": "execute_result"
    }
   ],
   "source": [
    "from sklearn.linear_model import LinearRegression\n",
    "from sklearn.preprocessing import PolynomialFeatures\n",
    "\n",
    "# 데이터 변환 과정과 머신러닝을 연결해주는 파이프라인\n",
    "from sklearn.pipeline import make_pipeline  \n",
    "\n",
    "poly_features = PolynomialFeatures(degree=2, include_bias=False)\n",
    "x_poly = poly_features.fit_transform(x)\n",
    "x.shape, x_poly.shape"
   ]
  },
  {
   "cell_type": "code",
   "execution_count": 16,
   "metadata": {
    "colab": {},
    "colab_type": "code",
    "id": "O9OjQssiUJ9Z",
    "slideshow": {
     "slide_type": "slide"
    }
   },
   "outputs": [
    {
     "data": {
      "text/plain": [
       "(array([-2.1414665]), array([-2.1414665 ,  4.58587876]))"
      ]
     },
     "execution_count": 16,
     "metadata": {},
     "output_type": "execute_result"
    }
   ],
   "source": [
    "x[0], x_poly[0]"
   ]
  },
  {
   "cell_type": "code",
   "execution_count": 17,
   "metadata": {
    "colab": {
     "base_uri": "https://localhost:8080/",
     "height": 34
    },
    "colab_type": "code",
    "executionInfo": {
     "elapsed": 733,
     "status": "ok",
     "timestamp": 1595505189650,
     "user": {
      "displayName": "oz To",
      "photoUrl": "",
      "userId": "12937505880450462933"
     },
     "user_tz": -540
    },
    "id": "dZvuiKsX9l0b",
    "outputId": "172e7e08-99de-401c-de3b-ff2883f8b489",
    "slideshow": {
     "slide_type": "slide"
    }
   },
   "outputs": [
    {
     "data": {
      "text/plain": [
       "(array([[1.0010779, 0.5023475]]), array([2.48300946]))"
      ]
     },
     "execution_count": 17,
     "metadata": {},
     "output_type": "execute_result"
    }
   ],
   "source": [
    "# model.coef_, model.intercept_\n",
    "model = LinearRegression()\n",
    "model.fit(x_poly, y)\n",
    "model.coef_, model.intercept_"
   ]
  },
  {
   "cell_type": "code",
   "execution_count": 18,
   "metadata": {
    "colab": {
     "base_uri": "https://localhost:8080/",
     "height": 34
    },
    "colab_type": "code",
    "executionInfo": {
     "elapsed": 690,
     "status": "ok",
     "timestamp": 1595505190868,
     "user": {
      "displayName": "oz To",
      "photoUrl": "",
      "userId": "12937505880450462933"
     },
     "user_tz": -540
    },
    "id": "YyCW-fT9yr-y",
    "outputId": "fc7e00fc-5c09-4d25-e314-2451c08f6d52",
    "slideshow": {
     "slide_type": "slide"
    }
   },
   "outputs": [
    {
     "name": "stdout",
     "output_type": "stream",
     "text": [
      "[[1.0010779 0.5023475]]\n"
     ]
    },
    {
     "data": {
      "text/plain": [
       "[('polynomialfeatures',\n",
       "  PolynomialFeatures(degree=2, include_bias=False, interaction_only=False,\n",
       "                     order='C')),\n",
       " ('linearregression',\n",
       "  LinearRegression(copy_X=True, fit_intercept=True, n_jobs=None, normalize=False))]"
      ]
     },
     "execution_count": 18,
     "metadata": {},
     "output_type": "execute_result"
    }
   ],
   "source": [
    "# make_pipeline\n",
    "model_lr = make_pipeline(PolynomialFeatures(degree=2, include_bias=False),\n",
    "                         LinearRegression())\n",
    "model_lr.fit(x, y)\n",
    "print(model_lr.steps[1][1].coef_)\n",
    "model_lr.steps"
   ]
  },
  {
   "cell_type": "code",
   "execution_count": 19,
   "metadata": {
    "colab": {
     "base_uri": "https://localhost:8080/",
     "height": 264
    },
    "colab_type": "code",
    "executionInfo": {
     "elapsed": 1388,
     "status": "ok",
     "timestamp": 1595505192814,
     "user": {
      "displayName": "oz To",
      "photoUrl": "",
      "userId": "12937505880450462933"
     },
     "user_tz": -540
    },
    "id": "gu2AjaFHzHbv",
    "outputId": "46cb2ed3-9731-41ff-cdda-36bc8e6acfaa",
    "slideshow": {
     "slide_type": "slide"
    }
   },
   "outputs": [
    {
     "data": {
      "text/plain": [
       "<matplotlib.collections.PathCollection at 0x22cbe927548>"
      ]
     },
     "execution_count": 19,
     "metadata": {},
     "output_type": "execute_result"
    },
    {
     "data": {
      "image/png": "[encoded data removed]",
      "text/plain": [
       "<Figure size 432x288 with 1 Axes>"
      ]
     },
     "metadata": {
      "needs_background": "light"
     },
     "output_type": "display_data"
    }
   ],
   "source": [
    "# 다항회귀 그래프\n",
    "xx = np.linspace(-3, 3, 100)\n",
    "y_pred = model_lr.predict(xx[:, np.newaxis])\n",
    "plt.plot(xx, y_pred)\n",
    "plt.scatter(x, y, s=5)"
   ]
  },
  {
   "cell_type": "markdown",
   "metadata": {
    "colab_type": "text",
    "id": "M8EjGdzxewY5",
    "slideshow": {
     "slide_type": "slide"
    }
   },
   "source": [
    "#### PolynomialFeatures()\n",
    "```\n",
    "PolynomialFeatures(degree=2, *, interaction_only=False, include_bias=True)\n",
    "```\n",
    "\n",
    "- degree : 차수\n",
    "- interaction_only: True면 2차항에서 상호작용항만 출력\n",
    "- include_bias : 상수항 생성 여부\n",
    "\n",
    "\n",
    "다항 변환\n",
    "\n",
    "- 입력값  x 를 다항식으로 변환한다."
   ]
  },
  {
   "cell_type": "markdown",
   "metadata": {
    "colab_type": "text",
    "id": "qQZh4ZjczIEl",
    "slideshow": {
     "slide_type": "slide"
    }
   },
   "source": [
    "## Linear / Ridge / Lasso / ElasticNet Regression의 비교"
   ]
  },
  {
   "cell_type": "markdown",
   "metadata": {
    "colab_type": "text",
    "id": "mtF4iw6UDHxR",
    "slideshow": {
     "slide_type": "slide"
    }
   },
   "source": [
    "|구분| 릿지회귀| 라쏘회귀| 엘라스틱넷|\n",
    "|---|---|---|---|\n",
    "|제약식| L2 norm| L1 norm| L1+L2 norm|\n",
    "|변수선택 |불가능| 가능| 가능|\n",
    "|solution| closed form| 명시해 없음| 명시해 없음|\n",
    "|장점| 변수간 상관관계가 높아도 좋은 성능| 변수간 상관관계가 높으면 성능↓| 변수간 상관관계를 반영한 정규화|\n",
    "|특징| 크기가 큰 변수를 우선 적으로 줄임|비중요 변수를 우선적 으로 줄임|상관관계가 큰 변수를 동시에 선택/배제|"
   ]
  },
  {
   "cell_type": "code",
   "execution_count": 20,
   "metadata": {
    "colab": {
     "base_uri": "https://localhost:8080/",
     "height": 72
    },
    "colab_type": "code",
    "executionInfo": {
     "elapsed": 629,
     "status": "ok",
     "timestamp": 1595747353428,
     "user": {
      "displayName": "oz To",
      "photoUrl": "",
      "userId": "12937505880450462933"
     },
     "user_tz": -540
    },
    "id": "7VC1y0wi1bY8",
    "outputId": "eb843b8b-a406-4107-eb0d-8d1abe40df3f",
    "slideshow": {
     "slide_type": "slide"
    }
   },
   "outputs": [
    {
     "data": {
      "text/html": [
       "<div>\n",
       "<style scoped>\n",
       "    .dataframe tbody tr th:only-of-type {\n",
       "        vertical-align: middle;\n",
       "    }\n",
       "\n",
       "    .dataframe tbody tr th {\n",
       "        vertical-align: top;\n",
       "    }\n",
       "\n",
       "    .dataframe thead th {\n",
       "        text-align: right;\n",
       "    }\n",
       "</style>\n",
       "<table border=\"1\" class=\"dataframe\">\n",
       "  <thead>\n",
       "    <tr style=\"text-align: right;\">\n",
       "      <th></th>\n",
       "      <th>x</th>\n",
       "      <th>y</th>\n",
       "    </tr>\n",
       "  </thead>\n",
       "  <tbody>\n",
       "    <tr>\n",
       "      <th>0</th>\n",
       "      <td>0.020218</td>\n",
       "      <td>0.213138</td>\n",
       "    </tr>\n",
       "    <tr>\n",
       "      <th>1</th>\n",
       "      <td>0.071036</td>\n",
       "      <td>0.357444</td>\n",
       "    </tr>\n",
       "    <tr>\n",
       "      <th>2</th>\n",
       "      <td>0.087129</td>\n",
       "      <td>0.747487</td>\n",
       "    </tr>\n",
       "    <tr>\n",
       "      <th>3</th>\n",
       "      <td>0.118274</td>\n",
       "      <td>0.531167</td>\n",
       "    </tr>\n",
       "    <tr>\n",
       "      <th>4</th>\n",
       "      <td>0.143353</td>\n",
       "      <td>0.788347</td>\n",
       "    </tr>\n",
       "  </tbody>\n",
       "</table>\n",
       "</div>"
      ],
      "text/plain": [
       "          x         y\n",
       "0  0.020218  0.213138\n",
       "1  0.071036  0.357444\n",
       "2  0.087129  0.747487\n",
       "3  0.118274  0.531167\n",
       "4  0.143353  0.788347"
      ]
     },
     "execution_count": 20,
     "metadata": {},
     "output_type": "execute_result"
    }
   ],
   "source": [
    "# 데이터 생성\n",
    "import numpy as np\n",
    "import pandas as pd\n",
    "import seaborn as sb\n",
    "\n",
    "def make_nonlinear(seed=0):\n",
    "    np.random.seed(seed)\n",
    "    n_samples = 30\n",
    "    X = np.sort(np.random.rand(n_samples))\n",
    "    Y = np.sin(2 * np.pi * X) + np.random.randn(n_samples) * 0.1\n",
    "    X = X[:, np.newaxis]\n",
    "    return (X, Y)\n",
    "\n",
    "\n",
    "X, y = make_nonlinear()\n",
    "dfX = pd.DataFrame(X, columns=[\"x\"])\n",
    "dfY = pd.DataFrame(y, columns=[\"y\"])\n",
    "df = pd.concat([dfX, dfY], axis=1)\n",
    "df.head()"
   ]
  },
  {
   "cell_type": "code",
   "execution_count": 21,
   "metadata": {
    "colab": {
     "base_uri": "https://localhost:8080/",
     "height": 322
    },
    "colab_type": "code",
    "executionInfo": {
     "elapsed": 673,
     "status": "ok",
     "timestamp": 1595747381278,
     "user": {
      "displayName": "oz To",
      "photoUrl": "",
      "userId": "12937505880450462933"
     },
     "user_tz": -540
    },
    "id": "SF5AM9Rq1kI0",
    "outputId": "f392101c-1434-4ee8-cf90-33b2e1f4d9d6"
   },
   "outputs": [
    {
     "name": "stdout",
     "output_type": "stream",
     "text": [
      "[ 0.00000000e+00  2.57357731e+01 -4.28141683e+02  3.86672311e+03\n",
      " -1.83409397e+04  4.93260725e+04 -7.88847431e+04  7.45386451e+04\n",
      " -3.84531322e+04  8.35025499e+03]\n"
     ]
    },
    {
     "data": {
      "text/plain": [
       "(-1.5, 1.5)"
      ]
     },
     "execution_count": 21,
     "metadata": {},
     "output_type": "execute_result"
    },
    {
     "data": {
      "image/png": "[encoded data removed]",
      "text/plain": [
       "<Figure size 432x288 with 1 Axes>"
      ]
     },
     "metadata": {
      "needs_background": "light"
     },
     "output_type": "display_data"
    }
   ],
   "source": [
    "from sklearn.preprocessing import PolynomialFeatures\n",
    "from sklearn.pipeline import make_pipeline  # 데이터 변환 과정과 머신러닝을 연결해주는 파이프라인\n",
    "from sklearn.linear_model import LinearRegression, Ridge, Lasso, ElasticNet\n",
    "import matplotlib.pyplot as plt\n",
    "\n",
    "# LinearRegression\n",
    "poly = PolynomialFeatures(9)\n",
    "model_lr = make_pipeline(poly, LinearRegression())\n",
    "model_lr.fit(X, y)\n",
    "print(model_lr.steps[1][1].coef_)\n",
    "\n",
    "xx = np.linspace(0, 1, 100)\n",
    "y_pred = model_lr.predict(xx[:, np.newaxis])\n",
    "plt.plot(xx, y_pred)\n",
    "\n",
    "plt.scatter(X, y)\n",
    "plt.ylim(-1.5, 1.5)"
   ]
  },
  {
   "cell_type": "code",
   "execution_count": 22,
   "metadata": {
    "colab": {
     "base_uri": "https://localhost:8080/",
     "height": 304
    },
    "colab_type": "code",
    "executionInfo": {
     "elapsed": 673,
     "status": "ok",
     "timestamp": 1595747387467,
     "user": {
      "displayName": "oz To",
      "photoUrl": "",
      "userId": "12937505880450462933"
     },
     "user_tz": -540
    },
    "id": "Qknf3pu91pDb",
    "outputId": "fda13382-3cd4-45c2-f669-59dfc0b7cc11"
   },
   "outputs": [
    {
     "name": "stdout",
     "output_type": "stream",
     "text": [
      "[ 0.          1.51430399 -3.90160797 -2.6359859  -0.41526792  1.07530175\n",
      "  1.64913273  1.52026782  0.94651401  0.13299614]\n"
     ]
    },
    {
     "data": {
      "text/plain": [
       "(-1.5, 1.5)"
      ]
     },
     "execution_count": 22,
     "metadata": {},
     "output_type": "execute_result"
    },
    {
     "data": {
      "image/png": "[encoded data removed]",
      "text/plain": [
       "<Figure size 432x288 with 1 Axes>"
      ]
     },
     "metadata": {
      "needs_background": "light"
     },
     "output_type": "display_data"
    }
   ],
   "source": [
    "# Ridge Regression\n",
    "poly = PolynomialFeatures(9)\n",
    "model_ridge = make_pipeline(poly, Ridge(alpha=0.01))\n",
    "model_ridge.fit(X, y)\n",
    "print(model_ridge.steps[1][1].coef_)\n",
    "\n",
    "xx = np.linspace(0, 1, 100)\n",
    "y_pred = model_ridge.predict(xx[:, np.newaxis])\n",
    "plt.plot(xx, y_pred)\n",
    "\n",
    "plt.scatter(X, y)\n",
    "plt.ylim(-1.5, 1.5)"
   ]
  },
  {
   "cell_type": "code",
   "execution_count": 23,
   "metadata": {
    "colab": {
     "base_uri": "https://localhost:8080/",
     "height": 304
    },
    "colab_type": "code",
    "executionInfo": {
     "elapsed": 636,
     "status": "ok",
     "timestamp": 1595747396966,
     "user": {
      "displayName": "oz To",
      "photoUrl": "",
      "userId": "12937505880450462933"
     },
     "user_tz": -540
    },
    "id": "pmn7LcLh1tUn",
    "outputId": "92c7350b-cffa-40c7-fc2b-9c3dfa10b722"
   },
   "outputs": [
    {
     "name": "stdout",
     "output_type": "stream",
     "text": [
      "[ 0.         -0.07668852 -2.44096313 -0.         -0.          0.\n",
      "  0.          0.          0.          1.88188725]\n"
     ]
    },
    {
     "data": {
      "text/plain": [
       "(-1.5, 1.5)"
      ]
     },
     "execution_count": 23,
     "metadata": {},
     "output_type": "execute_result"
    },
    {
     "data": {
      "image/png": "[encoded data removed]",
      "text/plain": [
       "<Figure size 432x288 with 1 Axes>"
      ]
     },
     "metadata": {
      "needs_background": "light"
     },
     "output_type": "display_data"
    }
   ],
   "source": [
    "# Lasso Regression\n",
    "poly = PolynomialFeatures(9)\n",
    "model_lasso = make_pipeline(poly, Lasso(alpha=0.01))\n",
    "model_lasso.fit(X, y)\n",
    "print(model_lasso.steps[1][1].coef_)\n",
    "\n",
    "xx = np.linspace(0, 1, 100)\n",
    "y_pred = model_lasso.predict(xx[:, np.newaxis])\n",
    "plt.plot(xx, y_pred)\n",
    "\n",
    "plt.scatter(X, y)\n",
    "plt.ylim(-1.5, 1.5)"
   ]
  },
  {
   "cell_type": "code",
   "execution_count": 24,
   "metadata": {
    "colab": {
     "base_uri": "https://localhost:8080/",
     "height": 304
    },
    "colab_type": "code",
    "executionInfo": {
     "elapsed": 808,
     "status": "ok",
     "timestamp": 1595747690262,
     "user": {
      "displayName": "oz To",
      "photoUrl": "",
      "userId": "12937505880450462933"
     },
     "user_tz": -540
    },
    "id": "FSsMLt8u1xdh",
    "outputId": "a1a8dd87-cf4b-4dd5-dd3c-f3d8fe6ca353"
   },
   "outputs": [
    {
     "name": "stdout",
     "output_type": "stream",
     "text": [
      "[ 0.         -0.83086118 -1.0910272  -0.72958742 -0.26054671  0.\n",
      "  0.25162626  0.4866751   0.6520339   0.76389789]\n"
     ]
    },
    {
     "data": {
      "text/plain": [
       "(-1.5, 1.5)"
      ]
     },
     "execution_count": 24,
     "metadata": {},
     "output_type": "execute_result"
    },
    {
     "data": {
      "image/png": "[encoded data removed]",
      "text/plain": [
       "<Figure size 432x288 with 1 Axes>"
      ]
     },
     "metadata": {
      "needs_background": "light"
     },
     "output_type": "display_data"
    }
   ],
   "source": [
    "# ElasticNet Regression\n",
    "poly = PolynomialFeatures(9)\n",
    "model_elnet = make_pipeline(poly, ElasticNet(alpha=0.01, l1_ratio=0.1))\n",
    "model_elnet.fit(X, y)\n",
    "print(model_elnet.steps[1][1].coef_)\n",
    "\n",
    "xx = np.linspace(0, 1, 100)\n",
    "y_pred = model_elnet.predict(xx[:, np.newaxis])\n",
    "plt.plot(xx, y_pred)\n",
    "\n",
    "plt.scatter(X, y)\n",
    "plt.ylim(-1.5, 1.5)"
   ]
  },
  {
   "cell_type": "markdown",
   "metadata": {
    "colab_type": "text",
    "id": "xBawxC6-lGjf",
    "slideshow": {
     "slide_type": "slide"
    }
   },
   "source": [
    "#### LinearRegression 실습 05\n",
    "\n",
    "붓꽃 데이터 셋에 선형회귀 적용"
   ]
  },
  {
   "cell_type": "code",
   "execution_count": 25,
   "metadata": {
    "colab": {
     "base_uri": "https://localhost:8080/",
     "height": 87
    },
    "colab_type": "code",
    "executionInfo": {
     "elapsed": 600,
     "status": "ok",
     "timestamp": 1595748916040,
     "user": {
      "displayName": "oz To",
      "photoUrl": "",
      "userId": "12937505880450462933"
     },
     "user_tz": -540
    },
    "id": "NtpSWJwNlNPm",
    "outputId": "c1863aae-1a5c-4d20-b725-63c14d7db659"
   },
   "outputs": [
    {
     "data": {
      "text/plain": [
       "['sepal length (cm)',\n",
       " 'sepal width (cm)',\n",
       " 'petal length (cm)',\n",
       " 'petal width (cm)']"
      ]
     },
     "execution_count": 25,
     "metadata": {},
     "output_type": "execute_result"
    }
   ],
   "source": [
    "from sklearn.datasets import load_iris\n",
    "\n",
    "iris = load_iris()\n",
    "\n",
    "#sepal 꽃밭침\n",
    "#petal 꽃잎\n",
    "iris.feature_names"
   ]
  },
  {
   "cell_type": "markdown",
   "metadata": {
    "colab_type": "text",
    "id": "4zmqaNIRlS_J",
    "slideshow": {
     "slide_type": "slide"
    }
   },
   "source": [
    "꽃받침 길이와 꽂잎 길이를 이용한 선형회귀"
   ]
  },
  {
   "cell_type": "code",
   "execution_count": 26,
   "metadata": {
    "colab": {
     "base_uri": "https://localhost:8080/",
     "height": 52
    },
    "colab_type": "code",
    "executionInfo": {
     "elapsed": 606,
     "status": "ok",
     "timestamp": 1595748919296,
     "user": {
      "displayName": "oz To",
      "photoUrl": "",
      "userId": "12937505880450462933"
     },
     "user_tz": -540
    },
    "id": "zQTrmJK4lUvN",
    "outputId": "5660a57e-4d25-4873-da71-f046999f1a27"
   },
   "outputs": [],
   "source": [
    "# 꽃받침 길이\n",
    "# 꽃잎 길이\n",
    "X = iris.data[:, 0]\n",
    "y = iris.data[:, 2]"
   ]
  },
  {
   "cell_type": "code",
   "execution_count": 27,
   "metadata": {
    "colab": {
     "base_uri": "https://localhost:8080/",
     "height": 34
    },
    "colab_type": "code",
    "executionInfo": {
     "elapsed": 641,
     "status": "ok",
     "timestamp": 1595748920496,
     "user": {
      "displayName": "oz To",
      "photoUrl": "",
      "userId": "12937505880450462933"
     },
     "user_tz": -540
    },
    "id": "SnXzlTRXlXVr",
    "outputId": "ec83c4b8-3ff6-4776-8f25-ef4a0540e481"
   },
   "outputs": [
    {
     "data": {
      "text/plain": [
       "(112, 1)"
      ]
     },
     "execution_count": 27,
     "metadata": {},
     "output_type": "execute_result"
    }
   ],
   "source": [
    "# 훈련 데이터와 테스트 데이터 준비\n",
    "from sklearn.model_selection import train_test_split\n",
    "\n",
    "X_train, X_test, y_train, y_test = train_test_split(X.reshape(-1, 1),\n",
    "                                                    y,\n",
    "                                                    random_state=3)\n",
    "\n",
    "X_train.shape"
   ]
  },
  {
   "cell_type": "code",
   "execution_count": 28,
   "metadata": {
    "colab": {
     "base_uri": "https://localhost:8080/",
     "height": 296
    },
    "colab_type": "code",
    "executionInfo": {
     "elapsed": 723,
     "status": "ok",
     "timestamp": 1595748921161,
     "user": {
      "displayName": "oz To",
      "photoUrl": "",
      "userId": "12937505880450462933"
     },
     "user_tz": -540
    },
    "id": "qDtadHL5lqdB",
    "outputId": "ef9a63c9-967e-47ae-c2bc-0c85c7bff9bf"
   },
   "outputs": [
    {
     "data": {
      "text/plain": [
       "<matplotlib.collections.PathCollection at 0x22cbedffd08>"
      ]
     },
     "execution_count": 28,
     "metadata": {},
     "output_type": "execute_result"
    },
    {
     "data": {
      "image/png": "[encoded data removed]",
      "text/plain": [
       "<Figure size 432x288 with 1 Axes>"
      ]
     },
     "metadata": {
      "needs_background": "light"
     },
     "output_type": "display_data"
    }
   ],
   "source": [
    "%matplotlib inline\n",
    "import matplotlib.pyplot as plt\n",
    "\n",
    "#두 가지 특성을 시각화 \n",
    "plt.scatter(X_train, y_train)"
   ]
  },
  {
   "cell_type": "code",
   "execution_count": 29,
   "metadata": {
    "colab": {
     "base_uri": "https://localhost:8080/",
     "height": 34
    },
    "colab_type": "code",
    "executionInfo": {
     "elapsed": 607,
     "status": "ok",
     "timestamp": 1595748922401,
     "user": {
      "displayName": "oz To",
      "photoUrl": "",
      "userId": "12937505880450462933"
     },
     "user_tz": -540
    },
    "id": "qD2CJpBMl0m-",
    "outputId": "90308a5b-5fd6-4d5a-9652-cece4c6966d0"
   },
   "outputs": [
    {
     "data": {
      "text/plain": [
       "(0.7591843019680293, 0.7508373803708501)"
      ]
     },
     "execution_count": 29,
     "metadata": {},
     "output_type": "execute_result"
    }
   ],
   "source": [
    "# 모델 선택과 학습\n",
    "from sklearn.linear_model import LinearRegression\n",
    "\n",
    "model = LinearRegression()\n",
    "model.fit(X_train, y_train)\n",
    "model.score(X_train, y_train), model.score(X_test, y_test)"
   ]
  },
  {
   "cell_type": "code",
   "execution_count": 30,
   "metadata": {
    "colab": {
     "base_uri": "https://localhost:8080/",
     "height": 52
    },
    "colab_type": "code",
    "executionInfo": {
     "elapsed": 551,
     "status": "ok",
     "timestamp": 1595748926985,
     "user": {
      "displayName": "oz To",
      "photoUrl": "",
      "userId": "12937505880450462933"
     },
     "user_tz": -540
    },
    "id": "vmQ3-Dvil4ug",
    "outputId": "151e6b07-77be-4835-ac2d-be6a2374c7b2"
   },
   "outputs": [
    {
     "data": {
      "text/plain": [
       "(array([1.93673712]), -7.512721905922389)"
      ]
     },
     "execution_count": 30,
     "metadata": {},
     "output_type": "execute_result"
    }
   ],
   "source": [
    "# 계수(가중치)와 절편\n",
    "model.coef_, model.intercept_"
   ]
  },
  {
   "cell_type": "code",
   "execution_count": 31,
   "metadata": {
    "colab": {
     "base_uri": "https://localhost:8080/",
     "height": 296
    },
    "colab_type": "code",
    "executionInfo": {
     "elapsed": 635,
     "status": "ok",
     "timestamp": 1595748931057,
     "user": {
      "displayName": "oz To",
      "photoUrl": "",
      "userId": "12937505880450462933"
     },
     "user_tz": -540
    },
    "id": "iALHX2KPl6Vu",
    "outputId": "c55fb7ea-6a1f-4b9e-f85c-a180a6413d47"
   },
   "outputs": [
    {
     "data": {
      "text/plain": [
       "<matplotlib.collections.PathCollection at 0x22cbee77408>"
      ]
     },
     "execution_count": 31,
     "metadata": {},
     "output_type": "execute_result"
    },
    {
     "data": {
      "image/png": "[encoded data removed]",
      "text/plain": [
       "<Figure size 432x288 with 1 Axes>"
      ]
     },
     "metadata": {
      "needs_background": "light"
     },
     "output_type": "display_data"
    }
   ],
   "source": [
    "# 결과 시각화\n",
    "import numpy as np\n",
    "\n",
    "xx = np.linspace(4, 8, 100)\n",
    "y_pred = model.predict(xx[:, np.newaxis])\n",
    "plt.plot(xx, y_pred)\n",
    "plt.scatter(X_train, y_train)"
   ]
  },
  {
   "cell_type": "markdown",
   "metadata": {
    "colab_type": "text",
    "id": "gJmspcqamCaP",
    "slideshow": {
     "slide_type": "slide"
    }
   },
   "source": [
    "꽃잎 길이와 꽂잎 너비를 이용한 선형회귀"
   ]
  },
  {
   "cell_type": "code",
   "execution_count": 32,
   "metadata": {
    "colab": {
     "base_uri": "https://localhost:8080/",
     "height": 34
    },
    "colab_type": "code",
    "executionInfo": {
     "elapsed": 567,
     "status": "ok",
     "timestamp": 1595748933880,
     "user": {
      "displayName": "oz To",
      "photoUrl": "",
      "userId": "12937505880450462933"
     },
     "user_tz": -540
    },
    "id": "iLuEOW1emXKP",
    "outputId": "9272b3e2-b187-4da2-8418-cff651939a4b"
   },
   "outputs": [],
   "source": [
    "# 꽃잎 길이\n",
    "# 꽃잎 너비\n",
    "iris.feature_names\n",
    "X = iris.data[:, 2]\n",
    "y = iris.data[:, 3]"
   ]
  },
  {
   "cell_type": "code",
   "execution_count": 33,
   "metadata": {
    "colab": {},
    "colab_type": "code",
    "executionInfo": {
     "elapsed": 553,
     "status": "ok",
     "timestamp": 1595748935183,
     "user": {
      "displayName": "oz To",
      "photoUrl": "",
      "userId": "12937505880450462933"
     },
     "user_tz": -540
    },
    "id": "LsBDp9D7mZxB"
   },
   "outputs": [
    {
     "data": {
      "text/plain": [
       "(112, 1)"
      ]
     },
     "execution_count": 33,
     "metadata": {},
     "output_type": "execute_result"
    }
   ],
   "source": [
    "# 훈련 데이터와 테스트 데이터 준비\n",
    "from sklearn.model_selection import train_test_split\n",
    "\n",
    "X_train, X_test, y_train, y_test = train_test_split(X.reshape(-1, 1),\n",
    "                                                    y,\n",
    "                                                    random_state=3)\n",
    "\n",
    "X_train.shape"
   ]
  },
  {
   "cell_type": "code",
   "execution_count": 34,
   "metadata": {
    "colab": {
     "base_uri": "https://localhost:8080/",
     "height": 296
    },
    "colab_type": "code",
    "executionInfo": {
     "elapsed": 594,
     "status": "ok",
     "timestamp": 1595748936694,
     "user": {
      "displayName": "oz To",
      "photoUrl": "",
      "userId": "12937505880450462933"
     },
     "user_tz": -540
    },
    "id": "ATn4dokRmd7J",
    "outputId": "16f4cab7-a7fd-457e-d346-97a217b6522a"
   },
   "outputs": [
    {
     "data": {
      "text/plain": [
       "<matplotlib.collections.PathCollection at 0x22cbeee8f88>"
      ]
     },
     "execution_count": 34,
     "metadata": {},
     "output_type": "execute_result"
    },
    {
     "data": {
      "image/png": "[encoded data removed]",
      "text/plain": [
       "<Figure size 432x288 with 1 Axes>"
      ]
     },
     "metadata": {
      "needs_background": "light"
     },
     "output_type": "display_data"
    }
   ],
   "source": [
    "%matplotlib inline\n",
    "import matplotlib.pyplot as plt\n",
    "\n",
    "#두 가지 특성을 시각화 \n",
    "plt.scatter(X_train, y_train)"
   ]
  },
  {
   "cell_type": "code",
   "execution_count": 35,
   "metadata": {
    "colab": {
     "base_uri": "https://localhost:8080/",
     "height": 34
    },
    "colab_type": "code",
    "executionInfo": {
     "elapsed": 569,
     "status": "ok",
     "timestamp": 1595748940235,
     "user": {
      "displayName": "oz To",
      "photoUrl": "",
      "userId": "12937505880450462933"
     },
     "user_tz": -540
    },
    "id": "IbdMp3hWmfVH",
    "outputId": "5b93ef0e-b029-4e5e-cf20-76fdec5a0dc1"
   },
   "outputs": [
    {
     "data": {
      "text/plain": [
       "(0.9253418194107981, 0.9309332612136965)"
      ]
     },
     "execution_count": 35,
     "metadata": {},
     "output_type": "execute_result"
    }
   ],
   "source": [
    "# 모델 선택과 학습\n",
    "from sklearn.linear_model import LinearRegression\n",
    "\n",
    "model = LinearRegression()\n",
    "model.fit(X_train, y_train)\n",
    "model.score(X_train, y_train), model.score(X_test, y_test)"
   ]
  },
  {
   "cell_type": "code",
   "execution_count": 36,
   "metadata": {
    "colab": {
     "base_uri": "https://localhost:8080/",
     "height": 296
    },
    "colab_type": "code",
    "executionInfo": {
     "elapsed": 625,
     "status": "ok",
     "timestamp": 1595748941921,
     "user": {
      "displayName": "oz To",
      "photoUrl": "",
      "userId": "12937505880450462933"
     },
     "user_tz": -540
    },
    "id": "1M-6tAX_mgpI",
    "outputId": "d2bc8ed8-c0ca-40d8-db3a-3f31080d12ef"
   },
   "outputs": [
    {
     "data": {
      "text/plain": [
       "<matplotlib.collections.PathCollection at 0x22cbef57708>"
      ]
     },
     "execution_count": 36,
     "metadata": {},
     "output_type": "execute_result"
    },
    {
     "data": {
      "image/png": "[encoded data removed]",
      "text/plain": [
       "<Figure size 432x288 with 1 Axes>"
      ]
     },
     "metadata": {
      "needs_background": "light"
     },
     "output_type": "display_data"
    }
   ],
   "source": [
    "# 결과 시각화\n",
    "import numpy as np\n",
    "\n",
    "xx = np.linspace(1, 8, 100)\n",
    "y_pred = model.predict(xx[:, np.newaxis])\n",
    "plt.plot(xx, y_pred)\n",
    "plt.scatter(X_train, y_train)"
   ]
  },
  {
   "cell_type": "code",
   "execution_count": 37,
   "metadata": {
    "colab": {
     "base_uri": "https://localhost:8080/",
     "height": 123
    },
    "colab_type": "code",
    "executionInfo": {
     "elapsed": 616,
     "status": "ok",
     "timestamp": 1595748945334,
     "user": {
      "displayName": "oz To",
      "photoUrl": "",
      "userId": "12937505880450462933"
     },
     "user_tz": -540
    },
    "id": "oz9BAMzlmlHJ",
    "outputId": "5fb0a6cd-a2d6-45a8-cdc6-f840f98e74cf"
   },
   "outputs": [
    {
     "data": {
      "text/plain": [
       "array([0.2163748 , 0.25794608, 0.25794608, 0.29951735, 0.25794608,\n",
       "       2.50279515, 1.29722805, 0.2163748 , 1.96236852, 1.46351317,\n",
       "       1.33879933, 0.17480352, 1.29722805, 1.29722805, 1.96236852,\n",
       "       0.17480352, 1.67136957, 2.17022491, 1.71294084, 0.17480352,\n",
       "       1.62979829, 1.92079724, 1.75451212, 1.62979829, 0.34108863,\n",
       "       2.17022491, 1.96236852, 1.33879933, 1.0062291 , 1.58822701,\n",
       "       0.13323224, 0.42423119, 1.87922596, 1.54665573, 0.2163748 ,\n",
       "       0.25794608, 1.71294084, 0.17480352])"
      ]
     },
     "execution_count": 37,
     "metadata": {},
     "output_type": "execute_result"
    }
   ],
   "source": [
    "# 테스트 셋을 사용한 평가\n",
    "model.predict(X_test)"
   ]
  },
  {
   "cell_type": "code",
   "execution_count": 38,
   "metadata": {
    "colab": {
     "base_uri": "https://localhost:8080/",
     "height": 52
    },
    "colab_type": "code",
    "executionInfo": {
     "elapsed": 568,
     "status": "ok",
     "timestamp": 1595748947449,
     "user": {
      "displayName": "oz To",
      "photoUrl": "",
      "userId": "12937505880450462933"
     },
     "user_tz": -540
    },
    "id": "Sf0B7kHOmqFc",
    "outputId": "4b23b267-ef2e-4a74-85d6-c4d906a2bee1"
   },
   "outputs": [
    {
     "name": "stdout",
     "output_type": "stream",
     "text": [
      "훈련 세트 점수: 0.93\n",
      "테스트 세트 점수: 0.93\n"
     ]
    }
   ],
   "source": [
    "print(\"훈련 세트 점수: {:.2f}\".format( model.score(X_train, y_train) ))\n",
    "print(\"테스트 세트 점수: {:.2f}\".format( model.score(X_test, y_test) ))"
   ]
  },
  {
   "cell_type": "code",
   "execution_count": 39,
   "metadata": {
    "colab": {},
    "colab_type": "code",
    "id": "BPggnvwKDMr6"
   },
   "outputs": [],
   "source": [
    "# 규제모델 적용해보기"
   ]
  },
  {
   "cell_type": "markdown",
   "metadata": {
    "colab_type": "text",
    "id": "rRVAtuhqQ5AF",
    "slideshow": {
     "slide_type": "slide"
    }
   },
   "source": [
    "장단점\n",
    "\n",
    "- k-NN에 비해 더 제약이 있는 것처럼 보이지만 특성이 많은 데이터셋의 경우에는 우수한 성능을 낼 수 있다.\n",
    "- 모델의 복잡도를 제어할 방법이 없어 과대적합 되기 쉽다.\n"
   ]
  },
  {
   "cell_type": "markdown",
   "metadata": {
    "colab_type": "text",
    "id": "YqmSlQlSQwI8",
    "slideshow": {
     "slide_type": "slide"
    }
   },
   "source": [
    "모델 정규화(Regularization, 규제)을 통해 과대적합을 제어"
   ]
  }
 ],
 "metadata": {
  "celltoolbar": "Slideshow",
  "colab": {
   "authorship_tag": "ABX9TyMWO+d9hp4ruRQoVBJc/i9g",
   "collapsed_sections": [
    "oboDfCRrOH5I"
   ],
   "name": "ml_04_지도학습_Ridge_Lasso_Regression.ipynb",
   "provenance": []
  },
  "kernelspec": {
   "display_name": "Python 3",
   "language": "python",
   "name": "python3"
  },
  "language_info": {
   "codemirror_mode": {
    "name": "ipython",
    "version": 3
   },
   "file_extension": ".py",
   "mimetype": "text/x-python",
   "name": "python",
   "nbconvert_exporter": "python",
   "pygments_lexer": "ipython3",
   "version": "3.7.6"
  }
 },
 "nbformat": 4,
 "nbformat_minor": 1
}
