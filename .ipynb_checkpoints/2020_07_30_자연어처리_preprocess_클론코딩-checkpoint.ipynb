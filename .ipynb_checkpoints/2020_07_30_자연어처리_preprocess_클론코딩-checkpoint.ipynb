{
 "cells": [
  {
   "cell_type": "code",
   "execution_count": 4,
   "metadata": {
    "colab": {
     "base_uri": "https://localhost:8080/",
     "height": 263
    },
    "colab_type": "code",
    "id": "N3GtvTN74158",
    "outputId": "7a49cccd-96d3-40cc-e98b-6c3a94185702"
   },
   "outputs": [
    {
     "name": "stdout",
     "output_type": "stream",
     "text": [
      "# preprocessing done\n",
      "# split done\n",
      "# tokenization done\n",
      "<keras_preprocessing.text.Tokenizer object at 0x7f838db87e10>\n"
     ]
    },
    {
     "name": "stderr",
     "output_type": "stream",
     "text": [
      "IOPub data rate exceeded.\n",
      "The notebook server will temporarily stop sending output\n",
      "to the client in order to avoid crashing it.\n",
      "To change this limit, set the config variable\n",
      "`--NotebookApp.iopub_data_rate_limit`.\n",
      "\n",
      "Current values:\n",
      "NotebookApp.iopub_data_rate_limit=1000000.0 (bytes/sec)\n",
      "NotebookApp.rate_limit_window=3.0 (secs)\n",
      "\n"
     ]
    }
   ],
   "source": [
    "import pandas as pd\n",
    "import numpy as np\n",
    "\n",
    "from tensorflow.keras.preprocessing.text import Tokenizer\n",
    "from sklearn.model_selection import train_test_split\n",
    "\n",
    "imdb_data = pd.read_csv(\"IMDBDataset.csv\")\n",
    "#pos, neg 값을 숫자로 변형\n",
    "imdb_data['sentiment'] = imdb_data['sentiment'].replace(\"positive\", 1)\n",
    "imdb_data['sentiment'] = imdb_data['sentiment'].replace(\"negative\", 1)\n",
    "#단어 아니면 삭제\n",
    "imdb_data['review'] = imdb_data['review'].str.replace(\"[^\\w]|br\", \" \")\n",
    "#혹시 공백이 있으면 null array로\n",
    "imdb_data['review'] = imdb_data['review'].replace('', np.nan)\n",
    "imdb_data['sentiment'] = imdb_data['sentiment'].replace('', np.nan)\n",
    "\n",
    "#null array 모두 제거 (공백인 열 모두 제거)\\\n",
    "imdb_data = imdb_data.dropna(how='any')\n",
    "\n",
    "print(\"# preprocessing done\")\n",
    "\n",
    "# test/train 스플릿하고\n",
    "review_train, review_test, y_train, y_test =  train_test_split(imdb_data['review'], imdb_data['sentiment'], test_size=0.4, shuffle=False, random_state=1004)\n",
    "\n",
    "print(\"# split done\")\n",
    "\n",
    "# stopwords 지정\n",
    "stopwords = ['a', 'an']\n",
    "#토큰화 진행\n",
    "X_train = []\n",
    "for stc in review_train:\n",
    "  token = []\n",
    "  words = stc.split()\n",
    "  for word in words:\n",
    "    if word not in stopwords:\n",
    "      token.append(word)\n",
    "  X_train.append(token)\n",
    "\n",
    "X_test  = []\n",
    "for stc in review_test:\n",
    "  token = []\n",
    "  words = stc.split()\n",
    "  for word in words:\n",
    "    if word not in stopwords:\n",
    "      token.append(word)\n",
    "  X_test.append(token)\n",
    "\n",
    "print(\"# tokenization done\")\n",
    "\n",
    "#X_train 단어들을 토대로 점수 인덱스 설정, 전체 단어 갯수 설정\n",
    "tokenizer = Tokenizer(5000)\n",
    "tokenizer.fit_on_texts(X_train)\n",
    "\n",
    "#설정된 정수 인덱스를 토대로 변환\n",
    "X_train = tokenizer.texts_to_sequences(X_train)\n",
    "X_test =  tokenizer.texts_to_sequences(X_test)\n",
    "\n",
    "print(\"# int_encoding done\")\n",
    "\n",
    "print(X_train)"
   ]
  },
  {
   "cell_type": "code",
   "execution_count": 5,
   "metadata": {
    "colab": {
     "base_uri": "https://localhost:8080/",
     "height": 193
    },
    "colab_type": "code",
    "id": "rkX8Q3k36xdF",
    "outputId": "1db3aa04-0620-4f33-9d3d-8f88ff49703c"
   },
   "outputs": [
    {
     "name": "stderr",
     "output_type": "stream",
     "text": [
      "IOPub data rate exceeded.\n",
      "The notebook server will temporarily stop sending output\n",
      "to the client in order to avoid crashing it.\n",
      "To change this limit, set the config variable\n",
      "`--NotebookApp.iopub_data_rate_limit`.\n",
      "\n",
      "Current values:\n",
      "NotebookApp.iopub_data_rate_limit=1000000.0 (bytes/sec)\n",
      "NotebookApp.rate_limit_window=3.0 (secs)\n",
      "\n"
     ]
    }
   ],
   "source": [
    "print(X_train)"
   ]
  },
  {
   "cell_type": "code",
   "execution_count": null,
   "metadata": {
    "colab": {},
    "colab_type": "code",
    "id": "OztdXSnl7Rn6"
   },
   "outputs": [],
   "source": []
  }
 ],
 "metadata": {
  "colab": {
   "collapsed_sections": [],
   "name": "Untitled3.ipynb",
   "provenance": []
  },
  "kernelspec": {
   "display_name": "Python 3",
   "language": "python",
   "name": "python3"
  },
  "language_info": {
   "codemirror_mode": {
    "name": "ipython",
    "version": 3
   },
   "file_extension": ".py",
   "mimetype": "text/x-python",
   "name": "python",
   "nbconvert_exporter": "python",
   "pygments_lexer": "ipython3",
   "version": "3.7.6"
  }
 },
 "nbformat": 4,
 "nbformat_minor": 1
}
