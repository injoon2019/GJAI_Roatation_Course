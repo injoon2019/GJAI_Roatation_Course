{
 "cells": [
  {
   "cell_type": "markdown",
   "metadata": {},
   "source": [
    "#### 경사하강법 (Gradient descent algorithm) - 오차 수정하기\n",
    "어떻게 비용함수 값이 최소가 되는 W 파라미터를 구할 수 있을까?\n",
    "\n",
    "- 점진적인 하강, 점진적으로 반복적인 계산을 통해 W 파라미터 값을 업데이트하는 방식\n"
   ]
  },
  {
   "cell_type": "markdown",
   "metadata": {},
   "source": [
    "learning_Rate(학습속도)란?\n",
    "\n",
    "- W와 b의 미분 값(W_grad, b_grade)을 얼마만큼 반영할지를 결정하는 값\n",
    "- 주로 0.001, 0.00001과 같은 매우 작은 값을 사용하며 learning_rate가 클수록 변화가 느리도록 예상\n",
    "- 꼭 변화가 빠르다고 해서 결과를 빨리 볼 수 있는 것은 아님"
   ]
  },
  {
   "cell_type": "code",
   "execution_count": 10,
   "metadata": {},
   "outputs": [
    {
     "name": "stdout",
     "output_type": "stream",
     "text": [
      " 0 w1 = 0.798303, b = 0.608166 , cost = 14.022336\n",
      " 1 w1 = 1.719831, b = 4.049615 , cost = 1.010858\n",
      " 2 w1 = 1.900788, b = 3.967242 , cost = 0.934512\n",
      " 3 w1 = 1.983761, b = 3.951067 , cost = 0.919946\n",
      " 4 w1 = 2.020455, b = 3.943650 , cost = 0.917091\n",
      " 5 w1 = 2.036698, b = 3.940370 , cost = 0.916532\n",
      " 6 w1 = 2.043889, b = 3.938918 , cost = 0.916422\n",
      " 7 w1 = 2.047072, b = 3.938276 , cost = 0.916401\n",
      " 8 w1 = 2.048481, b = 3.937991 , cost = 0.916397\n",
      " 9 w1 = 2.049105, b = 3.937865 , cost = 0.916396\n"
     ]
    },
    {
     "data": {
      "image/png": "[encoded data removed]",
      "text/plain": [
       "<Figure size 432x288 with 1 Axes>"
      ]
     },
     "metadata": {
      "needs_background": "light"
     },
     "output_type": "display_data"
    }
   ],
   "source": [
    "import numpy as np\n",
    "import pandas as pd\n",
    "import matplotlib.pyplot as plt\n",
    "\n",
    "def MSE(y_pred, y):\n",
    "    cost = np.sum((y_pred - y)**2) / len(y)\n",
    "    return cost\n",
    "\n",
    "n_samples=200\n",
    "x1 = np.random.randn(n_samples)\n",
    "\n",
    "y = 2*x1 + 4 + np.random.randn(n_samples)\n",
    "\n",
    "num_epoch = 10 #반복횟수\n",
    "lr = 0.7 # learning_rate(학습속도)\n",
    "\n",
    "w_val = []\n",
    "cost_val = []\n",
    "w1 = np.random.uniform()\n",
    "b = np.random.uniform()\n",
    "\n",
    "for epoch in range(num_epoch):\n",
    "    y_pred = w1*x1 + b\n",
    "    # cost = np.abs(y_pred -y).mean( # MAE)\n",
    "    cost = MSE(y_pred, y)\n",
    "    print(f\"{epoch:2} w1 = {w1:.6f}, b = {b:.6f} , cost = {cost:.6f}\")\n",
    "    \n",
    "    w1 = w1 - lr * ((y_pred - y) * x1).mean()\n",
    "    b = b - (y_pred - y).mean()\n",
    "    \n",
    "    w_val.append(w1)\n",
    "    cost_val.append(cost)\n",
    "    \n",
    "plt.plot(w_val, cost_val)\n",
    "plt.show()"
   ]
  },
  {
   "cell_type": "markdown",
   "metadata": {},
   "source": [
    "#### 일반 선형회귀\n",
    "예측값과 실제 값의 cost를 최소화할 수 있도록 W(가중치, 회귀계수)를 최적화"
   ]
  },
  {
   "cell_type": "code",
   "execution_count": 11,
   "metadata": {},
   "outputs": [
    {
     "data": {
      "text/plain": [
       "<matplotlib.collections.PathCollection at 0x2d5ea8e03c8>"
      ]
     },
     "execution_count": 11,
     "metadata": {},
     "output_type": "execute_result"
    },
    {
     "data": {
      "image/png": "[encoded data removed]",
      "text/plain": [
       "<Figure size 432x288 with 1 Axes>"
      ]
     },
     "metadata": {
      "needs_background": "light"
     },
     "output_type": "display_data"
    }
   ],
   "source": [
    "import numpy as np\n",
    "import matplotlib.pyplot as plt\n",
    "\n",
    "n = 160\n",
    "x = 6 * np.random.rand(n,1) - 3\n",
    "y = 0.5 * x**2 + x + 2 +np.random.rand(n,1)\n",
    "\n",
    "plt.scatter(x,y)"
   ]
  },
  {
   "cell_type": "markdown",
   "metadata": {},
   "source": [
    "#### LinearRegression 실습 01"
   ]
  },
  {
   "cell_type": "markdown",
   "metadata": {},
   "source": [
    "LinearRegression()\n",
    "\n",
    "    LinearRegression(fit_intercept, normalize, copy_X, n_jobs)\n",
    "    \n",
    "- fit_intercept: 모형에 상수항이 있는가 없는가\n",
    "- normalize: 매개변수 무시 여부\n",
    "- copy_X: X의 복사 여부\n",
    "- n_jobs: 반복횟수"
   ]
  },
  {
   "cell_type": "code",
   "execution_count": 21,
   "metadata": {},
   "outputs": [
    {
     "name": "stdout",
     "output_type": "stream",
     "text": [
      "[0.39390555] -0.031804343026759746\n",
      "훈련세트 점수: 0.67\n",
      "테스트세트 점수: 0.66\n"
     ]
    }
   ],
   "source": [
    "from sklearn.linear_model import LinearRegression\n",
    "from sklearn.model_selection import train_test_split\n",
    "\n",
    "def make_wave(n_samples=100):\n",
    "    rnd = np.random.RandomState(42)\n",
    "    x = rnd.uniform(-3, 3, size=n_samples)\n",
    "    y_no_noise = (np.sin(4 * x) + x)\n",
    "    y = (y_no_noise + rnd.normal(size=len(x))) / 2\n",
    "    return x.reshape(-1, 1), y\n",
    "\n",
    "# LinearRegression 모델 코드\n",
    "X, y = make_wave(60)\n",
    "X_train, X_test, y_train, y_test = train_test_split(X, y, random_state=42)\n",
    "\n",
    "# 모델 학습\n",
    "model = LinearRegression()\n",
    "model.fit(X_train, y_train)\n",
    "\n",
    "print(model.coef_, model.intercept_) \n",
    "\n",
    "print(\"훈련세트 점수: {:.2f}\".format(model.score(X_train, y_train)))\n",
    "print(\"테스트세트 점수: {:.2f}\".format(model.score(X_test, y_test)))"
   ]
  },
  {
   "cell_type": "markdown",
   "metadata": {},
   "source": [
    "#### LinearRegression 실습 2\n",
    "변수가 1개인 경우"
   ]
  },
  {
   "cell_type": "code",
   "execution_count": 2,
   "metadata": {},
   "outputs": [
    {
     "data": {
      "text/plain": [
       "(array([1.80457482]), 3.1277642362148335)"
      ]
     },
     "execution_count": 2,
     "metadata": {},
     "output_type": "execute_result"
    },
    {
     "data": {
      "image/png": "[encoded data removed]",
      "text/plain": [
       "<Figure size 432x288 with 1 Axes>"
      ]
     },
     "metadata": {
      "needs_background": "light"
     },
     "output_type": "display_data"
    }
   ],
   "source": [
    "import numpy as np\n",
    "import pandas as pd\n",
    "import matplotlib.pyplot as plt\n",
    "from sklearn.linear_model import LinearRegression\n",
    "from sklearn.model_selection import train_test_split\n",
    "\n",
    "n = 200\n",
    "x = np.random.randn(n)\n",
    "\n",
    "w = 2\n",
    "b = 3\n",
    "\n",
    "y = w*x + b + np.random.randn(n)\n",
    "plt.scatter(x, y, s=5)\n",
    "\n",
    "model = LinearRegression()\n",
    "model.fit(x.reshape(-1,1), y)  #x.reshape()은 배열로 만들어주기 위함?\n",
    "\n",
    "model.coef_, model.intercept_"
   ]
  },
  {
   "cell_type": "markdown",
   "metadata": {},
   "source": [
    "LinearRegression 실습 02-2\n",
    "- 변수가 2개인 경우\n",
    "- 다변수 선형 회귀 (Multi-variable Linear Regression)"
   ]
  },
  {
   "cell_type": "code",
   "execution_count": 28,
   "metadata": {},
   "outputs": [
    {
     "data": {
      "text/plain": [
       "(array([2.11719711, 3.00797199]), 3.9583440718798086)"
      ]
     },
     "execution_count": 28,
     "metadata": {},
     "output_type": "execute_result"
    }
   ],
   "source": [
    "### LinearRegression 실습 02 -1\n",
    "n = 200\n",
    "x1 = np.random.randn(n)\n",
    "x2 = np.random.randn(n)\n",
    "\n",
    "w1 = 2\n",
    "w2 = 3\n",
    "b = 4\n",
    "\n",
    "#변수가 2개 이상일때는 df로 변환해서 넣어줘야한다\n",
    "X = pd.DataFrame({'x1':x1, 'x2':x2})\n",
    "\n",
    "y = x1*w1 + w2*x2 + b + np.random.randn(n)\n",
    "\n",
    "model = LinearRegression()\n",
    "model.fit(X, y)\n",
    "\n",
    "model.coef_, model.intercept_"
   ]
  },
  {
   "cell_type": "code",
   "execution_count": null,
   "metadata": {},
   "outputs": [],
   "source": []
  }
 ],
 "metadata": {
  "kernelspec": {
   "display_name": "Python 3",
   "language": "python",
   "name": "python3"
  },
  "language_info": {
   "codemirror_mode": {
    "name": "ipython",
    "version": 3
   },
   "file_extension": ".py",
   "mimetype": "text/x-python",
   "name": "python",
   "nbconvert_exporter": "python",
   "pygments_lexer": "ipython3",
   "version": "3.7.6"
  }
 },
 "nbformat": 4,
 "nbformat_minor": 4
}
