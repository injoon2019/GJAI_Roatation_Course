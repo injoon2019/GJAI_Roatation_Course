{
 "cells": [
  {
   "cell_type": "code",
   "execution_count": 2,
   "metadata": {},
   "outputs": [],
   "source": [
    "import numpy\n",
    "import pandas\n",
    "import matplotlib.pyplot\n",
    "import seaborn\n",
    "from sklearn.model_selection import train_test_split\n",
    "import sklearn"
   ]
  },
  {
   "cell_type": "code",
   "execution_count": 3,
   "metadata": {},
   "outputs": [
    {
     "data": {
      "text/plain": [
       "'0.22.1'"
      ]
     },
     "execution_count": 3,
     "metadata": {},
     "output_type": "execute_result"
    }
   ],
   "source": [
    "numpy.__version__\n",
    "pandas.__version__\n",
    "matplotlib.__version__\n",
    "seaborn.__version__\n",
    "sklearn.__version__"
   ]
  },
  {
   "cell_type": "code",
   "execution_count": 4,
   "metadata": {},
   "outputs": [],
   "source": [
    "import sqlite3\n",
    "import os"
   ]
  },
  {
   "cell_type": "code",
   "execution_count": 5,
   "metadata": {},
   "outputs": [
    {
     "data": {
      "text/plain": [
       "'2.6.0'"
      ]
     },
     "execution_count": 5,
     "metadata": {},
     "output_type": "execute_result"
    }
   ],
   "source": [
    "sqlite3.version"
   ]
  },
  {
   "cell_type": "code",
   "execution_count": 15,
   "metadata": {},
   "outputs": [
    {
     "name": "stdout",
     "output_type": "stream",
     "text": [
      "('ABW', 'Aruba', 'North America', 'Caribbean', 193.0, None, 103000, 78.4, 828.0, 793.0, 'Aruba', 'Nonmetropolitan Territory of The Netherlands', 'Beatrix', 129, 'AW')\n",
      "('AFG', 'Afghanistan', 'Asia', 'Southern and Central Asia', 652090.0, 1919, 22720000, 45.9, 5976.0, None, 'Afganistan/Afqanestan', 'Islamic Emirate', 'Mohammad Omar', 1, 'AF')\n",
      "('AGO', 'Angola', 'Africa', 'Central Africa', 1246700.0, 1975, 12878000, 38.3, 6648.0, 7984.0, 'Angola', 'Republic', 'José Eduardo dos Santos', 56, 'AO')\n",
      "('AIA', 'Anguilla', 'North America', 'Caribbean', 96.0, None, 8000, 76.1, 63.2, None, 'Anguilla', 'Dependent Territory of the UK', 'Elisabeth II', 62, 'AI')\n",
      "('ALB', 'Albania', 'Europe', 'Southern Europe', 28748.0, 1912, 3401200, 71.6, 3205.0, 2500.0, 'Shqipëria', 'Republic', 'Rexhep Mejdani', 34, 'AL')\n"
     ]
    }
   ],
   "source": [
    "#DB와 연동\n",
    "dbpath = r\"c:\\Apps\\database\\world.db\"\n",
    "\n",
    "conn = sqlite3.connect(dbpath)\n",
    "cur = conn.cursor()\n",
    "cur.execute(\"SELECT * FROM country LIMIT 5\")\n",
    "rows = cur.fetchall()\n",
    "for r in rows:\n",
    "    print(r)\n",
    "conn.close()"
   ]
  },
  {
   "cell_type": "code",
   "execution_count": 16,
   "metadata": {},
   "outputs": [
    {
     "name": "stdout",
     "output_type": "stream",
     "text": [
      "('ARE', 'United Arab Emirates', 'Asia', 'Middle East', 83600.0, 1971, 2441000, 74.1, 37966.0, 36846.0, 'Al-Imarat al-´Arabiya al-Muttahida', 'Emirate Federation', 'Zayid bin Sultan al-Nahayan', 65, 'AE')\n",
      "('ARM', 'Armenia', 'Asia', 'Middle East', 29800.0, 1991, 3520000, 66.4, 1813.0, 1627.0, 'Hajastan', 'Republic', 'Robert Kotšarjan', 126, 'AM')\n",
      "('AZE', 'Azerbaijan', 'Asia', 'Middle East', 86600.0, 1991, 7734000, 62.9, 4127.0, 4100.0, 'Azärbaycan', 'Federal Republic', 'Heydär Äliyev', 144, 'AZ')\n",
      "('BHR', 'Bahrain', 'Asia', 'Middle East', 694.0, 1971, 617000, 73.0, 6366.0, 6097.0, 'Al-Bahrayn', 'Monarchy (Emirate)', 'Hamad ibn Isa al-Khalifa', 149, 'BH')\n",
      "('CYP', 'Cyprus', 'Asia', 'Middle East', 9251.0, 1960, 754700, 76.7, 9333.0, 8246.0, 'Kýpros/Kibris', 'Republic', 'Glafkos Klerides', 2430, 'CY')\n"
     ]
    }
   ],
   "source": [
    "conn = sqlite3.connect(dbpath)\n",
    "cur = conn.cursor()\n",
    "sql = \"select * from country where continent=? AND region=? limit 5\"\n",
    "cur.execute(sql, ('Asia', 'Middle East'))\n",
    "rows = cur.fetchall()\n",
    "\n",
    "for r in rows:\n",
    "    print(r)\n",
    "conn.close()"
   ]
  },
  {
   "cell_type": "code",
   "execution_count": 20,
   "metadata": {},
   "outputs": [
    {
     "name": "stdout",
     "output_type": "stream",
     "text": [
      "('Tafuna', 5200)\n",
      "('Bridgetown', 6070)\n",
      "('Belmopan', 7105)\n",
      "('Road Town', 8000)\n",
      "('Tamuning', 9500)\n",
      "('Bikenibeu', 5055)\n",
      "('Schaan', 5346)\n",
      "('Vaduz', 5043)\n",
      "('Valletta', 7073)\n",
      "('Palikir', 8600)\n",
      "('Garapan', 9200)\n",
      "('Saint-Pierre', 5808)\n"
     ]
    }
   ],
   "source": [
    "def printPopuRange(start, end):    \n",
    "    conn = sqlite3.connect(dbpath)\n",
    "    #select name, population as p from country where p between 5000 and 10000\n",
    "    cur = conn.cursor()\n",
    "    sql = \"select name, population as p from city where p > ? and p< ?\"\n",
    "    cur.execute(sql, (start, end))\n",
    "\n",
    "    rows = cur.fetchall()\n",
    "    for r in rows:\n",
    "        print(r)\n",
    "\n",
    "    conn.close()\n",
    "    \n",
    "printPopuRange(5000, 10000)"
   ]
  },
  {
   "cell_type": "code",
   "execution_count": 1,
   "metadata": {},
   "outputs": [
    {
     "ename": "NameError",
     "evalue": "name 'sqlite3' is not defined",
     "output_type": "error",
     "traceback": [
      "\u001b[1;31m---------------------------------------------------------------------------\u001b[0m",
      "\u001b[1;31mNameError\u001b[0m                                 Traceback (most recent call last)",
      "\u001b[1;32m<ipython-input-1-c1e418e30427>\u001b[0m in \u001b[0;36m<module>\u001b[1;34m\u001b[0m\n\u001b[0;32m     12\u001b[0m     \u001b[0mconn\u001b[0m\u001b[1;33m.\u001b[0m\u001b[0mclose\u001b[0m\u001b[1;33m(\u001b[0m\u001b[1;33m)\u001b[0m\u001b[1;33m\u001b[0m\u001b[1;33m\u001b[0m\u001b[0m\n\u001b[0;32m     13\u001b[0m \u001b[1;33m\u001b[0m\u001b[0m\n\u001b[1;32m---> 14\u001b[1;33m \u001b[0mprintPopuRange\u001b[0m\u001b[1;33m(\u001b[0m\u001b[1;36m5000\u001b[0m\u001b[1;33m,\u001b[0m \u001b[1;36m10000\u001b[0m\u001b[1;33m)\u001b[0m\u001b[1;33m\u001b[0m\u001b[1;33m\u001b[0m\u001b[0m\n\u001b[0m",
      "\u001b[1;32m<ipython-input-1-c1e418e30427>\u001b[0m in \u001b[0;36mprintPopuRange\u001b[1;34m(start, end)\u001b[0m\n\u001b[0;32m      1\u001b[0m \u001b[1;32mdef\u001b[0m \u001b[0mprintPopuRange\u001b[0m\u001b[1;33m(\u001b[0m\u001b[0mstart\u001b[0m\u001b[1;33m,\u001b[0m \u001b[0mend\u001b[0m\u001b[1;33m)\u001b[0m\u001b[1;33m:\u001b[0m\u001b[1;33m\u001b[0m\u001b[1;33m\u001b[0m\u001b[0m\n\u001b[1;32m----> 2\u001b[1;33m     \u001b[0mconn\u001b[0m \u001b[1;33m=\u001b[0m \u001b[0msqlite3\u001b[0m\u001b[1;33m.\u001b[0m\u001b[0mconnect\u001b[0m\u001b[1;33m(\u001b[0m\u001b[0mdbpath\u001b[0m\u001b[1;33m)\u001b[0m\u001b[1;33m\u001b[0m\u001b[1;33m\u001b[0m\u001b[0m\n\u001b[0m\u001b[0;32m      3\u001b[0m     \u001b[1;31m#select name, population as p from country where p between 5000 and 10000\u001b[0m\u001b[1;33m\u001b[0m\u001b[1;33m\u001b[0m\u001b[1;33m\u001b[0m\u001b[0m\n\u001b[0;32m      4\u001b[0m     \u001b[0mcur\u001b[0m \u001b[1;33m=\u001b[0m \u001b[0mconn\u001b[0m\u001b[1;33m.\u001b[0m\u001b[0mcursor\u001b[0m\u001b[1;33m(\u001b[0m\u001b[1;33m)\u001b[0m\u001b[1;33m\u001b[0m\u001b[1;33m\u001b[0m\u001b[0m\n\u001b[0;32m      5\u001b[0m     \u001b[0msql\u001b[0m \u001b[1;33m=\u001b[0m \u001b[1;34m\"select name, population as p from city where p between :s and :e\"\u001b[0m\u001b[1;33m\u001b[0m\u001b[1;33m\u001b[0m\u001b[0m\n",
      "\u001b[1;31mNameError\u001b[0m: name 'sqlite3' is not defined"
     ]
    }
   ],
   "source": [
    "def printPopuRange(start, end):    \n",
    "    conn = sqlite3.connect(dbpath)\n",
    "    #select name, population as p from country where p between 5000 and 10000\n",
    "    cur = conn.cursor()\n",
    "    sql = \"select name, population as p from city where p between :s and :e\"\n",
    "    cur.execute(sql, {\"s\":start, \"e\":end})\n",
    "\n",
    "    rows = cur.fetchall()\n",
    "    for r in rows:\n",
    "        print(r)\n",
    "\n",
    "    conn.close()\n",
    "    \n",
    "printPopuRange(5000, 10000)"
   ]
  },
  {
   "cell_type": "code",
   "execution_count": null,
   "metadata": {},
   "outputs": [],
   "source": []
  }
 ],
 "metadata": {
  "kernelspec": {
   "display_name": "Python 3",
   "language": "python",
   "name": "python3"
  },
  "language_info": {
   "codemirror_mode": {
    "name": "ipython",
    "version": 3
   },
   "file_extension": ".py",
   "mimetype": "text/x-python",
   "name": "python",
   "nbconvert_exporter": "python",
   "pygments_lexer": "ipython3",
   "version": "3.7.6"
  }
 },
 "nbformat": 4,
 "nbformat_minor": 4
}
