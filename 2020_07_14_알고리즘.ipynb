{
 "cells": [
  {
   "cell_type": "code",
   "execution_count": 5,
   "metadata": {},
   "outputs": [
    {
     "name": "stdout",
     "output_type": "stream",
     "text": [
      "50 50 100\n",
      "4\n",
      "0 0\n",
      "noisy\n",
      "0 100\n",
      "noisy\n",
      "100 0\n",
      "noisy\n",
      "100 0\n",
      "noisy\n"
     ]
    }
   ],
   "source": [
    "import math\n",
    "A,B,r = map(int, input().split())\n",
    "T = int(input())\n",
    "for i in range(0,T):\n",
    "    x,y = map(int, input().split())\n",
    "    D = math.sqrt((x-A)**2 + (y-B)**2)\n",
    "    if D <=r:\n",
    "        print(\"noisy\")\n",
    "    else:\n",
    "        print(\"silent\")"
   ]
  },
  {
   "cell_type": "code",
   "execution_count": 6,
   "metadata": {},
   "outputs": [],
   "source": [
    "#숙제\n",
    "#입력받은 숫자 N의 모든 약수를 출력하시오 (가장 반복문을 덜 도는 방법)"
   ]
  },
  {
   "cell_type": "code",
   "execution_count": null,
   "metadata": {},
   "outputs": [],
   "source": [
    "#최대값, 최소값 구하기\n",
    "#입력받은 정수값들 중 최대값과 최소값 순서대로 출력하시오"
   ]
  }
 ],
 "metadata": {
  "kernelspec": {
   "display_name": "Python 3",
   "language": "python",
   "name": "python3"
  },
  "language_info": {
   "codemirror_mode": {
    "name": "ipython",
    "version": 3
   },
   "file_extension": ".py",
   "mimetype": "text/x-python",
   "name": "python",
   "nbconvert_exporter": "python",
   "pygments_lexer": "ipython3",
   "version": "3.7.6"
  }
 },
 "nbformat": 4,
 "nbformat_minor": 4
}
