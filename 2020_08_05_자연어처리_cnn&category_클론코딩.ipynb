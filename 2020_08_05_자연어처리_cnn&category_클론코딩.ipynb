{
  "nbformat": 4,
  "nbformat_minor": 0,
  "metadata": {
    "colab": {
      "name": "Untitled9.ipynb",
      "provenance": [],
      "collapsed_sections": []
    },
    "kernelspec": {
      "name": "python3",
      "display_name": "Python 3"
    }
  },
  "cells": [
    {
      "cell_type": "code",
      "metadata": {
        "id": "1IqTczaa_HN2",
        "colab_type": "code",
        "colab": {}
      },
      "source": [
        "#문자의 길이 시각화\n",
        "import matplotlib.pyplot as plt\n",
        "\n",
        "len_stc = []\n",
        "for data in X_train:\n",
        "  len_stc.append(len(data))\n",
        "\n",
        "y, x, _ = plt.hist(len_stc, bins = 30)\n",
        "plt.show()\n",
        "print(sum(len_stc)/ len(len_stc))\n",
        "print(y.max())\n",
        "print(x.max())\n",
        "print(x[np.where(y == y.max())])"
      ],
      "execution_count": null,
      "outputs": []
    },
    {
      "cell_type": "code",
      "metadata": {
        "id": "aJW9VHjs_hzD",
        "colab_type": "code",
        "colab": {}
      },
      "source": [
        "# CNN 사용한 모델 구성\n",
        "model = Sequential()\n",
        "model.add(Embedding(5000, 256))\n",
        "#256개의 커널 수, 커널의 크기는 3, padding은 valid면 그냥 줄어든 그대로 / same이면 padding을 해서 원래 input 크기로 맞춤\n",
        "model.add(Conv1D(256, 3, padding='valid', activation = 'relu'))\n",
        "# 그냥 maxpooling도 있지만 이때는 pool 사이즈랑 strieds를 명시해야하는데 global 쓰면 명시안해도 된다\n",
        "model.add(GlobalMaxPooling1D())\n",
        "model.add(Flatten())\n",
        "model.add(Dense(1, activation = 'sigmoid'))"
      ],
      "execution_count": null,
      "outputs": []
    },
    {
      "cell_type": "code",
      "metadata": {
        "id": "uQByhJLdAX3L",
        "colab_type": "code",
        "colab": {}
      },
      "source": [
        "# 스팸 데이터에 적용한 CNN 모델\n",
        "model = Sequential()\n",
        "model.add(Embedding(7792, 32))\n",
        "model.add(Conv1D(256, 3, padding='valid', activation='relu'))\n",
        "model.add(GlobalMaxPooling1D())\n",
        "model.add(Flatten())\n",
        "model.add(Dense(1, activation = 'sigmoid'))"
      ],
      "execution_count": null,
      "outputs": []
    },
    {
      "cell_type": "code",
      "metadata": {
        "id": "o_qAQeogAtkH",
        "colab_type": "code",
        "colab": {}
      },
      "source": [
        "#함수형 api를 사용한 합성 모델\n",
        "#함수형 케라스\n",
        "inputs = Input(shape=(50, ))\n",
        "embed = Embedding(7792, 128)(inputs)\n",
        "\n",
        "#모델 합성\n",
        "concat_layers = []\n",
        "\n",
        "conv = Conv1D(256, 3, padding=\"valid\", activation=\"relu\")(embed)\n",
        "pool = GlobalMaxPooling1D()(conv)\n",
        "flat = Flatten()(pool)\n",
        "concat_layers.append(flat)\n",
        "\n",
        "conv = Conv1D(256, 34, padding=\"valid\", activation=\"relu\")(embed)\n",
        "pool = GlobalMaxPooling1D()(conv)\n",
        "flat = Flatten()(pool)\n",
        "concat_layers.append(flat)\n",
        "\n",
        "conv = Conv1D(256, 5, padding=\"valid\", activation=\"relu\")(embed)\n",
        "pool = GlobalMaxPooling1D()(conv)\n",
        "flat = Flatten()(pool)\n",
        "concat_layers.append(flat)\n",
        "######\n",
        "concat = Concatenate()(concat_layers)\n",
        "\n",
        "outputs = Dense(1, activation=\"sigmoid\")(concat)\n",
        "\n",
        "model = Model(inputs, outputs)"
      ],
      "execution_count": null,
      "outputs": []
    },
    {
      "cell_type": "code",
      "metadata": {
        "id": "pzPmQ1QXBT1t",
        "colab_type": "code",
        "colab": {}
      },
      "source": [
        "#로이터 뉴스 카테고리 분류"
      ],
      "execution_count": 1,
      "outputs": []
    },
    {
      "cell_type": "code",
      "metadata": {
        "id": "muNvNdyBBWE9",
        "colab_type": "code",
        "colab": {}
      },
      "source": [
        "from tensorflow.keras.datasets import reuters\n",
        "from tensorflow.keras.models import Sequential\n",
        "from tensorflow.keras.layers import Dense, LSTM, Embedding\n",
        "from tensorflow.keras.preprocessing.sequence import pad_sequences\n",
        "from tensorflow.keras.utils import to_categorical"
      ],
      "execution_count": 2,
      "outputs": []
    },
    {
      "cell_type": "code",
      "metadata": {
        "id": "wcmqq98kBXhG",
        "colab_type": "code",
        "colab": {}
      },
      "source": [
        "(X_train, y_train), (X_test, y_test) = reuters.load_data(num_words=1000, test_split=0.2, )"
      ],
      "execution_count": 4,
      "outputs": []
    },
    {
      "cell_type": "code",
      "metadata": {
        "id": "Bx1wqhcRBhZz",
        "colab_type": "code",
        "colab": {}
      },
      "source": [
        "max_len = 100\n",
        "X_train = pad_sequences(X_train, maxlen = max_len)\n",
        "X_test = pad_sequences(X_test, maxlen = max_len)"
      ],
      "execution_count": 5,
      "outputs": []
    },
    {
      "cell_type": "code",
      "metadata": {
        "id": "TheeS-Q_Brmu",
        "colab_type": "code",
        "colab": {}
      },
      "source": [
        "y_train = to_categorical(y_train)\n",
        "y_test = to_categorical(y_test)"
      ],
      "execution_count": 6,
      "outputs": []
    },
    {
      "cell_type": "code",
      "metadata": {
        "id": "ZeZaD9DTBwt3",
        "colab_type": "code",
        "colab": {}
      },
      "source": [
        "model = Sequential()\n",
        "model.add(Embedding(1000, 120)) #input size와 input_length ?\n",
        "model.add(LSTM(120)) #출력 공간의 차원\n",
        "model.add(Dense(46, activation ='softmax'))"
      ],
      "execution_count": 8,
      "outputs": []
    },
    {
      "cell_type": "code",
      "metadata": {
        "id": "hB_BqLvAB3uX",
        "colab_type": "code",
        "colab": {
          "base_uri": "https://localhost:8080/",
          "height": 72
        },
        "outputId": "f18aa449-b26c-4772-c121-25dd4540a294"
      },
      "source": [
        "model.compile(loss='categorical_crossentropy', optimizer='adam', metrics=['acc'])\n",
        "model.fit(X_train, y_train, batch_size=128, epochs=1, validation_data=(X_test, y_test))"
      ],
      "execution_count": 9,
      "outputs": [
        {
          "output_type": "stream",
          "text": [
            "71/71 [==============================] - 25s 356ms/step - loss: 2.6213 - acc: 0.3331 - val_loss: 2.3691 - val_acc: 0.3620\n"
          ],
          "name": "stdout"
        },
        {
          "output_type": "execute_result",
          "data": {
            "text/plain": [
              "<tensorflow.python.keras.callbacks.History at 0x7f0d792efeb8>"
            ]
          },
          "metadata": {
            "tags": []
          },
          "execution_count": 9
        }
      ]
    },
    {
      "cell_type": "code",
      "metadata": {
        "id": "QQ493fZyC6M_",
        "colab_type": "code",
        "colab": {}
      },
      "source": [
        ""
      ],
      "execution_count": null,
      "outputs": []
    }
  ]
}