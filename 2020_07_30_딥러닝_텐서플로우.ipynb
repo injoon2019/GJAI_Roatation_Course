{
  "nbformat": 4,
  "nbformat_minor": 0,
  "metadata": {
    "colab": {
      "name": "광인사_AI_03_수업용(1).ipynb",
      "provenance": [],
      "collapsed_sections": [],
      "toc_visible": true
    },
    "kernelspec": {
      "name": "python3",
      "display_name": "Python 3"
    }
  },
  "cells": [
    {
      "cell_type": "markdown",
      "metadata": {
        "id": "TDrpAjrqSsxV",
        "colab_type": "text"
      },
      "source": [
        "\n",
        "* 신경망과 퍼셉트론 \n",
        "* 데이터 정규화\n",
        "* 보스턴의 주택 가격을 예측하기 위한 딥러닝 네트워크 \n",
        "\n"
      ]
    },
    {
      "cell_type": "markdown",
      "metadata": {
        "id": "Ve88CLYBSu6Z",
        "colab_type": "text"
      },
      "source": [
        "## 텐서플로우 불러오기 및 버전확인"
      ]
    },
    {
      "cell_type": "code",
      "metadata": {
        "id": "W7xSdaOrrLOR",
        "colab_type": "code",
        "colab": {
          "base_uri": "https://localhost:8080/",
          "height": 36
        },
        "outputId": "59cae46c-ad07-4d50-e0ce-1b7cf6863e1f"
      },
      "source": [
        "import tensorflow as tf\n",
        "print(tf.__version__) "
      ],
      "execution_count": null,
      "outputs": [
        {
          "output_type": "stream",
          "text": [
            "2.2.0\n"
          ],
          "name": "stdout"
        }
      ]
    },
    {
      "cell_type": "markdown",
      "metadata": {
        "id": "KnAk6_wWru37",
        "colab_type": "text"
      },
      "source": [
        "## 텐서플로우에 탑재된 'boston_housing' 데이터 불러오기\n",
        "- 신경망이 학습을 진행할 수 있도록 .load_data()를 활용한 학습데이터 및  테스트데이터 불러오기"
      ]
    },
    {
      "cell_type": "code",
      "metadata": {
        "id": "rSADL0HErYWl",
        "colab_type": "code",
        "colab": {
          "base_uri": "https://localhost:8080/",
          "height": 55
        },
        "outputId": "d175a4b2-af6e-491d-da17-7f5342bcfa06"
      },
      "source": [
        "from tensorflow.keras.datasets import boston_housing\n",
        "(train_X, train_Y), (test_X, test_Y) = boston_housing.load_data()"
      ],
      "execution_count": null,
      "outputs": [
        {
          "output_type": "stream",
          "text": [
            "Downloading data from https://storage.googleapis.com/tensorflow/tf-keras-datasets/boston_housing.npz\n",
            "57344/57026 [==============================] - 0s 0us/step\n"
          ],
          "name": "stdout"
        }
      ]
    },
    {
      "cell_type": "markdown",
      "metadata": {
        "id": "RASCbOHOvHL7",
        "colab_type": "text"
      },
      "source": [
        "## 각각의 데이터들에 대한 길이 및 일부 데이터 확인 \n",
        "* len() : 값의 길이를 구하는 함수\n",
        "* [0] : 첫번째 행에 접근"
      ]
    },
    {
      "cell_type": "code",
      "metadata": {
        "id": "Z6DnlTFbrzWC",
        "colab_type": "code",
        "colab": {
          "base_uri": "https://localhost:8080/",
          "height": 92
        },
        "outputId": "5027ee20-2bc7-4c8f-b4b8-bda28ad6542a"
      },
      "source": [
        "print(len(train_X), len(test_X))\n",
        "print(train_X[0])\n",
        "print(train_Y[0])"
      ],
      "execution_count": null,
      "outputs": [
        {
          "output_type": "stream",
          "text": [
            "404 102\n",
            "[  1.23247   0.        8.14      0.        0.538     6.142    91.7\n",
            "   3.9769    4.      307.       21.      396.9      18.72   ]\n",
            "15.2\n"
          ],
          "name": "stdout"
        }
      ]
    },
    {
      "cell_type": "markdown",
      "metadata": {
        "id": "OM70zTdEaoyD",
        "colab_type": "text"
      },
      "source": [
        "데이터 표준화"
      ]
    },
    {
      "cell_type": "markdown",
      "metadata": {
        "id": "vzvkP6lJVoVo",
        "colab_type": "text"
      },
      "source": [
        "## 데이터 표준화 작업을 추가하자! \n",
        "- 현재 각 데이터의 단위가 다르다는 것을 확인.\n",
        "(비율 / 0 or 1 / 양의 정수 등... )\n",
        "- 데이터의 표준화 과정이란? \n",
        "  - 각 데이터에서 평균값을 뺀 다음 표준편차로 나눠주는 과정 \n",
        "     -  데이터의 분포를 정규분포로 옮겨주는 과정\n",
        "    \n",
        "![image.png](data:image/png;base64,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)"
      ]
    },
    {
      "cell_type": "code",
      "metadata": {
        "id": "HPx-0U-KW1Mb",
        "colab_type": "code",
        "colab": {}
      },
      "source": [
        "# 학습 데이터(train_x)와 테스트 데이터(test_x)의\n",
        "\n",
        "#train_X에 대한 평균값 구하기\n",
        "x_mean = train_X.mean()\n",
        "#train_X에 대한 표준편차값 구하기\n",
        "x_std = train_X.std()\n",
        "\n",
        "#각 데이터에서 평균값 빼주기\n",
        "train_X -= x_mean\n",
        "#빼준 값에서 표준편차로 나눠주기\n",
        "train_X /= x_std\n",
        "\n",
        "#학습 데이터에서 구한 평균과 표준편차를 활용하여 테스트 데이터를 표준화\n",
        "test_X -= x_mean\n",
        "test_X /= x_std\n",
        "\n",
        "\n",
        "\n",
        "# 학습 데이터(train_y)와 테스트 데이터(test_y)의 표준화 과정\n",
        "\n",
        "#train_Y에 대한 평균값 구하기\n",
        "y_mean = train_Y.mean() \n",
        "#train_Y에 대한 표준편차값 구하기\n",
        "y_std = train_Y.std()\n",
        "\n",
        "#각 데이터에서 평균값 빼주기\n",
        "train_Y -= y_mean\n",
        "#빼준 값에서 표준편차로 나눠주기\n",
        "train_Y /= y_std\n",
        "\n",
        "#학습데이터에서 구한 평균과 표준편차를 활용하여 테스트 데이터를 표준화\n",
        "test_Y -= y_mean\n",
        "test_Y /= y_std"
      ],
      "execution_count": null,
      "outputs": []
    },
    {
      "cell_type": "markdown",
      "metadata": {
        "id": "eX9WPbvL0dpQ",
        "colab_type": "text"
      },
      "source": [
        "###### 데이터 전처리 작업결과 확인\n",
        " - 평균 0 / 표준편차 1"
      ]
    },
    {
      "cell_type": "code",
      "metadata": {
        "id": "WUVwWXQL0b2U",
        "colab_type": "code",
        "colab": {
          "base_uri": "https://localhost:8080/",
          "height": 92
        },
        "outputId": "d168cacc-eb4a-4077-8d81-885b61fd5bc1"
      },
      "source": [
        "print(train_X[0])\n",
        "print(train_Y[0])"
      ],
      "execution_count": null,
      "outputs": [
        {
          "output_type": "stream",
          "text": [
            "[-0.47482083 -0.48335641 -0.42698208 -0.48335641 -0.47963044 -0.44081941\n",
            "  0.15172056 -0.45581402 -0.45565404  1.64280094 -0.33791894  2.26541184\n",
            " -0.35370929]\n",
            "-0.7821526033779157\n"
          ],
          "name": "stdout"
        }
      ]
    },
    {
      "cell_type": "markdown",
      "metadata": {
        "id": "E2Z0kpPbFhOG",
        "colab_type": "text"
      },
      "source": [
        "###### 신경망 모델 구축\n",
        "- 비선형 활성화 함수 : relu\n",
        "  - 첫번째 은닉층 퍼셉트론 수 : 52  \n",
        "  - 두번째 은닉층 퍼셉트론 수 : 39\n",
        "  - 세번째 은닉층 퍼셉트론 수 : 26    \n",
        "  - 네번째 은닉층 퍼셉트론 수 : 1  \n",
        "\n",
        "※ 은닉층의 퍼셉트론은 점차 감소하는 추세로 구축하는 것이 보편적\n",
        "\n",
        "※ 마지막 레이어는 Y값 1개만 예측하면 되기 때문에 퍼셉트론 수를 1로 설정\n"
      ]
    },
    {
      "cell_type": "markdown",
      "metadata": {
        "id": "zuqVyzN9O0fA",
        "colab_type": "text"
      },
      "source": [
        "###### **활성화 함수_ReLU**\n",
        "![ReLU](data:image/png;base64,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)"
      ]
    },
    {
      "cell_type": "code",
      "metadata": {
        "id": "TQP1J2rLr8ka",
        "colab_type": "code",
        "colab": {}
      },
      "source": [
        "model = tf.keras.Sequential([\n",
        "                             tf.keras.layers.Dense(units= 52, activation='relu',input_shape = (13, )),\n",
        "                             tf.keras.layers.Dense(units= 39, activation='relu'),\n",
        "                             tf.keras.layers.Dense(units= 26, activation='relu'),\n",
        "                             tf.keras.layers.Dense(units= 1)\n",
        "])"
      ],
      "execution_count": null,
      "outputs": []
    },
    {
      "cell_type": "markdown",
      "metadata": {
        "id": "0r5p7YOigB5D",
        "colab_type": "text"
      },
      "source": [
        "###### 모델 상세 정보 확인"
      ]
    },
    {
      "cell_type": "code",
      "metadata": {
        "id": "i7x0nXkdf-dO",
        "colab_type": "code",
        "colab": {
          "base_uri": "https://localhost:8080/",
          "height": 305
        },
        "outputId": "794571f9-8344-4ceb-9efa-e659437dc39f"
      },
      "source": [
        "model.summary()"
      ],
      "execution_count": null,
      "outputs": [
        {
          "output_type": "stream",
          "text": [
            "Model: \"sequential\"\n",
            "_________________________________________________________________\n",
            "Layer (type)                 Output Shape              Param #   \n",
            "=================================================================\n",
            "dense (Dense)                (None, 52)                728       \n",
            "_________________________________________________________________\n",
            "dense_1 (Dense)              (None, 39)                2067      \n",
            "_________________________________________________________________\n",
            "dense_2 (Dense)              (None, 26)                1040      \n",
            "_________________________________________________________________\n",
            "dense_3 (Dense)              (None, 1)                 27        \n",
            "=================================================================\n",
            "Total params: 3,862\n",
            "Trainable params: 3,862\n",
            "Non-trainable params: 0\n",
            "_________________________________________________________________\n"
          ],
          "name": "stdout"
        }
      ]
    },
    {
      "cell_type": "markdown",
      "metadata": {
        "id": "AOjZVbPfIfLt",
        "colab_type": "text"
      },
      "source": [
        "###### 컴파일 단계\n",
        "- tf.keras.optimizers.Adam() : 'SGD'와 함께 자주 쓰이는 최적화 함수. \n",
        "- 'Adam optimizer의 우수성'\n",
        "\n",
        "![Adam optimizer의 우수성](data:image/png;base64,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)\n",
        "\n",
        "* 참고 논문 :https://arxiv.org/pdf/1412.6980.pdf*"
      ]
    },
    {
      "cell_type": "code",
      "metadata": {
        "id": "-EsY_Lp-7iwh",
        "colab_type": "code",
        "colab": {}
      },
      "source": [
        "model.compile(optimizer=tf.keras.optimizers.Adam(learning_rate=0.1 ~ 0.0001), loss = 'mse')"
      ],
      "execution_count": null,
      "outputs": []
    },
    {
      "cell_type": "markdown",
      "metadata": {
        "id": "aJ7FZ-t2RIIK",
        "colab_type": "text"
      },
      "source": [
        "###### 모델 학습\n",
        "- epochs : 25\n",
        "- batch_size : 32\n",
        "- vaildation_split : 0.25 (학습 데이터의 검증 데이터 비율 설정)\n",
        "\n",
        "※ 미니배치 스텝수가 10인 이유 : '학습데이터의 25%'를 검증테이터로 활용했기 때문.  "
      ]
    },
    {
      "cell_type": "code",
      "metadata": {
        "id": "gqnZtDzrC7nA",
        "colab_type": "code",
        "colab": {
          "base_uri": "https://localhost:8080/",
          "height": 903
        },
        "outputId": "48c24aee-8f72-427e-e256-b7fffc9fef36"
      },
      "source": [
        "#세대 \n",
        "history = model.fit(train_X, train_Y,epochs = 25, batch_size = 32, validation_split = 0.25)"
      ],
      "execution_count": null,
      "outputs": [
        {
          "output_type": "stream",
          "text": [
            "Epoch 1/25\n",
            "10/10 [==============================] - 0s 19ms/step - loss: 0.9610 - val_loss: 1.2434\n",
            "Epoch 2/25\n",
            "10/10 [==============================] - 0s 6ms/step - loss: 0.7968 - val_loss: 1.1064\n",
            "Epoch 3/25\n",
            "10/10 [==============================] - 0s 5ms/step - loss: 0.7184 - val_loss: 1.0513\n",
            "Epoch 4/25\n",
            "10/10 [==============================] - 0s 5ms/step - loss: 0.6702 - val_loss: 1.0555\n",
            "Epoch 5/25\n",
            "10/10 [==============================] - 0s 5ms/step - loss: 0.6499 - val_loss: 1.0218\n",
            "Epoch 6/25\n",
            "10/10 [==============================] - 0s 5ms/step - loss: 0.6398 - val_loss: 1.0402\n",
            "Epoch 7/25\n",
            "10/10 [==============================] - 0s 4ms/step - loss: 0.6366 - val_loss: 1.0108\n",
            "Epoch 8/25\n",
            "10/10 [==============================] - 0s 4ms/step - loss: 0.6398 - val_loss: 0.9956\n",
            "Epoch 9/25\n",
            "10/10 [==============================] - 0s 4ms/step - loss: 0.6252 - val_loss: 1.0408\n",
            "Epoch 10/25\n",
            "10/10 [==============================] - 0s 5ms/step - loss: 0.6176 - val_loss: 0.9910\n",
            "Epoch 11/25\n",
            "10/10 [==============================] - 0s 4ms/step - loss: 0.6223 - val_loss: 1.0130\n",
            "Epoch 12/25\n",
            "10/10 [==============================] - 0s 4ms/step - loss: 0.6126 - val_loss: 1.0170\n",
            "Epoch 13/25\n",
            "10/10 [==============================] - 0s 4ms/step - loss: 0.6119 - val_loss: 0.9905\n",
            "Epoch 14/25\n",
            "10/10 [==============================] - 0s 4ms/step - loss: 0.6009 - val_loss: 1.0334\n",
            "Epoch 15/25\n",
            "10/10 [==============================] - 0s 5ms/step - loss: 0.6012 - val_loss: 0.9934\n",
            "Epoch 16/25\n",
            "10/10 [==============================] - 0s 5ms/step - loss: 0.5948 - val_loss: 1.0066\n",
            "Epoch 17/25\n",
            "10/10 [==============================] - 0s 5ms/step - loss: 0.5899 - val_loss: 1.0103\n",
            "Epoch 18/25\n",
            "10/10 [==============================] - 0s 5ms/step - loss: 0.5842 - val_loss: 0.9891\n",
            "Epoch 19/25\n",
            "10/10 [==============================] - 0s 4ms/step - loss: 0.5832 - val_loss: 1.0073\n",
            "Epoch 20/25\n",
            "10/10 [==============================] - 0s 5ms/step - loss: 0.5855 - val_loss: 0.9742\n",
            "Epoch 21/25\n",
            "10/10 [==============================] - 0s 5ms/step - loss: 0.5854 - val_loss: 1.0483\n",
            "Epoch 22/25\n",
            "10/10 [==============================] - 0s 5ms/step - loss: 0.5973 - val_loss: 0.9688\n",
            "Epoch 23/25\n",
            "10/10 [==============================] - 0s 5ms/step - loss: 0.6159 - val_loss: 1.0069\n",
            "Epoch 24/25\n",
            "10/10 [==============================] - 0s 5ms/step - loss: 0.6246 - val_loss: 1.0008\n",
            "Epoch 25/25\n",
            "10/10 [==============================] - 0s 5ms/step - loss: 0.5854 - val_loss: 0.9769\n"
          ],
          "name": "stdout"
        }
      ]
    },
    {
      "cell_type": "markdown",
      "metadata": {
        "id": "_1qsf5gtT7OH",
        "colab_type": "text"
      },
      "source": [
        "###### 학습결과 시각화\n",
        "- 학습 데이터로 구한 손실과 검증 데이터의 손실결과 비교.\n",
        "  - 정확하게 학습이 이뤄지지 않고 있음을 확인."
      ]
    },
    {
      "cell_type": "code",
      "metadata": {
        "id": "Vkz28sNtDlv2",
        "colab_type": "code",
        "colab": {
          "base_uri": "https://localhost:8080/",
          "height": 279
        },
        "outputId": "4e0c0c9a-4bd7-4a14-bde0-39328c0ab0f5"
      },
      "source": [
        "import matplotlib.pyplot as plt\n",
        "plt.plot(history.history['loss'],'b-',label = 'loss')\n",
        "plt.plot(history.history['val_loss'],'r--',label = 'val_loss')\n",
        "plt.xlabel('Epoch')\n",
        "plt.legend()\n",
        "plt.show()"
      ],
      "execution_count": null,
      "outputs": [
        {
          "output_type": "display_data",
          "data": {
            "image/png": "[encoded data removed]",
            "text/plain": [
              "<Figure size 432x288 with 1 Axes>"
            ]
          },
          "metadata": {
            "tags": [],
            "needs_background": "light"
          }
        }
      ]
    },
    {
      "cell_type": "markdown",
      "metadata": {
        "id": "ktKYbCQdUgB4",
        "colab_type": "text"
      },
      "source": [
        "###### 테스트 데이터를 활용한 신경망 평가\n",
        "- 높은 손실값을 도출."
      ]
    },
    {
      "cell_type": "code",
      "metadata": {
        "id": "VDN0pd_uEa_A",
        "colab_type": "code",
        "colab": {
          "base_uri": "https://localhost:8080/",
          "height": 53
        },
        "outputId": "1f4aa0a4-4014-4991-e992-f4513a8709c1"
      },
      "source": [
        "model.evaluate(test_X,test_Y)"
      ],
      "execution_count": null,
      "outputs": [
        {
          "output_type": "stream",
          "text": [
            "4/4 [==============================] - 0s 2ms/step - loss: 0.7748\n"
          ],
          "name": "stdout"
        },
        {
          "output_type": "execute_result",
          "data": {
            "text/plain": [
              "0.7748249769210815"
            ]
          },
          "metadata": {
            "tags": []
          },
          "execution_count": 12
        }
      ]
    },
    {
      "cell_type": "markdown",
      "metadata": {
        "id": "lWjrAbhUhknH",
        "colab_type": "text"
      },
      "source": [
        "###### 테스트 데이터에 대한 예측값 도출 \n",
        " - model.predict() :입력 데이터를 넣으면 신경망의 출력 결과 도출 \n"
      ]
    },
    {
      "cell_type": "code",
      "metadata": {
        "id": "4kUjcdVJhmSe",
        "colab_type": "code",
        "colab": {}
      },
      "source": [
        "pred_Y = model.predict(test_X)"
      ],
      "execution_count": null,
      "outputs": []
    },
    {
      "cell_type": "markdown",
      "metadata": {
        "id": "nddp0s87iO3P",
        "colab_type": "text"
      },
      "source": [
        "###### 실제값과 예측값에 대한 결과 시각화\n",
        "\n",
        "- plt.figure(figsize=(n_1,n_2)) : 출력결과에 대한 가로세로 크기 지정\n",
        "- plt.plot(x,y) : x축과 y축에 대한 변수 설정\n",
        "- plt.axis([x_min, x_max], [y_min,y_max]) : 각 x축과 y축에 대한 최소지점과 최대 지점 지정\n",
        "\n",
        "※ 그래프를 가로지르는 대각선에 모든점이 위치해야 하지만 그렇지 못한 모습을\n",
        "보여 주고 있다."
      ]
    },
    {
      "cell_type": "code",
      "metadata": {
        "id": "5pxRJ4qDFLVX",
        "colab_type": "code",
        "colab": {
          "base_uri": "https://localhost:8080/",
          "height": 339
        },
        "outputId": "33ea9277-f74b-4b0a-8f2b-8176a97f4cab"
      },
      "source": [
        "import matplotlib.pyplot as plt\n",
        "\n",
        "#신경망 결과에 대한 시각화\n",
        "plt.figure(figsize=(5,5)) \n",
        "plt.plot(test_Y, pred_Y,'b.')\n",
        "plt.axis([min(test_Y),max(test_Y), min(test_Y),max(test_Y)])\n",
        "\n",
        "#회귀선 시각화\n",
        "plt.plot([min(test_Y),max(test_Y)], [min(test_Y), max(test_Y)],\"r--\")\n",
        "\n",
        "#x축, y축 라벨명 설정 \n",
        "plt.xlabel('test_Y')\n",
        "plt.ylabel('pred_Y')\n",
        "\n",
        "#시각화\n",
        "plt.show()"
      ],
      "execution_count": null,
      "outputs": [
        {
          "output_type": "display_data",
          "data": {
            "image/png": "[encoded data removed]",
            "text/plain": [
              "<Figure size 360x360 with 1 Axes>"
            ]
          },
          "metadata": {
            "tags": [],
            "needs_background": "light"
          }
        }
      ]
    },
    {
      "cell_type": "markdown",
      "metadata": {
        "id": "a1MCJV_EmVSt",
        "colab_type": "text"
      },
      "source": [
        "## 콜백(callback) 함수 - EarlyStopping() \n",
        "#### **왜 사용해야 하지?** \n",
        "###### 신경망이 훈련 데이터에 '과적합' 되지 않도록 학습 도중 끼어들어 학습을 조기 중단.\n",
        "\n",
        "※ '과적합' : 생성된 모델이 학습 데이터와 지나치게 일치하여 새 데이터를 올바르게 예측하지 못하는 경우\n",
        "\n",
        "- 콜백함수는 모델을 학습할 때 에폭이 끝날 때 마다 호출.\n",
        "- patience : 몇 번의 에폭을 기준으로 할 것인지 설정.\n",
        "- moniter : 어떠한 값을 모니터링 할 것인지 설정. "
      ]
    },
    {
      "cell_type": "code",
      "metadata": {
        "id": "1W0Io9cPgNRa",
        "colab_type": "code",
        "colab": {
          "base_uri": "https://localhost:8080/",
          "height": 233
        },
        "outputId": "f616d03f-c4c0-497e-e890-e05e9814d73c"
      },
      "source": [
        "model = tf.keras.Sequential([\n",
        "    tf.keras.layers.Dense(units=52, activation='relu', input_shape=(13,)),\n",
        "    tf.keras.layers.Dense(units=40, activation='relu'),\n",
        "    tf.keras.layers.Dense(units=22, activation='relu'),\n",
        "    tf.keras.layers.Dense(units=1)\n",
        "])\n",
        "\n",
        "model.compile(optimizer=tf.keras.optimizers.Adam(lr=0.08), loss='mse')\n",
        "\n",
        "history = model.fit(train_X, train_Y, epochs=100, batch_size = 32, validation_split = 0.25, \n",
        "                    callbacks = [tf.keras.callbacks.EarlyStopping(patience = 4 , monitor='val_loss')])"
      ],
      "execution_count": null,
      "outputs": [
        {
          "output_type": "stream",
          "text": [
            "Epoch 1/100\n",
            "10/10 [==============================] - 0s 10ms/step - loss: 5.6668 - val_loss: 1.3659\n",
            "Epoch 2/100\n",
            "10/10 [==============================] - 0s 4ms/step - loss: 0.9655 - val_loss: 1.0777\n",
            "Epoch 3/100\n",
            "10/10 [==============================] - 0s 4ms/step - loss: 0.8520 - val_loss: 1.0760\n",
            "Epoch 4/100\n",
            "10/10 [==============================] - 0s 4ms/step - loss: 0.7001 - val_loss: 1.1188\n",
            "Epoch 5/100\n",
            "10/10 [==============================] - 0s 5ms/step - loss: 0.6728 - val_loss: 1.2266\n",
            "Epoch 6/100\n",
            "10/10 [==============================] - 0s 4ms/step - loss: 0.6660 - val_loss: 1.0804\n"
          ],
          "name": "stdout"
        }
      ]
    },
    {
      "cell_type": "markdown",
      "metadata": {
        "id": "QoyBE6TIth-2",
        "colab_type": "text"
      },
      "source": [
        "###### 학습 과정의 변화추이 시각화 \n",
        "- 검증 데이터의 손실에서 뚜렷한 증가세가 보이지 않는다. \n",
        "- '과적합'의 가능성 "
      ]
    },
    {
      "cell_type": "code",
      "metadata": {
        "id": "QSIXVRMfsusR",
        "colab_type": "code",
        "colab": {
          "base_uri": "https://localhost:8080/",
          "height": 279
        },
        "outputId": "865a3a1e-2f79-45fa-a9a1-1d2c297147e2"
      },
      "source": [
        "import matplotlib.pyplot as plt\n",
        "plt.plot(history.history['loss'],'b-',label = 'loss')\n",
        "plt.plot(history.history['val_loss'],'r--',label = 'val_loss')\n",
        "plt.xlabel('Epoch')\n",
        "plt.legend()\n",
        "plt.show()"
      ],
      "execution_count": null,
      "outputs": [
        {
          "output_type": "display_data",
          "data": {
            "image/png": "[encoded data removed]",
            "text/plain": [
              "<Figure size 432x288 with 1 Axes>"
            ]
          },
          "metadata": {
            "tags": [],
            "needs_background": "light"
          }
        }
      ]
    },
    {
      "cell_type": "markdown",
      "metadata": {
        "id": "bHhoRM0huh3y",
        "colab_type": "text"
      },
      "source": [
        "###### 신경망을 활용한 회귀모델 평가"
      ]
    },
    {
      "cell_type": "code",
      "metadata": {
        "id": "PCOcHqxUsmXi",
        "colab_type": "code",
        "colab": {
          "base_uri": "https://localhost:8080/",
          "height": 53
        },
        "outputId": "21ed62af-cb7f-40e0-df6f-bdf050fffb3c"
      },
      "source": [
        "model.evaluate(test_X,test_Y)"
      ],
      "execution_count": null,
      "outputs": [
        {
          "output_type": "stream",
          "text": [
            "4/4 [==============================] - 0s 2ms/step - loss: 0.6744\n"
          ],
          "name": "stdout"
        },
        {
          "output_type": "execute_result",
          "data": {
            "text/plain": [
              "0.6744005084037781"
            ]
          },
          "metadata": {
            "tags": []
          },
          "execution_count": 41
        }
      ]
    },
    {
      "cell_type": "markdown",
      "metadata": {
        "id": "8w3QuAUDsnDe",
        "colab_type": "text"
      },
      "source": [
        "###### 예측결과 시각화"
      ]
    },
    {
      "cell_type": "code",
      "metadata": {
        "id": "9Fe9IpOAokkQ",
        "colab_type": "code",
        "colab": {
          "base_uri": "https://localhost:8080/",
          "height": 339
        },
        "outputId": "608bb708-85a8-4475-f272-16059a39b48f"
      },
      "source": [
        "import matplotlib.pyplot as plt\n",
        "\n",
        "#신경망을 활용한 test_X에 대한 '예측'\n",
        "pred_Y = model.predict(test_X)\n",
        "\n",
        "plt.figure(figsize=(5,5))\n",
        "plt.plot(test_Y, pred_Y,'b.')\n",
        "plt.axis([min(test_Y),max(test_Y), min(test_Y),max(test_Y)])\n",
        "\n",
        "plt.plot([min(test_Y),max(test_Y)], [min(test_Y), max(test_Y)],\"r--\")\n",
        "plt.xlabel('test_Y')\n",
        "plt.ylabel('pred_Y')\n",
        "\n",
        "plt.show()"
      ],
      "execution_count": null,
      "outputs": [
        {
          "output_type": "display_data",
          "data": {
            "image/png": "[encoded data removed]",
            "text/plain": [
              "<Figure size 360x360 with 1 Axes>"
            ]
          },
          "metadata": {
            "tags": [],
            "needs_background": "light"
          }
        }
      ]
    },
    {
      "cell_type": "markdown",
      "metadata": {
        "id": "bCQRGxE03qnM",
        "colab_type": "text"
      },
      "source": [
        "###### 예측결과 확인"
      ]
    },
    {
      "cell_type": "code",
      "metadata": {
        "id": "HyRfqKl0sXTK",
        "colab_type": "code",
        "colab": {
          "base_uri": "https://localhost:8080/",
          "height": 89
        },
        "outputId": "41e48583-3dd4-4fda-959e-3723ab2fc96c"
      },
      "source": [
        "print(pred_Y[0:4])"
      ],
      "execution_count": null,
      "outputs": [
        {
          "output_type": "stream",
          "text": [
            "[[-1.1939644 ]\n",
            " [-0.4371708 ]\n",
            " [ 0.46090198]\n",
            " [-0.4328256 ]]\n"
          ],
          "name": "stdout"
        }
      ]
    },
    {
      "cell_type": "code",
      "metadata": {
        "id": "XwToHWXn3kyF",
        "colab_type": "code",
        "colab": {}
      },
      "source": [
        ""
      ],
      "execution_count": null,
      "outputs": []
    }
  ]
}