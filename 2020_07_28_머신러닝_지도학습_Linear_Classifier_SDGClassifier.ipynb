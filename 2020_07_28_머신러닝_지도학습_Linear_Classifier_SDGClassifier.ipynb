{
 "cells": [
  {
   "cell_type": "markdown",
   "metadata": {
    "colab_type": "text",
    "id": "JpPDNLyjxy2-",
    "slideshow": {
     "slide_type": "slide"
    }
   },
   "source": [
    "# Linear Classifier (선형분류)"
   ]
  },
  {
   "cell_type": "markdown",
   "metadata": {
    "colab_type": "text",
    "id": "UyQchOwzx2eo",
    "slideshow": {
     "slide_type": "slide"
    }
   },
   "source": [
    "- 계산한 값이 0보다 작은 클래스는 -1, 0보다 크면 +1이라고 예측(분류)\n",
    "> ŷ = w[0] * x[0] + w[1] * x[1] + … + w[p] * x[p] + b > 0 <br>\n",
    "> Linear Regression와 매우 비슷하지만 가중치(w) 합을 사용하는 대신 예측한 값을 임계치 0 과 비교\n",
    "\n",
    "- 이진 선형 분류기는 선, 평면, 초평면을 이용하여 2개의 클래스를 구분하는 분류기\n"
   ]
  },
  {
   "cell_type": "markdown",
   "metadata": {
    "colab_type": "text",
    "id": "DDseWGpl6e03",
    "slideshow": {
     "slide_type": "slide"
    }
   },
   "source": [
    "경사하강법(Gradient Descent) 최적화 알고리즘을 사용하여 선형 모델을 작성\n",
    "\n",
    "[SGDClassifier()](https://scikit-learn.org/stable/modules/generated/sklearn.linear_model.SGDClassifier.html)\n",
    "\n",
    "```\n",
    "SGDClassifier(alpha, average, class_weight, epsilon, eta0, fit_intercept, l1_ratio, learning_rat, loss, max_iter, n_iter, n_jobs, penalty, power_t, random_state, shuffle, tol, verbose, warm_start)\n",
    "```\n",
    "확률적 경사하강법(SGD, Stochastic Gradient Descent)을 이용하여 선형모델을 구현\n",
    "\n",
    "- lossstr : 손실함수 (default='hinge')\n",
    "- penalty : {'l2', 'l1', 'elasticnet'}, default='l2'\n",
    "- alpha : 값이 클수록 강력한 정규화(규제) 설정 (default=0.0001)\n",
    "- l1_ratio : L1 규제의 비율(Elastic-Net 믹싱 파라미터 경우에만 사용) (default=0.15)\n",
    "- fit_intercept : 모형에 상수항 (절편)이 있는가 없는가를 결정하는 인수 (default=True)\n",
    "- max_iter : 계산에 사용할 작업 수 (default=1000)\n",
    "- tol : 정밀도\n",
    "- shuffle : 에포크 후에 트레이닝 데이터를 섞는 유무 (default=True)\n",
    "- epsilon : 손실 함수에서의 엡실론, 엡실론이 작은 경우, 현재 예측과 올바른 레이블 간의 차이가 임계 값보다 작으면 무시 (default=0.1)\n",
    "- n_jobs : 병렬 처리 할 때 사용되는 CPU 코어 수\n",
    "- random_state : 난수 seed 설정\n",
    "- learning_rate : 학습속도 (default='optimal')\n",
    "- eta0 : 초기 학습속도 (default=0.0)\n",
    "- power_t : 역 스케일링 학습률 (default=0.5)\n",
    "- early_stopping : 유효성 검사 점수가 향상되지 않을 때 조기 중지여부 (default=False)\n",
    "- validation_fraction : 조기 중지를위한 검증 세트로 설정할 교육 데이터의 비율 (default=0.1)\n",
    "- n_iter_no_change : 조기중지 전 반복횟수 (default=5)\n",
    "- class_weight : 클래스와 관련된 가중치 {class_label: weight} or “balanced”, default=None\n",
    "- warm_start : 초기화 유무 (default=False)\n",
    "- average : True로 설정하면 모든 업데이트에 대한 평균 SGD 가중치를 계산하고 결과를 coef_속성에 저장 (default=False)\n"
   ]
  },
  {
   "cell_type": "markdown",
   "metadata": {
    "colab_type": "text",
    "id": "7AuxaPtIEKD-",
    "slideshow": {
     "slide_type": "slide"
    }
   },
   "source": [
    "#### LinearClassifier 실습 01\n",
    "\n",
    "붓꽃 데이터 셋에 선형분류 적용"
   ]
  },
  {
   "cell_type": "code",
   "execution_count": 1,
   "metadata": {
    "colab": {
     "base_uri": "https://localhost:8080/",
     "height": 34
    },
    "colab_type": "code",
    "executionInfo": {
     "elapsed": 770,
     "status": "ok",
     "timestamp": 1595766120419,
     "user": {
      "displayName": "oz To",
      "photoUrl": "",
      "userId": "12937505880450462933"
     },
     "user_tz": -540
    },
    "id": "X4AvkNOtroC2",
    "outputId": "88e4ba50-4c31-4fb6-d103-444bbfadcacc",
    "slideshow": {
     "slide_type": "slide"
    }
   },
   "outputs": [
    {
     "name": "stdout",
     "output_type": "stream",
     "text": [
      "<class 'sklearn.utils.Bunch'>\n"
     ]
    },
    {
     "data": {
      "text/plain": [
       "(['sepal length (cm)',\n",
       "  'sepal width (cm)',\n",
       "  'petal length (cm)',\n",
       "  'petal width (cm)'],\n",
       " array(['setosa', 'versicolor', 'virginica'], dtype='<U10'))"
      ]
     },
     "execution_count": 1,
     "metadata": {},
     "output_type": "execute_result"
    }
   ],
   "source": [
    "from sklearn.datasets import load_iris\n",
    "\n",
    "iris = load_iris()\n",
    "print(type(iris)) \n",
    "iris.keys()\n",
    "iris.feature_names, iris.target_names"
   ]
  },
  {
   "cell_type": "code",
   "execution_count": 2,
   "metadata": {},
   "outputs": [
    {
     "data": {
      "text/plain": [
       "((150, 4), (150,))"
      ]
     },
     "execution_count": 2,
     "metadata": {},
     "output_type": "execute_result"
    }
   ],
   "source": [
    "X, y = iris.data, iris.target\n",
    "X.shape, y.shape"
   ]
  },
  {
   "cell_type": "code",
   "execution_count": 3,
   "metadata": {},
   "outputs": [
    {
     "data": {
      "text/plain": [
       "array([[5.1, 3.5],\n",
       "       [4.9, 3. ],\n",
       "       [4.7, 3.2],\n",
       "       [4.6, 3.1],\n",
       "       [5. , 3.6]])"
      ]
     },
     "execution_count": 3,
     "metadata": {},
     "output_type": "execute_result"
    }
   ],
   "source": [
    "X2 = X[:, :2] # 꽂받침의 길이, 넓이\n",
    "X2[:5, :]"
   ]
  },
  {
   "cell_type": "code",
   "execution_count": 4,
   "metadata": {},
   "outputs": [
    {
     "data": {
      "text/plain": [
       "Text(0, 0.5, 'Sepal width')"
      ]
     },
     "execution_count": 4,
     "metadata": {},
     "output_type": "execute_result"
    },
    {
     "data": {
      "image/png": "[encoded data removed]",
      "text/plain": [
       "<Figure size 432x288 with 1 Axes>"
      ]
     },
     "metadata": {
      "needs_background": "light"
     },
     "output_type": "display_data"
    }
   ],
   "source": [
    "import matplotlib.pyplot as plt\n",
    "\n",
    "plt.scatter( X2[:, 0][y==0], X2[:, 1][y==0], marker='o')\n",
    "plt.scatter( X2[:, 0][y==1], X2[:, 1][y==1], marker='+')\n",
    "plt.scatter( X2[:, 0][y==2], X2[:, 1][y==2], marker='^')\n",
    "plt.legend( iris.target_names )\n",
    "\n",
    "plt.xlabel(\"Sepal length\")\n",
    "plt.ylabel(\"Sepal width\")"
   ]
  },
  {
   "cell_type": "code",
   "execution_count": 5,
   "metadata": {},
   "outputs": [
    {
     "data": {
      "text/plain": [
       "array([0, 0, 0, 0, 0, 0, 0, 0, 0, 0, 0, 0, 0, 0, 0, 0, 0, 0, 0, 0, 0, 0,\n",
       "       0, 0, 0, 0, 0, 0, 0, 0, 0, 0, 0, 0, 0, 0, 0, 0, 0, 0, 0, 0, 0, 0,\n",
       "       0, 0, 0, 0, 0, 0, 1, 1, 1, 1, 1, 1, 1, 1, 1, 1, 1, 1, 1, 1, 1, 1,\n",
       "       1, 1, 1, 1, 1, 1, 1, 1, 1, 1, 1, 1, 1, 1, 1, 1, 1, 1, 1, 1, 1, 1,\n",
       "       1, 1, 1, 1, 1, 1, 1, 1, 1, 1, 1, 1, 1, 1, 1, 1, 1, 1, 1, 1, 1, 1,\n",
       "       1, 1, 1, 1, 1, 1, 1, 1, 1, 1, 1, 1, 1, 1, 1, 1, 1, 1, 1, 1, 1, 1,\n",
       "       1, 1, 1, 1, 1, 1, 1, 1, 1, 1, 1, 1, 1, 1, 1, 1, 1, 1])"
      ]
     },
     "execution_count": 5,
     "metadata": {},
     "output_type": "execute_result"
    }
   ],
   "source": [
    "y2 = y.copy()\n",
    "y2[ y2 == 2 ] = 1\n",
    "y2"
   ]
  },
  {
   "cell_type": "code",
   "execution_count": 6,
   "metadata": {},
   "outputs": [
    {
     "data": {
      "text/plain": [
       "(75, 2)"
      ]
     },
     "execution_count": 6,
     "metadata": {},
     "output_type": "execute_result"
    }
   ],
   "source": [
    "from sklearn.model_selection import train_test_split\n",
    "\n",
    "# test_size : 테스트 데이터셋의 비율(float)이나 갯수(int) (default = 0.25)\n",
    "X_train, X_test, y_train, y_test = train_test_split(X2, y2, test_size=0.5, random_state=3)\n",
    "X_train.shape"
   ]
  },
  {
   "cell_type": "code",
   "execution_count": 7,
   "metadata": {},
   "outputs": [
    {
     "data": {
      "text/plain": [
       "Text(0, 0.5, 'Sepal width')"
      ]
     },
     "execution_count": 7,
     "metadata": {},
     "output_type": "execute_result"
    },
    {
     "data": {
      "image/png": "[encoded data removed]",
      "text/plain": [
       "<Figure size 432x288 with 1 Axes>"
      ]
     },
     "metadata": {
      "needs_background": "light"
     },
     "output_type": "display_data"
    }
   ],
   "source": [
    "plt.scatter( X_train[:, 0][y_train==0], X_train[:, 1][y_train==0], marker='o')\n",
    "plt.scatter( X_train[:, 0][y_train==1], X_train[:, 1][y_train==1], marker='+')\n",
    "\n",
    "binary_names = ['setosa', 'non-setosa']\n",
    "plt.legend(binary_names)\n",
    "plt.xlabel(\"Sepal length\")\n",
    "plt.ylabel(\"Sepal width\")"
   ]
  },
  {
   "cell_type": "code",
   "execution_count": 8,
   "metadata": {},
   "outputs": [
    {
     "data": {
      "text/plain": [
       "(array([[ 58.39895013, -91.20734908]]), array([-19.10102621]))"
      ]
     },
     "execution_count": 8,
     "metadata": {},
     "output_type": "execute_result"
    }
   ],
   "source": [
    "# 모델학습\n",
    "from sklearn.linear_model import SGDClassifier\n",
    "\n",
    "model = SGDClassifier(max_iter=10000)\n",
    "model.fit(X_train, y_train)\n",
    "\n",
    "model.coef_, model.intercept_"
   ]
  },
  {
   "cell_type": "code",
   "execution_count": 22,
   "metadata": {},
   "outputs": [
    {
     "data": {
      "text/plain": [
       "Text(0, 0.5, 'Sepal width')"
      ]
     },
     "execution_count": 22,
     "metadata": {},
     "output_type": "execute_result"
    },
    {
     "data": {
      "image/png": "[encoded data removed]",
      "text/plain": [
       "<Figure size 432x288 with 1 Axes>"
      ]
     },
     "metadata": {
      "needs_background": "light"
     },
     "output_type": "display_data"
    }
   ],
   "source": [
    "# 결정 경계선\n",
    "import numpy as np\n",
    "\n",
    "a = model.coef_[0,0]\n",
    "b = model.coef_[0,1]\n",
    "c = model.intercept_\n",
    "\n",
    "xx = np.linspace(4, 8, 100)\n",
    "yy = (-a/b) * xx - (c/b)\n",
    "plt.plot(xx, yy)\n",
    "\n",
    "plt.scatter( X_train[:, 0][y_train==0], X_train[:, 1][y_train==0], marker='o')\n",
    "plt.scatter( X_train[:, 0][y_train==1], X_train[:, 1][y_train==1], marker='+')\n",
    "\n",
    "binary_names = ['decision boundary', 'setosa', 'non-setosa']\n",
    "plt.legend(binary_names, loc=(0, 1.05))\n",
    "plt.xlabel(\"Sepal length\")\n",
    "plt.ylabel(\"Sepal width\")"
   ]
  },
  {
   "cell_type": "code",
   "execution_count": 10,
   "metadata": {},
   "outputs": [
    {
     "data": {
      "text/plain": [
       "array([0])"
      ]
     },
     "execution_count": 10,
     "metadata": {},
     "output_type": "execute_result"
    }
   ],
   "source": [
    "# 예측\n",
    "model.predict( [[4.5, 3.5]] )"
   ]
  },
  {
   "cell_type": "code",
   "execution_count": 11,
   "metadata": {},
   "outputs": [
    {
     "data": {
      "text/plain": [
       "(0.9933333333333333, 1.0, 0.9866666666666667)"
      ]
     },
     "execution_count": 11,
     "metadata": {},
     "output_type": "execute_result"
    }
   ],
   "source": [
    "# 스코어 비교\n",
    "model.score(X2, y2), model.score(X_train, y_train), model.score(X_test, y_test)"
   ]
  }
 ],
 "metadata": {
  "celltoolbar": "Slideshow",
  "colab": {
   "authorship_tag": "ABX9TyMYgtB4UWU0sOW3SXV0LBh1",
   "collapsed_sections": [
    "Xb7SWFmlroDd"
   ],
   "name": "ml_05_지도학습_Linear_Classifier.ipynb",
   "provenance": []
  },
  "kernelspec": {
   "display_name": "Python 3",
   "language": "python",
   "name": "python3"
  },
  "language_info": {
   "codemirror_mode": {
    "name": "ipython",
    "version": 3
   },
   "file_extension": ".py",
   "mimetype": "text/x-python",
   "name": "python",
   "nbconvert_exporter": "python",
   "pygments_lexer": "ipython3",
   "version": "3.7.6"
  }
 },
 "nbformat": 4,
 "nbformat_minor": 1
}
