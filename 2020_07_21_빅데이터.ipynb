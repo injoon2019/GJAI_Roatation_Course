{
 "cells": [
  {
   "cell_type": "markdown",
   "metadata": {},
   "source": [
    "### Mini-Project 0206\n",
    "전국 인구조사 데이터"
   ]
  },
  {
   "cell_type": "code",
   "execution_count": 1,
   "metadata": {},
   "outputs": [],
   "source": [
    "import numpy as np\n",
    "import pandas as pd\n",
    "import matplotlib.pyplot as plt\n",
    "import os"
   ]
  },
  {
   "cell_type": "code",
   "execution_count": 2,
   "metadata": {},
   "outputs": [],
   "source": [
    "os.chdir(r'C:\\Users\\injoo\\광주 인공지능 사관학교\\실습 파일\\라이브러리 실습\\________\\data')"
   ]
  },
  {
   "cell_type": "code",
   "execution_count": 11,
   "metadata": {},
   "outputs": [],
   "source": [
    "df = pd.read_csv(\"data_population.csv\", header=\"infer\",na_values=True, encoding=\"euc-kr\")"
   ]
  },
  {
   "cell_type": "code",
   "execution_count": 12,
   "metadata": {},
   "outputs": [
    {
     "data": {
      "text/html": [
       "<div>\n",
       "<style scoped>\n",
       "    .dataframe tbody tr th:only-of-type {\n",
       "        vertical-align: middle;\n",
       "    }\n",
       "\n",
       "    .dataframe tbody tr th {\n",
       "        vertical-align: top;\n",
       "    }\n",
       "\n",
       "    .dataframe thead th {\n",
       "        text-align: right;\n",
       "    }\n",
       "</style>\n",
       "<table border=\"1\" class=\"dataframe\">\n",
       "  <thead>\n",
       "    <tr style=\"text-align: right;\">\n",
       "      <th></th>\n",
       "      <th>Unnamed: 0</th>\n",
       "      <th>Province</th>\n",
       "      <th>City</th>\n",
       "      <th>Population</th>\n",
       "      <th>Households</th>\n",
       "      <th>PersInHou</th>\n",
       "      <th>Male</th>\n",
       "      <th>Female</th>\n",
       "      <th>GenderRatio</th>\n",
       "    </tr>\n",
       "  </thead>\n",
       "  <tbody>\n",
       "    <tr>\n",
       "      <th>0</th>\n",
       "      <td>NaN</td>\n",
       "      <td>서울특별시</td>\n",
       "      <td></td>\n",
       "      <td>10078850</td>\n",
       "      <td>4197478</td>\n",
       "      <td>2.40</td>\n",
       "      <td>4962774</td>\n",
       "      <td>5116076</td>\n",
       "      <td>0.97</td>\n",
       "    </tr>\n",
       "    <tr>\n",
       "      <th>1</th>\n",
       "      <td>2.0</td>\n",
       "      <td>서울특별시</td>\n",
       "      <td>종로구</td>\n",
       "      <td>155695</td>\n",
       "      <td>72882</td>\n",
       "      <td>2.14</td>\n",
       "      <td>76962</td>\n",
       "      <td>78733</td>\n",
       "      <td>0.98</td>\n",
       "    </tr>\n",
       "    <tr>\n",
       "      <th>2</th>\n",
       "      <td>3.0</td>\n",
       "      <td>서울특별시</td>\n",
       "      <td>중구</td>\n",
       "      <td>126817</td>\n",
       "      <td>59614</td>\n",
       "      <td>2.13</td>\n",
       "      <td>63292</td>\n",
       "      <td>63525</td>\n",
       "      <td>NaN</td>\n",
       "    </tr>\n",
       "    <tr>\n",
       "      <th>3</th>\n",
       "      <td>4.0</td>\n",
       "      <td>서울특별시</td>\n",
       "      <td>용산구</td>\n",
       "      <td>235186</td>\n",
       "      <td>108138</td>\n",
       "      <td>2.17</td>\n",
       "      <td>114119</td>\n",
       "      <td>121067</td>\n",
       "      <td>0.94</td>\n",
       "    </tr>\n",
       "    <tr>\n",
       "      <th>4</th>\n",
       "      <td>5.0</td>\n",
       "      <td>서울특별시</td>\n",
       "      <td>성동구</td>\n",
       "      <td>298145</td>\n",
       "      <td>126915</td>\n",
       "      <td>2.35</td>\n",
       "      <td>148265</td>\n",
       "      <td>149880</td>\n",
       "      <td>0.99</td>\n",
       "    </tr>\n",
       "  </tbody>\n",
       "</table>\n",
       "</div>"
      ],
      "text/plain": [
       "   Unnamed: 0 Province  City  Population  Households  PersInHou     Male  \\\n",
       "0         NaN    서울특별시          10078850     4197478       2.40  4962774   \n",
       "1         2.0    서울특별시  종로구       155695       72882       2.14    76962   \n",
       "2         3.0    서울특별시   중구       126817       59614       2.13    63292   \n",
       "3         4.0    서울특별시  용산구       235186      108138       2.17   114119   \n",
       "4         5.0    서울특별시  성동구       298145      126915       2.35   148265   \n",
       "\n",
       "    Female  GenderRatio  \n",
       "0  5116076         0.97  \n",
       "1    78733         0.98  \n",
       "2    63525          NaN  \n",
       "3   121067         0.94  \n",
       "4   149880         0.99  "
      ]
     },
     "execution_count": 12,
     "metadata": {},
     "output_type": "execute_result"
    }
   ],
   "source": [
    "df.head()"
   ]
  },
  {
   "cell_type": "code",
   "execution_count": 13,
   "metadata": {},
   "outputs": [
    {
     "data": {
      "text/plain": [
       "(281, 9)"
      ]
     },
     "execution_count": 13,
     "metadata": {},
     "output_type": "execute_result"
    }
   ],
   "source": [
    "df.shape"
   ]
  },
  {
   "cell_type": "code",
   "execution_count": 14,
   "metadata": {},
   "outputs": [
    {
     "data": {
      "text/plain": [
       "Unnamed: 0     280\n",
       "Province       281\n",
       "City           281\n",
       "Population     281\n",
       "Households     281\n",
       "PersInHou      281\n",
       "Male           281\n",
       "Female         281\n",
       "GenderRatio    251\n",
       "dtype: int64"
      ]
     },
     "execution_count": 14,
     "metadata": {},
     "output_type": "execute_result"
    }
   ],
   "source": [
    "df.count()"
   ]
  },
  {
   "cell_type": "code",
   "execution_count": 15,
   "metadata": {},
   "outputs": [],
   "source": [
    "df.dropna(axis=0, inplace=True)"
   ]
  },
  {
   "cell_type": "code",
   "execution_count": 16,
   "metadata": {},
   "outputs": [
    {
     "data": {
      "text/plain": [
       "Unnamed: 0     250\n",
       "Province       250\n",
       "City           250\n",
       "Population     250\n",
       "Households     250\n",
       "PersInHou      250\n",
       "Male           250\n",
       "Female         250\n",
       "GenderRatio    250\n",
       "dtype: int64"
      ]
     },
     "execution_count": 16,
     "metadata": {},
     "output_type": "execute_result"
    }
   ],
   "source": [
    "df.count()"
   ]
  },
  {
   "cell_type": "code",
   "execution_count": 17,
   "metadata": {},
   "outputs": [
    {
     "data": {
      "text/html": [
       "<div>\n",
       "<style scoped>\n",
       "    .dataframe tbody tr th:only-of-type {\n",
       "        vertical-align: middle;\n",
       "    }\n",
       "\n",
       "    .dataframe tbody tr th {\n",
       "        vertical-align: top;\n",
       "    }\n",
       "\n",
       "    .dataframe thead th {\n",
       "        text-align: right;\n",
       "    }\n",
       "</style>\n",
       "<table border=\"1\" class=\"dataframe\">\n",
       "  <thead>\n",
       "    <tr style=\"text-align: right;\">\n",
       "      <th></th>\n",
       "      <th>Population</th>\n",
       "    </tr>\n",
       "    <tr>\n",
       "      <th>Province</th>\n",
       "      <th></th>\n",
       "    </tr>\n",
       "  </thead>\n",
       "  <tbody>\n",
       "    <tr>\n",
       "      <th>강원도</th>\n",
       "      <td>3094332</td>\n",
       "    </tr>\n",
       "    <tr>\n",
       "      <th>경기도</th>\n",
       "      <td>29405280</td>\n",
       "    </tr>\n",
       "    <tr>\n",
       "      <th>경상남도</th>\n",
       "      <td>7729739</td>\n",
       "    </tr>\n",
       "    <tr>\n",
       "      <th>경상북도</th>\n",
       "      <td>5357530</td>\n",
       "    </tr>\n",
       "    <tr>\n",
       "      <th>광주광역시</th>\n",
       "      <td>2853394</td>\n",
       "    </tr>\n",
       "    <tr>\n",
       "      <th>대구광역시</th>\n",
       "      <td>4189085</td>\n",
       "    </tr>\n",
       "    <tr>\n",
       "      <th>대전광역시</th>\n",
       "      <td>1525656</td>\n",
       "    </tr>\n",
       "    <tr>\n",
       "      <th>부산광역시</th>\n",
       "      <td>6694194</td>\n",
       "    </tr>\n",
       "    <tr>\n",
       "      <th>서울특별시</th>\n",
       "      <td>8727122</td>\n",
       "    </tr>\n",
       "    <tr>\n",
       "      <th>세종특별자치시</th>\n",
       "      <td>370424</td>\n",
       "    </tr>\n",
       "    <tr>\n",
       "      <th>울산광역시</th>\n",
       "      <td>2339536</td>\n",
       "    </tr>\n",
       "    <tr>\n",
       "      <th>인천광역시</th>\n",
       "      <td>4993553</td>\n",
       "    </tr>\n",
       "    <tr>\n",
       "      <th>전라남도</th>\n",
       "      <td>1582336</td>\n",
       "    </tr>\n",
       "    <tr>\n",
       "      <th>전라북도</th>\n",
       "      <td>4064236</td>\n",
       "    </tr>\n",
       "    <tr>\n",
       "      <th>제주특별자치도</th>\n",
       "      <td>775827</td>\n",
       "    </tr>\n",
       "    <tr>\n",
       "      <th>충청남도</th>\n",
       "      <td>4490328</td>\n",
       "    </tr>\n",
       "    <tr>\n",
       "      <th>충청북도</th>\n",
       "      <td>3911633</td>\n",
       "    </tr>\n",
       "  </tbody>\n",
       "</table>\n",
       "</div>"
      ],
      "text/plain": [
       "          Population\n",
       "Province            \n",
       "강원도          3094332\n",
       "경기도         29405280\n",
       "경상남도         7729739\n",
       "경상북도         5357530\n",
       "광주광역시        2853394\n",
       "대구광역시        4189085\n",
       "대전광역시        1525656\n",
       "부산광역시        6694194\n",
       "서울특별시        8727122\n",
       "세종특별자치시       370424\n",
       "울산광역시        2339536\n",
       "인천광역시        4993553\n",
       "전라남도         1582336\n",
       "전라북도         4064236\n",
       "제주특별자치도       775827\n",
       "충청남도         4490328\n",
       "충청북도         3911633"
      ]
     },
     "execution_count": 17,
     "metadata": {},
     "output_type": "execute_result"
    }
   ],
   "source": [
    "# 도별로 인구 합계\n",
    "#1. groupby 메서드 사용\n",
    "df2 = df.groupby(\"Province\").Population.sum()\n",
    "df2.to_frame()"
   ]
  },
  {
   "cell_type": "code",
   "execution_count": 18,
   "metadata": {},
   "outputs": [
    {
     "data": {
      "text/html": [
       "<div>\n",
       "<style scoped>\n",
       "    .dataframe tbody tr th:only-of-type {\n",
       "        vertical-align: middle;\n",
       "    }\n",
       "\n",
       "    .dataframe tbody tr th {\n",
       "        vertical-align: top;\n",
       "    }\n",
       "\n",
       "    .dataframe thead th {\n",
       "        text-align: right;\n",
       "    }\n",
       "</style>\n",
       "<table border=\"1\" class=\"dataframe\">\n",
       "  <thead>\n",
       "    <tr style=\"text-align: right;\">\n",
       "      <th></th>\n",
       "      <th>Population</th>\n",
       "    </tr>\n",
       "    <tr>\n",
       "      <th>Province</th>\n",
       "      <th></th>\n",
       "    </tr>\n",
       "  </thead>\n",
       "  <tbody>\n",
       "    <tr>\n",
       "      <th>강원도</th>\n",
       "      <td>3094332</td>\n",
       "    </tr>\n",
       "    <tr>\n",
       "      <th>경기도</th>\n",
       "      <td>29405280</td>\n",
       "    </tr>\n",
       "    <tr>\n",
       "      <th>경상남도</th>\n",
       "      <td>7729739</td>\n",
       "    </tr>\n",
       "    <tr>\n",
       "      <th>경상북도</th>\n",
       "      <td>5357530</td>\n",
       "    </tr>\n",
       "    <tr>\n",
       "      <th>광주광역시</th>\n",
       "      <td>2853394</td>\n",
       "    </tr>\n",
       "    <tr>\n",
       "      <th>대구광역시</th>\n",
       "      <td>4189085</td>\n",
       "    </tr>\n",
       "    <tr>\n",
       "      <th>대전광역시</th>\n",
       "      <td>1525656</td>\n",
       "    </tr>\n",
       "    <tr>\n",
       "      <th>부산광역시</th>\n",
       "      <td>6694194</td>\n",
       "    </tr>\n",
       "    <tr>\n",
       "      <th>서울특별시</th>\n",
       "      <td>8727122</td>\n",
       "    </tr>\n",
       "    <tr>\n",
       "      <th>세종특별자치시</th>\n",
       "      <td>370424</td>\n",
       "    </tr>\n",
       "    <tr>\n",
       "      <th>울산광역시</th>\n",
       "      <td>2339536</td>\n",
       "    </tr>\n",
       "    <tr>\n",
       "      <th>인천광역시</th>\n",
       "      <td>4993553</td>\n",
       "    </tr>\n",
       "    <tr>\n",
       "      <th>전라남도</th>\n",
       "      <td>1582336</td>\n",
       "    </tr>\n",
       "    <tr>\n",
       "      <th>전라북도</th>\n",
       "      <td>4064236</td>\n",
       "    </tr>\n",
       "    <tr>\n",
       "      <th>제주특별자치도</th>\n",
       "      <td>775827</td>\n",
       "    </tr>\n",
       "    <tr>\n",
       "      <th>충청남도</th>\n",
       "      <td>4490328</td>\n",
       "    </tr>\n",
       "    <tr>\n",
       "      <th>충청북도</th>\n",
       "      <td>3911633</td>\n",
       "    </tr>\n",
       "  </tbody>\n",
       "</table>\n",
       "</div>"
      ],
      "text/plain": [
       "          Population\n",
       "Province            \n",
       "강원도          3094332\n",
       "경기도         29405280\n",
       "경상남도         7729739\n",
       "경상북도         5357530\n",
       "광주광역시        2853394\n",
       "대구광역시        4189085\n",
       "대전광역시        1525656\n",
       "부산광역시        6694194\n",
       "서울특별시        8727122\n",
       "세종특별자치시       370424\n",
       "울산광역시        2339536\n",
       "인천광역시        4993553\n",
       "전라남도         1582336\n",
       "전라북도         4064236\n",
       "제주특별자치도       775827\n",
       "충청남도         4490328\n",
       "충청북도         3911633"
      ]
     },
     "execution_count": 18,
     "metadata": {},
     "output_type": "execute_result"
    }
   ],
   "source": [
    "df3 = pd.pivot_table(df, index=['Province'], values=['Population'], aggfunc = np.sum)\n",
    "df3"
   ]
  },
  {
   "cell_type": "markdown",
   "metadata": {},
   "source": [
    "### Mini-Project 0207 \n",
    "커피숍 영업 현황"
   ]
  },
  {
   "cell_type": "code",
   "execution_count": 66,
   "metadata": {},
   "outputs": [],
   "source": [
    "df = pd.read_csv(\"data_coffee.csv\", header=\"infer\", encoding = \"ms949\")"
   ]
  },
  {
   "cell_type": "code",
   "execution_count": 67,
   "metadata": {},
   "outputs": [
    {
     "data": {
      "text/plain": [
       "(46832, 23)"
      ]
     },
     "execution_count": 67,
     "metadata": {},
     "output_type": "execute_result"
    }
   ],
   "source": [
    "df.shape"
   ]
  },
  {
   "cell_type": "code",
   "execution_count": 68,
   "metadata": {},
   "outputs": [
    {
     "data": {
      "text/html": [
       "<div>\n",
       "<style scoped>\n",
       "    .dataframe tbody tr th:only-of-type {\n",
       "        vertical-align: middle;\n",
       "    }\n",
       "\n",
       "    .dataframe tbody tr th {\n",
       "        vertical-align: top;\n",
       "    }\n",
       "\n",
       "    .dataframe thead th {\n",
       "        text-align: right;\n",
       "    }\n",
       "</style>\n",
       "<table border=\"1\" class=\"dataframe\">\n",
       "  <thead>\n",
       "    <tr style=\"text-align: right;\">\n",
       "      <th></th>\n",
       "      <th>number</th>\n",
       "      <th>companyName</th>\n",
       "      <th>adress</th>\n",
       "      <th>adressBystreet</th>\n",
       "      <th>dateOflicensing</th>\n",
       "      <th>stateOfbusiness</th>\n",
       "      <th>dateOfclosure</th>\n",
       "      <th>startdateOfcessation</th>\n",
       "      <th>duedateOfcessation</th>\n",
       "      <th>dateOfreOpen</th>\n",
       "      <th>...</th>\n",
       "      <th>numOfmenWorker</th>\n",
       "      <th>yearOfStart</th>\n",
       "      <th>multipleUse</th>\n",
       "      <th>grade</th>\n",
       "      <th>sizeOfsite</th>\n",
       "      <th>numOfwomenWorker</th>\n",
       "      <th>vicintyOfsite</th>\n",
       "      <th>sanitaryName</th>\n",
       "      <th>businessCondition</th>\n",
       "      <th>totalOfworker</th>\n",
       "    </tr>\n",
       "  </thead>\n",
       "  <tbody>\n",
       "    <tr>\n",
       "      <th>0</th>\n",
       "      <td>1</td>\n",
       "      <td>#11(Sharp eleven)</td>\n",
       "      <td>서울특별시 양천구 목동 956번지 롯데캐슬위너 상가동 107호(한두3길 44)</td>\n",
       "      <td>서울특별시 양천구 목동중앙북로 38 (목동,롯데캐슬위너 상가동 107호(한두3길 44))</td>\n",
       "      <td>20080917</td>\n",
       "      <td>운영중</td>\n",
       "      <td>NaN</td>\n",
       "      <td>NaN</td>\n",
       "      <td>NaN</td>\n",
       "      <td>NaN</td>\n",
       "      <td>...</td>\n",
       "      <td>NaN</td>\n",
       "      <td>2008.0</td>\n",
       "      <td>N</td>\n",
       "      <td>NaN</td>\n",
       "      <td>20.80</td>\n",
       "      <td>NaN</td>\n",
       "      <td>NaN</td>\n",
       "      <td>휴게음식점</td>\n",
       "      <td>커피숍</td>\n",
       "      <td>NaN</td>\n",
       "    </tr>\n",
       "    <tr>\n",
       "      <th>1</th>\n",
       "      <td>2</td>\n",
       "      <td>( 주)커피빈코리아청주지웰시티점</td>\n",
       "      <td>충청북도 청주시 흥덕구 복대동 3379번지 신영지웰시티1차상업시설 124-1, 12...</td>\n",
       "      <td>충청북도 청주시 흥덕구 대농로 17 (복대동,신영지웰시티1차상업시설 124-1, 1...</td>\n",
       "      <td>20101124</td>\n",
       "      <td>운영중</td>\n",
       "      <td>NaN</td>\n",
       "      <td>NaN</td>\n",
       "      <td>NaN</td>\n",
       "      <td>NaN</td>\n",
       "      <td>...</td>\n",
       "      <td>NaN</td>\n",
       "      <td>2010.0</td>\n",
       "      <td>N</td>\n",
       "      <td>NaN</td>\n",
       "      <td>212.72</td>\n",
       "      <td>NaN</td>\n",
       "      <td>NaN</td>\n",
       "      <td>휴게음식점</td>\n",
       "      <td>커피숍</td>\n",
       "      <td>NaN</td>\n",
       "    </tr>\n",
       "    <tr>\n",
       "      <th>2</th>\n",
       "      <td>3</td>\n",
       "      <td>(aA)더블에이</td>\n",
       "      <td>경상북도 경산시 사동 39번지 108-2호</td>\n",
       "      <td>경상북도 경산시 백자로10길 3-11, 108-2호 (사동)</td>\n",
       "      <td>20130902</td>\n",
       "      <td>운영중</td>\n",
       "      <td>NaN</td>\n",
       "      <td>NaN</td>\n",
       "      <td>NaN</td>\n",
       "      <td>NaN</td>\n",
       "      <td>...</td>\n",
       "      <td>NaN</td>\n",
       "      <td>2013.0</td>\n",
       "      <td>N</td>\n",
       "      <td>NaN</td>\n",
       "      <td>20.04</td>\n",
       "      <td>NaN</td>\n",
       "      <td>아파트지역</td>\n",
       "      <td>휴게음식점</td>\n",
       "      <td>커피숍</td>\n",
       "      <td>NaN</td>\n",
       "    </tr>\n",
       "  </tbody>\n",
       "</table>\n",
       "<p>3 rows × 23 columns</p>\n",
       "</div>"
      ],
      "text/plain": [
       "   number        companyName  \\\n",
       "0       1  #11(Sharp eleven)   \n",
       "1       2  ( 주)커피빈코리아청주지웰시티점   \n",
       "2       3           (aA)더블에이   \n",
       "\n",
       "                                              adress  \\\n",
       "0       서울특별시 양천구 목동 956번지 롯데캐슬위너 상가동 107호(한두3길 44)    \n",
       "1  충청북도 청주시 흥덕구 복대동 3379번지 신영지웰시티1차상업시설 124-1, 12...   \n",
       "2                            경상북도 경산시 사동 39번지 108-2호   \n",
       "\n",
       "                                      adressBystreet  dateOflicensing  \\\n",
       "0  서울특별시 양천구 목동중앙북로 38 (목동,롯데캐슬위너 상가동 107호(한두3길 44))         20080917   \n",
       "1  충청북도 청주시 흥덕구 대농로 17 (복대동,신영지웰시티1차상업시설 124-1, 1...         20101124   \n",
       "2                  경상북도 경산시 백자로10길 3-11, 108-2호 (사동)         20130902   \n",
       "\n",
       "  stateOfbusiness  dateOfclosure  startdateOfcessation  duedateOfcessation  \\\n",
       "0             운영중            NaN                   NaN                 NaN   \n",
       "1             운영중            NaN                   NaN                 NaN   \n",
       "2             운영중            NaN                   NaN                 NaN   \n",
       "\n",
       "   dateOfreOpen  ...  numOfmenWorker  yearOfStart multipleUse  grade  \\\n",
       "0           NaN  ...             NaN       2008.0           N    NaN   \n",
       "1           NaN  ...             NaN       2010.0           N    NaN   \n",
       "2           NaN  ...             NaN       2013.0           N    NaN   \n",
       "\n",
       "   sizeOfsite numOfwomenWorker vicintyOfsite  sanitaryName  businessCondition  \\\n",
       "0       20.80              NaN           NaN         휴게음식점                커피숍   \n",
       "1      212.72              NaN           NaN         휴게음식점                커피숍   \n",
       "2       20.04              NaN         아파트지역         휴게음식점                커피숍   \n",
       "\n",
       "  totalOfworker  \n",
       "0           NaN  \n",
       "1           NaN  \n",
       "2           NaN  \n",
       "\n",
       "[3 rows x 23 columns]"
      ]
     },
     "execution_count": 68,
     "metadata": {},
     "output_type": "execute_result"
    }
   ],
   "source": [
    "df.head(3)"
   ]
  },
  {
   "cell_type": "code",
   "execution_count": 69,
   "metadata": {},
   "outputs": [
    {
     "data": {
      "text/plain": [
       "Index(['number', 'companyName', 'adress', 'adressBystreet', 'dateOflicensing',\n",
       "       'stateOfbusiness', 'dateOfclosure', 'startdateOfcessation',\n",
       "       'duedateOfcessation', 'dateOfreOpen', 'areaOfsite', 'zip', 'waterwork',\n",
       "       'numOfmenWorker', 'yearOfStart', 'multipleUse', 'grade', 'sizeOfsite',\n",
       "       'numOfwomenWorker', 'vicintyOfsite', 'sanitaryName',\n",
       "       'businessCondition', 'totalOfworker'],\n",
       "      dtype='object')"
      ]
     },
     "execution_count": 69,
     "metadata": {},
     "output_type": "execute_result"
    }
   ],
   "source": [
    "df.columns"
   ]
  },
  {
   "cell_type": "code",
   "execution_count": 70,
   "metadata": {},
   "outputs": [
    {
     "data": {
      "text/plain": [
       "2014.0    9905\n",
       "2013.0    7270\n",
       "2012.0    6315\n",
       "2011.0    5942\n",
       "2010.0    4172\n",
       "2015.0    3650\n",
       "2009.0    2489\n",
       "2008.0    1579\n",
       "2007.0    1233\n",
       "2006.0     863\n",
       "2003.0     799\n",
       "2005.0     654\n",
       "2004.0     648\n",
       "2002.0     398\n",
       "2001.0     183\n",
       "2000.0      89\n",
       "1998.0      54\n",
       "1997.0      54\n",
       "1993.0      50\n",
       "1995.0      48\n",
       "1994.0      48\n",
       "1999.0      46\n",
       "1996.0      41\n",
       "1992.0      37\n",
       "1991.0      28\n",
       "1988.0      26\n",
       "1990.0      25\n",
       "1989.0      23\n",
       "1987.0      21\n",
       "1986.0      21\n",
       "1985.0      18\n",
       "1982.0      12\n",
       "1984.0      11\n",
       "1983.0       9\n",
       "1980.0       9\n",
       "1981.0       8\n",
       "1971.0       6\n",
       "1976.0       5\n",
       "1970.0       4\n",
       "1979.0       4\n",
       "1972.0       3\n",
       "1967.0       3\n",
       "1975.0       2\n",
       "1969.0       2\n",
       "1966.0       2\n",
       "1964.0       2\n",
       "1974.0       1\n",
       "1968.0       1\n",
       "Name: yearOfStart, dtype: int64"
      ]
     },
     "execution_count": 70,
     "metadata": {},
     "output_type": "execute_result"
    }
   ],
   "source": [
    "sr = df.yearOfStart.value_counts()  #년도는 숫자의 의미가 없다\n",
    "sr"
   ]
  },
  {
   "cell_type": "code",
   "execution_count": 71,
   "metadata": {},
   "outputs": [
    {
     "data": {
      "text/plain": [
       "1964.0       2\n",
       "1966.0       2\n",
       "1967.0       3\n",
       "1968.0       1\n",
       "1969.0       2\n",
       "1970.0       4\n",
       "1971.0       6\n",
       "1972.0       3\n",
       "1974.0       1\n",
       "1975.0       2\n",
       "1976.0       5\n",
       "1979.0       4\n",
       "1980.0       9\n",
       "1981.0       8\n",
       "1982.0      12\n",
       "1983.0       9\n",
       "1984.0      11\n",
       "1985.0      18\n",
       "1986.0      21\n",
       "1987.0      21\n",
       "1988.0      26\n",
       "1989.0      23\n",
       "1990.0      25\n",
       "1991.0      28\n",
       "1992.0      37\n",
       "1993.0      50\n",
       "1994.0      48\n",
       "1995.0      48\n",
       "1996.0      41\n",
       "1997.0      54\n",
       "1998.0      54\n",
       "1999.0      46\n",
       "2000.0      89\n",
       "2001.0     183\n",
       "2002.0     398\n",
       "2003.0     799\n",
       "2004.0     648\n",
       "2005.0     654\n",
       "2006.0     863\n",
       "2007.0    1233\n",
       "2008.0    1579\n",
       "2009.0    2489\n",
       "2010.0    4172\n",
       "2011.0    5942\n",
       "2012.0    6315\n",
       "2013.0    7270\n",
       "2014.0    9905\n",
       "2015.0    3650\n",
       "Name: yearOfStart, dtype: int64"
      ]
     },
     "execution_count": 71,
     "metadata": {},
     "output_type": "execute_result"
    }
   ],
   "source": [
    "sr.sort_index()  #인덱스를 오름차순으로 정렬하기"
   ]
  },
  {
   "cell_type": "code",
   "execution_count": 47,
   "metadata": {},
   "outputs": [
    {
     "data": {
      "text/plain": [
       "2014.0    9905\n",
       "2013.0    7270\n",
       "2012.0    6315\n",
       "2011.0    5942\n",
       "2010.0    4172\n",
       "2009.0    2489\n",
       "2008.0    1579\n",
       "2007.0    1233\n",
       "2006.0     863\n",
       "2003.0     799\n",
       "2005.0     654\n",
       "2004.0     648\n",
       "2002.0     398\n",
       "2001.0     183\n",
       "2000.0      89\n",
       "1998.0      54\n",
       "1997.0      54\n",
       "1999.0      46\n",
       "Name: yearOfStart, dtype: int64"
      ]
     },
     "execution_count": 47,
     "metadata": {},
     "output_type": "execute_result"
    }
   ],
   "source": [
    "# sr = sr[ (sr>=1997) & (sr<=2014)] 이렇게하면 안되는 이유: 인덱스가 아닌 값으로 정렬하는 것이다 이러면\n",
    "sr = sr[ (sr.index>=1997) & (sr.index<=2014)]\n",
    "sr"
   ]
  },
  {
   "cell_type": "code",
   "execution_count": 48,
   "metadata": {},
   "outputs": [
    {
     "data": {
      "image/png": "[encoded data removed]",
      "text/plain": [
       "<Figure size 432x288 with 1 Axes>"
      ]
     },
     "metadata": {
      "needs_background": "light"
     },
     "output_type": "display_data"
    }
   ],
   "source": [
    "plt.plot(sr.index, sr.values, color=\"green\", alpha=0.3, linewidth=2, linestyle=\"--\")\n",
    "plt.xlim([1997, 2014])\n",
    "plt.show()"
   ]
  },
  {
   "cell_type": "code",
   "execution_count": 49,
   "metadata": {},
   "outputs": [
    {
     "data": {
      "text/plain": [
       "<matplotlib.axes._subplots.AxesSubplot at 0x1ff4ef611c8>"
      ]
     },
     "execution_count": 49,
     "metadata": {},
     "output_type": "execute_result"
    },
    {
     "data": {
      "image/png": "[encoded data removed]",
      "text/plain": [
       "<Figure size 432x288 with 1 Axes>"
      ]
     },
     "metadata": {
      "needs_background": "light"
     },
     "output_type": "display_data"
    }
   ],
   "source": [
    "sr.plot.line(color=\"green\", alpha=0.3, linewidth=2, linestyle=\"--\")\n"
   ]
  },
  {
   "cell_type": "code",
   "execution_count": 50,
   "metadata": {},
   "outputs": [
    {
     "data": {
      "text/plain": [
       "운영중     33587\n",
       "폐업 등    13245\n",
       "Name: stateOfbusiness, dtype: int64"
      ]
     },
     "execution_count": 50,
     "metadata": {},
     "output_type": "execute_result"
    }
   ],
   "source": [
    "df.stateOfbusiness.value_counts()"
   ]
  },
  {
   "cell_type": "code",
   "execution_count": 51,
   "metadata": {},
   "outputs": [
    {
     "data": {
      "text/plain": [
       "(33587, 23)"
      ]
     },
     "execution_count": 51,
     "metadata": {},
     "output_type": "execute_result"
    }
   ],
   "source": [
    "df2 = df[df.stateOfbusiness == \"운영중\"]\n",
    "df2.shape"
   ]
  },
  {
   "cell_type": "code",
   "execution_count": 54,
   "metadata": {},
   "outputs": [
    {
     "data": {
      "text/plain": [
       "(13245, 23)"
      ]
     },
     "execution_count": 54,
     "metadata": {},
     "output_type": "execute_result"
    }
   ],
   "source": [
    "df3 = df[df.stateOfbusiness==\"폐업 등\"]\n",
    "df3.shape\n"
   ]
  },
  {
   "cell_type": "code",
   "execution_count": 56,
   "metadata": {},
   "outputs": [],
   "source": [
    "srOpen = df2.yearOfStart.value_counts()\n",
    "srOpen = srOpen.sort_index()\n",
    "srOpen = srOpen[ (srOpen.index >=1997) & (srOpen.index <=2014)]"
   ]
  },
  {
   "cell_type": "code",
   "execution_count": 57,
   "metadata": {},
   "outputs": [],
   "source": [
    "srClose = df3.yearOfStart.value_counts()\n",
    "srClose = srClose.sort_index()\n",
    "srClose = srClose[ (srClose.index >=1997) & (srClose.index <=2014)]"
   ]
  },
  {
   "cell_type": "code",
   "execution_count": 64,
   "metadata": {},
   "outputs": [
    {
     "data": {
      "image/png": "[encoded data removed]",
      "text/plain": [
       "<Figure size 432x288 with 1 Axes>"
      ]
     },
     "metadata": {
      "needs_background": "light"
     },
     "output_type": "display_data"
    }
   ],
   "source": [
    "plt.plot(srOpen.index, srOpen.values, color=\"blue\", alpha=0.3, linewidth=2, linestyle=\"--\", label=\"open\")\n",
    "plt.plot(srClose.index, srClose.values, color=\"red\", alpha=0.3, linewidth=2, linestyle=\"-.\", label=\"close\")\n",
    "plt.xlim([1997, 2014])\n",
    "plt.legend(loc=2)\n",
    "plt.show()"
   ]
  },
  {
   "cell_type": "code",
   "execution_count": 65,
   "metadata": {},
   "outputs": [
    {
     "data": {
      "image/png": "[encoded data removed]",
      "text/plain": [
       "<Figure size 432x288 with 1 Axes>"
      ]
     },
     "metadata": {
      "needs_background": "light"
     },
     "output_type": "display_data"
    }
   ],
   "source": [
    "srOpen.plot.line(color=\"blue\", alpha=0.3, linewidth=2, linestyle=\"--\", label=\"open\")\n",
    "srClose.plot.line(color=\"red\", alpha=0.3, linewidth=2, linestyle=\"-.\", label=\"close\")\n",
    "plt.xlim([1997, 2014])\n",
    "plt.legend(loc=2)\n",
    "plt.show()"
   ]
  },
  {
   "cell_type": "code",
   "execution_count": null,
   "metadata": {},
   "outputs": [],
   "source": []
  }
 ],
 "metadata": {
  "kernelspec": {
   "display_name": "Python 3",
   "language": "python",
   "name": "python3"
  },
  "language_info": {
   "codemirror_mode": {
    "name": "ipython",
    "version": 3
   },
   "file_extension": ".py",
   "mimetype": "text/x-python",
   "name": "python",
   "nbconvert_exporter": "python",
   "pygments_lexer": "ipython3",
   "version": "3.7.6"
  }
 },
 "nbformat": 4,
 "nbformat_minor": 4
}
