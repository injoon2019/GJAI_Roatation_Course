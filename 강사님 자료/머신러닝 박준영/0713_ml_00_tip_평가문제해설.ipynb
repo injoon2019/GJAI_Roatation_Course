{
 "cells": [
  {
   "cell_type": "markdown",
   "metadata": {
    "colab_type": "text",
    "id": "CBbb04kstVoa"
   },
   "source": [
    "# 5. __파이썬 클래스__ [박준영]"
   ]
  },
  {
   "cell_type": "markdown",
   "metadata": {
    "colab_type": "text",
    "id": "82c65JfAtdGl"
   },
   "source": [
    "__다음 출력결과가 되도록 Account 클래스를 완성하시오.__\n",
    "\n",
    "출력\n",
    "```\n",
    "은행이름: SC은행\n",
    "계좌번호: 670-14-689475\n",
    "--------------------\n",
    "총 계좌수: 2\n",
    "총 계좌수: 3\n",
    "--------------------\n",
    "5\n",
    "--------------------\n",
    "100\n",
    "200\n",
    "--------------------\n",
    "은행이름: SC은행\n",
    "예금주: 파이썬\n",
    "계좌번호: 973-96-615694\n",
    "잔고: 10,000\n",
    "--------------------\n",
    "110\n",
    "--------------------\n",
    "100\n",
    "200\n",
    "300\n",
    "--------------------\n",
    "100\n",
    "200\n",
    "--------------------\n",
    "```"
   ]
  },
  {
   "cell_type": "code",
   "execution_count": null,
   "metadata": {
    "colab": {
     "base_uri": "https://localhost:8080/",
     "height": 134
    },
    "colab_type": "code",
    "executionInfo": {
     "elapsed": 702,
     "status": "error",
     "timestamp": 1594520786890,
     "user": {
      "displayName": "oz To",
      "photoUrl": "",
      "userId": "12937505880450462933"
     },
     "user_tz": -540
    },
    "id": "D8PQ9YHismwj",
    "outputId": "ec14ff95-45f9-44e9-df02-f43a06b90086"
   },
   "outputs": [
    {
     "ename": "IndentationError",
     "evalue": "ignored",
     "output_type": "error",
     "traceback": [
      "\u001b[0;36m  File \u001b[0;32m\"<ipython-input-26-968fb0b521ff>\"\u001b[0;36m, line \u001b[0;32m45\u001b[0m\n\u001b[0;31m    def deposit_history(self):\u001b[0m\n\u001b[0m      ^\u001b[0m\n\u001b[0;31mIndentationError\u001b[0m\u001b[0;31m:\u001b[0m expected an indented block\n"
     ]
    }
   ],
   "source": [
    "import random\n",
    "\n",
    "class Account:\n",
    "  # 클래스 변수\n",
    "  account_count = 0\n",
    "\n",
    "  def __init__(self, name, balance):\n",
    "    self.deposit_count = 0  # 입금횟수 초기화\n",
    "    self.deposit_log = []   # 입금내역\n",
    "    self.withdraw_log = []  # 출금내역\n",
    "\n",
    "    # 빠뜨린 속성 추가 구현\n",
    "    # ...\n",
    "    self.bank = \"SC은행\"\n",
    "\n",
    "    # 랜덤하게 개좌번호 생성을 구현\n",
    "    # ...\n",
    "\n",
    "    self.account_number = num1 + '-' + num2 + '-' + num3\n",
    "    Account.account_count += 1\n",
    "  \n",
    "  @classmethod\n",
    "  def get_account_num(cls):\n",
    "    print(cls.account_count)\n",
    "  \n",
    "  def deposit(self, amount):\n",
    "    if amount > 1:\n",
    "      self.deposit_log.append(amount)\n",
    "      self.balance += amount\n",
    "\n",
    "      self.deposit_count += 1\n",
    "      if self.deposit_count % 5 == 0:   # 5, 10, 15 ...\n",
    "        self.balance *= 1.01            # 이자\n",
    "    \n",
    "  def withdraw(self, amount):\n",
    "    if self.balance > amount:\n",
    "      self.withdraw_log.append(amount)\n",
    "      self.balance -= amount\n",
    "    \n",
    "  def display_info(self):\n",
    "    # 정보출력을 구현\n",
    "    # ...\n",
    "  \n",
    "  def deposit_history(self):\n",
    "    # 예금 히스토리 출력을 구현\n",
    "  \n",
    "  def withdraw_history(self):\n",
    "    # 출금 히스토리 출력을 구현\n",
    "\n",
    "\n",
    "\n",
    "kim = Account(\"김민수\", 100)\n",
    "print(\"은행이름:\", kim.bank) \n",
    "print(\"계좌번호:\", kim.account_number) \n",
    "print('-'*20)\n",
    "\n",
    "kim = Account(\"김민수\", 100)\n",
    "print(\"총 계좌수:\", Account.account_count)\n",
    "lee = Account(\"이민수\", 100)\n",
    "print(\"총 계좌수:\", Account.account_count)\n",
    "print('-'*20)\n",
    "\n",
    "kim = Account(\"김민수\", 100)\n",
    "lee = Account(\"이민수\", 100)\n",
    "Account.get_account_num()\n",
    "print('-'*20)\n",
    "\n",
    "kim = Account(\"김민수\", 100)\n",
    "kim.deposit(1)\n",
    "print(kim.balance)\n",
    "kim.deposit(100)\n",
    "print(kim.balance)\n",
    "print('-'*20)\n",
    "\n",
    "p = Account(\"파이썬\", 10000)\n",
    "p.display_info()\n",
    "print('-'*20)\n",
    "\n",
    "kim = Account(\"김민수\", 100)\n",
    "kim.deposit(100)\n",
    "kim.withdraw(90)\n",
    "print(kim.balance)\n",
    "print('-'*20)\n",
    "\n",
    "p = Account(\"파이썬\", 10000)\n",
    "p.deposit(100)\n",
    "p.deposit(200)\n",
    "p.deposit(300)\n",
    "p.deposit_history()\n",
    "print('-'*20)\n",
    "\n",
    "p.withdraw(100)\n",
    "p.withdraw(200)\n",
    "p.withdraw_history()\n",
    "print('-'*20)"
   ]
  },
  {
   "cell_type": "markdown",
   "metadata": {
    "colab_type": "text",
    "id": "sdk11Fg5Asag"
   },
   "source": [
    "## 5번 풀이"
   ]
  },
  {
   "cell_type": "code",
   "execution_count": null,
   "metadata": {
    "colab": {
     "base_uri": "https://localhost:8080/",
     "height": 467
    },
    "colab_type": "code",
    "executionInfo": {
     "elapsed": 741,
     "status": "ok",
     "timestamp": 1594523479975,
     "user": {
      "displayName": "oz To",
      "photoUrl": "",
      "userId": "12937505880450462933"
     },
     "user_tz": -540
    },
    "id": "O4toURfiuDLw",
    "outputId": "a386b74c-f82c-40c9-a255-3b46b0f8e8d8"
   },
   "outputs": [
    {
     "name": "stdout",
     "output_type": "stream",
     "text": [
      "은행이름: SC은행\n",
      "계좌번호: 513-27-412705\n",
      "--------------------\n",
      "총 계좌수: 2\n",
      "총 계좌수: 3\n",
      "--------------------\n",
      "5\n",
      "--------------------\n",
      "100\n",
      "200\n",
      "--------------------\n",
      "은행이름: SC은행\n",
      "예금주: 파이썬\n",
      "계좌번호: 040-84-292004\n",
      "잔고: 10,000\n",
      "--------------------\n",
      "110\n",
      "--------------------\n",
      "100\n",
      "200\n",
      "300\n",
      "--------------------\n",
      "100\n",
      "200\n",
      "--------------------\n"
     ]
    }
   ],
   "source": [
    "import random\n",
    "\n",
    "class Account:\n",
    "  # 클래스 변수\n",
    "  account_count = 0\n",
    "\n",
    "  def __init__(self, name, balance):\n",
    "    self.deposit_count = 0  # 입금횟수 초기화\n",
    "    self.deposit_log = []   # 입금내역\n",
    "    self.withdraw_log = []  # 출금내역\n",
    "\n",
    "    # 빠뜨린 속성 추가 구현\n",
    "    # ...\n",
    "    self.name = name\n",
    "    self.balance = balance\n",
    "    self.bank = \"SC은행\"\n",
    "\n",
    "    # 랜덤하게 개좌번호 생성을 구현\n",
    "    # ...\n",
    "    # num1 = '123'\n",
    "    # num2 = '12'\n",
    "    # num3 = '123456'\n",
    "    num1 = random.randint(0, 999)\n",
    "    num1 = str(num1).zfill(3)    # 1 -> '1' -> '001'\n",
    "    num2 = str(random.randint(0, 99)).zfill(2)     # 1 -> '1' -> '01'\n",
    "    num3 = str(random.randint(0, 999999)).zfill(6) # 1 -> '1' -> '0000001'\n",
    "\n",
    "\n",
    "    self.account_number = num1 + '-' + num2 + '-' + num3\n",
    "    Account.account_count += 1\n",
    "  \n",
    "  @classmethod\n",
    "  def get_account_num(cls):\n",
    "    print(cls.account_count)\n",
    "    return cls.account_count\n",
    "\n",
    "  def deposit(self, amount):\n",
    "    if amount > 1:\n",
    "      self.deposit_log.append(amount)\n",
    "      self.balance += amount\n",
    "\n",
    "      self.deposit_count += 1\n",
    "      if self.deposit_count % 5 == 0:   # 5, 10, 15 ...\n",
    "        self.balance *= 1.01            # 이자\n",
    "    \n",
    "  def withdraw(self, amount):\n",
    "    if self.balance > amount:\n",
    "      self.withdraw_log.append(amount)\n",
    "      self.balance -= amount\n",
    "    \n",
    "  def display_info(self):\n",
    "    # 정보출력을 구현\n",
    "    # ...\n",
    "    print(\"은행이름:\", self.bank)\n",
    "    print(\"예금주:\", self.name)\n",
    "    print(\"계좌번호:\", self.account_number)\n",
    "    print(\"잔고:\", format(self.balance, ','))\n",
    "  \n",
    "  def deposit_history(self):\n",
    "    # 예금 히스토리 출력을 구현\n",
    "    for amount in self.deposit_log:\n",
    "      print(amount)\n",
    "    return self.deposit_log\n",
    "  \n",
    "  def withdraw_history(self):\n",
    "    # 출금 히스토리 출력을 구현\n",
    "    for amount in self.withdraw_log:\n",
    "      print(amount)\n",
    "    return self.withdraw_log\n",
    "\n",
    "\n",
    "\n",
    "kim = Account(\"김민수\", 100)\n",
    "print(\"은행이름:\", kim.bank) \n",
    "print(\"계좌번호:\", kim.account_number) \n",
    "print('-'*20)\n",
    "\n",
    "kim = Account(\"김민수\", 100)\n",
    "print(\"총 계좌수:\", Account.account_count)\n",
    "lee = Account(\"이민수\", 100)\n",
    "print(\"총 계좌수:\", Account.account_count)\n",
    "print('-'*20)\n",
    "\n",
    "kim = Account(\"김민수\", 100)\n",
    "lee = Account(\"이민수\", 100)\n",
    "Account.get_account_num()\n",
    "print('-'*20)\n",
    "\n",
    "kim = Account(\"김민수\", 100)\n",
    "kim.deposit(1)\n",
    "print(kim.balance)\n",
    "kim.deposit(100)\n",
    "print(kim.balance)\n",
    "print('-'*20)\n",
    "\n",
    "p = Account(\"파이썬\", 10000)\n",
    "p.display_info()\n",
    "print('-'*20)\n",
    "\n",
    "kim = Account(\"김민수\", 100)\n",
    "kim.deposit(100)\n",
    "kim.withdraw(90)\n",
    "print(kim.balance)\n",
    "print('-'*20)\n",
    "\n",
    "p = Account(\"파이썬\", 10000)\n",
    "p.deposit(100)\n",
    "p.deposit(200)\n",
    "p.deposit(300)\n",
    "p.deposit_history()\n",
    "print('-'*20)\n",
    "\n",
    "p.withdraw(100)\n",
    "p.withdraw(200)\n",
    "p.withdraw_history()\n",
    "print('-'*20)"
   ]
  },
  {
   "cell_type": "code",
   "execution_count": null,
   "metadata": {
    "colab": {
     "base_uri": "https://localhost:8080/",
     "height": 89
    },
    "colab_type": "code",
    "executionInfo": {
     "elapsed": 664,
     "status": "ok",
     "timestamp": 1594523338913,
     "user": {
      "displayName": "oz To",
      "photoUrl": "",
      "userId": "12937505880450462933"
     },
     "user_tz": -540
    },
    "id": "qOBtzn4h-V_3",
    "outputId": "24263224-0a29-4ab8-a5ee-3c5569560480"
   },
   "outputs": [
    {
     "name": "stdout",
     "output_type": "stream",
     "text": [
      "294\n",
      "012\n",
      "001\n"
     ]
    },
    {
     "data": {
      "application/vnd.google.colaboratory.intrinsic": {
       "type": "string"
      },
      "text/plain": [
       "'001'"
      ]
     },
     "execution_count": 69,
     "metadata": {
      "tags": []
     },
     "output_type": "execute_result"
    }
   ],
   "source": [
    "# 랜덤과 고정 자릿수 만드는 법\n",
    "num = str( random.randint(0, 999) )\n",
    "print(num)\n",
    "\n",
    "# 자릿수 계산\n",
    "num = '12'\n",
    "ln = 3 - len(num)\n",
    "num = ('0'*ln) + num\n",
    "print(num)\n",
    "\n",
    "# format 이용\n",
    "num = '1'\n",
    "print( \"{:>03}\".format(num) )\n",
    "\n",
    "# string 함수 zfill() 이용\n",
    "num.zfill(3)"
   ]
  },
  {
   "cell_type": "markdown",
   "metadata": {
    "colab_type": "text",
    "id": "Ft5cb9-dA0Mn"
   },
   "source": [
    "파이썬 유닛 테스트\n",
    "\n",
    "[unittest — 단위 테스트 프레임워크](https://docs.python.org/ko/3/library/unittest.html)"
   ]
  },
  {
   "cell_type": "code",
   "execution_count": null,
   "metadata": {
    "colab": {
     "base_uri": "https://localhost:8080/",
     "height": 215
    },
    "colab_type": "code",
    "executionInfo": {
     "elapsed": 1225,
     "status": "ok",
     "timestamp": 1594525594490,
     "user": {
      "displayName": "oz To",
      "photoUrl": "",
      "userId": "12937505880450462933"
     },
     "user_tz": -540
    },
    "id": "4o0pmvLiuT4s",
    "outputId": "15a89566-3e67-4bae-f85b-e3d410ab74db"
   },
   "outputs": [
    {
     "name": "stderr",
     "output_type": "stream",
     "text": [
      "......."
     ]
    },
    {
     "name": "stdout",
     "output_type": "stream",
     "text": [
      "3\n",
      "100\n",
      "200\n",
      "300\n",
      "100\n",
      "200\n"
     ]
    },
    {
     "name": "stderr",
     "output_type": "stream",
     "text": [
      "\n",
      "----------------------------------------------------------------------\n",
      "Ran 7 tests in 0.008s\n",
      "\n",
      "OK\n"
     ]
    }
   ],
   "source": [
    "import unittest\n",
    "\n",
    "class AcountTest(unittest.TestCase):\n",
    "  # 사전 준비 작업, 각 테스트의 초기화\n",
    "  def setUp(self):\n",
    "    Account.account_count = 0\n",
    "\n",
    "  # 사후 처리, 각 테스트의 Clean up\n",
    "  def tearDown(self):\n",
    "    pass\n",
    "\n",
    "\n",
    "  def test_account(self):\n",
    "    kim = Account(\"김민수\", 100)\n",
    "    self.assertEqual(kim.bank, 'SC은행') \n",
    "    self.assertEqual(len(kim.account_number), len('670-14-689475'))  # 랜덤하기 때문에 길이만 테스트\n",
    "\n",
    "  def test_account_count(self):\n",
    "    kim = Account(\"김민수\", 100)\n",
    "    self.assertEqual(Account.account_count, 1)\n",
    "    lee = Account(\"이민수\", 100)\n",
    "    self.assertEqual(Account.account_count, 2)\n",
    "    park = Account(\"박철수\", 100)\n",
    "    self.assertEqual(Account.get_account_num(), 3)  # 함수의 리턴값이 없음을 알게됨\n",
    "\n",
    "  def test_balance(self):\n",
    "    kim = Account(\"김민수\", 100)\n",
    "    kim.deposit(1)\n",
    "    self.assertEqual(kim.balance, 100)\n",
    "    kim.deposit(100)\n",
    "    self.assertEqual(kim.balance, 200)\n",
    "\n",
    "  def test_display_info(self):  # 딕셔너리 형식의 결과값을 추천\n",
    "    pass\n",
    "\n",
    "  def test_withdraw(self):\n",
    "    kim = Account(\"김민수\", 100)\n",
    "    kim.deposit(100)\n",
    "    kim.withdraw(90)\n",
    "    self.assertEqual(kim.balance, 110)\n",
    "\n",
    "  def test_deposit_history(self):\n",
    "    p = Account(\"파이썬\", 10000)\n",
    "    p.deposit(100)\n",
    "    p.deposit(200)\n",
    "    p.deposit(300)\n",
    "    # 리턴값(결과값)이 없음을 알게되어 수정\n",
    "    self.assertEqual(p.deposit_history(), [100, 200, 300])\n",
    "    # 초기화 금액도 입금으로 해야 되지 않을까?..\n",
    "\n",
    "  def test_withdraw_history(self):\n",
    "    p = Account(\"파이썬\", 10000)\n",
    "    p.withdraw(100)\n",
    "    p.withdraw(200)\n",
    "    # 리턴값(결과값)이 없음을 알게되어 수정\n",
    "    self.assertEqual(p.withdraw_history(), [100, 200])\n",
    "\n",
    "\n",
    "\n",
    "\n",
    "# 기본 테스트 메서드들의 실행\n",
    "# if __name__ == '__main__':\n",
    "#     unittest.main()\n",
    "\n",
    "# Jupyter에서 테스트 메서드들의 실행\n",
    "# 이유: Jupyter의 커널 명이 sys.argv 의 첫 파라미터로 unittest.main에 절달되기 때문\n",
    "# import sys\n",
    "# print(sys.argv)\n",
    "if __name__ == '__main__':\n",
    "    unittest.main(argv=['first-arg-is-ignored'], exit=False)"
   ]
  },
  {
   "cell_type": "markdown",
   "metadata": {
    "colab_type": "text",
    "id": "sb1Dg4KLtuIM"
   },
   "source": [
    "# 6. __파이썬 상속__ [박준영]"
   ]
  },
  {
   "cell_type": "markdown",
   "metadata": {
    "colab_type": "text",
    "id": "q2ZVCGa8tvm-"
   },
   "source": [
    "__다음 출력결과가 되도록 Observer 클래스를 완성하시오.__\n",
    "\n",
    "출력\n",
    "```\n",
    "user activation event received..\n",
    "send sms\n",
    "user activation event received..\n",
    "send email\n",
    "user activation event received..\n",
    "send push notification\n",
    "```"
   ]
  },
  {
   "cell_type": "code",
   "execution_count": null,
   "metadata": {
    "colab": {},
    "colab_type": "code",
    "id": "yvQ_5qjktyUZ"
   },
   "outputs": [],
   "source": [
    "class Observer: \n",
    "    def __init__(self):\n",
    "        pass\n",
    "\n",
    "    def notify(self, event_data):\n",
    "        pass\n",
    "\n",
    "    def register(self, observer):\n",
    "        pass\n",
    "\n",
    "    def unregister(self, observer):\n",
    "        pass\n",
    "\n",
    "\n",
    "class SMSNotifier:    \n",
    "    def notify(self, event_data):\n",
    "        print(event_data, 'received..')\n",
    "        print('send sms')\n",
    "        \n",
    "class EmailNotifier:\n",
    "    def notify(self, event_data):\n",
    "        print(event_data, 'received..')\n",
    "        print('send email')\n",
    "        \n",
    "class PushNotifier:\n",
    "    def notify(self, event_data):\n",
    "        print(event_data, 'received..')\n",
    "        print('send push notification')\n",
    "\n",
    "\n",
    "\n",
    "notifier = Observer()\n",
    "\n",
    "sms_notifier = SMSNotifier()\n",
    "email_notifier = EmailNotifier()\n",
    "push_notifier = PushNotifier()\n",
    "\n",
    "notifier.register(sms_notifier)\n",
    "notifier.register(email_notifier)\n",
    "notifier.register(push_notifier)\n",
    "\n",
    "notifier.notify('user activation event')"
   ]
  },
  {
   "cell_type": "markdown",
   "metadata": {
    "colab_type": "text",
    "id": "q_1tkSFQBCK7"
   },
   "source": [
    "## 6번 풀이"
   ]
  },
  {
   "cell_type": "code",
   "execution_count": 4,
   "metadata": {
    "colab": {
     "base_uri": "https://localhost:8080/",
     "height": 125
    },
    "colab_type": "code",
    "executionInfo": {
     "elapsed": 680,
     "status": "ok",
     "timestamp": 1594615314693,
     "user": {
      "displayName": "oz To",
      "photoUrl": "",
      "userId": "12937505880450462933"
     },
     "user_tz": -540
    },
    "id": "0GQ6ngHNdwkH",
    "outputId": "1b63aad8-30ae-4991-faad-97744001e9e6"
   },
   "outputs": [
    {
     "name": "stdout",
     "output_type": "stream",
     "text": [
      "user activation event received..\n",
      "send sms\n",
      "user activation event received..\n",
      "send email\n",
      "user activation event received..\n",
      "send push notification\n"
     ]
    }
   ],
   "source": [
    "class Observer: \n",
    "    def __init__(self):\n",
    "        self.observers = list()\n",
    "    \n",
    "    def notify(self, event_data):\n",
    "      for observer in self.observers:\n",
    "        observer.notify(event_data)\n",
    "\n",
    "    def register(self, observer):\n",
    "        self.observers.append(observer)\n",
    "\n",
    "    def unregister(self, observer):\n",
    "        self.observers.remove(observer)\n",
    "\n",
    "\n",
    "\n",
    "class SMSNotifier:    \n",
    "    def notify(self, event_data):\n",
    "        print(event_data, 'received..')\n",
    "        print('send sms')\n",
    "\n",
    "class EmailNotifier:\n",
    "    def notify(self, event_data):\n",
    "        print(event_data, 'received..')\n",
    "        print('send email')\n",
    "\n",
    "class PushNotifier:\n",
    "    def notify(self, event_data):\n",
    "        print(event_data, 'received..')\n",
    "        print('send push notification')\n",
    "\n",
    "\n",
    "notifier = Observer()\n",
    "\n",
    "sms_notifier = SMSNotifier()\n",
    "email_notifier = EmailNotifier()\n",
    "push_notifier = PushNotifier()\n",
    "\n",
    "notifier.register(sms_notifier)\n",
    "notifier.register(email_notifier)\n",
    "notifier.register(push_notifier)\n",
    "\n",
    "notifier.notify('user activation event')"
   ]
  },
  {
   "cell_type": "markdown",
   "metadata": {
    "colab_type": "text",
    "id": "cGhMi0wxMENa"
   },
   "source": [
    "### 추상 클래스(abstract class)\n",
    "\n",
    "[abc (abstract base class) — 추상 베이스 클래스](https://docs.python.org/ko/3/library/abc.html)\n",
    "\n",
    "[사용자 정의 함수 객체](https://docs.python.org/ko/3.6/reference/compound_stmts.html#function)\n",
    "\n"
   ]
  },
  {
   "cell_type": "code",
   "execution_count": null,
   "metadata": {
    "colab": {
     "base_uri": "https://localhost:8080/",
     "height": 35
    },
    "colab_type": "code",
    "executionInfo": {
     "elapsed": 2368,
     "status": "ok",
     "timestamp": 1594527773888,
     "user": {
      "displayName": "oz To",
      "photoUrl": "",
      "userId": "12937505880450462933"
     },
     "user_tz": -540
    },
    "id": "G-9g89VvQoCX",
    "outputId": "21ccafc7-92ce-454c-df79-35f97356a16e"
   },
   "outputs": [
    {
     "name": "stdout",
     "output_type": "stream",
     "text": [
      "Python 3.6.9\n"
     ]
    }
   ],
   "source": [
    "!python --version"
   ]
  },
  {
   "cell_type": "code",
   "execution_count": 6,
   "metadata": {
    "colab": {
     "base_uri": "https://localhost:8080/",
     "height": 244
    },
    "colab_type": "code",
    "executionInfo": {
     "elapsed": 629,
     "status": "error",
     "timestamp": 1594615385668,
     "user": {
      "displayName": "oz To",
      "photoUrl": "",
      "userId": "12937505880450462933"
     },
     "user_tz": -540
    },
    "id": "Xi-IkXeIBDhn",
    "outputId": "b5d9da38-3365-4346-9f2e-7326fdbc83ba"
   },
   "outputs": [
    {
     "ename": "TypeError",
     "evalue": "ignored",
     "output_type": "error",
     "traceback": [
      "\u001b[0;31m---------------------------------------------------------------------------\u001b[0m",
      "\u001b[0;31mTypeError\u001b[0m                                 Traceback (most recent call last)",
      "\u001b[0;32m<ipython-input-6-9efe7be048de>\u001b[0m in \u001b[0;36m<module>\u001b[0;34m()\u001b[0m\n\u001b[1;32m     60\u001b[0m \u001b[0mnotifier\u001b[0m\u001b[0;34m.\u001b[0m\u001b[0mregister\u001b[0m\u001b[0;34m(\u001b[0m\u001b[0mpush_notifier\u001b[0m\u001b[0;34m)\u001b[0m\u001b[0;34m\u001b[0m\u001b[0;34m\u001b[0m\u001b[0m\n\u001b[1;32m     61\u001b[0m \u001b[0;34m\u001b[0m\u001b[0m\n\u001b[0;32m---> 62\u001b[0;31m \u001b[0mnotifier\u001b[0m\u001b[0;34m.\u001b[0m\u001b[0mregister\u001b[0m\u001b[0;34m(\u001b[0m\u001b[0mTestNotifier\u001b[0m\u001b[0;34m(\u001b[0m\u001b[0;34m)\u001b[0m\u001b[0;34m)\u001b[0m\u001b[0;34m\u001b[0m\u001b[0;34m\u001b[0m\u001b[0m\n\u001b[0m\u001b[1;32m     63\u001b[0m \u001b[0;34m\u001b[0m\u001b[0m\n\u001b[1;32m     64\u001b[0m \u001b[0mnotifier\u001b[0m\u001b[0;34m.\u001b[0m\u001b[0mnotify\u001b[0m\u001b[0;34m(\u001b[0m\u001b[0;34m'user activation event'\u001b[0m\u001b[0;34m)\u001b[0m\u001b[0;34m\u001b[0m\u001b[0;34m\u001b[0m\u001b[0m\n",
      "\u001b[0;31mTypeError\u001b[0m: Can't instantiate abstract class TestNotifier with abstract methods notify"
     ]
    }
   ],
   "source": [
    "# sub 클래스가 super 클래스의 메서드를 재정의하도록 강제화\n",
    "\n",
    "from abc import *\n",
    "\n",
    "## super class\n",
    "class Notifier(metaclass=ABCMeta):\n",
    "    @abstractmethod\n",
    "    def notify(self, event_data):\n",
    "      pass\n",
    "\n",
    "\n",
    "\n",
    "class Observer: \n",
    "    def __init__(self):\n",
    "        self.observers = list()\n",
    "    \n",
    "    def notify(self, event_data):\n",
    "      for observer in self.observers:\n",
    "        observer.notify(event_data)\n",
    "\n",
    "    def register(self, observer: Notifier):  # 매개변수 타입지정\n",
    "        self.observers.append(observer)\n",
    "\n",
    "    def unregister(self, observer: Notifier):\n",
    "        self.observers.remove(observer)\n",
    "\n",
    "\n",
    "\n",
    "## subclass 1\n",
    "class SMSNotifier(Notifier):    \n",
    "    def notify(self, event_data):\n",
    "        print(event_data, 'received..')\n",
    "        print('send sms')\n",
    "\n",
    "## subclass 2\n",
    "class EmailNotifier(Notifier):\n",
    "    def notify(self, event_data):\n",
    "        print(event_data, 'received..')\n",
    "        print('send email')\n",
    "\n",
    "## subclass 3\n",
    "class PushNotifier(Notifier):\n",
    "    def notify(self, event_data):\n",
    "        print(event_data, 'received..')\n",
    "        print('send push notification')\n",
    "\n",
    "\n",
    "class TestNotifier(Notifier):\n",
    "  def notify_test(self, event_data):\n",
    "        print(event_data, 'received..')\n",
    "        print('send push notification')\n",
    "\n",
    "notifier = Observer()\n",
    "\n",
    "sms_notifier = SMSNotifier()\n",
    "email_notifier = EmailNotifier()\n",
    "push_notifier = PushNotifier()\n",
    "\n",
    "notifier.register(sms_notifier)\n",
    "notifier.register(email_notifier)\n",
    "notifier.register(push_notifier)\n",
    "\n",
    "notifier.register(TestNotifier()) # notify() 를 구현하지 않으면 오류\n",
    "\n",
    "notifier.notify('user activation event')"
   ]
  },
  {
   "cell_type": "code",
   "execution_count": null,
   "metadata": {
    "colab": {},
    "colab_type": "code",
    "id": "23DWe1XrvSwN"
   },
   "outputs": [],
   "source": []
  }
 ],
 "metadata": {
  "colab": {
   "authorship_tag": "ABX9TyPV0OIj07F+Kwhi/BJzjNSR",
   "collapsed_sections": [],
   "name": "ml_00_tip_평가문제해설.ipynb",
   "provenance": []
  },
  "kernelspec": {
   "display_name": "Python 3",
   "language": "python",
   "name": "python3"
  },
  "language_info": {
   "codemirror_mode": {
    "name": "ipython",
    "version": 3
   },
   "file_extension": ".py",
   "mimetype": "text/x-python",
   "name": "python",
   "nbconvert_exporter": "python",
   "pygments_lexer": "ipython3",
   "version": "3.7.6"
  }
 },
 "nbformat": 4,
 "nbformat_minor": 1
}
