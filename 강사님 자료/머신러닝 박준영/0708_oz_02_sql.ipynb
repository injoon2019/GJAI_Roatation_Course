{
 "cells": [
  {
   "cell_type": "markdown",
   "metadata": {
    "colab_type": "text",
    "id": "fPArGC33tvBR",
    "slideshow": {
     "slide_type": "slide"
    }
   },
   "source": [
    "### 구글드라이브 연동"
   ]
  },
  {
   "cell_type": "code",
   "execution_count": 1,
   "metadata": {
    "colab": {
     "base_uri": "https://localhost:8080/",
     "height": 213
    },
    "colab_type": "code",
    "executionInfo": {
     "elapsed": 24989,
     "status": "ok",
     "timestamp": 1593931947919,
     "user": {
      "displayName": "oz To",
      "photoUrl": "",
      "userId": "12937505880450462933"
     },
     "user_tz": -540
    },
    "id": "g2uUzVE1ttHS",
    "outputId": "575b9dee-88b0-4ad6-d4a2-2f6da42b8c4f",
    "slideshow": {
     "slide_type": "fragment"
    }
   },
   "outputs": [],
   "source": [
    " # # 구글드라이브 연동\n",
    "# from google.colab import drive\n",
    "# drive.mount('/gdrive', force_remount=True)\n",
    "\n",
    "# # 구글 드라이브 파일 확인\n",
    "# !ls '/gdrive/My Drive/temp/'\n",
    "\n",
    "# # 반복되는 드라이브 경로 변수화\n",
    "# drive_path = '/gdrive/My Drive/temp/'"
   ]
  },
  {
   "cell_type": "markdown",
   "metadata": {
    "colab_type": "text",
    "id": "qOWCuXegsZO3",
    "slideshow": {
     "slide_type": "slide"
    }
   },
   "source": [
    "# SQLite\n",
    "SQLite는 별도의 DB 서버가 필요없이 DB 파일에 기초하여 데이타베이스 처리를 구현한 Embedded SQL DB 엔진\n",
    "\n",
    "SQLite는 기본적으로 SQLite DB 엔진과 \"sqlite3\" 라는 Command line tool 을 갖음"
   ]
  },
  {
   "cell_type": "markdown",
   "metadata": {
    "colab_type": "text",
    "id": "OsKCinCd4PMI",
    "slideshow": {
     "slide_type": "subslide"
    }
   },
   "source": [
    "- 테이블 : 행과 열을 가진 2차원 데이터 (엑셀의 시트)\n",
    "- 행 : 레고드(또는 로우), 1개 이상의 열로 구성\n",
    "- 열 : 컬럼(또는 필드)"
   ]
  },
  {
   "cell_type": "markdown",
   "metadata": {
    "colab_type": "text",
    "id": "kHn6MwZ2ukZ_",
    "slideshow": {
     "slide_type": "slide"
    }
   },
   "source": [
    "## pysqlite\n",
    "pysqlite 은 Python 2.5 이상에서 기본적으로 내장"
   ]
  },
  {
   "cell_type": "code",
   "execution_count": 2,
   "metadata": {
    "colab": {
     "base_uri": "https://localhost:8080/",
     "height": 35
    },
    "colab_type": "code",
    "executionInfo": {
     "elapsed": 1005,
     "status": "ok",
     "timestamp": 1593931746361,
     "user": {
      "displayName": "oz To",
      "photoUrl": "",
      "userId": "12937505880450462933"
     },
     "user_tz": -540
    },
    "id": "FKp6aU3EIYsc",
    "outputId": "7de90b1a-2283-4c33-e293-182590028a1f",
    "slideshow": {
     "slide_type": "fragment"
    }
   },
   "outputs": [
    {
     "data": {
      "text/plain": [
       "'2.6.0'"
      ]
     },
     "execution_count": 2,
     "metadata": {},
     "output_type": "execute_result"
    }
   ],
   "source": [
    "import sqlite3\n",
    "sqlite3.version"
   ]
  },
  {
   "cell_type": "markdown",
   "metadata": {
    "colab_type": "text",
    "id": "bYPisM-vsXdW",
    "slideshow": {
     "slide_type": "slide"
    }
   },
   "source": [
    "## SQLite 쿼리\n",
    "DB Connection이 연결되면 Connection 객체가 리턴되는데, 이 객체로부터 커서를 생성하고 커서 객체의 execute() 명령을 실행하여 SQL 쿼리를 실행"
   ]
  },
  {
   "cell_type": "code",
   "execution_count": 3,
   "metadata": {
    "colab": {},
    "colab_type": "code",
    "id": "LZkOaUBoV54o",
    "slideshow": {
     "slide_type": "fragment"
    }
   },
   "outputs": [],
   "source": [
    "drive_path = r\"c:/Apps/\""
   ]
  },
  {
   "cell_type": "code",
   "execution_count": 4,
   "metadata": {
    "colab": {
     "base_uri": "https://localhost:8080/",
     "height": 125
    },
    "colab_type": "code",
    "executionInfo": {
     "elapsed": 920,
     "status": "ok",
     "timestamp": 1593933270003,
     "user": {
      "displayName": "oz To",
      "photoUrl": "",
      "userId": "12937505880450462933"
     },
     "user_tz": -540
    },
    "id": "iQMmuQkyu9eZ",
    "outputId": "cb2d1434-cf7a-4d2a-c749-6f63bfab7810",
    "slideshow": {
     "slide_type": "subslide"
    }
   },
   "outputs": [
    {
     "name": "stdout",
     "output_type": "stream",
     "text": [
      "('ABW', 'Aruba', 'North America', 'Caribbean', 193.0, None, 103000, 78.4, 828.0, 793.0, 'Aruba', 'Nonmetropolitan Territory of The Netherlands', 'Beatrix', 129, 'AW')\n",
      "('AFG', 'Afghanistan', 'Asia', 'Southern and Central Asia', 652090.0, 1919, 22720000, 45.9, 5976.0, None, 'Afganistan/Afqanestan', 'Islamic Emirate', 'Mohammad Omar', 1, 'AF')\n",
      "('AGO', 'Angola', 'Africa', 'Central Africa', 1246700.0, 1975, 12878000, 38.3, 6648.0, 7984.0, 'Angola', 'Republic', 'José Eduardo dos Santos', 56, 'AO')\n",
      "('AIA', 'Anguilla', 'North America', 'Caribbean', 96.0, None, 8000, 76.1, 63.2, None, 'Anguilla', 'Dependent Territory of the UK', 'Elisabeth II', 62, 'AI')\n",
      "('ALB', 'Albania', 'Europe', 'Southern Europe', 28748.0, 1912, 3401200, 71.6, 3205.0, 2500.0, 'Shqipëria', 'Republic', 'Rexhep Mejdani', 34, 'AL')\n"
     ]
    }
   ],
   "source": [
    "import sqlite3\n",
    "\n",
    "dbpath = drive_path + \"database/world.db\"\n",
    " \n",
    "# SQLite DB 연결\n",
    "conn = sqlite3.connect( dbpath )\n",
    " \n",
    "# Connection 으로부터 Cursor 생성\n",
    "cur = conn.cursor()\n",
    " \n",
    "# SQL 쿼리 실행\n",
    "cur.execute(\"select * from country limit 5\")\n",
    " \n",
    "# 데이타 Fetch\n",
    "rows = cur.fetchall()\n",
    "for row in rows:\n",
    "    print(row)\n",
    " \n",
    "# Connection 닫기\n",
    "conn.close()"
   ]
  },
  {
   "cell_type": "markdown",
   "metadata": {
    "colab_type": "text",
    "id": "ikO0QOPswFMW",
    "slideshow": {
     "slide_type": "slide"
    }
   },
   "source": [
    "## Parameterized Query\n",
    "SQL 문장에 동적으로 컬럼 데이타값을 집어 넣어야 하는 경우"
   ]
  },
  {
   "cell_type": "code",
   "execution_count": 5,
   "metadata": {
    "colab": {
     "base_uri": "https://localhost:8080/",
     "height": 125
    },
    "colab_type": "code",
    "executionInfo": {
     "elapsed": 916,
     "status": "ok",
     "timestamp": 1593932454523,
     "user": {
      "displayName": "oz To",
      "photoUrl": "",
      "userId": "12937505880450462933"
     },
     "user_tz": -540
    },
    "id": "_yjPCh-wwEmC",
    "outputId": "2d4231ac-7424-479c-ece0-2ffc3d3c52d0",
    "slideshow": {
     "slide_type": "subslide"
    }
   },
   "outputs": [
    {
     "name": "stdout",
     "output_type": "stream",
     "text": [
      "('ARE', 'United Arab Emirates', 'Asia', 'Middle East', 83600.0, 1971, 2441000, 74.1, 37966.0, 36846.0, 'Al-Imarat al-´Arabiya al-Muttahida', 'Emirate Federation', 'Zayid bin Sultan al-Nahayan', 65, 'AE')\n",
      "('ARM', 'Armenia', 'Asia', 'Middle East', 29800.0, 1991, 3520000, 66.4, 1813.0, 1627.0, 'Hajastan', 'Republic', 'Robert Kotšarjan', 126, 'AM')\n",
      "('AZE', 'Azerbaijan', 'Asia', 'Middle East', 86600.0, 1991, 7734000, 62.9, 4127.0, 4100.0, 'Azärbaycan', 'Federal Republic', 'Heydär Äliyev', 144, 'AZ')\n",
      "('BHR', 'Bahrain', 'Asia', 'Middle East', 694.0, 1971, 617000, 73.0, 6366.0, 6097.0, 'Al-Bahrayn', 'Monarchy (Emirate)', 'Hamad ibn Isa al-Khalifa', 149, 'BH')\n",
      "('CYP', 'Cyprus', 'Asia', 'Middle East', 9251.0, 1960, 754700, 76.7, 9333.0, 8246.0, 'Kýpros/Kibris', 'Republic', 'Glafkos Klerides', 2430, 'CY')\n"
     ]
    }
   ],
   "source": [
    "# ? Placeholder 방식 (순서대로 적용)\n",
    "conn = sqlite3.connect( dbpath )\n",
    " \n",
    "cur = conn.cursor()\n",
    "sql = \"select * from country where continent=? and region=? limit 5\"\n",
    "cur.execute(sql, ('Asia', 'Middle East'))\n",
    "rows = cur.fetchall()\n",
    "for row in rows:\n",
    "    print(row)\n",
    " \n",
    "conn.close()"
   ]
  },
  {
   "cell_type": "code",
   "execution_count": 6,
   "metadata": {
    "colab": {
     "base_uri": "https://localhost:8080/",
     "height": 125
    },
    "colab_type": "code",
    "executionInfo": {
     "elapsed": 987,
     "status": "ok",
     "timestamp": 1593932545861,
     "user": {
      "displayName": "oz To",
      "photoUrl": "",
      "userId": "12937505880450462933"
     },
     "user_tz": -540
    },
    "id": "FgONzUVjwSvg",
    "outputId": "83a0b705-04fa-4618-937a-97874081dd13",
    "slideshow": {
     "slide_type": "subslide"
    }
   },
   "outputs": [
    {
     "name": "stdout",
     "output_type": "stream",
     "text": [
      "('ARE', 'United Arab Emirates', 'Asia', 'Middle East', 83600.0, 1971, 2441000, 74.1, 37966.0, 36846.0, 'Al-Imarat al-´Arabiya al-Muttahida', 'Emirate Federation', 'Zayid bin Sultan al-Nahayan', 65, 'AE')\n",
      "('ARM', 'Armenia', 'Asia', 'Middle East', 29800.0, 1991, 3520000, 66.4, 1813.0, 1627.0, 'Hajastan', 'Republic', 'Robert Kotšarjan', 126, 'AM')\n",
      "('AZE', 'Azerbaijan', 'Asia', 'Middle East', 86600.0, 1991, 7734000, 62.9, 4127.0, 4100.0, 'Azärbaycan', 'Federal Republic', 'Heydär Äliyev', 144, 'AZ')\n",
      "('BHR', 'Bahrain', 'Asia', 'Middle East', 694.0, 1971, 617000, 73.0, 6366.0, 6097.0, 'Al-Bahrayn', 'Monarchy (Emirate)', 'Hamad ibn Isa al-Khalifa', 149, 'BH')\n",
      "('CYP', 'Cyprus', 'Asia', 'Middle East', 9251.0, 1960, 754700, 76.7, 9333.0, 8246.0, 'Kýpros/Kibris', 'Republic', 'Glafkos Klerides', 2430, 'CY')\n"
     ]
    }
   ],
   "source": [
    "# Named Placeholder 방식\n",
    "conn = sqlite3.connect( dbpath )\n",
    " \n",
    "cur = conn.cursor()\n",
    "sql = \"select * from country where continent=:cont and region=:reg limit 5\"\n",
    "cur.execute(sql, {\"cont\":'Asia', \"reg\":'Middle East'})\n",
    "rows = cur.fetchall()\n",
    "for row in rows:\n",
    "    print(row)\n",
    " \n",
    "conn.close()"
   ]
  },
  {
   "cell_type": "markdown",
   "metadata": {
    "colab_type": "text",
    "id": "2tZjg3YlyQpm",
    "slideshow": {
     "slide_type": "slide"
    }
   },
   "source": [
    "## DML (INSERT, UPDATE, DELETE)\n",
    "SQL에서 데이타 조작하는 INSERT, UPDATE, DELETE 문을 DML(Data Manipulation Language)이라 한다.\n",
    "\n",
    "> 단, DML은 리턴되는 데이타가 없으므로 fetch 를 사용하지 않는다.\n",
    "\n",
    "디폴트로 Autocommit 이 아니기 때문에, execute() 로 DML 문장을 실행한 후에, Connection 객체의 commit() 메서드를 호출해야 한다."
   ]
  },
  {
   "cell_type": "code",
   "execution_count": 29,
   "metadata": {
    "slideshow": {
     "slide_type": "subslide"
    }
   },
   "outputs": [],
   "source": [
    "# Teble 삭제\n",
    "conn = sqlite3.connect( dbpath )\n",
    " \n",
    "cur = conn.cursor()\n",
    "sql = \"DROP TABLE IF EXISTS test\"\n",
    "cur.execute(sql)\n",
    "conn.commit()\n",
    " \n",
    "conn.close()"
   ]
  },
  {
   "cell_type": "code",
   "execution_count": 30,
   "metadata": {
    "colab": {},
    "colab_type": "code",
    "id": "zUCAZgkOylMM",
    "slideshow": {
     "slide_type": "subslide"
    }
   },
   "outputs": [],
   "source": [
    "# Teble 생성\n",
    "conn = sqlite3.connect( dbpath )\n",
    " \n",
    "cur = conn.cursor()\n",
    "sql = \"CREATE TABLE test ( a INT, b TEXT, c TEXT )\"\n",
    "cur.execute(sql)\n",
    "conn.commit()\n",
    " \n",
    "conn.close()"
   ]
  },
  {
   "cell_type": "code",
   "execution_count": 31,
   "metadata": {
    "colab": {},
    "colab_type": "code",
    "id": "UPW4-f_nzpxF",
    "slideshow": {
     "slide_type": "subslide"
    }
   },
   "outputs": [],
   "source": [
    "# Data 추가\n",
    "conn = sqlite3.connect( dbpath )\n",
    " \n",
    "cur = conn.cursor()\n",
    "sql = \"INSERT INTO test VALUES ( ?, ?, ? )\"\n",
    "cur.execute(sql, ( 1, 'This', 'Right here!' ))\n",
    "conn.commit()\n",
    " \n",
    "conn.close()"
   ]
  },
  {
   "cell_type": "code",
   "execution_count": 32,
   "metadata": {
    "colab": {
     "base_uri": "https://localhost:8080/",
     "height": 34
    },
    "colab_type": "code",
    "executionInfo": {
     "elapsed": 887,
     "status": "ok",
     "timestamp": 1593933310511,
     "user": {
      "displayName": "oz To",
      "photoUrl": "",
      "userId": "12937505880450462933"
     },
     "user_tz": -540
    },
    "id": "FibtKxvZ0rQU",
    "outputId": "d4c06f27-bd19-461f-eada-921b7108e838",
    "slideshow": {
     "slide_type": "subslide"
    }
   },
   "outputs": [
    {
     "name": "stdout",
     "output_type": "stream",
     "text": [
      "(1, 'This', 'Right here!')\n"
     ]
    }
   ],
   "source": [
    "# 데이터 검색(추출)\n",
    "conn = sqlite3.connect( dbpath )\n",
    " \n",
    "cur = conn.cursor()\n",
    "sql = \"select * from test\"\n",
    "cur.execute(sql)\n",
    "rows = cur.fetchall()\n",
    "for row in rows:\n",
    "    print(row)\n",
    " \n",
    "conn.close()"
   ]
  },
  {
   "cell_type": "code",
   "execution_count": 33,
   "metadata": {
    "colab": {},
    "colab_type": "code",
    "id": "zURlY75J1Tgn",
    "slideshow": {
     "slide_type": "subslide"
    }
   },
   "outputs": [],
   "source": [
    "# Teble 삭제\n",
    "conn = sqlite3.connect( dbpath )\n",
    " \n",
    "cur = conn.cursor()\n",
    "sql = \"DROP TABLE test\"\n",
    "cur.execute(sql)\n",
    "conn.commit()\n",
    " \n",
    "conn.close()"
   ]
  },
  {
   "cell_type": "code",
   "execution_count": 34,
   "metadata": {
    "colab": {
     "base_uri": "https://localhost:8080/",
     "height": 52
    },
    "colab_type": "code",
    "executionInfo": {
     "elapsed": 937,
     "status": "ok",
     "timestamp": 1593933817228,
     "user": {
      "displayName": "oz To",
      "photoUrl": "",
      "userId": "12937505880450462933"
     },
     "user_tz": -540
    },
    "id": "ISiBgZdd1gcY",
    "outputId": "e7ee4708-2392-47b5-ce2f-d80d0b234d3e",
    "slideshow": {
     "slide_type": "subslide"
    }
   },
   "outputs": [
    {
     "name": "stdout",
     "output_type": "stream",
     "text": [
      "(1, 'This', 'Right here!')\n",
      "(None, 'That', 'Over there!')\n"
     ]
    }
   ],
   "source": [
    "# 생성, 추가, 검색, 삭제\n",
    "conn = sqlite3.connect( dbpath )\n",
    " \n",
    "cur = conn.cursor()\n",
    "cur.executescript(\"\"\"\n",
    "DROP TABLE IF EXISTS test;\n",
    "\n",
    "CREATE TABLE test (\n",
    "  a INT, \n",
    "  b TEXT, \n",
    "  c TEXT \n",
    ");\n",
    "\n",
    "INSERT INTO test VALUES ( 1, 'This', 'Right here!' ); \n",
    "INSERT INTO test ( b, c ) VALUES ( 'That', 'Over there!' );\n",
    "\"\"\")\n",
    "\n",
    "conn.commit()\n",
    "\n",
    "\n",
    "cur = conn.cursor()\n",
    "sql = \"select * from test\"\n",
    "cur.execute(sql)\n",
    "rows = cur.fetchall()\n",
    "for row in rows:\n",
    "    print(row)\n",
    " \n",
    "conn.close()"
   ]
  },
  {
   "cell_type": "code",
   "execution_count": 35,
   "metadata": {
    "colab": {
     "base_uri": "https://localhost:8080/",
     "height": 105
    },
    "colab_type": "code",
    "executionInfo": {
     "elapsed": 924,
     "status": "ok",
     "timestamp": 1593934074090,
     "user": {
      "displayName": "oz To",
      "photoUrl": "",
      "userId": "12937505880450462933"
     },
     "user_tz": -540
    },
    "id": "4VO87pkj3F-H",
    "outputId": "d4b34f18-124e-47a1-8fcd-7738fc35efe4",
    "slideshow": {
     "slide_type": "subslide"
    }
   },
   "outputs": [
    {
     "name": "stdout",
     "output_type": "stream",
     "text": [
      "(1, 'This', 'Right here!')\n",
      "(None, 'That', 'Over there!')\n",
      "(1, 'This', 'Right here!')\n",
      "(2, 'That', 'Over there!')\n",
      "(3, 'These', 'Those')\n"
     ]
    }
   ],
   "source": [
    "# 복수 개의 Row 데이타를 한꺼번에 처리\n",
    "conn = sqlite3.connect( dbpath )\n",
    " \n",
    "cur = conn.cursor()\n",
    "\n",
    "data = (\n",
    "    ( 1, 'This', 'Right here!' ),\n",
    "    ( 2, 'That', 'Over there!' ),\n",
    "    ( 3, 'These', 'Those' ),\n",
    ")\n",
    "\n",
    "sql = \"INSERT INTO test VALUES ( ?, ?, ? )\"\n",
    "cur.executemany(sql, data)\n",
    "conn.commit()\n",
    "\n",
    "\n",
    "cur = conn.cursor()\n",
    "sql = \"select * from test\"\n",
    "cur.execute(sql)\n",
    "rows = cur.fetchall()\n",
    "for row in rows:\n",
    "    print(row)\n",
    " \n",
    "conn.close()"
   ]
  },
  {
   "cell_type": "code",
   "execution_count": null,
   "metadata": {},
   "outputs": [],
   "source": []
  }
 ],
 "metadata": {
  "celltoolbar": "Slideshow",
  "colab": {
   "authorship_tag": "ABX9TyMYi6Hz7fTkptkJoQ/VWIi6",
   "collapsed_sections": [
    "fPArGC33tvBR"
   ],
   "name": "oz_02_sql.ipynb",
   "provenance": []
  },
  "kernelspec": {
   "display_name": "Python 3",
   "language": "python",
   "name": "python3"
  },
  "language_info": {
   "codemirror_mode": {
    "name": "ipython",
    "version": 3
   },
   "file_extension": ".py",
   "mimetype": "text/x-python",
   "name": "python",
   "nbconvert_exporter": "python",
   "pygments_lexer": "ipython3",
   "version": "3.7.6"
  }
 },
 "nbformat": 4,
 "nbformat_minor": 1
}
