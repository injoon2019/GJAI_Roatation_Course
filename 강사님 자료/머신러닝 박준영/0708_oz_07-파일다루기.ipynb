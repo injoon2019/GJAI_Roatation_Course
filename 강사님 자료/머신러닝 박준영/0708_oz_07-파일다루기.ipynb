{
 "cells": [
  {
   "cell_type": "code",
   "execution_count": null,
   "metadata": {
    "colab": {
     "base_uri": "https://localhost:8080/",
     "height": 181
    },
    "colab_type": "code",
    "executionInfo": {
     "elapsed": 25975,
     "status": "ok",
     "timestamp": 1593517706426,
     "user": {
      "displayName": "박준영",
      "photoUrl": "",
      "userId": "12937505880450462933"
     },
     "user_tz": -540
    },
    "id": "U-CIfalLhI72",
    "outputId": "e3cff5b4-146c-48d8-8193-ab941d5f7a02",
    "scrolled": true
   },
   "outputs": [],
   "source": [
    "# # 구글드라이브 연동\n",
    "# from google.colab import drive\n",
    "# drive.mount('/gdrive', force_remount=True)\n",
    "\n",
    "# # 구글 드라이브 파일 확인\n",
    "# !ls '/gdrive/My Drive/temp/'\n",
    "\n",
    "# # 반복되는 드라이브 경로 변수화\n",
    "# drive_path = '/gdrive/My Drive/temp/'"
   ]
  },
  {
   "cell_type": "markdown",
   "metadata": {
    "colab_type": "text",
    "id": "xAUIvkvSbQ4J"
   },
   "source": [
    "# 파일 다루기 1\n"
   ]
  },
  {
   "cell_type": "markdown",
   "metadata": {
    "colab_type": "text",
    "id": "cRHR82f9YpBV"
   },
   "source": [
    "## 파일 생성\n",
    "\n",
    "* 쓰기 모드('w')\n",
    "* 추가 모드('a')\n",
    "* 읽기 모드('r')"
   ]
  },
  {
   "cell_type": "code",
   "execution_count": null,
   "metadata": {},
   "outputs": [],
   "source": [
    "drive_path = r'c:/Apps/temp/'"
   ]
  },
  {
   "cell_type": "code",
   "execution_count": null,
   "metadata": {
    "colab": {},
    "colab_type": "code",
    "executionInfo": {
     "elapsed": 614,
     "status": "ok",
     "timestamp": 1593489982083,
     "user": {
      "displayName": "박준영",
      "photoUrl": "",
      "userId": "12937505880450462933"
     },
     "user_tz": -540
    },
    "id": "nY77Ov3VYpBX"
   },
   "outputs": [],
   "source": [
    "from pandas import DataFrame, Series \n",
    "import pandas as pd \n",
    "\n",
    "f = open(\"test.csv\", \"w\")\n",
    "f.write(\"1,2,3,4,5 \\n\")\n",
    "f.close()"
   ]
  },
  {
   "cell_type": "code",
   "execution_count": null,
   "metadata": {
    "colab": {
     "base_uri": "https://localhost:8080/",
     "height": 0
    },
    "colab_type": "code",
    "executionInfo": {
     "elapsed": 2185,
     "status": "ok",
     "timestamp": 1593489985699,
     "user": {
      "displayName": "박준영",
      "photoUrl": "",
      "userId": "12937505880450462933"
     },
     "user_tz": -540
    },
    "id": "y2E__xp-YpBb",
    "outputId": "14a92bbd-f9a1-4d9c-9b24-b97157ba1fc5"
   },
   "outputs": [],
   "source": [
    "!cat test.csv"
   ]
  },
  {
   "cell_type": "code",
   "execution_count": null,
   "metadata": {
    "colab": {},
    "colab_type": "code",
    "executionInfo": {
     "elapsed": 569,
     "status": "ok",
     "timestamp": 1593489987342,
     "user": {
      "displayName": "박준영",
      "photoUrl": "",
      "userId": "12937505880450462933"
     },
     "user_tz": -540
    },
    "id": "ijj0eU2yYpBf"
   },
   "outputs": [],
   "source": [
    "with open(\"test.csv\", \"a\") as f:\n",
    "    f.write(\"1,2,3,4,5 \\n\")\n",
    "    f.write(\"1,2,3,4,5 \\n\")"
   ]
  },
  {
   "cell_type": "markdown",
   "metadata": {
    "colab_type": "text",
    "id": "gjfkx85vSzV8"
   },
   "source": [
    "with문을 사용하면 with 블록을 벗어나는 순간 열린 파일 객체 f가 자동으로 close되어 편리하다.\n",
    "\n"
   ]
  },
  {
   "cell_type": "code",
   "execution_count": null,
   "metadata": {
    "colab": {
     "base_uri": "https://localhost:8080/",
     "height": 0
    },
    "colab_type": "code",
    "executionInfo": {
     "elapsed": 2097,
     "status": "ok",
     "timestamp": 1593489992089,
     "user": {
      "displayName": "박준영",
      "photoUrl": "",
      "userId": "12937505880450462933"
     },
     "user_tz": -540
    },
    "id": "q_CCx2UkYpBj",
    "outputId": "7f05e909-7a93-4e81-def8-331f69c50036"
   },
   "outputs": [],
   "source": [
    "!cat test.csv"
   ]
  },
  {
   "cell_type": "code",
   "execution_count": null,
   "metadata": {
    "colab": {
     "base_uri": "https://localhost:8080/",
     "height": 0
    },
    "colab_type": "code",
    "executionInfo": {
     "elapsed": 596,
     "status": "ok",
     "timestamp": 1593489993933,
     "user": {
      "displayName": "박준영",
      "photoUrl": "",
      "userId": "12937505880450462933"
     },
     "user_tz": -540
    },
    "id": "vM-dq4BkYpBm",
    "outputId": "e2825074-912a-46c4-87d9-ec328588cfc1"
   },
   "outputs": [],
   "source": [
    "with open(\"test.csv\",'r') as f:\n",
    "    for line in f:\n",
    "        print(line, end = '')"
   ]
  },
  {
   "cell_type": "markdown",
   "metadata": {
    "colab_type": "text",
    "id": "MBpwsDF8YpBp"
   },
   "source": [
    "## 옵션\n",
    "'r'\tOpen a file for reading. (default)  \n",
    "'w'\tOpen a file for writing. Creates a new file if it does not exist or truncates the file if it exists.  \n",
    "'x'\tOpen a file for exclusive creation. If the file already exists, the operation fails.  \n",
    "'a'\tOpen for appending at the end of the file without truncating it.   Creates a new file if it does not exist.\n",
    "'t'\tOpen in text mode. (default)  \n",
    "'b'\tOpen in binary mode.  \n",
    "'+'\tOpen a file for updating (reading and writing)  "
   ]
  },
  {
   "cell_type": "code",
   "execution_count": null,
   "metadata": {
    "colab": {},
    "colab_type": "code",
    "executionInfo": {
     "elapsed": 611,
     "status": "ok",
     "timestamp": 1593490181057,
     "user": {
      "displayName": "박준영",
      "photoUrl": "",
      "userId": "12937505880450462933"
     },
     "user_tz": -540
    },
    "id": "b8eYRdLEYpBp"
   },
   "outputs": [],
   "source": [
    "with open(\"test.csv\", \"w\") as f:\n",
    "    f.write(\"a,b,c,d,message \\n\")\n",
    "    f.write(\"1,2,3,4,hello \\n\")\n",
    "    f.write(\"5,6,7,8,world \\n\")\n",
    "    f.write(\"9,10,11,12,foo \\n\")"
   ]
  },
  {
   "cell_type": "code",
   "execution_count": null,
   "metadata": {
    "colab": {
     "base_uri": "https://localhost:8080/",
     "height": 0
    },
    "colab_type": "code",
    "executionInfo": {
     "elapsed": 2139,
     "status": "ok",
     "timestamp": 1593490184157,
     "user": {
      "displayName": "박준영",
      "photoUrl": "",
      "userId": "12937505880450462933"
     },
     "user_tz": -540
    },
    "id": "hMWxzjWpYpBs",
    "outputId": "52b56bfb-21c2-4232-8956-d76409d85ad5"
   },
   "outputs": [],
   "source": [
    "!cat test.csv"
   ]
  },
  {
   "cell_type": "code",
   "execution_count": null,
   "metadata": {
    "colab": {
     "base_uri": "https://localhost:8080/",
     "height": 0
    },
    "colab_type": "code",
    "executionInfo": {
     "elapsed": 400,
     "status": "ok",
     "timestamp": 1593490184997,
     "user": {
      "displayName": "박준영",
      "photoUrl": "",
      "userId": "12937505880450462933"
     },
     "user_tz": -540
    },
    "id": "uU7eAXnsYpBw",
    "outputId": "5054dff0-c6ea-4efa-a9d3-e1c90cf13f17"
   },
   "outputs": [],
   "source": [
    "pd.read_csv('test.csv')  # 자동으로 컬럼명을 만든다"
   ]
  },
  {
   "cell_type": "code",
   "execution_count": null,
   "metadata": {
    "colab": {
     "base_uri": "https://localhost:8080/",
     "height": 0
    },
    "colab_type": "code",
    "executionInfo": {
     "elapsed": 611,
     "status": "ok",
     "timestamp": 1593490190605,
     "user": {
      "displayName": "박준영",
      "photoUrl": "",
      "userId": "12937505880450462933"
     },
     "user_tz": -540
    },
    "id": "vCBreH4QYpB0",
    "outputId": "11de54f1-8fe2-463e-89b6-b2a9c23a5301"
   },
   "outputs": [],
   "source": [
    "pd.read_csv('test.csv', header=None)"
   ]
  },
  {
   "cell_type": "code",
   "execution_count": null,
   "metadata": {
    "colab": {
     "base_uri": "https://localhost:8080/",
     "height": 0
    },
    "colab_type": "code",
    "executionInfo": {
     "elapsed": 617,
     "status": "ok",
     "timestamp": 1593490194462,
     "user": {
      "displayName": "박준영",
      "photoUrl": "",
      "userId": "12937505880450462933"
     },
     "user_tz": -540
    },
    "id": "D12ewZ9LYpB3",
    "outputId": "737716de-5a34-4a2c-fdf5-a0681588f0f5"
   },
   "outputs": [],
   "source": [
    "pd.read_csv('test.csv', header=1) "
   ]
  },
  {
   "cell_type": "code",
   "execution_count": null,
   "metadata": {
    "colab": {
     "base_uri": "https://localhost:8080/",
     "height": 0
    },
    "colab_type": "code",
    "executionInfo": {
     "elapsed": 581,
     "status": "ok",
     "timestamp": 1593490196606,
     "user": {
      "displayName": "박준영",
      "photoUrl": "",
      "userId": "12937505880450462933"
     },
     "user_tz": -540
    },
    "id": "y-U0loA0YpB8",
    "outputId": "82e95c97-ab74-433a-819b-be61afad0a87"
   },
   "outputs": [],
   "source": [
    "pd.read_csv('test.csv', names=['A','B','C','D','E'])"
   ]
  },
  {
   "cell_type": "code",
   "execution_count": null,
   "metadata": {
    "colab": {
     "base_uri": "https://localhost:8080/",
     "height": 0
    },
    "colab_type": "code",
    "executionInfo": {
     "elapsed": 1820,
     "status": "ok",
     "timestamp": 1593490200312,
     "user": {
      "displayName": "박준영",
      "photoUrl": "",
      "userId": "12937505880450462933"
     },
     "user_tz": -540
    },
    "id": "sZAeoigcYpB_",
    "outputId": "462cd086-6c9a-4838-9a3e-cc010988ca02"
   },
   "outputs": [],
   "source": [
    "!cat test.csv"
   ]
  },
  {
   "cell_type": "code",
   "execution_count": null,
   "metadata": {
    "colab": {
     "base_uri": "https://localhost:8080/",
     "height": 0
    },
    "colab_type": "code",
    "executionInfo": {
     "elapsed": 870,
     "status": "ok",
     "timestamp": 1593490202796,
     "user": {
      "displayName": "박준영",
      "photoUrl": "",
      "userId": "12937505880450462933"
     },
     "user_tz": -540
    },
    "id": "l4IdZZchYpCC",
    "outputId": "0fd62836-496d-495a-f3a3-e562d4f4f637"
   },
   "outputs": [],
   "source": [
    "pd.read_csv('test.csv', nrows=2)\n",
    "# pd.read_csv('data/ex1.csv', index_col='message')"
   ]
  },
  {
   "cell_type": "code",
   "execution_count": null,
   "metadata": {
    "colab": {
     "base_uri": "https://localhost:8080/",
     "height": 0
    },
    "colab_type": "code",
    "executionInfo": {
     "elapsed": 679,
     "status": "ok",
     "timestamp": 1593490205344,
     "user": {
      "displayName": "박준영",
      "photoUrl": "",
      "userId": "12937505880450462933"
     },
     "user_tz": -540
    },
    "id": "FoysDwSlYpCF",
    "outputId": "9ef31e3c-345c-4289-877d-7431093d2f59"
   },
   "outputs": [],
   "source": [
    "df = pd.read_csv('test.csv')\n",
    "df"
   ]
  },
  {
   "cell_type": "code",
   "execution_count": null,
   "metadata": {
    "colab": {},
    "colab_type": "code",
    "executionInfo": {
     "elapsed": 544,
     "status": "ok",
     "timestamp": 1593490208535,
     "user": {
      "displayName": "박준영",
      "photoUrl": "",
      "userId": "12937505880450462933"
     },
     "user_tz": -540
    },
    "id": "2Pedlr0IYpCH"
   },
   "outputs": [],
   "source": [
    "df.to_csv('output.csv')"
   ]
  },
  {
   "cell_type": "code",
   "execution_count": null,
   "metadata": {
    "colab": {
     "base_uri": "https://localhost:8080/",
     "height": 0
    },
    "colab_type": "code",
    "executionInfo": {
     "elapsed": 2210,
     "status": "ok",
     "timestamp": 1593490213586,
     "user": {
      "displayName": "박준영",
      "photoUrl": "",
      "userId": "12937505880450462933"
     },
     "user_tz": -540
    },
    "id": "uC8K67LCYpCK",
    "outputId": "420f46ec-255b-4d2c-b518-3ef7cf9311f7"
   },
   "outputs": [],
   "source": [
    "!cat output.csv"
   ]
  },
  {
   "cell_type": "markdown",
   "metadata": {
    "colab_type": "text",
    "id": "2oCb5lAYYpCN"
   },
   "source": [
    "## 디렉토리"
   ]
  },
  {
   "cell_type": "code",
   "execution_count": null,
   "metadata": {
    "colab": {
     "base_uri": "https://localhost:8080/",
     "height": 0
    },
    "colab_type": "code",
    "executionInfo": {
     "elapsed": 661,
     "status": "ok",
     "timestamp": 1593488032142,
     "user": {
      "displayName": "박준영",
      "photoUrl": "",
      "userId": "12937505880450462933"
     },
     "user_tz": -540
    },
    "id": "rMkoGUDbYpCN",
    "outputId": "cdb8a6e7-8e65-48bd-b6f4-13427f026a46"
   },
   "outputs": [],
   "source": [
    "import os\n",
    "os.getcwd()"
   ]
  },
  {
   "cell_type": "code",
   "execution_count": null,
   "metadata": {
    "colab": {},
    "colab_type": "code",
    "id": "R0vys3pAYpCQ"
   },
   "outputs": [],
   "source": [
    "os.chdir('/Users/home/Dropbox/data-science/data-science-all')\n",
    "os.getcwd()"
   ]
  },
  {
   "cell_type": "code",
   "execution_count": null,
   "metadata": {
    "colab": {},
    "colab_type": "code",
    "id": "CfIDogQjYpCT",
    "outputId": "729a007b-e71e-47f7-d130-a6f8b0aa56ba"
   },
   "outputs": [],
   "source": [
    "os.listdir()"
   ]
  },
  {
   "cell_type": "code",
   "execution_count": null,
   "metadata": {
    "colab": {},
    "colab_type": "code",
    "id": "K7nGvf5NYpCV"
   },
   "outputs": [],
   "source": [
    "os.mkdir('test')"
   ]
  },
  {
   "cell_type": "code",
   "execution_count": null,
   "metadata": {
    "colab": {},
    "colab_type": "code",
    "id": "8-yUyqqRYpCY",
    "outputId": "9080bc66-8588-46e9-b762-8d9204c36856"
   },
   "outputs": [],
   "source": [
    "os.listdir()"
   ]
  },
  {
   "cell_type": "code",
   "execution_count": null,
   "metadata": {
    "colab": {},
    "colab_type": "code",
    "id": "FjtB5teTYpCa"
   },
   "outputs": [],
   "source": [
    "os.rename('test','new_one')\n",
    "os.remove('output.csv')\n",
    "os.rmdir('new_one')"
   ]
  },
  {
   "cell_type": "code",
   "execution_count": null,
   "metadata": {
    "colab": {},
    "colab_type": "code",
    "id": "92xWE6zNYpCd",
    "outputId": "4a306e03-9152-46e0-a1a2-1fcbf5177848"
   },
   "outputs": [],
   "source": [
    "os.listdir()"
   ]
  },
  {
   "cell_type": "code",
   "execution_count": null,
   "metadata": {
    "colab": {},
    "colab_type": "code",
    "executionInfo": {
     "elapsed": 605,
     "status": "ok",
     "timestamp": 1593488091983,
     "user": {
      "displayName": "박준영",
      "photoUrl": "",
      "userId": "12937505880450462933"
     },
     "user_tz": -540
    },
    "id": "ArEJs51pYpCn"
   },
   "outputs": [],
   "source": [
    "import json"
   ]
  },
  {
   "cell_type": "code",
   "execution_count": null,
   "metadata": {
    "colab": {},
    "colab_type": "code",
    "executionInfo": {
     "elapsed": 594,
     "status": "ok",
     "timestamp": 1593488093321,
     "user": {
      "displayName": "박준영",
      "photoUrl": "",
      "userId": "12937505880450462933"
     },
     "user_tz": -540
    },
    "id": "7nETBhZ4YpCr"
   },
   "outputs": [],
   "source": [
    "# json은 python에서처럼 '으로 하면 안된다. 현재 \"\"\"로 감싸 문자열로 저장되어 있기 때문에 \n",
    "# javascript에서는 '를 string 값으로 인식하지 않아서 에러 발생\n",
    "obj = \"\"\"\n",
    "{\n",
    "    \"name\": \"Kim\",\n",
    "    \"places_lived\": [\"Seoul\", \"Korea\"],\n",
    "    \"pet\": null, \"siblings\": [{\"name\": \"Scott\", \"age\":25, \"pet\":\"Zuko\"}]\n",
    "}\n",
    "\"\"\""
   ]
  },
  {
   "cell_type": "code",
   "execution_count": null,
   "metadata": {
    "colab": {
     "base_uri": "https://localhost:8080/",
     "height": 0
    },
    "colab_type": "code",
    "executionInfo": {
     "elapsed": 614,
     "status": "ok",
     "timestamp": 1593488100732,
     "user": {
      "displayName": "박준영",
      "photoUrl": "",
      "userId": "12937505880450462933"
     },
     "user_tz": -540
    },
    "id": "R0ei2s8zYpCt",
    "outputId": "482a79c3-3975-4219-8b56-309576b6ff2f"
   },
   "outputs": [],
   "source": [
    "result = json.loads(obj)\n",
    "result"
   ]
  },
  {
   "cell_type": "code",
   "execution_count": null,
   "metadata": {
    "colab": {
     "base_uri": "https://localhost:8080/",
     "height": 0
    },
    "colab_type": "code",
    "executionInfo": {
     "elapsed": 599,
     "status": "ok",
     "timestamp": 1593488103520,
     "user": {
      "displayName": "박준영",
      "photoUrl": "",
      "userId": "12937505880450462933"
     },
     "user_tz": -540
    },
    "id": "-rR-xmK8YpCw",
    "outputId": "17252543-fb8b-43a0-8dde-ca89dddbff09"
   },
   "outputs": [],
   "source": [
    "asjson = json.dumps(result)\n",
    "asjson"
   ]
  },
  {
   "cell_type": "markdown",
   "metadata": {
    "colab_type": "text",
    "id": "iOfHDITLcs2s"
   },
   "source": [
    "# 파일 다루기 2\n",
    "파이썬 라이브러리\n",
    "os\n",
    "pickle\n",
    "shelve\n",
    "...\n"
   ]
  },
  {
   "cell_type": "markdown",
   "metadata": {
    "colab_type": "text",
    "id": "Bmys17_bdoly"
   },
   "source": [
    "## 파이썬 라이브러리\n",
    "파이썬 사용자들이 만든 유용한 프로그램을 모아 놓은 것\n",
    "\n",
    "모든 라이브러리를 다 알 필요는 없고 어떤 일을 할 때 어떤 라이브러리를 사용해야 한다는 정도만 알면 된다.\n",
    "\n",
    "※ 파이썬 라이브러리는 파이썬을 설치할 때 자동으로 컴퓨터에 설치한다."
   ]
  },
  {
   "cell_type": "markdown",
   "metadata": {
    "colab_type": "text",
    "id": "kwppl9b0eLLA"
   },
   "source": [
    "## sys\n",
    "파이썬 인터프리터가 제공하는 변수와 함수를 직접 제어할 수 있게 해주는 모듈이다.\n",
    "\n",
    "명령 행에서 인수 전달하기 - sys.argv\n",
    "```\n",
    "C:/User/home>python argv_test.py you need python\n",
    "```\n",
    "python 명령어 뒤의 모든 것들이 공백을 기준으로 나뉘어서 sys.argv 리스트의 요소가 된다.\n",
    "\n",
    "|argv_test.py| you| need| python|\n",
    "|---|---|---|---|\n",
    "|argv[0]|argv[1]|argv[2]|argv[3]|\n"
   ]
  },
  {
   "cell_type": "code",
   "execution_count": null,
   "metadata": {
    "colab": {
     "base_uri": "https://localhost:8080/",
     "height": 0
    },
    "colab_type": "code",
    "executionInfo": {
     "elapsed": 1554,
     "status": "ok",
     "timestamp": 1593474475959,
     "user": {
      "displayName": "박준영",
      "photoUrl": "",
      "userId": "12937505880450462933"
     },
     "user_tz": -540
    },
    "id": "H4nanrlSerGq",
    "outputId": "a2ae55f1-5528-4b93-afd2-84d2ba8f9183"
   },
   "outputs": [],
   "source": [
    "# argv_test.py\n",
    "import sys\n",
    "print(sys.argv)  # ['argv_test.py', 'you', 'need', 'python']"
   ]
  },
  {
   "cell_type": "markdown",
   "metadata": {
    "colab_type": "text",
    "id": "BIAcerLlfZUO"
   },
   "source": [
    "강제로 스크립트 종료하기 - sys.exit\n",
    "```\n",
    ">>> sys.exit()\n",
    "```\n",
    "sys.exit는 Ctrl+Z나 Ctrl+D를 눌러서 대화형 인터프리터를 종료하는 것과 같은 기능을 한다. 프로그램 파일 안에서 사용하면 프로그램을 중단시킨다."
   ]
  },
  {
   "cell_type": "markdown",
   "metadata": {
    "colab_type": "text",
    "id": "ehsPJj6WfuEk"
   },
   "source": [
    "자신이 만든 모듈 불러와 사용하기 - sys.path\n",
    "\n",
    "sys.path는 파이썬 모듈들이 저장되어 있는 위치를 나타낸다. 즉 이 위치에 있는 파이썬 모듈은 경로에 상관없이 어디에서나 불러올 수 있다."
   ]
  },
  {
   "cell_type": "code",
   "execution_count": null,
   "metadata": {
    "colab": {
     "base_uri": "https://localhost:8080/",
     "height": 0
    },
    "colab_type": "code",
    "executionInfo": {
     "elapsed": 1461,
     "status": "ok",
     "timestamp": 1593474691438,
     "user": {
      "displayName": "박준영",
      "photoUrl": "",
      "userId": "12937505880450462933"
     },
     "user_tz": -540
    },
    "id": "Ie9nsaVDfhVS",
    "outputId": "39c709eb-6e14-4512-bf5a-a6d11f16782a"
   },
   "outputs": [],
   "source": [
    "import sys\n",
    "sys.path\n",
    "\n",
    "# 경로 이름을 추가\n",
    "# sys.path.append(\"C:/User/home/lib\")"
   ]
  },
  {
   "cell_type": "markdown",
   "metadata": {
    "colab_type": "text",
    "id": "8n83Gi4-c0cA"
   },
   "source": [
    "## os\n",
    "환경 변수나 디렉터리, 파일 등의 OS 자원을 제어할 수 있게 해주는 모듈이다."
   ]
  },
  {
   "cell_type": "code",
   "execution_count": null,
   "metadata": {
    "colab": {
     "base_uri": "https://localhost:8080/",
     "height": 0
    },
    "colab_type": "code",
    "executionInfo": {
     "elapsed": 904,
     "status": "ok",
     "timestamp": 1593475529224,
     "user": {
      "displayName": "박준영",
      "photoUrl": "",
      "userId": "12937505880450462933"
     },
     "user_tz": -540
    },
    "id": "zVzlY1BKiZzg",
    "outputId": "43ea3a57-1a0b-43f7-f022-e9454873630e"
   },
   "outputs": [],
   "source": [
    "# 내 시스템의 환경 변수값을 알고 싶을 때\n",
    "import os\n",
    "os.environ"
   ]
  },
  {
   "cell_type": "code",
   "execution_count": null,
   "metadata": {
    "colab": {
     "base_uri": "https://localhost:8080/",
     "height": 0
    },
    "colab_type": "code",
    "executionInfo": {
     "elapsed": 957,
     "status": "ok",
     "timestamp": 1593475534830,
     "user": {
      "displayName": "박준영",
      "photoUrl": "",
      "userId": "12937505880450462933"
     },
     "user_tz": -540
    },
    "id": "DsEyNF7eithd",
    "outputId": "c8233b7c-82cd-457b-e3ea-f6d9151844fd"
   },
   "outputs": [],
   "source": [
    "os.environ['PATH']"
   ]
  },
  {
   "cell_type": "code",
   "execution_count": null,
   "metadata": {
    "colab": {
     "base_uri": "https://localhost:8080/",
     "height": 0
    },
    "colab_type": "code",
    "executionInfo": {
     "elapsed": 883,
     "status": "ok",
     "timestamp": 1593475572104,
     "user": {
      "displayName": "박준영",
      "photoUrl": "",
      "userId": "12937505880450462933"
     },
     "user_tz": -540
    },
    "id": "ZEysOpxRi5gR",
    "outputId": "a510750f-ce95-4523-d1c2-0396938fa47d"
   },
   "outputs": [],
   "source": [
    "# 현재 자신의 디렉터리 위치\n",
    "os.getcwd()"
   ]
  },
  {
   "cell_type": "code",
   "execution_count": null,
   "metadata": {
    "colab": {
     "base_uri": "https://localhost:8080/",
     "height": 0
    },
    "colab_type": "code",
    "executionInfo": {
     "elapsed": 840,
     "status": "ok",
     "timestamp": 1593475898803,
     "user": {
      "displayName": "박준영",
      "photoUrl": "",
      "userId": "12937505880450462933"
     },
     "user_tz": -540
    },
    "id": "c59kPNfci_QT",
    "outputId": "35fe83b5-25d1-4d79-f1dd-7350dabcfd03"
   },
   "outputs": [],
   "source": [
    "# 디렉터리 위치 변경 os.chdir\n",
    "\n",
    "import platform\n",
    "\n",
    "cwd = os.getcwd()\n",
    "\n",
    "# 윈도우\n",
    "if platform.system() == 'Windows':\n",
    "    os.chdir(\"C:\\WINDOWS\")\n",
    "#맥\n",
    "elif platform.system() == 'Darwin': \n",
    "    os.chdir(\"/\")\n",
    "# 리눅스\n",
    "elif platform.system() == 'Linux':\n",
    "    os.chdir(\"/\")\n",
    "print( os.getcwd() )\n",
    "\n",
    "os.chdir(cwd)\n",
    "print( os.getcwd() )"
   ]
  },
  {
   "cell_type": "code",
   "execution_count": null,
   "metadata": {
    "colab": {
     "base_uri": "https://localhost:8080/",
     "height": 0
    },
    "colab_type": "code",
    "executionInfo": {
     "elapsed": 876,
     "status": "ok",
     "timestamp": 1593475941059,
     "user": {
      "displayName": "박준영",
      "photoUrl": "",
      "userId": "12937505880450462933"
     },
     "user_tz": -540
    },
    "id": "b4nJuqLPkQfy",
    "outputId": "f4ac584d-9b24-4a41-f98c-6901e1226ffa"
   },
   "outputs": [],
   "source": [
    "# 시스템 자체의 프로그램이나 기타 명령어를 파이썬에서 호출\n",
    "os.system(\"dir\")"
   ]
  },
  {
   "cell_type": "code",
   "execution_count": null,
   "metadata": {
    "colab": {
     "base_uri": "https://localhost:8080/",
     "height": 0
    },
    "colab_type": "code",
    "executionInfo": {
     "elapsed": 842,
     "status": "ok",
     "timestamp": 1593475998699,
     "user": {
      "displayName": "박준영",
      "photoUrl": "",
      "userId": "12937505880450462933"
     },
     "user_tz": -540
    },
    "id": "de7Eo9stkfxg",
    "outputId": "f0e57424-5700-4dfc-947b-677634e62df5"
   },
   "outputs": [],
   "source": [
    "# 실행한 시스템 명령어의 결과값을 읽기 모드 형태의 파일 객체로 돌려받기\n",
    "f = os.popen(\"dir\")\n",
    "print(f.read())"
   ]
  },
  {
   "cell_type": "code",
   "execution_count": null,
   "metadata": {
    "colab": {
     "base_uri": "https://localhost:8080/",
     "height": 0
    },
    "colab_type": "code",
    "executionInfo": {
     "elapsed": 872,
     "status": "ok",
     "timestamp": 1593476843540,
     "user": {
      "displayName": "박준영",
      "photoUrl": "",
      "userId": "12937505880450462933"
     },
     "user_tz": -540
    },
    "id": "ElcJMnZwlB1t",
    "outputId": "eb0aeeb2-58f0-4caa-b104-ae38cf17d9d9"
   },
   "outputs": [],
   "source": [
    "print( os.listdir() )\n",
    "os.mkdir(\"tmp\")  # 디렉터리를 생성한다.\n",
    "print( os.listdir() )\n",
    "\n",
    "f = open(\"./tmp/test.txt\", mode=\"wt\", encoding=\"utf-8\")\n",
    "f.write(\"Hello Python\")\n",
    "f.close()\n",
    "print( os.listdir(\"./tmp\") )\n",
    "\n",
    "os.rename(\"./tmp/test.txt\", \"./tmp/hello.txt\")  # 파일 이름을 바꾼다\n",
    "print( os.listdir(\"./tmp\") )\n",
    "\n",
    "os.unlink(\"./tmp/hello.txt\")  # 파일을 지운다.\n",
    "print( os.listdir(\"./tmp\") )\n",
    "\n",
    "os.rmdir(\"tmp\")   # 디렉터리를 삭제한다.단, 디렉터리가 비어있어야 삭제가 가능하다.\n",
    "print( os.listdir() )"
   ]
  },
  {
   "cell_type": "markdown",
   "metadata": {
    "colab_type": "text",
    "id": "cGRJr0tcgYzC"
   },
   "source": [
    "## pickle\n",
    "객체의 형태를 그대로 유지하면서 파일에 저장하고 불러올 수 있게 하는 모듈이다."
   ]
  },
  {
   "cell_type": "code",
   "execution_count": null,
   "metadata": {
    "colab": {},
    "colab_type": "code",
    "executionInfo": {
     "elapsed": 959,
     "status": "ok",
     "timestamp": 1593477716985,
     "user": {
      "displayName": "박준영",
      "photoUrl": "",
      "userId": "12937505880450462933"
     },
     "user_tz": -540
    },
    "id": "iQFnEHoFhZxK"
   },
   "outputs": [],
   "source": [
    "# 딕셔너리 객체인 data를 그대로 파일에 저장\n",
    "\n",
    "import pickle\n",
    "\n",
    "f = open(drive_path + \"test.txt\", mode=\"wb\")\n",
    "data = {1: 'python', 2: 'you need'}\n",
    "pickle.dump(data, f)\n",
    "f.close()\n",
    "\n",
    "with open(drive_path + 'test.txt', 'wb') as f:\n",
    "    pickle.dump({3: 'add test1'}, f)\n",
    "    pickle.dump({4: 'add test2'}, f)"
   ]
  },
  {
   "cell_type": "code",
   "execution_count": null,
   "metadata": {
    "colab": {
     "base_uri": "https://localhost:8080/",
     "height": 0
    },
    "colab_type": "code",
    "executionInfo": {
     "elapsed": 841,
     "status": "ok",
     "timestamp": 1593477839798,
     "user": {
      "displayName": "박준영",
      "photoUrl": "",
      "userId": "12937505880450462933"
     },
     "user_tz": -540
    },
    "id": "cXN1-lxdh3Nj",
    "outputId": "87be3217-afa8-4a87-c28a-78c72c35e0e2"
   },
   "outputs": [],
   "source": [
    "# 원래 있던 딕셔너리 객체(data) 상태 그대로 불러오는 예\n",
    "\n",
    "f = open(drive_path + \"test.txt\", 'rb')\n",
    "data = pickle.load(f)\n",
    "print(data)\n",
    "\n",
    "d = []\n",
    "with open(drive_path + 'test.txt', 'rb') as f:\n",
    "    d.append(pickle.load(f))\n",
    "    d.append(pickle.load(f))\n",
    "\n",
    "print(d)"
   ]
  },
  {
   "cell_type": "markdown",
   "metadata": {
    "colab_type": "text",
    "id": "amew8FZLpqeK"
   },
   "source": [
    "## shelve\n",
    "pickle과 같이 객체를 파일에 저장하고 불러올 수 있게 하는 모듈이다.\n",
    "\n",
    "shelve는 저장 시 key값과 매치시켜 저장되기 때문에 shelve.open() 하면 다음부터는 단순히 key값을 변수에 Access할 수 있어 편리하다. 큰 용량의 데이터를 save, access하기 좀 더 쉽다"
   ]
  },
  {
   "cell_type": "code",
   "execution_count": null,
   "metadata": {
    "colab": {},
    "colab_type": "code",
    "executionInfo": {
     "elapsed": 1571,
     "status": "ok",
     "timestamp": 1593478120681,
     "user": {
      "displayName": "박준영",
      "photoUrl": "",
      "userId": "12937505880450462933"
     },
     "user_tz": -540
    },
    "id": "CzxxC9nCsJGH"
   },
   "outputs": [],
   "source": [
    "import shelve\n",
    "data1 = [\"elsar\", 24, 171]\n",
    "data2 = [\"peter\", 31, 175]\n",
    "\n",
    "with shelve.open(drive_path + 'test.db') as f:\n",
    "    f['obv1'] = data1\n",
    "    f['obv2'] = data2"
   ]
  },
  {
   "cell_type": "code",
   "execution_count": null,
   "metadata": {
    "colab": {
     "base_uri": "https://localhost:8080/",
     "height": 0
    },
    "colab_type": "code",
    "executionInfo": {
     "elapsed": 880,
     "status": "ok",
     "timestamp": 1593478124723,
     "user": {
      "displayName": "박준영",
      "photoUrl": "",
      "userId": "12937505880450462933"
     },
     "user_tz": -540
    },
    "id": "_kPDjuhIsaNc",
    "outputId": "8a309cec-d4f0-4a5a-9bf5-2a17b40ec280"
   },
   "outputs": [],
   "source": [
    "with shelve.open(drive_path + 'test.db') as f:\n",
    "    print(f['obv1'])\n",
    "    print(f['obv2'])"
   ]
  },
  {
   "cell_type": "markdown",
   "metadata": {
    "colab_type": "text",
    "id": "SnpJYFAloylh"
   },
   "source": [
    "## shutil\n",
    "파일을 복사해 주는 모듈이다.\n",
    "```\n",
    ">>> import shutil\n",
    ">>> shutil.copy(\"src.txt\", \"dst.txt\")\n",
    "```\n",
    "동일한 파일 이름이 있을 경우에는 덮어쓴다."
   ]
  },
  {
   "cell_type": "markdown",
   "metadata": {
    "colab_type": "text",
    "id": "BZCbLlvwo_vA"
   },
   "source": [
    "## glob\n",
    "디렉터리에 있는 파일들을 리스트로 만들어 주는 모듈이다.\n",
    "```\n",
    ">>> import glob\n",
    ">>> glob.glob(\"c:/python/mark*\")\n",
    "['c:/python\\\\marks1.py', 'c:/python\\\\marks2.py', 'c:/python\\\\marks3.py']\n",
    ">>>\n",
    "```\n",
    "*, ? 등 메타 문자를 써서 원하는 파일만 읽어 들일 수도 있다."
   ]
  },
  {
   "cell_type": "markdown",
   "metadata": {
    "colab_type": "text",
    "id": "ndmnrfF6oLDu"
   },
   "source": [
    "## tempfile\n",
    "중복되지 않는 임시 파일의 이름을 무작위로 만들어서 돌려주는 모듈이다.\n",
    "```\n",
    ">>> import tempfile\n",
    ">>> f = tempfile.TemporaryFile()\n",
    ">>> f.close()\n",
    "```\n",
    "기본적으로 바이너리 쓰기 모드(wb)를 갖는다.\n",
    "\n",
    "f.close()가 호출되면 이 파일 객체는 자동으로 사라진다."
   ]
  },
  {
   "cell_type": "markdown",
   "metadata": {
    "colab_type": "text",
    "id": "513GOyFIt75k"
   },
   "source": [
    "# 파일 다루기 3\n",
    "Excel, Word, PDF 컨트롤\n",
    "\n",
    "openpyxl\n",
    "docx\n",
    "PyPDF2"
   ]
  },
  {
   "cell_type": "markdown",
   "metadata": {
    "colab_type": "text",
    "id": "voYXWyqAl9Pt"
   },
   "source": [
    "## [OpenPyXL](https://openpyxl.readthedocs.io/en/stable/)\n",
    "Excel 2010 xlsx / xlsm 파일을 읽고 쓰는 Python 라이브러리\n",
    "\n",
    "엑셀 용어\n",
    "* workbook (워크북):\t엑셀 파일(통합 문서)을 의미합니다.\n",
    "* sheet (시트):\t엑셀 파일 내 컨텐츠를 분할하는 데 사용되며, 여러개의 시트가 있을 수 있습니다.\n",
    "* cell (셀):\t엑셀에서 가장 작은 단위로, 열을 나타내는 문자와 행을 나타내는 숫자의 조합으로 표시합니다. (A1)"
   ]
  },
  {
   "cell_type": "code",
   "execution_count": null,
   "metadata": {
    "colab": {},
    "colab_type": "code",
    "executionInfo": {
     "elapsed": 579,
     "status": "ok",
     "timestamp": 1593493673271,
     "user": {
      "displayName": "박준영",
      "photoUrl": "",
      "userId": "12937505880450462933"
     },
     "user_tz": -540
    },
    "id": "YeajpxSjm9jG"
   },
   "outputs": [],
   "source": [
    "# 파일을 만들고 'A1' 셀에 'Hello World'라고 입력\n",
    "import openpyxl\n",
    "\n",
    "wb = openpyxl.Workbook()\n",
    "sheet = wb.active\n",
    "sheet['A1'] = 'Hello World'\n",
    "wb.save(drive_path + 'HelloWorld.xlsx')"
   ]
  },
  {
   "cell_type": "code",
   "execution_count": null,
   "metadata": {
    "colab": {
     "base_uri": "https://localhost:8080/",
     "height": 0
    },
    "colab_type": "code",
    "executionInfo": {
     "elapsed": 602,
     "status": "ok",
     "timestamp": 1593493712596,
     "user": {
      "displayName": "박준영",
      "photoUrl": "",
      "userId": "12937505880450462933"
     },
     "user_tz": -540
    },
    "id": "e2NLJlITmri1",
    "outputId": "b71b7269-94a4-4896-e2b0-6051c613f21e"
   },
   "outputs": [],
   "source": [
    "wb = openpyxl.load_workbook(drive_path + 'HelloWorld.xlsx')\n",
    "print(wb.sheetnames)  # 엑셀 파일 내 모든 시트 이름을 출력\n",
    "\n",
    "sheet = wb.active  # 활성화된 시트를 새로운 변수에 할당\n",
    "print(sheet.title)  # 시트 제목을 출력"
   ]
  },
  {
   "cell_type": "code",
   "execution_count": null,
   "metadata": {
    "colab": {},
    "colab_type": "code",
    "executionInfo": {
     "elapsed": 643,
     "status": "ok",
     "timestamp": 1593493955736,
     "user": {
      "displayName": "박준영",
      "photoUrl": "",
      "userId": "12937505880450462933"
     },
     "user_tz": -540
    },
    "id": "JOBTpw_qogGK"
   },
   "outputs": [],
   "source": [
    "sheet_last = wb.create_sheet(\"NewSheet\") # 새로운 시트를 맨 뒤에 추가\n",
    "sheet_first = wb.create_sheet(\"NewSheet\", 0) # 새로운 시트를 맨 앞에 추가\n",
    "sheet = wb['NewSheet'] # 시트 읽기"
   ]
  },
  {
   "cell_type": "code",
   "execution_count": null,
   "metadata": {
    "colab": {
     "base_uri": "https://localhost:8080/",
     "height": 0
    },
    "colab_type": "code",
    "executionInfo": {
     "elapsed": 645,
     "status": "ok",
     "timestamp": 1593494029557,
     "user": {
      "displayName": "박준영",
      "photoUrl": "",
      "userId": "12937505880450462933"
     },
     "user_tz": -540
    },
    "id": "y8_StVsYpPFn",
    "outputId": "961862b4-d815-4e80-bf6c-43c3d642fd40"
   },
   "outputs": [],
   "source": [
    "# 셀 주소를 사용하여 셀 다루기\n",
    "# 둘 중 어느 방법을 사용하여도 무방합니다.\n",
    "sheet['A1'] = 'Hi, there'\n",
    "sheet['A1'].value = 'Hi, there'\n",
    "\n",
    "# 'A1' 셀의 값을 출력합니다.\n",
    "print(sheet['A1'].value)"
   ]
  },
  {
   "cell_type": "code",
   "execution_count": null,
   "metadata": {
    "colab": {
     "base_uri": "https://localhost:8080/",
     "height": 0
    },
    "colab_type": "code",
    "executionInfo": {
     "elapsed": 598,
     "status": "ok",
     "timestamp": 1593494071203,
     "user": {
      "displayName": "박준영",
      "photoUrl": "",
      "userId": "12937505880450462933"
     },
     "user_tz": -540
    },
    "id": "cNSEVIPRpZlR",
    "outputId": "1088eeb8-eb70-4cfd-f64a-c1ab8e97212a"
   },
   "outputs": [],
   "source": [
    "# 셀의 순서(인덱스)를 사용해서 셀을 다루기\n",
    "sheet.cell(row=2, column=2).value = 'Python is fun'\n",
    "print(sheet['B2'].value)"
   ]
  },
  {
   "cell_type": "markdown",
   "metadata": {
    "colab_type": "text",
    "id": "xAbTnHeypyK_"
   },
   "source": [
    "#### 판다스 데이터프레임으로 변환하는 방법"
   ]
  },
  {
   "cell_type": "code",
   "execution_count": null,
   "metadata": {
    "colab": {
     "base_uri": "https://localhost:8080/",
     "height": 0
    },
    "colab_type": "code",
    "executionInfo": {
     "elapsed": 971,
     "status": "ok",
     "timestamp": 1593494540742,
     "user": {
      "displayName": "박준영",
      "photoUrl": "",
      "userId": "12937505880450462933"
     },
     "user_tz": -540
    },
    "id": "C94GJ-kFq-V5",
    "outputId": "56f08a7b-680e-4a0e-ebd8-0ac50afcef8c"
   },
   "outputs": [],
   "source": [
    "import openpyxl\n",
    "import pandas as pd\n",
    "\n",
    "wb = openpyxl.load_workbook(drive_path + 'sample.xlsx')\n",
    "sheet = wb.active\n",
    "\n",
    "df = pd.DataFrame(sheet.values)  # 데이터프레임으로 변환\n",
    "df"
   ]
  },
  {
   "cell_type": "code",
   "execution_count": null,
   "metadata": {
    "colab": {
     "base_uri": "https://localhost:8080/",
     "height": 0
    },
    "colab_type": "code",
    "executionInfo": {
     "elapsed": 620,
     "status": "ok",
     "timestamp": 1593494560537,
     "user": {
      "displayName": "박준영",
      "photoUrl": "",
      "userId": "12937505880450462933"
     },
     "user_tz": -540
    },
    "id": "nP_StzoJrVV1",
    "outputId": "d3130ee5-efc2-4fdf-9b04-47bfaa77b99f"
   },
   "outputs": [],
   "source": [
    "# 판다스를 이용해서 헤더 작성\n",
    "# 첫 번째 행 데이터를 이용해서 컬럼명을 만들어준 뒤 첫 번째 행을 삭제\n",
    "df.columns = df.iloc[0, :]\n",
    "df = df.iloc[1:, :]\n",
    "df"
   ]
  },
  {
   "cell_type": "code",
   "execution_count": null,
   "metadata": {
    "colab": {
     "base_uri": "https://localhost:8080/",
     "height": 0
    },
    "colab_type": "code",
    "executionInfo": {
     "elapsed": 643,
     "status": "ok",
     "timestamp": 1593494653317,
     "user": {
      "displayName": "박준영",
      "photoUrl": "",
      "userId": "12937505880450462933"
     },
     "user_tz": -540
    },
    "id": "_yUKvv_Rrn6H",
    "outputId": "d35da32a-c504-4910-a443-523eba801e30"
   },
   "outputs": [],
   "source": [
    "# 더 쉽게 엑셀 파일을 데이터프레임으로 만드는 방법\n",
    "# 판다스 자체 함수인 read_excel를 이용하는 것\n",
    "df = pd.read_excel(drive_path + 'sample.xlsx')\n",
    "df"
   ]
  },
  {
   "cell_type": "markdown",
   "metadata": {
    "colab_type": "text",
    "id": "NL4qzf7itv2J"
   },
   "source": [
    "## [python-docx](https://python-docx.readthedocs.io/en/latest/)\n",
    "Microsoft Word (.docx) 파일을 만들고 업데이트하기위한 Python 라이브러리\n",
    "```\n",
    "pip install python-docx\n",
    "```\n",
    "파이썬 버전 3은 python-docx를 설치 할 것, 만약 실수로 docx를 설치했다면 아래와 같이 삭제해준다.\n",
    "```\n",
    "pip uninstall docx\n",
    "```"
   ]
  },
  {
   "cell_type": "code",
   "execution_count": null,
   "metadata": {
    "colab": {},
    "colab_type": "code",
    "id": "V6wCEg1L1zdm"
   },
   "outputs": [],
   "source": [
    "!pip list"
   ]
  },
  {
   "cell_type": "code",
   "execution_count": null,
   "metadata": {
    "colab": {
     "base_uri": "https://localhost:8080/",
     "height": 235
    },
    "colab_type": "code",
    "executionInfo": {
     "elapsed": 6387,
     "status": "ok",
     "timestamp": 1593497344420,
     "user": {
      "displayName": "박준영",
      "photoUrl": "",
      "userId": "12937505880450462933"
     },
     "user_tz": -540
    },
    "id": "Oa4BHV8h17tI",
    "outputId": "6c5f99a4-fbed-48a5-b493-0ab8eb257137"
   },
   "outputs": [],
   "source": [
    "!pip install python-docx"
   ]
  },
  {
   "cell_type": "code",
   "execution_count": null,
   "metadata": {
    "colab": {},
    "colab_type": "code",
    "executionInfo": {
     "elapsed": 579,
     "status": "ok",
     "timestamp": 1593497349092,
     "user": {
      "displayName": "박준영",
      "photoUrl": "",
      "userId": "12937505880450462933"
     },
     "user_tz": -540
    },
    "id": "dK4hKDKf1XAW"
   },
   "outputs": [],
   "source": [
    "# 워드파일 생성\n",
    "import docx\n",
    "doc = docx.Document()\n",
    "doc.save(drive_path + 'example.docx')"
   ]
  },
  {
   "cell_type": "code",
   "execution_count": null,
   "metadata": {
    "colab": {
     "base_uri": "https://localhost:8080/",
     "height": 53
    },
    "colab_type": "code",
    "executionInfo": {
     "elapsed": 2298,
     "status": "ok",
     "timestamp": 1593497503519,
     "user": {
      "displayName": "박준영",
      "photoUrl": "",
      "userId": "12937505880450462933"
     },
     "user_tz": -540
    },
    "id": "9eFX-x982UT-",
    "outputId": "6b7bfa33-8449-42bc-e646-347e706bfddd"
   },
   "outputs": [],
   "source": [
    "# !ls '/gdrive/My Drive/temp/'"
   ]
  },
  {
   "cell_type": "markdown",
   "metadata": {},
   "source": [
    "Magic Command  : 셀 내부에서 특별하게 동작하는 커멘드\n",
    "\n",
    "% : 한줄의 magic command를 동작\n",
    "%% : 셀단위의 magic command를 동작\n",
    "주요 magic command\n",
    "pwd : 현재 주피터 노트북 파일의 경로\n",
    "ls : 현재 디렉토리의 파일 리스트\n",
    "whos : 현재 선언된 변수를 출력\n",
    "reset : 현재 선언된 변수를 모두 삭제\n",
    "[pwd] : 현재 주피터 노트북 파일의 경로를 체크할 수 있는 매직 커맨드"
   ]
  },
  {
   "cell_type": "code",
   "execution_count": null,
   "metadata": {},
   "outputs": [],
   "source": [
    "# !dir r'c:/Apps/temp/'\n",
    "%lsmagic\n",
    "%ls\n",
    "%pwd\n",
    "%cd c:/Apps/temp/\n",
    "%pwd\n",
    "%ls\n",
    "%cd c:/Users/godli/Documents/ml/\n",
    "%pwd"
   ]
  },
  {
   "cell_type": "code",
   "execution_count": null,
   "metadata": {
    "colab": {},
    "colab_type": "code",
    "executionInfo": {
     "elapsed": 724,
     "status": "ok",
     "timestamp": 1593497914622,
     "user": {
      "displayName": "박준영",
      "photoUrl": "",
      "userId": "12937505880450462933"
     },
     "user_tz": -540
    },
    "id": "sO2bu05620nK"
   },
   "outputs": [],
   "source": [
    "# 워드파일에 text입력\n",
    "doc = docx.Document()\n",
    "\n",
    "para = doc.add_paragraph()  # 문단을 생성\n",
    "run = para.add_run('Hello world') # 문단 객체에 텍스트를 추가\n",
    "run.font.name = 'Arial'     # 폰트(글씨체) 수정\n",
    "run.bold = True             # bold체\n",
    "run.font.size = docx.shared.Pt(20)\n",
    "\n",
    "doc.save(drive_path + 'example.docx')"
   ]
  },
  {
   "cell_type": "code",
   "execution_count": null,
   "metadata": {
    "colab": {},
    "colab_type": "code",
    "executionInfo": {
     "elapsed": 629,
     "status": "ok",
     "timestamp": 1593498591035,
     "user": {
      "displayName": "박준영",
      "photoUrl": "",
      "userId": "12937505880450462933"
     },
     "user_tz": -540
    },
    "id": "UTpb8-i83XYl"
   },
   "outputs": [],
   "source": [
    "# 한글은 폰트적용\n",
    "para = doc.add_paragraph()\n",
    "run = para.add_run('테스트')\n",
    "run.font.name = '휴먼명조'\n",
    "\n",
    "# from docx.oxml.ns import qn\n",
    "# run._element.rPr.rFonts.set(qn('w:eastAsia'), '휴먼명조')\n",
    "\n",
    "doc.save(drive_path + 'example.docx')"
   ]
  },
  {
   "cell_type": "code",
   "execution_count": null,
   "metadata": {
    "colab": {},
    "colab_type": "code",
    "executionInfo": {
     "elapsed": 948,
     "status": "ok",
     "timestamp": 1593500614319,
     "user": {
      "displayName": "박준영",
      "photoUrl": "",
      "userId": "12937505880450462933"
     },
     "user_tz": -540
    },
    "id": "aD6iaTHl063q"
   },
   "outputs": [],
   "source": [
    "from docx import Document\n",
    "from docx.shared import Inches  # 이미지 추가를 위해\n",
    "\n",
    "document = Document() # 문서를 선언\n",
    "\n",
    "document.add_heading('Document Title', 0)  # title\n",
    "\n",
    "p = document.add_paragraph('A plain paragraph having some ')  # 문단추가\n",
    "p.add_run('bold').bold = True\n",
    "p.add_run(' and some ')\n",
    "p.add_run('italic.').italic = True\n",
    "\n",
    "document.add_heading('Heading, level 1', level=1)\n",
    "document.add_paragraph('Intense quote', style='Intense Quote')\n",
    "\n",
    "document.add_paragraph(\n",
    "    'first item in unordered list', style='List Bullet'\n",
    ")\n",
    "document.add_paragraph(\n",
    "    'first item in ordered list', style='List Number'\n",
    ")\n",
    "\n",
    "document.add_picture(drive_path + 'little-char.png', width=Inches(1.25))\n",
    "\n",
    "records = (\n",
    "    (3, '101', 'Spam'),\n",
    "    (7, '422', 'Eggs'),\n",
    "    (4, '631', 'Spam, spam, eggs, and spam')\n",
    ")\n",
    "\n",
    "table = document.add_table(rows=1, cols=3)\n",
    "hdr_cells = table.rows[0].cells\n",
    "hdr_cells[0].text = 'Qty'\n",
    "hdr_cells[1].text = 'Id'\n",
    "hdr_cells[2].text = 'Desc'\n",
    "for qty, id, desc in records:\n",
    "    row_cells = table.add_row().cells\n",
    "    row_cells[0].text = str(qty)\n",
    "    row_cells[1].text = id\n",
    "    row_cells[2].text = desc\n",
    "\n",
    "document.add_page_break()\n",
    "\n",
    "document.save(drive_path + 'demo.docx')"
   ]
  },
  {
   "cell_type": "code",
   "execution_count": null,
   "metadata": {
    "colab": {
     "base_uri": "https://localhost:8080/",
     "height": 413
    },
    "colab_type": "code",
    "executionInfo": {
     "elapsed": 582,
     "status": "ok",
     "timestamp": 1593501519729,
     "user": {
      "displayName": "박준영",
      "photoUrl": "",
      "userId": "12937505880450462933"
     },
     "user_tz": -540
    },
    "id": "dt2Tv_uBD4V6",
    "outputId": "78d37bf2-ad48-48ae-88c8-8aad1e6bf18f"
   },
   "outputs": [],
   "source": [
    "# 문자 크기 변경, 문단 정렬\n",
    "import docx\n",
    "from docx.shared import Pt\n",
    "from docx.enum.text import WD_ALIGN_PARAGRAPH\n",
    "\n",
    "doc = docx.Document(drive_path + 'demo.docx')\n",
    "\n",
    "# word 문서 전체의 내용을 파이썬에서 확인\n",
    "for x, paragraph in enumerate(doc.paragraphs):\n",
    "    print(str(x) + \" : \" + paragraph.text)\n",
    "\n",
    "# word 문서의 중간에 새로운  paragraph 삽입\n",
    "doc.paragraphs[6].insert_paragraph_before(\"문장을 삽입.\")\n",
    "\n",
    "# word 내의  표(table) 읽기\n",
    "# 표는 별도 관리\n",
    "tables = doc.tables\n",
    "for t in tables:\n",
    "  for row in t.rows:\n",
    "    for cell in row.cells:\n",
    "      for p in cell.paragraphs:\n",
    "        print(p.text)\n",
    "\n",
    "doc.save(drive_path + 'demo.docx')"
   ]
  },
  {
   "cell_type": "markdown",
   "metadata": {
    "colab_type": "text",
    "id": "nhhrunniHTRf"
   },
   "source": [
    "## [PyPDF2](https://pythonhosted.org/PyPDF2/)\n",
    "바이트 스트림으로 파일을 열어서, PDF의 파일 정보와 텍스트를 가져올 수 있는 Python 라이브러리\n",
    "\n",
    "\n"
   ]
  },
  {
   "cell_type": "code",
   "execution_count": null,
   "metadata": {
    "colab": {
     "base_uri": "https://localhost:8080/",
     "height": 217
    },
    "colab_type": "code",
    "executionInfo": {
     "elapsed": 5906,
     "status": "ok",
     "timestamp": 1593517717944,
     "user": {
      "displayName": "박준영",
      "photoUrl": "",
      "userId": "12937505880450462933"
     },
     "user_tz": -540
    },
    "id": "wDpWCJm3L8Dc",
    "outputId": "97571b7b-a17b-4015-b1b0-6cd4d81770cd"
   },
   "outputs": [],
   "source": [
    "!pip install PyPDF2"
   ]
  },
  {
   "cell_type": "code",
   "execution_count": null,
   "metadata": {
    "colab": {},
    "colab_type": "code",
    "executionInfo": {
     "elapsed": 616,
     "status": "ok",
     "timestamp": 1593517723297,
     "user": {
      "displayName": "박준영",
      "photoUrl": "",
      "userId": "12937505880450462933"
     },
     "user_tz": -540
    },
    "id": "9AGF8aeJ1qcB"
   },
   "outputs": [],
   "source": [
    "def easyprint(dictInfo):\n",
    "  for metaitem in dictInfo:\n",
    "    print(metaitem, ':', dictInfo[metaitem])"
   ]
  },
  {
   "cell_type": "code",
   "execution_count": null,
   "metadata": {
    "colab": {
     "base_uri": "https://localhost:8080/",
     "height": 127
    },
    "colab_type": "code",
    "executionInfo": {
     "elapsed": 714,
     "status": "ok",
     "timestamp": 1593517724743,
     "user": {
      "displayName": "박준영",
      "photoUrl": "",
      "userId": "12937505880450462933"
     },
     "user_tz": -540
    },
    "id": "HFUJrGoNLxKD",
    "outputId": "b54923d2-a3c3-4dfb-8b49-f248c62ff3c0"
   },
   "outputs": [],
   "source": [
    "from PyPDF2 import PdfFileReader, PdfFileWriter\n",
    "\n",
    "path = drive_path + 'sample1.pdf'\n",
    "\n",
    "pdf = PdfFileReader(open(path, 'rb')) # pdf 파일 읽기\n",
    "docInfo = pdf.getDocumentInfo()       # 문서정보(메타 데이터)\n",
    "print(docInfo)\n",
    "easyprint(docInfo)\n",
    "\n",
    "# easyprint(pdf.resolvedObjects)\n",
    "\n",
    "numberPages = pdf.getNumPages()       # pdf 페이지 수\n",
    "print(numberPages)\n",
    "\n",
    "for page in pdf.pages:\n",
    "  print(page.extractText())           # 내용출력"
   ]
  },
  {
   "cell_type": "code",
   "execution_count": null,
   "metadata": {
    "colab": {
     "base_uri": "https://localhost:8080/",
     "height": 35
    },
    "colab_type": "code",
    "executionInfo": {
     "elapsed": 616,
     "status": "ok",
     "timestamp": 1593517728123,
     "user": {
      "displayName": "박준영",
      "photoUrl": "",
      "userId": "12937505880450462933"
     },
     "user_tz": -540
    },
    "id": "ehI2r7-X3Af6",
    "outputId": "4bb36989-59c6-4bc4-c1ba-015ca2b2ecec"
   },
   "outputs": [],
   "source": [
    "# PDF 파일을 읽어온 후 회전시켜 별도의 파일로 저장\n",
    "from PyPDF2 import PdfFileReader, PdfFileWriter\n",
    "\n",
    "src_path = drive_path + 'sample1.pdf'\n",
    "dest_path = drive_path + 'sample2.pdf'\n",
    "\n",
    "with open(src_path, \"rb\") as file:  # rb: Read & Binary\n",
    "    reader = PdfFileReader(file)\n",
    "    print(reader.numPages)\n",
    "\n",
    "    # 0 번째 페이지를 시계 방향으로 90도 회전\n",
    "    page = reader.getPage(0)\n",
    "    page.rotateClockwise(90)\n",
    "\n",
    "    # 회전한 페이지를 별도의 파일로 저장\n",
    "    writer = PdfFileWriter()\n",
    "    writer.addPage(page)\n",
    "    with open(dest_path, \"wb\") as output:  # wb: Write & Binary\n",
    "        writer.write(output)"
   ]
  },
  {
   "cell_type": "code",
   "execution_count": null,
   "metadata": {
    "colab": {},
    "colab_type": "code",
    "executionInfo": {
     "elapsed": 976,
     "status": "ok",
     "timestamp": 1593517730849,
     "user": {
      "displayName": "박준영",
      "photoUrl": "",
      "userId": "12937505880450462933"
     },
     "user_tz": -540
    },
    "id": "tVd2ks6T37Ao"
   },
   "outputs": [],
   "source": [
    "# 여러 PDF 파일을 병합\n",
    "from PyPDF2 import PdfFileMerger\n",
    "\n",
    "src1_path = drive_path + 'sample1.pdf'\n",
    "src2_path = drive_path + 'sample2.pdf'\n",
    "merge_path = drive_path + 'sample_merge.pdf'\n",
    "\n",
    "merger = PdfFileMerger()\n",
    "file_names = [src1_path, src2_path] # 병합할 PDF 파일 목록\n",
    "for file_name in file_names:\n",
    "    merger.append(file.name)\n",
    "merger.write(merge_path)"
   ]
  },
  {
   "cell_type": "markdown",
   "metadata": {
    "colab_type": "text",
    "id": "ch0U3RuE5UMT"
   },
   "source": [
    "#### 첫 표지 페이지를 제거하는 예제"
   ]
  },
  {
   "cell_type": "code",
   "execution_count": null,
   "metadata": {
    "colab": {},
    "colab_type": "code",
    "id": "bRKK6XUeJ-60"
   },
   "outputs": [],
   "source": [
    "import os\n",
    "from PyPDF2 import PdfFileReader, PdfFileWriter\n",
    "\n",
    "# pdf가 있는 경로\n",
    "path = r'C:\\Users\\home\\Desktop\\새 폴더'\n",
    "\n",
    "# 각각의 pdf를 불러오기\n",
    "for item in os.listdir(path):\n",
    "    item_path = os.path.join(path, item)\n",
    "    pdf = PdfFileReader(open(item_path, 'rb'))\n",
    "    \n",
    "    numberPages = pdf.getNumPages()  # pdf 페이지수\n",
    "    \n",
    "    pdf_writer = PdfFileWriter()  # 빈 pdf 생성\n",
    "    for page in range(1, numberPages):\n",
    "\n",
    "        # 두번째 페이지부터 마지막 페이지까지 빈 pdf에 추가하기\n",
    "        pdf_writer.addPage(pdf.getPage(page))\n",
    "        output_name = 'new_{}'.format(item)\n",
    "        save_path = os.path.join(path, output_name)\n",
    "\n",
    "        # 파일 쓰기하면서 저장\n",
    "        with open(save_path, 'wb') as f:\n",
    "            pdf_writer.write(f)"
   ]
  },
  {
   "cell_type": "markdown",
   "metadata": {
    "colab_type": "text",
    "id": "XkTM6qD6IfIE"
   },
   "source": [
    "#### [pdftotext](https://github.com/jalan/pdftotext)\n",
    "PDF문서의 텍스트만 필요하다고 하면 pdftotext 패키지를 사용하면 된다.\n",
    "```\n",
    "import pdftotext\n",
    " \n",
    "file = open(\"./sample.pdf\", 'rb')\n",
    "fileReader = pdftotext.PDF(file)\n",
    "\n",
    "print(\"총 페이지수는 {}입니다.\".format(len(fileReader)))\n",
    "print(\"첫페이지의 텍스트:\", fileReader[0])\n",
    "```\n",
    "\n",
    "#### [PDFMiner](https://github.com/euske/pdfminer)\n",
    "pdf문서를 text나 html로 변경해주는 모듈\n",
    "> 이미지나 표 등의 다른 구성요소들까지 추출하고 싶을 때"
   ]
  }
 ],
 "metadata": {
  "colab": {
   "collapsed_sections": [
    "xAUIvkvSbQ4J",
    "cRHR82f9YpBV",
    "MBpwsDF8YpBp",
    "2oCb5lAYYpCN",
    "iOfHDITLcs2s",
    "kwppl9b0eLLA",
    "8n83Gi4-c0cA",
    "cGRJr0tcgYzC",
    "amew8FZLpqeK",
    "513GOyFIt75k",
    "voYXWyqAl9Pt",
    "xAbTnHeypyK_",
    "NL4qzf7itv2J",
    "nhhrunniHTRf",
    "ch0U3RuE5UMT"
   ],
   "name": "oz_07-파일다루기.ipynb",
   "provenance": []
  },
  "kernelspec": {
   "display_name": "Python 3",
   "language": "python",
   "name": "python3"
  },
  "language_info": {
   "codemirror_mode": {
    "name": "ipython",
    "version": 3
   },
   "file_extension": ".py",
   "mimetype": "text/x-python",
   "name": "python",
   "nbconvert_exporter": "python",
   "pygments_lexer": "ipython3",
   "version": "3.7.6"
  }
 },
 "nbformat": 4,
 "nbformat_minor": 1
}
