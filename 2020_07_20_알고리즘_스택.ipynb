{
 "cells": [
  {
   "cell_type": "code",
   "execution_count": null,
   "metadata": {},
   "outputs": [],
   "source": [
    "#스택 문제\n",
    "\n",
    "stack = []\n",
    "\n",
    "def get_length(lst):\n",
    "    i=0\n",
    "    for _ in lst:\n",
    "        i+=1\n",
    "    print(i)\n",
    "\n",
    "def process_stack(command):\n",
    "    if command[0] =='push':\n",
    "        stack.append(command[1])\n",
    "        \n",
    "    elif command[0]=='top':\n",
    "        print(stack[-1])\n",
    "    \n",
    "    elif command[0]=='size':\n",
    "        size=get_length(stack)\n",
    "        print(size)\n",
    "    \n",
    "    elif command[0]=='empty':\n",
    "        size = get_length(stack)\n",
    "        if size==0:\n",
    "            print(1)\n",
    "        else:\n",
    "            print(-1)\n",
    "    elif command[0]=='pop':\n",
    "        print(stack.pop())\n",
    "\n",
    "n = int(input())\n",
    "\n",
    "for _ in range(n):\n",
    "    command = input().split(\" \")\n",
    "    process_stack(command)\n",
    "    "
   ]
  },
  {
   "cell_type": "code",
   "execution_count": null,
   "metadata": {},
   "outputs": [],
   "source": []
  }
 ],
 "metadata": {
  "kernelspec": {
   "display_name": "Python 3",
   "language": "python",
   "name": "python3"
  },
  "language_info": {
   "codemirror_mode": {
    "name": "ipython",
    "version": 3
   },
   "file_extension": ".py",
   "mimetype": "text/x-python",
   "name": "python",
   "nbconvert_exporter": "python",
   "pygments_lexer": "ipython3",
   "version": "3.7.6"
  }
 },
 "nbformat": 4,
 "nbformat_minor": 4
}
