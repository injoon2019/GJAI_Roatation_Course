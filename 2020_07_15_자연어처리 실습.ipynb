{
 "cells": [
  {
   "cell_type": "code",
   "execution_count": 2,
   "metadata": {},
   "outputs": [
    {
     "name": "stdout",
     "output_type": "stream",
     "text": [
      "<re.Match object; span=(0, 18), match='abcd efghopqr-stuv'>\n",
      "None\n",
      "<re.Match object; span=(0, 12), match='abc defghijk'>\n",
      "<re.Match object; span=(0, 9), match='ab cdhijk'>\n"
     ]
    }
   ],
   "source": [
    "#띄어쓰기가 있는 것만 찾기\n",
    "import re\n",
    "\n",
    "a = ['abcd efghopqr-stuv', 'abcd-efgh', 'abc defghijk', 'ab cdhijk']\n",
    "p = re.compile(r'.+\\s.+')\n",
    "\n",
    "for i in a:\n",
    "    matched = p.match(i)\n",
    "    print(matched)"
   ]
  },
  {
   "cell_type": "code",
   "execution_count": 3,
   "metadata": {},
   "outputs": [
    {
     "name": "stdout",
     "output_type": "stream",
     "text": [
      "None\n",
      "None\n",
      "<re.Match object; span=(0, 8), match='고양이는 고양이'>\n"
     ]
    }
   ],
   "source": [
    "#그룹\n",
    "import re\n",
    "\n",
    "a = ['코끼리는', '기린은 기린', '고양이는 고양이']\n",
    "p = re.compile(r'(?P<name>.+)[는]\\s\\1')\n",
    "\n",
    "for i in a:\n",
    "    matched = p.match(i)\n",
    "    print(matched)"
   ]
  },
  {
   "cell_type": "code",
   "execution_count": 1,
   "metadata": {},
   "outputs": [
    {
     "name": "stdout",
     "output_type": "stream",
     "text": [
      "<re.Match object; span=(0, 12), match='김준태 - 학점 2.0'>\n",
      "김준태 -  학점 4.5\n",
      "<re.Match object; span=(0, 12), match='이재화 - 학점 3.0'>\n",
      "이재화 -  학점 4.5\n",
      "<re.Match object; span=(0, 12), match='최주원 - 학점 4.0'>\n",
      "최주원 -  학점 4.5\n"
     ]
    }
   ],
   "source": [
    "import re\n",
    "\n",
    "a = ['김준태 - 학점 2.0', '이재화 - 학점 3.0', '최주원 - 학점 4.0']\n",
    "p = re.compile(r'(?P<rest>.+\\s.\\s).+') \n",
    "for i in a:\n",
    "        matched = p.match(i)\n",
    "        print(matched)\n",
    "        print(p.sub(\"\\g<rest> 학점 4.5\", i))   # \\g로 이름 줬던거 참조가능하다"
   ]
  },
  {
   "cell_type": "code",
   "execution_count": 5,
   "metadata": {},
   "outputs": [
    {
     "name": "stdout",
     "output_type": "stream",
     "text": [
      "ab\n",
      "a1b\n",
      "dddd\n",
      "dddd\n",
      "a123b\n"
     ]
    }
   ],
   "source": [
    "import re\n",
    "\n",
    "list_a = ['ab', 'a1b', 'a12b', 'accb', 'a123b']\n",
    "p = re.compile('a..b')\n",
    "\n",
    "for i in list_a:\n",
    "    print(p.sub(\"dddd\", i))  #매치가되면 바꾸는 것"
   ]
  },
  {
   "cell_type": "code",
   "execution_count": 7,
   "metadata": {},
   "outputs": [
    {
     "name": "stdout",
     "output_type": "stream",
     "text": [
      "ab\n",
      "a1b\n",
      "a12bgood\n",
      "accbgood\n",
      "a123b\n"
     ]
    }
   ],
   "source": [
    "import re\n",
    "\n",
    "list_a = ['ab', 'a1b', 'a12b', 'accb', 'a123b']\n",
    "p = re.compile('a..b')\n",
    "\n",
    "def subdef(match):  #매치가 될때 인자로 들어간다\n",
    "    matched_text = match.group()\n",
    "    return matched_text+\"good\"\n",
    "\n",
    "for i in list_a:\n",
    "    print(p.sub(subdef, i))  "
   ]
  },
  {
   "cell_type": "code",
   "execution_count": 9,
   "metadata": {},
   "outputs": [
    {
     "name": "stdout",
     "output_type": "stream",
     "text": [
      "<re.Match object; span=(0, 14), match='<안녕하세요><반갑습니다>'>\n",
      "<re.Match object; span=(0, 7), match='<안녕하세요>'>\n"
     ]
    }
   ],
   "source": [
    "import re\n",
    "\n",
    "a = \"<안녕하세요><반갑습니다>\"\n",
    "p = re.compile(r'<.+>')  \n",
    "\n",
    "print(p.match(a))   #<안녕하세요>만 출력하고 싶은데 처음과 끝 둘다에 <> 가 있으므로 전체가 반환된다.\n",
    "\n",
    "p = re.compile(r'<.+?>')  #물음표를 넣으면 찾아지자마자 종료\n",
    "print(p.match(a))"
   ]
  },
  {
   "cell_type": "code",
   "execution_count": 10,
   "metadata": {},
   "outputs": [
    {
     "name": "stdout",
     "output_type": "stream",
     "text": [
      "<re.Match object; span=(0, 8), match='코끼리는 코끼리'>\n",
      "<re.Match object; span=(0, 6), match='기린은 기린'>\n",
      "<re.Match object; span=(0, 8), match='고양이는 고양이'>\n"
     ]
    }
   ],
   "source": [
    "import re\n",
    "\n",
    "a = ['코끼리는 코끼리', '기린은 기린', '고양이는 고양이']\n",
    "p = re.compile(r'(?P<name>.+)[은는]\\s\\1')  #'은' 또는 '는'\n",
    "\n",
    "for i in a:\n",
    "    matched = p.match(i)\n",
    "    print(matched)"
   ]
  },
  {
   "cell_type": "code",
   "execution_count": 11,
   "metadata": {},
   "outputs": [
    {
     "name": "stdout",
     "output_type": "stream",
     "text": [
      "None\n",
      "<re.Match object; span=(0, 6), match='기린은 기린'>\n",
      "None\n"
     ]
    }
   ],
   "source": [
    "import re\n",
    "\n",
    "a = ['코끼리는 코끼리', '기린은 기린', '고양이는 고양이']\n",
    "p = re.compile(r'(?P<name>.+)[^는]\\s\\1')  # '^'는 '아닌'의 표현이다 \n",
    "\n",
    "for i in a:\n",
    "    matched = p.match(i)\n",
    "    print(matched)"
   ]
  },
  {
   "cell_type": "code",
   "execution_count": 12,
   "metadata": {},
   "outputs": [
    {
     "name": "stdout",
     "output_type": "stream",
     "text": [
      "None\n",
      "None\n",
      "None\n"
     ]
    }
   ],
   "source": [
    "import re\n",
    "\n",
    "a = ['코끼리는 코끼리', '기린은 기린', '고양이는 고양이']\n",
    "p = re.compile(r'(?P<name>.+)는$')  # '$'는 문자열의 끝과 매치가 되는지 확인하는거다\n",
    "                                    # '^'는 문자열의 시작부분과 일치하는지. \n",
    "for i in a:\n",
    "    matched = p.match(i)\n",
    "    print(matched)"
   ]
  },
  {
   "cell_type": "code",
   "execution_count": null,
   "metadata": {},
   "outputs": [],
   "source": []
  }
 ],
 "metadata": {
  "kernelspec": {
   "display_name": "Python 3",
   "language": "python",
   "name": "python3"
  },
  "language_info": {
   "codemirror_mode": {
    "name": "ipython",
    "version": 3
   },
   "file_extension": ".py",
   "mimetype": "text/x-python",
   "name": "python",
   "nbconvert_exporter": "python",
   "pygments_lexer": "ipython3",
   "version": "3.7.6"
  }
 },
 "nbformat": 4,
 "nbformat_minor": 4
}
