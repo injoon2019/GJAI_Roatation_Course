{
 "cells": [
  {
   "cell_type": "code",
   "execution_count": 1,
   "metadata": {},
   "outputs": [],
   "source": [
    "import numpy\n",
    "import pandas\n",
    "import matplotlib.pyplot\n",
    "import seaborn\n",
    "from sklearn.model_selection import train_test_split\n",
    "import sklearn"
   ]
  },
  {
   "cell_type": "code",
   "execution_count": 3,
   "metadata": {},
   "outputs": [],
   "source": [
    "import sqlite3\n",
    "import os"
   ]
  },
  {
   "cell_type": "code",
   "execution_count": 5,
   "metadata": {},
   "outputs": [
    {
     "name": "stdout",
     "output_type": "stream",
     "text": [
      "('ABW', 'Aruba', 'North America', 'Caribbean', 193.0, None, 103000, 78.4, 828.0, 793.0, 'Aruba', 'Nonmetropolitan Territory of The Netherlands', 'Beatrix', 129, 'AW')\n",
      "('AFG', 'Afghanistan', 'Asia', 'Southern and Central Asia', 652090.0, 1919, 22720000, 45.9, 5976.0, None, 'Afganistan/Afqanestan', 'Islamic Emirate', 'Mohammad Omar', 1, 'AF')\n",
      "('AGO', 'Angola', 'Africa', 'Central Africa', 1246700.0, 1975, 12878000, 38.3, 6648.0, 7984.0, 'Angola', 'Republic', 'José Eduardo dos Santos', 56, 'AO')\n",
      "('AIA', 'Anguilla', 'North America', 'Caribbean', 96.0, None, 8000, 76.1, 63.2, None, 'Anguilla', 'Dependent Territory of the UK', 'Elisabeth II', 62, 'AI')\n",
      "('ALB', 'Albania', 'Europe', 'Southern Europe', 28748.0, 1912, 3401200, 71.6, 3205.0, 2500.0, 'Shqipëria', 'Republic', 'Rexhep Mejdani', 34, 'AL')\n"
     ]
    }
   ],
   "source": [
    "#DB와 연동\n",
    "dbpath = r\"c:\\Apps\\database\\world.db\"\n",
    "\n",
    "conn = sqlite3.connect(dbpath)\n",
    "cur = conn.cursor()\n",
    "cur.execute(\"SELECT * FROM country LIMIT 5\")\n",
    "rows = cur.fetchall()\n",
    "for r in rows:\n",
    "    print(r)\n",
    "conn.close()"
   ]
  },
  {
   "cell_type": "code",
   "execution_count": 11,
   "metadata": {},
   "outputs": [
    {
     "name": "stdout",
     "output_type": "stream",
     "text": [
      "(11, 'Groningen', 'NLD', 'Groningen', 172701)\n",
      "(12, 'Breda', 'NLD', 'Noord-Brabant', 160398)\n",
      "(13, 'Apeldoorn', 'NLD', 'Gelderland', 153491)\n",
      "(14, 'Nijmegen', 'NLD', 'Gelderland', 152463)\n",
      "(15, 'Enschede', 'NLD', 'Overijssel', 149544)\n",
      "(16, 'Haarlem', 'NLD', 'Noord-Holland', 148772)\n",
      "(17, 'Almere', 'NLD', 'Flevoland', 142465)\n",
      "(18, 'Arnhem', 'NLD', 'Gelderland', 138020)\n",
      "(19, 'Zaanstad', 'NLD', 'Noord-Holland', 135621)\n",
      "(20, '´s-Hertogenbosch', 'NLD', 'Noord-Brabant', 129170)\n"
     ]
    }
   ],
   "source": [
    "################# July 8, 2020 #####################\n",
    "dbpath = r\"c:\\Apps\\database\\world.db\"\n",
    "\n",
    "conn = sqlite3.connect(dbpath)\n",
    "cur = conn.cursor()\n",
    "sql = \"select * from city limit ? offset ?\"\n",
    "cur.execute(sql, (10, 10))\n",
    "rows = cur.fetchall()\n",
    "for r in rows:\n",
    "    print(r)\n",
    "conn.close()"
   ]
  },
  {
   "cell_type": "code",
   "execution_count": 12,
   "metadata": {},
   "outputs": [],
   "source": [
    "dbpath = r\"c:\\Apps\\database\\world.db\"#r을 사용하는 이유는 이스케이프 문자를 그대로 쓰기 위해서이다\n",
    "#print_city\n",
    "def print_city(limit, offset):\n",
    "    conn = sqlite3.connect(dbpath)\n",
    "    cur = conn.cursor()\n",
    "    sql = \"select * from city limit ? offset ?\"\n",
    "    cur.execute(sql, (limit, offset))\n",
    "    rows = cur.fetchall()\n",
    "    for r in rows:\n",
    "        print(r)\n",
    "    conn.close()\n",
    "    \n"
   ]
  },
  {
   "cell_type": "code",
   "execution_count": 16,
   "metadata": {},
   "outputs": [],
   "source": [
    "# DML (insert, update, delete)\n",
    "# Table 생성\n",
    "conn = sqlite3.connect(dbpath)\n",
    "\n",
    "cur = conn.cursor()\n",
    "sql = \"DROP TABLE IF EXISTS test_ex\"\n",
    "cur.execute(sql)\n",
    "conn.commit()\n",
    "\n",
    "conn.close()"
   ]
  },
  {
   "cell_type": "code",
   "execution_count": 17,
   "metadata": {},
   "outputs": [],
   "source": [
    "# DML (insert, update, delete)\n",
    "# Table 생성\n",
    "conn = sqlite3.connect(dbpath)\n",
    "\n",
    "cur = conn.cursor()\n",
    "sql = '''\n",
    "        DROP TABLE IF EXISTS test_ex;\n",
    "        CREATE TABLE test_ex (a INT, b TEXT, c TEXT);\n",
    "      '''\n",
    "cur.executescript(sql)\n",
    "conn.commit()\n",
    "\n",
    "conn.close()"
   ]
  },
  {
   "cell_type": "code",
   "execution_count": 20,
   "metadata": {},
   "outputs": [],
   "source": [
    "#Data 추가\n",
    "conn = sqlite3.connect(dbpath)\n",
    "cur = conn.cursor()\n",
    "sql = '''INSERT INTO test_ex\n",
    "       VALUES (?,?,?)'''\n",
    "cur.execute(sql, (10, \"what\", \"why\"))\n",
    "conn.commit()\n",
    "\n",
    "conn.close()"
   ]
  },
  {
   "cell_type": "code",
   "execution_count": 21,
   "metadata": {},
   "outputs": [
    {
     "name": "stdout",
     "output_type": "stream",
     "text": [
      "(10, 'what', 'why')\n",
      "(10, 'what', 'why')\n"
     ]
    }
   ],
   "source": [
    "conn = sqlite3.connect(dbpath)\n",
    "cur = conn.cursor()\n",
    "sql = '''\n",
    "        SELECT *\n",
    "        FROM test_ex\n",
    "        '''\n",
    "cur.execute(sql)\n",
    "rows = cur.fetchall()\n",
    "conn.close()\n"
   ]
  },
  {
   "cell_type": "code",
   "execution_count": 29,
   "metadata": {},
   "outputs": [
    {
     "name": "stdout",
     "output_type": "stream",
     "text": [
      "(10, 'This', 'Here')\n",
      "(10, 'That', 'Over there')\n"
     ]
    }
   ],
   "source": [
    "#삭제, 생성, 추가, 검색\n",
    "conn = sqlite3.connect(dbpath)\n",
    "cur = conn.cursor()\n",
    "sql = '''\n",
    "        DROP TABLE IF EXISTS test_ex;\n",
    "        CREATE TABLE test_ex(\n",
    "            a INT,\n",
    "            b TEXT,\n",
    "            c TEXT\n",
    "        );\n",
    "        INSERT INTO test_ex VALUES(10, \"This\", \"Here\");\n",
    "        INSERT INTO test_ex VALUES(10, \"That\", \"Over there\");\n",
    "        '''\n",
    "cur.executescript(sql)\n",
    "#insert 하고 난 뒤에는 commit을 해야한다\n",
    "conn.commit()\n",
    "\n",
    "sql2 = \"select * from test_ex\"\n",
    "cur.execute(sql2)\n",
    "rows = cur.fetchall()\n",
    "for r in rows:\n",
    "    print(r)\n",
    "\n",
    "conn.close()"
   ]
  },
  {
   "cell_type": "code",
   "execution_count": 30,
   "metadata": {},
   "outputs": [],
   "source": [
    "#EXECUTEMANY\n",
    "data = (\n",
    "    (1, \"This\", \"Right Here!\"),\n",
    "    (2, \"That\", \"Over There\"),\n",
    "    (3, \"These\", \"Those\")\n",
    ")\n",
    "conn = sqlite3.connect(dbpath)\n",
    "\n",
    "cur = conn.cursor()\n",
    "sql = \"INSERT INTO test_ex VALUES (?,?,?)\"\n",
    "cur.executemany(sql, data)\n",
    "conn.commit()\n",
    "\n",
    "conn.close()"
   ]
  },
  {
   "cell_type": "code",
   "execution_count": null,
   "metadata": {},
   "outputs": [],
   "source": []
  }
 ],
 "metadata": {
  "kernelspec": {
   "display_name": "Python 3",
   "language": "python",
   "name": "python3"
  },
  "language_info": {
   "codemirror_mode": {
    "name": "ipython",
    "version": 3
   },
   "file_extension": ".py",
   "mimetype": "text/x-python",
   "name": "python",
   "nbconvert_exporter": "python",
   "pygments_lexer": "ipython3",
   "version": "3.7.6"
  }
 },
 "nbformat": 4,
 "nbformat_minor": 4
}
