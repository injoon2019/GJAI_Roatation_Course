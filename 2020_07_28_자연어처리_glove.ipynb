{
 "cells": [
  {
   "cell_type": "code",
   "execution_count": null,
   "metadata": {
    "colab": {
     "base_uri": "https://localhost:8080/",
     "height": 248
    },
    "colab_type": "code",
    "id": "4okX5FP6oMh9",
    "outputId": "8ed396c8-bba1-4ece-e780-37f7fc55467b"
   },
   "outputs": [
    {
     "name": "stdout",
     "output_type": "stream",
     "text": [
      "Collecting glove_python\n",
      "\u001b[?25l  Downloading https://files.pythonhosted.org/packages/3e/79/7e7e548dd9dcb741935d031117f4bed133276c2a047aadad42f1552d1771/glove_python-0.1.0.tar.gz (263kB)\n",
      "\r",
      "\u001b[K     |█▎                              | 10kB 18.7MB/s eta 0:00:01\r",
      "\u001b[K     |██▌                             | 20kB 1.7MB/s eta 0:00:01\r",
      "\u001b[K     |███▊                            | 30kB 2.3MB/s eta 0:00:01\r",
      "\u001b[K     |█████                           | 40kB 2.5MB/s eta 0:00:01\r",
      "\u001b[K     |██████▎                         | 51kB 2.0MB/s eta 0:00:01\r",
      "\u001b[K     |███████▌                        | 61kB 2.3MB/s eta 0:00:01\r",
      "\u001b[K     |████████▊                       | 71kB 2.5MB/s eta 0:00:01\r",
      "\u001b[K     |██████████                      | 81kB 2.7MB/s eta 0:00:01\r",
      "\u001b[K     |███████████▏                    | 92kB 2.9MB/s eta 0:00:01\r",
      "\u001b[K     |████████████▌                   | 102kB 2.8MB/s eta 0:00:01\r",
      "\u001b[K     |█████████████▊                  | 112kB 2.8MB/s eta 0:00:01\r",
      "\u001b[K     |███████████████                 | 122kB 2.8MB/s eta 0:00:01\r",
      "\u001b[K     |████████████████▏               | 133kB 2.8MB/s eta 0:00:01\r",
      "\u001b[K     |█████████████████▍              | 143kB 2.8MB/s eta 0:00:01\r",
      "\u001b[K     |██████████████████▊             | 153kB 2.8MB/s eta 0:00:01\r",
      "\u001b[K     |████████████████████            | 163kB 2.8MB/s eta 0:00:01\r",
      "\u001b[K     |█████████████████████▏          | 174kB 2.8MB/s eta 0:00:01\r",
      "\u001b[K     |██████████████████████▍         | 184kB 2.8MB/s eta 0:00:01\r",
      "\u001b[K     |███████████████████████▋        | 194kB 2.8MB/s eta 0:00:01\r",
      "\u001b[K     |█████████████████████████       | 204kB 2.8MB/s eta 0:00:01\r",
      "\u001b[K     |██████████████████████████▏     | 215kB 2.8MB/s eta 0:00:01\r",
      "\u001b[K     |███████████████████████████▍    | 225kB 2.8MB/s eta 0:00:01\r",
      "\u001b[K     |████████████████████████████▋   | 235kB 2.8MB/s eta 0:00:01\r",
      "\u001b[K     |█████████████████████████████▉  | 245kB 2.8MB/s eta 0:00:01\r",
      "\u001b[K     |███████████████████████████████▏| 256kB 2.8MB/s eta 0:00:01\r",
      "\u001b[K     |████████████████████████████████| 266kB 2.8MB/s \n",
      "\u001b[?25hRequirement already satisfied: numpy in /usr/local/lib/python3.6/dist-packages (from glove_python) (1.18.5)\n",
      "Requirement already satisfied: scipy in /usr/local/lib/python3.6/dist-packages (from glove_python) (1.4.1)\n",
      "Building wheels for collected packages: glove-python\n",
      "  Building wheel for glove-python (setup.py) ... \u001b[?25l\u001b[?25hdone\n",
      "  Created wheel for glove-python: filename=glove_python-0.1.0-cp36-cp36m-linux_x86_64.whl size=700280 sha256=20648c6b7cfd386a37179e68684bd67ae6765f458c3551cbd929e3a58352d7ee\n",
      "  Stored in directory: /root/.cache/pip/wheels/88/4b/6d/10c0d2ad32c9d9d68beec9694a6f0b6e83ab1662a90a089a4b\n",
      "Successfully built glove-python\n",
      "Installing collected packages: glove-python\n",
      "Successfully installed glove-python-0.1.0\n"
     ]
    }
   ],
   "source": [
    "!pip install glove_python"
   ]
  },
  {
   "cell_type": "code",
   "execution_count": null,
   "metadata": {
    "colab": {},
    "colab_type": "code",
    "id": "g90C3IS9oysL"
   },
   "outputs": [],
   "source": [
    "import csv\n",
    "import re\n",
    "\n",
    "def open_csv():\n",
    "    # csv파일을 연다!\n",
    "    f = open('IMDB Dataset.csv', 'r', encoding='utf-8')\n",
    "    csvreader = csv.reader(f)\n",
    "    \n",
    "    doc_list = []\n",
    "\n",
    "    next(csvreader)\n",
    "    for f in csvreader:\n",
    "        line = re.compile(\"[^\\w]\").sub(' ', f[0].lower())\n",
    "        doc_list.append(line.split())\n",
    "\n",
    "    return doc_list\n",
    "  \n",
    "doc_list = open_csv()"
   ]
  },
  {
   "cell_type": "code",
   "execution_count": null,
   "metadata": {
    "colab": {
     "base_uri": "https://localhost:8080/",
     "height": 386
    },
    "colab_type": "code",
    "id": "LIWZNXCJoYKu",
    "outputId": "9e6fb442-8055-4507-dcef-53652255d9ca"
   },
   "outputs": [
    {
     "name": "stdout",
     "output_type": "stream",
     "text": [
      "Performing 20 training epochs with 4 threads\n",
      "Epoch 0\n",
      "Epoch 1\n",
      "Epoch 2\n",
      "Epoch 3\n",
      "Epoch 4\n",
      "Epoch 5\n",
      "Epoch 6\n",
      "Epoch 7\n",
      "Epoch 8\n",
      "Epoch 9\n",
      "Epoch 10\n",
      "Epoch 11\n",
      "Epoch 12\n",
      "Epoch 13\n",
      "Epoch 14\n",
      "Epoch 15\n",
      "Epoch 16\n",
      "Epoch 17\n",
      "Epoch 18\n",
      "Epoch 19\n"
     ]
    }
   ],
   "source": [
    "from glove import Corpus, Glove\n",
    "\n",
    "corpus =  Corpus()\n",
    "#같이 등장하는 것의 기준을 5로 설정 \n",
    "corpus.fit(doc_list, window=5)\n",
    "\n",
    "#경사하강법을 사용하기 때문에 학습률을 설정, 아웃풋 벡터의 차원을 100\n",
    "glove = Glove(no_components=100, learning_rate=0.05)\n",
    "#쓰레드 개수는 4개, 훈련횟수는 10번, verbose는 훈련하는 동안 나오는 설명\n",
    "glove.fit(corpus.matrix, epochs = 20, no_threads=4, verbose=True)\n",
    "#유사도 검색을 위해서 행렬의 index를 지정\n",
    "glove.add_dictionary(corpus.dictionary)"
   ]
  },
  {
   "cell_type": "markdown",
   "metadata": {
    "colab_type": "text",
    "id": "vTzKByK0pOkA"
   },
   "source": []
  },
  {
   "cell_type": "code",
   "execution_count": null,
   "metadata": {
    "colab": {
     "base_uri": "https://localhost:8080/",
     "height": 34
    },
    "colab_type": "code",
    "id": "PWMmON6Vpyk4",
    "outputId": "4aac9c38-2b2d-4466-d545-847ca343eb73"
   },
   "outputs": [
    {
     "name": "stdout",
     "output_type": "stream",
     "text": [
      "[('child', 0.8763884981803762), ('dream', 0.8755751196519531), ('business', 0.8719806439005535), ('mask', 0.8703168860929007)]\n"
     ]
    }
   ],
   "source": [
    "glove_result = glove.most_similar('dog')\n",
    "print(glove_result)"
   ]
  },
  {
   "cell_type": "code",
   "execution_count": null,
   "metadata": {
    "colab": {},
    "colab_type": "code",
    "id": "5S4WytD8p1yt"
   },
   "outputs": [],
   "source": [
    "############\n",
    "#한글파일 실습"
   ]
  },
  {
   "cell_type": "code",
   "execution_count": null,
   "metadata": {
    "colab": {
     "base_uri": "https://localhost:8080/",
     "height": 193
    },
    "colab_type": "code",
    "id": "s45JafBmrCtJ",
    "outputId": "47a23151-4686-4d24-c9ee-75fc95dd0f3c"
   },
   "outputs": [
    {
     "name": "stderr",
     "output_type": "stream",
     "text": [
      "IOPub data rate exceeded.\n",
      "The notebook server will temporarily stop sending output\n",
      "to the client in order to avoid crashing it.\n",
      "To change this limit, set the config variable\n",
      "`--NotebookApp.iopub_data_rate_limit`.\n",
      "\n",
      "Current values:\n",
      "NotebookApp.iopub_data_rate_limit=1000000.0 (bytes/sec)\n",
      "NotebookApp.rate_limit_window=3.0 (secs)\n",
      "\n"
     ]
    }
   ],
   "source": [
    "import csv\n",
    "import re\n",
    "\n",
    "def open_csv():\n",
    "    # csv파일을 연다!\n",
    "    f = open('ratings.txt', 'r', encoding='utf-8')\n",
    "    csvreader = csv.reader(f, delimiter=\"\\t\")\n",
    "    \n",
    "    doc_list = []\n",
    "\n",
    "    next(csvreader)\n",
    "    for line in csvreader:\n",
    "        #print(line[1])\n",
    "        doc_list.append(line[1].split())\n",
    "\n",
    "    return doc_list\n",
    "  \n",
    "doc_list = open_csv()\n",
    "print(doc_list)"
   ]
  },
  {
   "cell_type": "code",
   "execution_count": null,
   "metadata": {
    "colab": {
     "base_uri": "https://localhost:8080/",
     "height": 386
    },
    "colab_type": "code",
    "id": "GWznPrkcrnH0",
    "outputId": "19b18b48-b2c9-4fa0-8e0f-614508232766"
   },
   "outputs": [
    {
     "name": "stdout",
     "output_type": "stream",
     "text": [
      "Performing 20 training epochs with 4 threads\n",
      "Epoch 0\n",
      "Epoch 1\n",
      "Epoch 2\n",
      "Epoch 3\n",
      "Epoch 4\n",
      "Epoch 5\n",
      "Epoch 6\n",
      "Epoch 7\n",
      "Epoch 8\n",
      "Epoch 9\n",
      "Epoch 10\n",
      "Epoch 11\n",
      "Epoch 12\n",
      "Epoch 13\n",
      "Epoch 14\n",
      "Epoch 15\n",
      "Epoch 16\n",
      "Epoch 17\n",
      "Epoch 18\n",
      "Epoch 19\n"
     ]
    }
   ],
   "source": [
    "from glove import Corpus, Glove\n",
    "\n",
    "corpus =  Corpus()\n",
    "#같이 등장하는 것의 기준을 5로 설정 \n",
    "corpus.fit(doc_list, window=5)\n",
    "\n",
    "#경사하강법을 사용하기 때문에 학습률을 설정, 아웃풋 벡터의 차원을 100\n",
    "glove = Glove(no_components=100, learning_rate=0.05)\n",
    "#쓰레드 개수는 4개, 훈련횟수는 10번, verbose는 훈련하는 동안 나오는 설명\n",
    "glove.fit(corpus.matrix, epochs = 20, no_threads=4, verbose=True)\n",
    "#유사도 검색을 위해서 행렬의 index를 지정\n",
    "glove.add_dictionary(corpus.dictionary)"
   ]
  },
  {
   "cell_type": "code",
   "execution_count": null,
   "metadata": {
    "colab": {
     "base_uri": "https://localhost:8080/",
     "height": 34
    },
    "colab_type": "code",
    "id": "PsBLGXBgrpmD",
    "outputId": "3b5c1594-567f-449c-dcfc-5e7bc89c019a"
   },
   "outputs": [
    {
     "name": "stdout",
     "output_type": "stream",
     "text": [
      "[('손꼽히는', 0.9653170930744568), ('그당시', 0.9610643267433882), ('불후의', 0.9596865516344714), ('명작중의', 0.959106269449977)]\n"
     ]
    }
   ],
   "source": [
    "glove_result = glove.most_similar('명작')\n",
    "print(glove_result)"
   ]
  },
  {
   "cell_type": "code",
   "execution_count": null,
   "metadata": {
    "colab": {
     "base_uri": "https://localhost:8080/",
     "height": 140
    },
    "colab_type": "code",
    "id": "Pt8wwdgVrsLn",
    "outputId": "b2783f19-d430-4c0d-d1b5-96a36ca902f1"
   },
   "outputs": [
    {
     "name": "stdout",
     "output_type": "stream",
     "text": [
      "[[1, 2, 3, 4, 4]]\n",
      "[[0.         0.         0.         0.         0.         0.91629073\n",
      "  0.91629073 0.91629073 0.91629073 0.91629073 0.         0.\n",
      "  0.         0.        ]\n",
      " [0.         0.         0.         0.         0.         0.\n",
      "  0.         0.         0.         0.         0.91629073 0.91629073\n",
      "  0.91629073 0.91629073]]\n"
     ]
    }
   ],
   "source": [
    "from tensorflow.keras.preprocessing.text import Tokenizer\n",
    "\n",
    "token = Tokenizer()\n",
    "text = \"Tensorflow tokenizer is good\"\n",
    "token.fit_on_texts([text])\n",
    "#단어 인덱스\n",
    "#print(token.word_index)\n",
    "#단어 빈도\n",
    "#print(token.word_counters)\n",
    "\n",
    "#정수 인코딩\n",
    "text_2 = \"Tensorflow tokenizer is not good good\"\n",
    "int_encoding = token.texts_to_sequences([text_2])\n",
    "print(int_encoding)\n",
    "\n",
    "#행렬화\n",
    "text_list = ['안녕하세요 감사해요 잘있어요 다시 만나요', '오늘도 기분 좋은 하루']\n",
    "token.fit_on_texts(text_list)\n",
    "#count 는 dtm 생성, binary느 ㄴ존재여부, freq는 빈도율, tfidf는 tfidf\n",
    "matrix = token.texts_to_matrix(text_list, mode='tfidf')\n",
    "print(matrix)"
   ]
  },
  {
   "cell_type": "code",
   "execution_count": null,
   "metadata": {
    "colab": {},
    "colab_type": "code",
    "id": "QmgNLDXYvCdN"
   },
   "outputs": [],
   "source": []
  }
 ],
 "metadata": {
  "colab": {
   "collapsed_sections": [],
   "name": "2020_07_28_자연어처리_glove.ipynb",
   "provenance": []
  },
  "kernelspec": {
   "display_name": "Python 3",
   "language": "python",
   "name": "python3"
  },
  "language_info": {
   "codemirror_mode": {
    "name": "ipython",
    "version": 3
   },
   "file_extension": ".py",
   "mimetype": "text/x-python",
   "name": "python",
   "nbconvert_exporter": "python",
   "pygments_lexer": "ipython3",
   "version": "3.7.6"
  }
 },
 "nbformat": 4,
 "nbformat_minor": 1
}
