{
  "nbformat": 4,
  "nbformat_minor": 0,
  "metadata": {
    "colab": {
      "name": "2020_08_19_자연어처리_추천시스템.ipynb",
      "provenance": [],
      "collapsed_sections": []
    },
    "kernelspec": {
      "name": "python3",
      "display_name": "Python 3"
    }
  },
  "cells": [
    {
      "cell_type": "code",
      "metadata": {
        "id": "Oax0RTYQ3tmL",
        "colab_type": "code",
        "colab": {}
      },
      "source": [
        "import pandas as pd\n",
        "import numpy as np\n",
        "import os\n",
        "from ast import literal_eval"
      ],
      "execution_count": 3,
      "outputs": []
    },
    {
      "cell_type": "code",
      "metadata": {
        "id": "uxfPB9tt4E2d",
        "colab_type": "code",
        "colab": {
          "base_uri": "https://localhost:8080/",
          "height": 283
        },
        "outputId": "2fa675bc-d31b-4a75-e77f-1e5113950f79"
      },
      "source": [
        "pd.set_option('display.max_columns', 20)\n",
        "pd.set_option('display.width', 1000)\n",
        "\n",
        "movies = pd.read_csv('tmdb_5000_movies.csv')\n",
        "movies = movies.loc[:, ['title', 'genres', 'keywords']]\n",
        "\n",
        "#딕셔너리화?\n",
        "movies['genres'] = movies['genres'].apply(literal_eval)\n",
        "movies['keywords'] = movies['keywords'].apply(literal_eval)\n",
        "\n",
        "# [ {}, {}, {}, {}] -> [장르, 장르, 장르, 장르]\n",
        "# i=0\n",
        "# for row in movies['genres']:\n",
        "#   genres = []\n",
        "#   for ele in row:\n",
        "#     genres.append(ele['name'])\n",
        "#   movies['genres'][i]=genres\n",
        "#   i +=1\n",
        "\n",
        "#한 줄에서 name에 해당하는 것들만 뽑겠다는 것\n",
        "movies['genres'] = movies['genres'].apply(lambda x:  [ele['name'] for ele in x])\n",
        "movies['keywords'] = movies['keywords'].apply(lambda x: [ele['name'] for ele in x])\n",
        "\n",
        "# [장르, 장르, 장르, 장르] -> 장르 장르 장르 장르\n",
        "movies['genres'] = movies['genres'].apply(lambda x: ' '.join(x))\n",
        "movies['keywords'] = movies['keywords'].apply(lambda x: ' '.join(x))\n",
        "\n",
        "print(movies)"
      ],
      "execution_count": 31,
      "outputs": [
        {
          "output_type": "stream",
          "text": [
            "                                         title                                    genres                                           keywords\n",
            "0                                       Avatar  Action Adventure Fantasy Science Fiction  culture clash future space war space colony so...\n",
            "1     Pirates of the Caribbean: At World's End                  Adventure Fantasy Action  ocean drug abuse exotic island east india trad...\n",
            "2                                      Spectre                    Action Adventure Crime  spy based on novel secret agent sequel mi6 bri...\n",
            "3                        The Dark Knight Rises               Action Crime Drama Thriller  dc comics crime fighter terrorist secret ident...\n",
            "4                                  John Carter          Action Adventure Science Fiction  based on novel mars medallion space travel pri...\n",
            "...                                        ...                                       ...                                                ...\n",
            "4798                               El Mariachi                     Action Crime Thriller  united states–mexico barrier legs arms paper k...\n",
            "4799                                 Newlyweds                            Comedy Romance                                                   \n",
            "4800                 Signed, Sealed, Delivered             Comedy Drama Romance TV Movie  date love at first sight narration investigati...\n",
            "4801                          Shanghai Calling                                                                                             \n",
            "4802                         My Date with Drew                               Documentary               obsession camcorder crush dream girl\n",
            "\n",
            "[4803 rows x 3 columns]\n"
          ],
          "name": "stdout"
        }
      ]
    },
    {
      "cell_type": "code",
      "metadata": {
        "id": "ZIXyjjMe4WX1",
        "colab_type": "code",
        "colab": {
          "base_uri": "https://localhost:8080/",
          "height": 72
        },
        "outputId": "81cc516d-a4c7-41ee-e038-14ecc6dbd6aa"
      },
      "source": [
        "from sklearn.feature_extraction.text import TfidfVectorizer\n",
        "\n",
        "# ngram_range(1,2)는 단어를 1개 혹은 2개 연속으로 보겠다\n",
        "tfidf_vec = TfidfVectorizer(ngram_range=(1,2))\n",
        "tfidf_matrix = tfidf_vec.fit_transform(movies['genres'])\n",
        "print(tfidf_vec.vocabulary_.items())\n",
        "# 4803은 영화 개수, 276은 장르 단어 개수(1개씩 보는것, 2개씩 보는 것 다 포함)\n",
        "# 하나의 영화를 276개의 열을 가진 벡터로 표현하겠다 \n",
        "print(tfidf_matrix.shape)"
      ],
      "execution_count": 35,
      "outputs": [
        {
          "output_type": "stream",
          "text": [
            "dict_items([('action', 0), ('adventure', 16), ('fantasy', 124), ('science', 232), ('fiction', 138), ('action adventure', 1), ('adventure fantasy', 24), ('fantasy science', 135), ('science fiction', 233), ('fantasy action', 125), ('crime', 64), ('adventure crime', 20), ('drama', 90), ('thriller', 234), ('action crime', 4), ('crime drama', 68), ('drama thriller', 106), ('adventure science', 29), ('animation', 33), ('family', 109), ('animation family', 38), ('fantasy family', 130), ('action science', 12), ('adventure action', 17), ('action thriller', 13), ('thriller crime', 238), ('western', 265), ('adventure western', 32), ('adventure family', 23), ('family fantasy', 115), ('fiction action', 139), ('action fantasy', 7), ('comedy', 44), ('action comedy', 3), ('comedy science', 59), ('adventure drama', 22), ('drama action', 91), ('romance', 214), ('drama romance', 104), ('romance thriller', 228), ('thriller action', 235), ('fiction thriller', 150), ('adventure thriller', 30), ('fantasy adventure', 126), ('family adventure', 111), ('adventure comedy', 19), ('thriller science', 247), ('family comedy', 113), ('horror', 170), ('action drama', 5), ('drama horror', 101), ('horror science', 180), ('action family', 6), ('action romance', 11), ('fiction adventure', 140), ('adventure animation', 18), ('animation adventure', 35), ('comedy family', 51), ('family action', 110), ('comedy crime', 48), ('crime thriller', 78), ('animation drama', 37), ('fiction fantasy', 146), ('animation comedy', 36), ('drama family', 97), ('fiction western', 152), ('crime fantasy', 70), ('fantasy comedy', 128), ('drama comedy', 94), ('comedy animation', 47), ('drama fantasy', 98), ('fantasy drama', 129), ('family romance', 120), ('fiction romance', 149), ('comedy adventure', 46), ('fantasy animation', 127), ('mystery', 200), ('family mystery', 119), ('mystery science', 210), ('family animation', 112), ('animation action', 34), ('drama science', 105), ('fiction mystery', 148), ('mystery adventure', 202), ('thriller mystery', 245), ('mystery romance', 209), ('comedy drama', 50), ('thriller adventure', 236), ('history', 158), ('war', 252), ('history romance', 166), ('romance war', 230), ('war history', 258), ('history action', 159), ('horror action', 171), ('comedy fantasy', 52), ('horror thriller', 181), ('drama war', 107), ('action animation', 2), ('action war', 14), ('action mystery', 10), ('drama mystery', 103), ('animation fantasy', 39), ('western drama', 271), ('drama adventure', 92), ('family western', 123), ('western adventure', 267), ('mystery thriller', 211), ('animation science', 42), ('fiction family', 145), ('comedy thriller', 60), ('animation mystery', 41), ('family science', 121), ('crime mystery', 75), ('fantasy horror', 131), ('adventure mystery', 27), ('action history', 8), ('history war', 168), ('thriller drama', 240), ('drama history', 100), ('war action', 253), ('crime comedy', 67), ('fiction drama', 144), ('adventure history', 25), ('music', 187), ('romance family', 221), ('animation music', 40), ('comedy romance', 58), ('history crime', 160), ('drama crime', 95), ('drama western', 108), ('drama animation', 93), ('thriller romance', 246), ('horror mystery', 178), ('romance fantasy', 222), ('family drama', 114), ('western history', 272), ('mystery drama', 204), ('thriller history', 242), ('comedy action', 45), ('thriller fantasy', 241), ('fantasy thriller', 136), ('romance science', 227), ('history thriller', 167), ('romance drama', 220), ('fantasy romance', 134), ('drama music', 102), ('horror comedy', 172), ('family music', 118), ('music animation', 189), ('crime science', 77), ('romance comedy', 218), ('fantasy mystery', 133), ('mystery family', 205), ('war drama', 257), ('western animation', 268), ('fiction war', 151), ('music romance', 197), ('documentary', 80), ('documentary family', 85), ('thriller horror', 243), ('comedy music', 56), ('crime romance', 76), ('war science', 262), ('thriller war', 248), ('fantasy music', 132), ('fantasy war', 137), ('action horror', 9), ('music family', 194), ('mystery action', 201), ('history drama', 162), ('crime action', 65), ('action western', 15), ('mystery western', 213), ('adventure war', 31), ('music documentary', 192), ('fiction horror', 147), ('fiction animation', 141), ('romance adventure', 216), ('adventure horror', 26), ('fiction comedy', 142), ('comedy western', 63), ('family thriller', 122), ('crime adventure', 66), ('crime family', 69), ('horror romance', 179), ('romance animation', 217), ('comedy horror', 55), ('horror fantasy', 176), ('adventure romance', 28), ('music drama', 193), ('mystery war', 212), ('romance western', 231), ('history western', 169), ('western thriller', 275), ('romance action', 215), ('romance horror', 225), ('history mystery', 165), ('comedy war', 62), ('crime history', 72), ('war adventure', 254), ('war romance', 261), ('western crime', 270), ('crime horror', 73), ('war crime', 256), ('music comedy', 190), ('romance history', 224), ('mystery fantasy', 206), ('romance crime', 219), ('family horror', 117), ('thriller music', 244), ('war music', 259), ('mystery crime', 203), ('comedy documentary', 49), ('documentary action', 81), ('horror drama', 175), ('music adventure', 188), ('western music', 273), ('romance music', 226), ('foreign', 153), ('drama foreign', 99), ('thriller western', 249), ('crime war', 79), ('mystery horror', 207), ('music crime', 191), ('history music', 164), ('war comedy', 255), ('western action', 266), ('horror crime', 173), ('history family', 163), ('thriller comedy', 237), ('documentary music', 88), ('crime music', 74), ('comedy mystery', 57), ('crime foreign', 71), ('romance foreign', 223), ('western romance', 274), ('mystery music', 208), ('foreign romance', 156), ('foreign history', 155), ('family foreign', 116), ('music science', 198), ('tv', 250), ('movie', 182), ('tv movie', 251), ('movie romance', 186), ('music mystery', 196), ('fiction crime', 143), ('war mystery', 260), ('comedy foreign', 53), ('documentary comedy', 82), ('war thriller', 263), ('movie crime', 184), ('music tv', 199), ('drama documentary', 96), ('comedy history', 54), ('romance tv', 229), ('war western', 264), ('movie horror', 185), ('movie action', 183), ('western comedy', 269), ('documentary drama', 84), ('animation war', 43), ('history documentary', 161), ('horror history', 177), ('thriller documentary', 239), ('documentary crime', 83), ('horror documentary', 174), ('documentary mystery', 89), ('adventure documentary', 21), ('documentary foreign', 86), ('music horror', 195), ('foreign documentary', 154), ('comedy tv', 61), ('documentary history', 87), ('foreign thriller', 157)])\n",
            "(4803, 276)\n"
          ],
          "name": "stdout"
        }
      ]
    },
    {
      "cell_type": "code",
      "metadata": {
        "id": "S-ygwpdY7Xk_",
        "colab_type": "code",
        "colab": {
          "base_uri": "https://localhost:8080/",
          "height": 263
        },
        "outputId": "ea642de7-1f43-4dc9-eef0-61b77fd5862e"
      },
      "source": [
        "# 유사도 행렬 (4803, 4803)\n",
        "# 1, 1 (1번째 영화와 1번째 영화의 유사도)\n",
        "# 1, 1/ 1, 2 / ... / 1, 4803 -> 1번째 영화와 1-4803 영화의 유사도\n",
        "# 2, 1/ 2, 2/ ..../ 2, 4803 -> 2번째 영화와 1-4803 영화의 유사도\n",
        "# ....\n",
        "# 4803, 1/ 4803, 2/ .... / 4803, 4803 -> 1번째 영화와 1-4803 영화의 유사도\n",
        "\n",
        "from sklearn.metrics.pairwise import cosine_similarity\n",
        "\n",
        "#4803개의 영화에 대해서 4803개의 영화와의 유사도를 구하겠다\n",
        "genres_similarity = cosine_similarity(tfidf_matrix, tfidf_matrix)\n",
        "print(genres_similarity)\n",
        "# 유사도 값이 높은 영화의 제목\n",
        "# 유사도 값이 높은 순으로 인덱스 값을 뽑아낸다\n",
        "# 높은거부터 낮은걸로 정렬하고 인덱스를 뽑아낸다\n",
        "similar_index = np.argsort(-genres_similarity)\n",
        "print(similar_index)"
      ],
      "execution_count": 36,
      "outputs": [
        {
          "output_type": "stream",
          "text": [
            "[[1.         0.49309367 0.29270708 ... 0.         0.         0.        ]\n",
            " [0.49309367 1.         0.17786505 ... 0.         0.         0.        ]\n",
            " [0.29270708 0.17786505 1.         ... 0.         0.         0.        ]\n",
            " ...\n",
            " [0.         0.         0.         ... 1.         0.         0.        ]\n",
            " [0.         0.         0.         ... 0.         0.         0.        ]\n",
            " [0.         0.         0.         ... 0.         0.         1.        ]]\n",
            "[[   0  870 3494 ... 2355 2397 4802]\n",
            " [ 329  379  199 ... 2323 2325 4802]\n",
            " [1740    2 1542 ... 2359 2344 4802]\n",
            " ...\n",
            " [4800 3809 3285 ... 2085 2142 4802]\n",
            " [   0 3205 3204 ... 1596 1594 4802]\n",
            " [4802 4593 4583 ... 1597 1595 2401]]\n"
          ],
          "name": "stdout"
        }
      ]
    },
    {
      "cell_type": "code",
      "metadata": {
        "id": "CCgPUvk49iqB",
        "colab_type": "code",
        "colab": {
          "base_uri": "https://localhost:8080/",
          "height": 301
        },
        "outputId": "120eacba-e4d0-4cf0-bbe6-0f50b332ee3c"
      },
      "source": [
        "# 사용자가 입력한 영화의 인덱스 값을 찾아내고\n",
        "# similar_index에 기록된 유사한 인덱스를 찾아내고\n",
        "# 유사한 영화 인덱스를 토대로 영화 이름을 찾아내면 된다!\n",
        "input_movie = input()\n",
        "\n",
        "movie_index = movies[movies['title']==input_movie].index.values\n",
        "print(movie_index)\n",
        "similar_movies = similar_index[movie_index, :10]\n",
        "print(similar_movies)\n",
        "#인덱스를 쓸 때는 일차원으로 바꿔야한다\n",
        "similar_movies_index = similar_movies.reshape(-1)\n",
        "print(similar_movies_index)\n",
        "print(movies.iloc[similar_movies_index])"
      ],
      "execution_count": 37,
      "outputs": [
        {
          "output_type": "stream",
          "text": [
            "The Dark Knight\n",
            "[65]\n",
            "[[  65  613  830 2229 2074 1488 3591 2111  739  468]]\n",
            "[  65  613  830 2229 2074 1488 3591 2111  739  468]\n",
            "                      title                       genres                                           keywords\n",
            "65          The Dark Knight  Drama Action Crime Thriller  dc comics crime fighter secret identity scarec...\n",
            "613               The Score        Action Crime Thriller  quebec jewel scepter customs house jewelry hei...\n",
            "830       Kill Bill: Vol. 2        Action Crime Thriller  brother brother relationship swordplay katana ...\n",
            "2229          Machete Kills        Action Crime Thriller  mexico white house nuclear missile machete out...\n",
            "2074        The Transporter        Action Crime Thriller  car journey transportation auto human trafficking\n",
            "1488                   Safe        Action Crime Thriller                                     broken trachea\n",
            "3591             Nighthawks        Action Crime Thriller                                                   \n",
            "2111  The French Connection        Action Crime Thriller  police brutality marseille night life attempte...\n",
            "739       London Has Fallen        Action Crime Thriller          london england terrorist terrorist attack\n",
            "468               Swordfish        Action Crime Thriller  female nudity hacker terrorism violence ex-con...\n"
          ],
          "name": "stdout"
        }
      ]
    },
    {
      "cell_type": "code",
      "metadata": {
        "id": "8AefhAdU_LJC",
        "colab_type": "code",
        "colab": {}
      },
      "source": [
        ""
      ],
      "execution_count": 37,
      "outputs": []
    }
  ]
}