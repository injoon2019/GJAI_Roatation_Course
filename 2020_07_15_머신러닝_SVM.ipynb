{
 "cells": [
  {
   "cell_type": "markdown",
   "metadata": {},
   "source": [
    "### 머신러닝 (Machine Learning) 종류\n",
    "\n",
    "- 지도학습 (Supervised Learning)\n",
    "- 비지도학습 (Unsupervised Learning)\n",
    "- 강화학습 (Reinforcement Learning)"
   ]
  },
  {
   "cell_type": "code",
   "execution_count": 5,
   "metadata": {},
   "outputs": [
    {
     "name": "stdout",
     "output_type": "stream",
     "text": [
      "예측데이터 :  [[0, 0], [0, 1], [1, 0], [1, 1]]\n",
      "예측 결과: [0 1 1 0]\n",
      "정답률:  4 / 4 = 1.0\n"
     ]
    }
   ],
   "source": [
    "from sklearn import svm\n",
    "#svm = support vector machine\n",
    "\n",
    "# XOR의 계산 결과 데이터\n",
    "xor_input = [\n",
    "    #P, Q, R\n",
    "    [0,0,0],\n",
    "    [0,1,1],\n",
    "    [1,0,1],\n",
    "    [1,1,0]\n",
    "]\n",
    "\n",
    "# 학습을 위해 데이터의 레이블 분리하기 -- (#1)\n",
    "xor_data = []\n",
    "xor_label = [] #결과\n",
    "\n",
    "for row in xor_input:\n",
    "    p = row[0]\n",
    "    q = row[1]\n",
    "    r = row[2]\n",
    "    xor_data.append([p,q])\n",
    "    xor_label.append(r)\n",
    "\n",
    "# 데이터 학습시키기 -- (#2)\n",
    "model = svm.SVC()\n",
    "model.fit(xor_data, xor_label)\n",
    "\n",
    "# 데이터 예측하기 -- (#3)\n",
    "pre = model.predict(xor_data)\n",
    "print(\"예측데이터 : \", xor_data)\n",
    "print(\"예측 결과:\", pre)\n",
    "\n",
    "# 결과 확인하기 -- (#4)\n",
    "ok = 0; total = 0\n",
    "for idx, answer in enumerate(xor_label):\n",
    "    p = pre[idx]\n",
    "    if p == answer:\n",
    "        ok += 1\n",
    "    total +=1\n",
    "\n",
    "print(\"정답률: \", ok, \"/\", total, \"=\", ok/total)\n"
   ]
  },
  {
   "cell_type": "code",
   "execution_count": 11,
   "metadata": {},
   "outputs": [
    {
     "name": "stdout",
     "output_type": "stream",
     "text": [
      "정답률 1.0\n",
      "정답률2 1.0\n"
     ]
    }
   ],
   "source": [
    "# pandas 라이브러리를 사용하여 코드 간략화\n",
    "from sklearn import svm\n",
    "import sklearn.metrics as metrics\n",
    "import pandas as pd\n",
    "from sklearn.neighbors import KNeighborsClassifier\n",
    "# XOR 연산\n",
    "xor_input = [\n",
    "    #P, Q, R\n",
    "    [0,0,0],\n",
    "    [0,1,1],\n",
    "    [1,0,1],\n",
    "    [1,1,0]\n",
    "]\n",
    "\n",
    "# 입력을 학습 전용 데이터와 테스트 전용 데이터로 분류하기 -- (#1)\n",
    "xor_df = pd.DataFrame(xor_input)\n",
    "xor_data = xor_df[ [0,1]] #0번째 1번째 column 가져오기\n",
    "xor_label = xor_df[2]\n",
    "\n",
    "# 데이터 학습과 예측하기 -- (#2)\n",
    "model = svm.SVC()\n",
    "model.fit(xor_data, xor_label)\n",
    "pre = model.predict(xor_data)\n",
    "\n",
    "model2 = KNeighborsClassifier(n_neighbors=1)\n",
    "model2.fit(xor_data, xor_label)\n",
    "pre2 = model2.predict(xor_data)\n",
    "\n",
    "# 정답률 구하기 -- (#3)\n",
    "ac_score = metrics.accuracy_score(xor_label, pre)\n",
    "print(\"정답률\", ac_score)\n",
    "ac_score2 = metrics.accuracy_score(xor_label, pre)\n",
    "print(\"정답률2\", ac_score2)"
   ]
  },
  {
   "cell_type": "markdown",
   "metadata": {},
   "source": [
    "진행순서 \n",
    "\n",
    "    1. clf =  머신러닝 모델 생성 #svm.SVC() or KNeighborsClassifier(n_neighbors = 1)\n",
    "    2. clf.fit(문제, 답)\n",
    "    3. clf.predict(값을 얻고 싶은 데이터)\n",
    "    4. ac_score = metrics.accuracy_score(실제답, 예측결과)\n",
    "    \n",
    "clf (classifier)\n",
    "\n",
    "용어집 정리 https://developers.google.com/machine-learning/glossary?hl=ko"
   ]
  },
  {
   "cell_type": "markdown",
   "metadata": {},
   "source": [
    "### 모델 저장과 불러오기"
   ]
  },
  {
   "cell_type": "code",
   "execution_count": 16,
   "metadata": {},
   "outputs": [
    {
     "name": "stdout",
     "output_type": "stream",
     "text": [
      "0\n"
     ]
    }
   ],
   "source": [
    "import pickle\n",
    "\n",
    "with open(\"xor_model.pkl\", \"wb\") as f:\n",
    "    pickle.dump(model, f)\n",
    "    \n",
    "with open(\"xor_model.pkl\", \"rb\") as f:\n",
    "    model = pickle.load(f)\n",
    "    \n",
    "#문제\n",
    "x_test = [\n",
    "    [1,1]\n",
    "]\n",
    "\n",
    "# 모델 예측\n",
    "y_predict = model.predict(x_test)\n",
    "print(y_predict[0])"
   ]
  },
  {
   "cell_type": "markdown",
   "metadata": {},
   "source": [
    "### 모델 저장과 불러오기2 (joblib)"
   ]
  },
  {
   "cell_type": "code",
   "execution_count": 18,
   "metadata": {},
   "outputs": [
    {
     "name": "stdout",
     "output_type": "stream",
     "text": [
      "0\n"
     ]
    }
   ],
   "source": [
    "from sklearn.externals import joblib\n",
    "\n",
    "joblib.dump(model, \"xor_model_2.pkl\")\n",
    "\n",
    "###불러오기\n",
    "\n",
    "model = joblib.load(\"xor_model_2.pkl\")\n",
    "\n",
    "#문제\n",
    "x_test = [\n",
    "    [1,1]\n",
    "]\n",
    "\n",
    "# 모델 예측\n",
    "y_predict = model.predict(x_test)\n",
    "print(y_predict[0])"
   ]
  },
  {
   "cell_type": "markdown",
   "metadata": {},
   "source": [
    "### 연습문제 01 \n",
    "AND 연산 모델 작성"
   ]
  },
  {
   "cell_type": "code",
   "execution_count": 19,
   "metadata": {},
   "outputs": [
    {
     "name": "stdout",
     "output_type": "stream",
     "text": [
      "정답률 1.0\n"
     ]
    }
   ],
   "source": [
    "from sklearn import svm\n",
    "import sklearn.metrics as metrics\n",
    "import pandas as pd\n",
    "from sklearn.neighbors import KNeighborsClassifier\n",
    "\n",
    "#AND 연산\n",
    "xand_input = [\n",
    "    #P, Q, R\n",
    "    [0,0,0],\n",
    "    [0,1,0],\n",
    "    [1,0,0],\n",
    "    [1,1,1]\n",
    "]\n",
    "\n",
    "# 입력을 학습 전용 데이터와 테스트 전용 데이터로 분류하기 -- (#1)\n",
    "xand_df = pd.DataFrame(xand_input)\n",
    "xand_data = xand_df[[0,1]]\n",
    "xand_label = xand_df[2]\n",
    "\n",
    "# 데이터 학습과 예측하기 -- (#2)\n",
    "model = svm.SVC()\n",
    "model.fit(xand_data, xand_label)\n",
    "pre = model.predict(xand_data)\n",
    "\n",
    "\n",
    "# 정답률 구하기 -- (#3)\n",
    "ac_score = metrics.accuracy_score(xand_label, pre)\n",
    "print(\"정답률\", ac_score)\n"
   ]
  },
  {
   "cell_type": "code",
   "execution_count": null,
   "metadata": {},
   "outputs": [],
   "source": []
  }
 ],
 "metadata": {
  "kernelspec": {
   "display_name": "Python 3",
   "language": "python",
   "name": "python3"
  },
  "language_info": {
   "codemirror_mode": {
    "name": "ipython",
    "version": 3
   },
   "file_extension": ".py",
   "mimetype": "text/x-python",
   "name": "python",
   "nbconvert_exporter": "python",
   "pygments_lexer": "ipython3",
   "version": "3.7.6"
  }
 },
 "nbformat": 4,
 "nbformat_minor": 4
}
