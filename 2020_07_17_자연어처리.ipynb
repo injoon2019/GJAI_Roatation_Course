{
 "cells": [
  {
   "cell_type": "code",
   "execution_count": 2,
   "metadata": {},
   "outputs": [
    {
     "name": "stdout",
     "output_type": "stream",
     "text": [
      "Requirement already satisfied: nltk in c:\\users\\injoo\\anaconda3\\lib\\site-packages (3.4.5)\n",
      "Requirement already satisfied: six in c:\\users\\injoo\\anaconda3\\lib\\site-packages (from nltk) (1.14.0)\n",
      "Requirement already satisfied: wordcloud in c:\\users\\injoo\\anaconda3\\lib\\site-packages (1.7.0)\n",
      "Requirement already satisfied: pillow in c:\\users\\injoo\\anaconda3\\lib\\site-packages (from wordcloud) (7.0.0)\n",
      "Requirement already satisfied: matplotlib in c:\\users\\injoo\\anaconda3\\lib\\site-packages (from wordcloud) (3.1.3)\n",
      "Requirement already satisfied: numpy>=1.6.1 in c:\\users\\injoo\\anaconda3\\lib\\site-packages (from wordcloud) (1.18.1)\n",
      "Requirement already satisfied: kiwisolver>=1.0.1 in c:\\users\\injoo\\anaconda3\\lib\\site-packages (from matplotlib->wordcloud) (1.1.0)\n",
      "Requirement already satisfied: pyparsing!=2.0.4,!=2.1.2,!=2.1.6,>=2.0.1 in c:\\users\\injoo\\anaconda3\\lib\\site-packages (from matplotlib->wordcloud) (2.4.6)\n",
      "Requirement already satisfied: python-dateutil>=2.1 in c:\\users\\injoo\\anaconda3\\lib\\site-packages (from matplotlib->wordcloud) (2.8.1)\n",
      "Requirement already satisfied: cycler>=0.10 in c:\\users\\injoo\\anaconda3\\lib\\site-packages (from matplotlib->wordcloud) (0.10.0)\n",
      "Requirement already satisfied: setuptools in c:\\users\\injoo\\anaconda3\\lib\\site-packages (from kiwisolver>=1.0.1->matplotlib->wordcloud) (45.2.0.post20200210)\n",
      "Requirement already satisfied: six>=1.5 in c:\\users\\injoo\\anaconda3\\lib\\site-packages (from python-dateutil>=2.1->matplotlib->wordcloud) (1.14.0)\n"
     ]
    }
   ],
   "source": [
    "#!pip install nltk   \n",
    "#!pip install wordcloud  \n",
    "\n",
    "#토큰화 라이브러리, wordcloud 라이브러리 설치"
   ]
  },
  {
   "cell_type": "code",
   "execution_count": 3,
   "metadata": {},
   "outputs": [
    {
     "name": "stderr",
     "output_type": "stream",
     "text": [
      "[nltk_data] Downloading package punkt to\n",
      "[nltk_data]     C:\\Users\\injoo\\AppData\\Roaming\\nltk_data...\n",
      "[nltk_data]   Unzipping tokenizers\\punkt.zip.\n"
     ]
    },
    {
     "data": {
      "text/plain": [
       "True"
      ]
     },
     "execution_count": 3,
     "metadata": {},
     "output_type": "execute_result"
    }
   ],
   "source": [
    "import nltk\n",
    "\n",
    "nltk.download(\"punkt\")"
   ]
  },
  {
   "cell_type": "code",
   "execution_count": 5,
   "metadata": {},
   "outputs": [],
   "source": [
    "from nltk.tokenize import word_tokenize"
   ]
  },
  {
   "cell_type": "code",
   "execution_count": 6,
   "metadata": {},
   "outputs": [
    {
     "name": "stdout",
     "output_type": "stream",
     "text": [
      "['I', \"'m\", 'only', 'one', 'call', 'away', '.', 'I', \"'ll\", 'be', 'there', 'to', 'save', 'the', 'day', '.', 'Superman', 'got', 'nothing', 'on', 'me', ',', 'I', \"'m\", 'only', 'one', 'call', 'away', '.', 'And', 'when', 'you', \"'re\", 'weak', ',', 'I', \"'ll\", 'be', 'strong', ',', 'I', \"'m\", 'gon', 'na', 'keep', 'holding', 'on', '.', 'Now', 'do', \"n't\", 'you', 'worry', 'it', 'wo', \"n't\", 'be', 'long', 'darling', '.', 'And', 'when', 'you', 'feel', 'like', 'hope', 'is', 'gone', 'just', 'run', 'into', 'my', 'arms', '.']\n"
     ]
    }
   ],
   "source": [
    "text = '''\n",
    "I'm only one call away.\n",
    "I'll be there to save the day.\n",
    "Superman got nothing on me, I'm only one call away.\n",
    "And when you're weak, I'll be strong, I'm gonna keep holding on.\n",
    "Now don't you worry it won't be long darling.\n",
    "And when you feel like hope is gone just run into my arms.\n",
    "'''\n",
    "\n",
    "print(word_tokenize(text))"
   ]
  },
  {
   "cell_type": "code",
   "execution_count": 7,
   "metadata": {},
   "outputs": [
    {
     "name": "stdout",
     "output_type": "stream",
     "text": [
      "['I', \"'\", 'm', 'only', 'one', 'call', 'away', '.', 'I', \"'\", 'll', 'be', 'there', 'to', 'save', 'the', 'day', '.', 'Superman', 'got', 'nothing', 'on', 'me', ',', 'I', \"'\", 'm', 'only', 'one', 'call', 'away', '.', 'And', 'when', 'you', \"'\", 're', 'weak', ',', 'I', \"'\", 'll', 'be', 'strong', ',', 'I', \"'\", 'm', 'gonna', 'keep', 'holding', 'on', '.', 'Now', 'don', \"'\", 't', 'you', 'worry', 'it', 'won', \"'\", 't', 'be', 'long', 'darling', '.', 'And', 'when', 'you', 'feel', 'like', 'hope', 'is', 'gone', 'just', 'run', 'into', 'my', 'arms', '.']\n"
     ]
    }
   ],
   "source": [
    "from nltk.tokenize import WordPunctTokenizer\n",
    "\n",
    "print(WordPunctTokenizer().tokenize(text))"
   ]
  },
  {
   "cell_type": "code",
   "execution_count": 9,
   "metadata": {},
   "outputs": [
    {
     "name": "stdout",
     "output_type": "stream",
     "text": [
      "['I', \"'m\", 'only', 'one', 'call', 'away.', 'I', \"'ll\", 'be', 'there', 'to', 'save', 'the', 'day.', 'Superman', 'got', 'nothing', 'on', 'me', ',', 'I', \"'m\", 'only', 'one', 'call', 'away.', 'And', 'when', 'you', \"'re\", 'weak', ',', 'I', \"'ll\", 'be', 'strong', ',', 'I', \"'m\", 'gon', 'na', 'keep', 'holding', 'on.', 'Now', 'do', \"n't\", 'you', 'worry', 'it', 'wo', \"n't\", 'be', 'long', 'darling.', 'And', 'when', 'you', 'feel', 'like', 'hope', 'is', 'gone', 'just', 'run', 'into', 'my', 'arms', '.']\n"
     ]
    }
   ],
   "source": [
    "from nltk.tokenize import TreebankWordTokenizer\n",
    "\n",
    "print(TreebankWordTokenizer().tokenize(text))"
   ]
  },
  {
   "cell_type": "code",
   "execution_count": 19,
   "metadata": {},
   "outputs": [
    {
     "name": "stdout",
     "output_type": "stream",
     "text": [
      "['I', 'm', 'only', 'one', 'call', 'away', 'I', 'll', 'be', 'there', 'to', 'save', 'the', 'day', 'Superman', 'got', 'nothing', 'on', 'me', 'I', 'm', 'only', 'one', 'call', 'away', 'And', 'when', 'you', 're', 'weak', 'I', 'll', 'be', 'strong', 'I', 'm', 'gonna', 'keep', 'holding', 'on', 'Now', 'don', 't', 'you', 'worry', 'it', 'won', 't', 'be', 'long', 'darling', 'And', 'when', 'you', 'feel', 'like', 'hope', 'is', 'gone', 'just', 'run', 'into', 'my', 'arms']\n"
     ]
    }
   ],
   "source": [
    "from nltk.tokenize import RegexpTokenizer\n",
    "\n",
    "#단어들마다 나뉘도록 정규표현식을 작성해주세요\n",
    "print(RegexpTokenizer(\"\\w+\").tokenize(text))"
   ]
  },
  {
   "cell_type": "code",
   "execution_count": 20,
   "metadata": {},
   "outputs": [
    {
     "name": "stdout",
     "output_type": "stream",
     "text": [
      "[\"\\nI'm only one call away.\", \"I'll be there to save the day.\", \"Superman got nothing on me, I'm only one call away.\", \"And when you're weak, I'll be strong, I'm gonna keep holding on.\", \"Now don't you worry it won't be long darling.\", 'And when you feel like hope is gone just run into my arms.']\n"
     ]
    }
   ],
   "source": [
    "from nltk.tokenize import sent_tokenize   #sentence tokenizer\n",
    "\n",
    "print(sent_tokenize(text))"
   ]
  },
  {
   "cell_type": "code",
   "execution_count": 21,
   "metadata": {},
   "outputs": [
    {
     "name": "stdout",
     "output_type": "stream",
     "text": [
      "I\n",
      "'\n",
      "m\n",
      "onli\n",
      "one\n",
      "call\n",
      "away\n",
      ".\n",
      "I\n",
      "'\n",
      "ll\n",
      "be\n",
      "there\n",
      "to\n",
      "save\n",
      "the\n",
      "day\n",
      ".\n",
      "superman\n",
      "got\n",
      "noth\n",
      "on\n",
      "me\n",
      ",\n",
      "I\n",
      "'\n",
      "m\n",
      "onli\n",
      "one\n",
      "call\n",
      "away\n",
      ".\n",
      "and\n",
      "when\n",
      "you\n",
      "'\n",
      "re\n",
      "weak\n",
      ",\n",
      "I\n",
      "'\n",
      "ll\n",
      "be\n",
      "strong\n",
      ",\n",
      "I\n",
      "'\n",
      "m\n",
      "gonna\n",
      "keep\n",
      "hold\n",
      "on\n",
      ".\n",
      "now\n",
      "don\n",
      "'\n",
      "t\n",
      "you\n",
      "worri\n",
      "it\n",
      "won\n",
      "'\n",
      "t\n",
      "be\n",
      "long\n",
      "darl\n",
      ".\n",
      "and\n",
      "when\n",
      "you\n",
      "feel\n",
      "like\n",
      "hope\n",
      "is\n",
      "gone\n",
      "just\n",
      "run\n",
      "into\n",
      "my\n",
      "arm\n",
      ".\n"
     ]
    }
   ],
   "source": [
    "# love(표제어, lemma)\n",
    "\n",
    "#어간 추출\n",
    "from nltk.stem import PorterStemmer\n",
    "\n",
    "words = WordPunctTokenizer().tokenize(text)\n",
    "for word in words:\n",
    "    print(PorterStemmer().stem(word))"
   ]
  },
  {
   "cell_type": "code",
   "execution_count": 22,
   "metadata": {},
   "outputs": [
    {
     "name": "stderr",
     "output_type": "stream",
     "text": [
      "[nltk_data] Downloading package stopwords to\n",
      "[nltk_data]     C:\\Users\\injoo\\AppData\\Roaming\\nltk_data...\n",
      "[nltk_data]   Unzipping corpora\\stopwords.zip.\n"
     ]
    },
    {
     "data": {
      "text/plain": [
       "True"
      ]
     },
     "execution_count": 22,
     "metadata": {},
     "output_type": "execute_result"
    }
   ],
   "source": [
    "nltk.download('stopwords')"
   ]
  },
  {
   "cell_type": "code",
   "execution_count": 28,
   "metadata": {},
   "outputs": [
    {
     "name": "stdout",
     "output_type": "stream",
     "text": [
      "['I', 'm', 'only', 'one', 'call', 'away', 'I', 'll', 'be', 'there', 'to', 'save', 'the', 'day', 'Superman', 'got', 'nothing', 'on', 'me', 'I', 'm', 'only', 'one', 'call', 'away', 'And', 'when', 'you', 're', 'weak', 'I', 'll', 'be', 'strong', 'I', 'm', 'gonna', 'keep', 'holding', 'on', 'Now', 'don', 't', 'you', 'worry', 'it', 'won', 't', 'be', 'long', 'darling', 'And', 'when', 'you', 'feel', 'like', 'hope', 'is', 'gone', 'just', 'run', 'into', 'my', 'arms']\n"
     ]
    }
   ],
   "source": [
    "from nltk.corpus import stopwords\n",
    "\n",
    "#stopwords: 불용어 - 문장의 의미를 형성하는 것에 있어 큰 영향을 미치지 않는 단어들\n",
    "sw = stopwords.words('English')\n",
    "#print(sw)\n",
    "#print(words)\n",
    "\n",
    "#words 리스트 안에서 sw에 해당하는 단어를 제외시킨 리스트를 생성해주세요\n",
    "# words_set = set(words)\n",
    "# sw_set = set(sw)\n",
    "# sw_removed = words_set - sw_set\n",
    "\n",
    "sw=['.', ',', \"'\"]\n",
    "sw_removed = []\n",
    "for i in words:\n",
    "    if i.lower() not in sw:\n",
    "        sw_removed.append(i)\n",
    "\n",
    "print(sw_removed)"
   ]
  },
  {
   "cell_type": "code",
   "execution_count": 51,
   "metadata": {},
   "outputs": [
    {
     "name": "stdout",
     "output_type": "stream",
     "text": [
      "Counter({'I': 5, 'm': 3, 'be': 3, 'you': 3, 'only': 2, 'one': 2, 'call': 2, 'away': 2, 'll': 2, 'on': 2, 'And': 2, 'when': 2, 't': 2, 'there': 1, 'to': 1, 'save': 1, 'the': 1, 'day': 1, 'Superman': 1, 'got': 1, 'nothing': 1, 'me': 1, 're': 1, 'weak': 1, 'strong': 1, 'gonna': 1, 'keep': 1, 'holding': 1, 'Now': 1, 'don': 1, 'worry': 1, 'it': 1, 'won': 1, 'long': 1, 'darling': 1, 'feel': 1, 'like': 1, 'hope': 1, 'is': 1, 'gone': 1, 'just': 1, 'run': 1, 'into': 1, 'my': 1, 'arms': 1})\n"
     ]
    }
   ],
   "source": [
    "from collections import Counter\n",
    "\n",
    "#빈도수대로 정렬\n",
    "count_list = Counter(sw_removed)\n",
    "print(count_list)"
   ]
  },
  {
   "cell_type": "code",
   "execution_count": 52,
   "metadata": {},
   "outputs": [
    {
     "name": "stdout",
     "output_type": "stream",
     "text": [
      "[('I', 5), ('m', 3), ('be', 3), ('you', 3), ('only', 2), ('one', 2), ('call', 2), ('away', 2), ('ll', 2), ('on', 2)]\n"
     ]
    }
   ],
   "source": [
    "common_cl = count_list.most_common(10)  #제일 많이 나온 10개만 추출\n",
    "print(common_cl)"
   ]
  },
  {
   "cell_type": "code",
   "execution_count": 54,
   "metadata": {},
   "outputs": [
    {
     "name": "stdout",
     "output_type": "stream",
     "text": [
      "[('I', 5), ('m', 3), ('be', 3), ('you', 3), ('only', 2), ('one', 2), ('call', 2), ('away', 2), ('ll', 2), ('on', 2)]\n",
      "\n",
      "{'I': 0, 'm': 1, 'be': 2, 'you': 3, 'only': 4, 'one': 5, 'call': 6, 'away': 7, 'll': 8, 'on': 9}\n"
     ]
    }
   ],
   "source": [
    "#각 항목에 인덱스를 붙여준다\n",
    "common_cl_dict = {}\n",
    "\n",
    "#빈도 순위대로 0위~9위까지 (빈도수가 가장 높은게 0등)\n",
    "#딕셔너리 형태로 '단어':빈도순위\n",
    "print(common_cl)\n",
    "print()\n",
    "i=0\n",
    "for (key, value) in common_cl:\n",
    "    common_cl_dict[key] = i\n",
    "    i+=1\n",
    "\n",
    "print(common_cl_dict)"
   ]
  },
  {
   "cell_type": "code",
   "execution_count": 78,
   "metadata": {},
   "outputs": [
    {
     "name": "stdout",
     "output_type": "stream",
     "text": [
      "[[1, 0, 0, 0, 0, 0, 0, 0, 0, 0], [0, 1, 0, 0, 0, 0, 0, 0, 0, 0], [0, 0, 1, 0, 0, 0, 0, 0, 0, 0], [0, 0, 0, 1, 0, 0, 0, 0, 0, 0], [0, 0, 0, 0, 1, 0, 0, 0, 0, 0], [0, 0, 0, 0, 0, 1, 0, 0, 0, 0], [0, 0, 0, 0, 0, 0, 1, 0, 0, 0], [0, 0, 0, 0, 0, 0, 0, 1, 0, 0], [0, 0, 0, 0, 0, 0, 0, 0, 1, 0], [0, 0, 0, 0, 0, 0, 0, 0, 0, 1]]\n"
     ]
    }
   ],
   "source": [
    "import numpy as np\n",
    "\n",
    "# one_hot = np.zeros((10,10),int)\n",
    "# np.fill_diagonal(one_hot, 1)\n",
    "# one_hot.tolist()\n",
    "\n",
    "#원핫 벡터 만들기\n",
    "oh_vector_list = []\n",
    "\n",
    "for value in common_cl_dict.values():\n",
    "    oh_vector = [0]*len(common_cl_dict)\n",
    "    oh_vector[value] = 1\n",
    "    oh_vector_list.append(oh_vector)\n",
    "    \n",
    "print(oh_vector_list)"
   ]
  },
  {
   "cell_type": "code",
   "execution_count": 83,
   "metadata": {},
   "outputs": [
    {
     "data": {
      "image/png": "[encoded data removed]",
      "text/plain": [
       "<Figure size 432x288 with 1 Axes>"
      ]
     },
     "metadata": {
      "needs_background": "light"
     },
     "output_type": "display_data"
    }
   ],
   "source": [
    "#!pip install wordcloud\n",
    "\n",
    "from wordcloud import WordCloud\n",
    "import matplotlib.pyplot as plt\n",
    "\n",
    "my_wc = WordCloud(background_color=\"white\")\n",
    "plt.imshow(my_wc.generate_from_frequencies(count_list))\n",
    "plt.show()"
   ]
  },
  {
   "cell_type": "code",
   "execution_count": null,
   "metadata": {},
   "outputs": [],
   "source": []
  }
 ],
 "metadata": {
  "kernelspec": {
   "display_name": "Python 3",
   "language": "python",
   "name": "python3"
  },
  "language_info": {
   "codemirror_mode": {
    "name": "ipython",
    "version": 3
   },
   "file_extension": ".py",
   "mimetype": "text/x-python",
   "name": "python",
   "nbconvert_exporter": "python",
   "pygments_lexer": "ipython3",
   "version": "3.7.6"
  }
 },
 "nbformat": 4,
 "nbformat_minor": 4
}
