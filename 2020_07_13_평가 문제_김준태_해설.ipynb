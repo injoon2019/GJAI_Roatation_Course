{
 "cells": [
  {
   "cell_type": "markdown",
   "metadata": {},
   "source": [
    "# 평가 문제 - 김준태 (2020/7/10)"
   ]
  },
  {
   "cell_type": "markdown",
   "metadata": {},
   "source": [
    "### (*) 주의사항:\n",
    "1. sqlitestudio 는 사용하지 않고, python 코드로만 모든 것을 수행해주세요."
   ]
  },
  {
   "cell_type": "markdown",
   "metadata": {},
   "source": [
    "#### 1). 당신은 현재 제2의 페이스북을 개발하고자 합니다. 파이썬과 Sqlite3 모듈을 이용해서,\n",
    "####      사용자가 글을 쓰면, 이를 'imzuckerberg.db'에다가 저장하고, 사용자의 필요에 따라 글을 읽어오는 코드를 작성하세요.\n",
    "####      - 세부사항\n",
    "####        1) 처음 코드를 실행하면 '당신의 이름을 적어주세요 : ' 를 띄우고 사용자의 이름을 input으로 받습니다.\n",
    "####        2) 이후 '글을 쓰려면 0, 글을 읽으려면 1을 입력해주세요 : ' 를 띄우고 input을 받습니다.\n",
    "####        3) 'imzuckerberg.db'에는 글 제목 / 글 내용 / 글쓴이 총 3개의 어트리뷰트를 가진 feed 라는 테이블을 create 합니다.\n",
    "####        4) 2) 에서 받았던 input을 통해 글을 읽는 함수, 쓰는 함수 중 하나로 분기하고, 글을 쓰는 함수의 경우 사용자로부터 제목, 내용을 입력받도록 하고, 1) 에서 받았던 사용자의 이름과 함께 db에 쿼리문을 통해 기록되도록 합니다.\n",
    "####        5) 글을 읽는 함수로 분기할 경우, '검색할 제목을 입력해주세요 : ' 를 띄우고 input을 받습니다.\n",
    "####        6) 5) 에서 받은 input을 이용해 db에 쿼리문을 수행하여, 해당 input에 쓰여진 문자열이 제목에 포함되어 있는 글을 전부 리스팅합니다. (제목, 내용, 작성자 모두)\n",
    "####        7) 어떤 인풋이든 사용자가 올바르지 않은 입력 혹은 공백을 입력할 경우 무조건 다시 인풋을 받도록 해야합니다."
   ]
  },
  {
   "cell_type": "code",
   "execution_count": 1,
   "metadata": {
    "tags": []
   },
   "outputs": [
    {
     "output_type": "stream",
     "name": "stdout",
     "text": "\n나만의 페이스북!\n0\n박박박님 글쓰기 완료!\n\n나만의 페이스북!\n1\n제목 : 안녕?, 내용 : 안녕안녕, 작성자 : 김준태\n제목 : 안녕이다!, 내용 : 안녕안녕이지롱, 작성자 : 최주원\n제목 : 헤이안녕, 내용 : 사랑합니다, 작성자 : 박박박\n올바른 입력을 해주세요!\n"
    }
   ],
   "source": [
    "# 답안.\n",
    "import sqlite3\n",
    "\n",
    "def namecheck():\n",
    "    try:\n",
    "        username = str(input(\"당신의 이름을 적어주세요 : \"))\n",
    "        return username\n",
    "    except:\n",
    "        print(\"올바르지 않은 입력입니다!\")\n",
    "        username = namecheck()\n",
    "        return username\n",
    "\n",
    "def readcheck():\n",
    "    try:\n",
    "        read_check = int(input(\"글을 쓰려면 0, 글을 읽으려면 1을 입력해주세요 : \"))\n",
    "        return read_check\n",
    "    except:\n",
    "        print(\"올바르지 않은 입력입니다!\")\n",
    "        read_check = readcheck()\n",
    "        return read_check\n",
    "\n",
    "def user_input():\n",
    "    try:\n",
    "        title = str(input(\"제목을 입력해주세요 : \"))\n",
    "        content = str(input(\"내용을 입력해주세요 : \"))\n",
    "        return title, content\n",
    "    except:\n",
    "        print(\"올바르지 않은 입력입니다!\")\n",
    "        title, content = user_input()\n",
    "        return title, content\n",
    "\n",
    "def user_search():\n",
    "    try:\n",
    "        title = str(input(\"검색할 제목을 입력해주세요 : \"))\n",
    "        return title\n",
    "    except:\n",
    "        print(\"올바르지 않은 입력입니다!\")\n",
    "        title = user_search()\n",
    "        return title\n",
    "\n",
    "def write(title, content, username, cursor):\n",
    "    cursor.execute(f'insert into feed values (\"{title}\", \"{content}\", \"{username}\")')\n",
    "    print(f'{username}님 글쓰기 완료!')\n",
    "\n",
    "def read(title, cursor):\n",
    "    user_check = 0\n",
    "    for i in cursor.execute('SELECT title, content, user FROM feed'):\n",
    "        if title in i[0]:\n",
    "            user_check = user_check + 1\n",
    "            print(f\"제목 : {i[0]}, 내용 : {i[1]}, 작성자 : {i[2]}\")\n",
    "    if (user_check == 0):\n",
    "        print(\"해당 내용이 없습니다!\")\n",
    "\n",
    "def exitcheck():\n",
    "    stop = int(input(\"\\n계속하시려면 0, 종료하시려면 1을 눌러주세요. : \"))\n",
    "    if stop == 0:\n",
    "        start()\n",
    "    if stop == 1:\n",
    "        exit()\n",
    "    else:\n",
    "        print(\"올바른 입력을 해주세요!\")\n",
    "        exitcheck()\n",
    "\n",
    "def start():\n",
    "    print(\"\\n나만의 페이스북!\")\n",
    "\n",
    "    username = namecheck()\n",
    "    read_check = readcheck()\n",
    "\n",
    "    conn = sqlite3.connect('imzuckerberg.db')\n",
    "    cursor = conn.cursor()\n",
    "\n",
    "    cursor.execute('create table if not exists feed(title text, content text, user text)')\n",
    "    conn.commit()\n",
    "\n",
    "    if read_check == 0:\n",
    "        title, content = user_input()\n",
    "        write(title, content, username, cursor)\n",
    "        conn.commit()\n",
    "    elif read_check == 1:\n",
    "        title = user_search()\n",
    "        read(title, cursor)\n",
    "    else:\n",
    "        print(\"올바른 숫자를 입력하세요!\")\n",
    "        start()\n",
    "\n",
    "    conn.close()\n",
    "    exitcheck()\n",
    "\n",
    "start()"
   ]
  },
  {
   "cell_type": "markdown",
   "metadata": {},
   "source": [
    "#### 2). 당신은 현재 OO대학교 학사팀 직원이며, 강의 별로 학생들의 성적있는 테이블 (takes), 강의 별 정보가 있는 테이블 (course) 과\n",
    "####     학생 별 정보가 있는 테이블 (student) 로 이루어진 db (problem2.db) 를 가지고 있습니다.\n",
    "####     takes는 (학생의 학번인 ID, 학생이 수강한 강의번호인 course_id, 학생의 성적인 grade_point), course는 (강의번호인 course_id, 강의의 학점수인 credits), student는 (학생의 학번인 ID, 학생의 이름인 name, 학생이 수강한 총 학점수인 tot_cred) 로 이루어져있습니다.\n",
    "####     각 학생의 학점 평균을 이름과 함께 출력해주세요.\n",
    "####     - 세부사항\n",
    "####       1) 학점 평균이란 (학생이 들은 특정 강의의 학점 * 특정 강의의 성적) 을 모두 더한 뒤 학생이 들은 총 학점 수로 나눈 것을 말합니다."
   ]
  },
  {
   "cell_type": "code",
   "execution_count": 2,
   "metadata": {
    "tags": []
   },
   "outputs": [
    {
     "output_type": "stream",
     "name": "stdout",
     "text": "Zhang 학생의 학점 평균은 3.8714285714285714\nShankar 학생의 학점 평균은 3.4285714285714284\nBrandt 학생의 학점 평균은 3.0\nChavez 학생의 학점 평균은 2.3\nPeltier 학생의 학점 평균은 2.7\nLevy 학생의 학점 평균은 2.018181818181818\nWilliams 학생의 학점 평균은 3.5\nSanchez 학생의 학점 평균은 3.7000000000000006\nBrown 학생의 학점 평균은 4.0\nAoi 학생의 학점 평균은 2.0\nBourikas 학생의 학점 평균은 2.257142857142857\nTanaka 학생의 학점 평균은 4.0\n"
    }
   ],
   "source": [
    "#답안\n",
    "import sqlite3\n",
    "\n",
    "conn = sqlite3.connect('problem2.db')\n",
    "cur = conn.cursor()\n",
    "\n",
    "for i in cur.execute('''\n",
    "select name, sum(grade_point * credits)/tot_cred\n",
    "from (takes natural join course) natural join student\n",
    "group by ID'''):\n",
    "    print(f'{i[0]} 학생의 학점 평균은 {i[1]}')\n",
    "\n",
    "conn.close()"
   ]
  }
 ],
 "metadata": {
  "kernelspec": {
   "display_name": "Python 3",
   "language": "python",
   "name": "python3"
  },
  "language_info": {
   "codemirror_mode": {
    "name": "ipython",
    "version": 3
   },
   "file_extension": ".py",
   "mimetype": "text/x-python",
   "name": "python",
   "nbconvert_exporter": "python",
   "pygments_lexer": "ipython3",
   "version": "3.7.6"
  }
 },
 "nbformat": 4,
 "nbformat_minor": 4
}