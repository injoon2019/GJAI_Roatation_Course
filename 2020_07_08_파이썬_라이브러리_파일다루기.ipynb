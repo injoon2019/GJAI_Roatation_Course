{
 "cells": [
  {
   "cell_type": "code",
   "execution_count": 1,
   "metadata": {},
   "outputs": [
    {
     "name": "stdout",
     "output_type": "stream",
     "text": [
      "['C:\\\\Users\\\\injoo\\\\Anaconda3\\\\lib\\\\site-packages\\\\ipykernel_launcher.py', '-f', 'C:\\\\Users\\\\injoo\\\\AppData\\\\Roaming\\\\jupyter\\\\runtime\\\\kernel-4e2b8eef-ddf2-4546-9909-c50023009ebb.json']\n"
     ]
    }
   ],
   "source": [
    "import sys\n",
    "print(sys.argv)"
   ]
  },
  {
   "cell_type": "code",
   "execution_count": 3,
   "metadata": {},
   "outputs": [
    {
     "data": {
      "text/plain": [
       "['C:\\\\Users\\\\injoo\\\\Documents\\\\ml',\n",
       " 'C:\\\\Users\\\\injoo\\\\Anaconda3\\\\python37.zip',\n",
       " 'C:\\\\Users\\\\injoo\\\\Anaconda3\\\\DLLs',\n",
       " 'C:\\\\Users\\\\injoo\\\\Anaconda3\\\\lib',\n",
       " 'C:\\\\Users\\\\injoo\\\\Anaconda3',\n",
       " '',\n",
       " 'C:\\\\Users\\\\injoo\\\\Anaconda3\\\\lib\\\\site-packages',\n",
       " 'C:\\\\Users\\\\injoo\\\\Anaconda3\\\\lib\\\\site-packages\\\\win32',\n",
       " 'C:\\\\Users\\\\injoo\\\\Anaconda3\\\\lib\\\\site-packages\\\\win32\\\\lib',\n",
       " 'C:\\\\Users\\\\injoo\\\\Anaconda3\\\\lib\\\\site-packages\\\\Pythonwin',\n",
       " 'C:\\\\Users\\\\injoo\\\\Anaconda3\\\\lib\\\\site-packages\\\\IPython\\\\extensions',\n",
       " 'C:\\\\Users\\\\injoo\\\\.ipython']"
      ]
     },
     "execution_count": 3,
     "metadata": {},
     "output_type": "execute_result"
    }
   ],
   "source": [
    "sys.path\n",
    "\n",
    "#경로 이름을 추가\n",
    "#sys.path.append(r\"C:\\User\\home\\lib)"
   ]
  },
  {
   "cell_type": "code",
   "execution_count": 5,
   "metadata": {},
   "outputs": [
    {
     "data": {
      "text/plain": [
       "'C:\\\\Users\\\\injoo\\\\Anaconda3;C:\\\\Users\\\\injoo\\\\Anaconda3\\\\Library\\\\mingw-w64\\\\bin;C:\\\\Users\\\\injoo\\\\Anaconda3\\\\Library\\\\usr\\\\bin;C:\\\\Users\\\\injoo\\\\Anaconda3\\\\Library\\\\bin;C:\\\\Users\\\\injoo\\\\Anaconda3\\\\Scripts;C:\\\\Windows\\\\system32;C:\\\\Windows;C:\\\\Windows\\\\System32\\\\Wbem;C:\\\\Windows\\\\System32\\\\WindowsPowerShell\\\\v1.0\\\\;C:\\\\Windows\\\\System32\\\\OpenSSH\\\\;C:\\\\Program Files (x86)\\\\NVIDIA Corporation\\\\PhysX\\\\Common;C:\\\\Program Files\\\\NVIDIA Corporation\\\\NVIDIA NvDLISR;C:\\\\Users\\\\injoo\\\\Anaconda3;C:\\\\Users\\\\injoo\\\\Anaconda3\\\\Library\\\\mingw-w64\\\\bin;C:\\\\Users\\\\injoo\\\\Anaconda3\\\\Library\\\\usr\\\\bin;C:\\\\Users\\\\injoo\\\\Anaconda3\\\\Library\\\\bin;C:\\\\Users\\\\injoo\\\\Anaconda3\\\\Scripts;C:\\\\Users\\\\injoo\\\\AppData\\\\Local\\\\Programs\\\\Python\\\\Python38-32\\\\Scripts\\\\;C:\\\\Users\\\\injoo\\\\AppData\\\\Local\\\\Programs\\\\Python\\\\Python38-32\\\\;C:\\\\Users\\\\injoo\\\\AppData\\\\Local\\\\Microsoft\\\\WindowsApps;C:\\\\Users\\\\injoo\\\\AppData\\\\Local\\\\atom\\\\bin'"
      ]
     },
     "execution_count": 5,
     "metadata": {},
     "output_type": "execute_result"
    }
   ],
   "source": [
    "#내 시스템의 환경 변수값을 알고 싶을 때\n",
    "import os\n",
    "os.environ['path']"
   ]
  },
  {
   "cell_type": "code",
   "execution_count": 7,
   "metadata": {},
   "outputs": [
    {
     "data": {
      "text/plain": [
       "'C:\\\\Users\\\\injoo\\\\Documents\\\\ml'"
      ]
     },
     "execution_count": 7,
     "metadata": {},
     "output_type": "execute_result"
    }
   ],
   "source": [
    "os.getcwd() # %pwd"
   ]
  },
  {
   "cell_type": "code",
   "execution_count": 13,
   "metadata": {},
   "outputs": [
    {
     "name": "stdout",
     "output_type": "stream",
     "text": [
      " C 드라이브의 볼륨: OS\n",
      " 볼륨 일련 번호: 300A-F78A\n",
      "\n",
      " C:\\Users\\injoo\\Documents\\ml 디렉터리\n",
      "\n",
      "2020-07-08  오후 12:15    <DIR>          .\n",
      "2020-07-08  오후 12:15    <DIR>          ..\n",
      "2020-07-08  오전 11:30    <DIR>          .ipynb_checkpoints\n",
      "2020-07-07  오후 06:29             6,687 2020_07_07_파이썬과 데이터베이스 연동.ipynb\n",
      "2020-07-08  오후 12:15             5,849 2020_07_08_파이썬_라이브러리_파일다루기.ipynb\n",
      "2020-07-08  오전 11:29             7,518 2020_07_08_파이썬과 데이터베이스 연동.ipynb\n",
      "               3개 파일              20,054 바이트\n",
      "               3개 디렉터리  941,465,374,720 바이트 남음\n",
      "\n"
     ]
    }
   ],
   "source": [
    "# %ls\n",
    "f= os.popen(\"dir\")\n",
    "print(f.read())"
   ]
  },
  {
   "cell_type": "code",
   "execution_count": 15,
   "metadata": {},
   "outputs": [
    {
     "data": {
      "text/plain": [
       "'c:\\\\Apps\\\\database'"
      ]
     },
     "execution_count": 15,
     "metadata": {},
     "output_type": "execute_result"
    }
   ],
   "source": [
    "os.chdir(r\"c:/Apps/database/\")\n",
    "os.getcwd()"
   ]
  },
  {
   "cell_type": "code",
   "execution_count": 17,
   "metadata": {},
   "outputs": [
    {
     "data": {
      "text/plain": [
       "'C:\\\\Users\\\\injoo\\\\Documents\\\\ml'"
      ]
     },
     "execution_count": 17,
     "metadata": {},
     "output_type": "execute_result"
    }
   ],
   "source": [
    "os.chdir(r\"C:\\Users\\injoo\\Documents\\ml\")\n",
    "os.getcwd()"
   ]
  },
  {
   "cell_type": "code",
   "execution_count": 29,
   "metadata": {},
   "outputs": [
    {
     "name": "stdout",
     "output_type": "stream",
     "text": [
      "['.ipynb_checkpoints', '2020_07_07_파이썬과 데이터베이스 연동.ipynb', '2020_07_08_파이썬_라이브러리_파일다루기.ipynb', '2020_07_08_파이썬과 데이터베이스 연동.ipynb']\n"
     ]
    }
   ],
   "source": [
    "print(os.listdir())\n",
    "os.mkdir(\"tmp\")   #현재 있는 위치에 폴더를 만든다"
   ]
  },
  {
   "cell_type": "code",
   "execution_count": 30,
   "metadata": {},
   "outputs": [
    {
     "name": "stdout",
     "output_type": "stream",
     "text": [
      "['.ipynb_checkpoints', '2020_07_07_파이썬과 데이터베이스 연동.ipynb', '2020_07_08_파이썬_라이브러리_파일다루기.ipynb', '2020_07_08_파이썬과 데이터베이스 연동.ipynb', 'tmp']\n"
     ]
    }
   ],
   "source": [
    "#파일을 만들고 쓰기\n",
    "print(os.listdir())\n",
    "f = open(\"./tmp/test.text\", mode = \"wt\", encoding=\"utf-8\")\n",
    "f.write(\"Hello Python\")\n",
    "f.close()"
   ]
  },
  {
   "cell_type": "code",
   "execution_count": 31,
   "metadata": {},
   "outputs": [
    {
     "name": "stdout",
     "output_type": "stream",
     "text": [
      "['test.text']\n"
     ]
    }
   ],
   "source": [
    "print(os.listdir(\"./tmp\"))"
   ]
  },
  {
   "cell_type": "code",
   "execution_count": 32,
   "metadata": {},
   "outputs": [
    {
     "data": {
      "text/plain": [
       "['hello.txt']"
      ]
     },
     "execution_count": 32,
     "metadata": {},
     "output_type": "execute_result"
    }
   ],
   "source": [
    "#파일 이름 변경\n",
    "os.rename(\"./tmp/test.text\", \"./tmp/hello.txt\")\n",
    "os.listdir(\"./tmp/\")"
   ]
  },
  {
   "cell_type": "code",
   "execution_count": 34,
   "metadata": {},
   "outputs": [
    {
     "data": {
      "text/plain": [
       "[]"
      ]
     },
     "execution_count": 34,
     "metadata": {},
     "output_type": "execute_result"
    }
   ],
   "source": [
    "#rmdir은 폴더 지우기인데, 폴더를 지우기 위해서는 안에 파일이 없어야한다\n",
    "os.listdir(\"./tmp\")\n",
    "os.unlink(\"./tmp/hello.txt\")\n",
    "os.listdir(\"./tmp\")\n",
    "#os.rmdir(\"tmp\")"
   ]
  },
  {
   "cell_type": "code",
   "execution_count": 35,
   "metadata": {},
   "outputs": [
    {
     "data": {
      "text/plain": [
       "['.ipynb_checkpoints',\n",
       " '2020_07_07_파이썬과 데이터베이스 연동.ipynb',\n",
       " '2020_07_08_파이썬_라이브러리_파일다루기.ipynb',\n",
       " '2020_07_08_파이썬과 데이터베이스 연동.ipynb']"
      ]
     },
     "execution_count": 35,
     "metadata": {},
     "output_type": "execute_result"
    }
   ],
   "source": [
    "#폴더 지우기\n",
    "os.rmdir(\"tmp\")\n",
    "os.listdir()"
   ]
  },
  {
   "cell_type": "code",
   "execution_count": null,
   "metadata": {},
   "outputs": [],
   "source": [
    "#현 폴더 이하 트리 구조 출력\n",
    "for folderName, subFolder, fileName in os.walk(r\"c:/Apps/\"):\n",
    "    print(folderName)\n",
    "    print(subFolder)\n",
    "    print(fileName)"
   ]
  },
  {
   "cell_type": "markdown",
   "metadata": {},
   "source": [
    "### Pickle\n",
    "객체를 그대로 저장하는 모듈"
   ]
  },
  {
   "cell_type": "code",
   "execution_count": 41,
   "metadata": {},
   "outputs": [],
   "source": [
    "#딕셔너리 객체를 저장\n",
    "import pickle\n",
    "\n",
    "f = open(r\"c:/Apps/test.txt\", mode = \"wb\")\n",
    "data = {1: \"python\", 2: \"Java\", 3:\"c\"}\n",
    "pickle.dump(data, f)\n",
    "f.close()"
   ]
  },
  {
   "cell_type": "code",
   "execution_count": 42,
   "metadata": {},
   "outputs": [
    {
     "name": "stdout",
     "output_type": "stream",
     "text": [
      "{1: 'python', 2: 'Java', 3: 'c'}\n"
     ]
    }
   ],
   "source": [
    "with open(r\"c:/Apps/test.txt\", \"rb\") as f:\n",
    "    print(pickle.load(f))"
   ]
  },
  {
   "cell_type": "markdown",
   "metadata": {},
   "source": [
    "### shelve"
   ]
  },
  {
   "cell_type": "code",
   "execution_count": 44,
   "metadata": {},
   "outputs": [],
   "source": [
    "import shelve\n",
    "data1 = [\"aaa\", 22, 33]\n",
    "data2 = [\"bbb\", 11, 44]\n",
    "\n",
    "with shelve.open(r\"c:/Apps/test1.bin\") as f:\n",
    "    f['d1'] = data1\n",
    "    f['d2'] = data2\n"
   ]
  },
  {
   "cell_type": "code",
   "execution_count": 45,
   "metadata": {},
   "outputs": [
    {
     "name": "stdout",
     "output_type": "stream",
     "text": [
      "['aaa', 22, 33]\n"
     ]
    }
   ],
   "source": [
    "with shelve.open(r\"c:/Apps/test1.bin\") as f:\n",
    "    print(f['d1'])"
   ]
  },
  {
   "cell_type": "markdown",
   "metadata": {},
   "source": [
    "### OpenPyXL\n",
    "Excel을 읽고 쓰는 모듈"
   ]
  },
  {
   "cell_type": "code",
   "execution_count": 48,
   "metadata": {},
   "outputs": [],
   "source": [
    "import openpyxl\n",
    "\n",
    "wb = openpyxl.Workbook()\n",
    "sheet = wb.active\n",
    "sheet['A1'] = \"Hello\"\n",
    "wb.save(r\"c:/Apps/Hello.xlsx\")"
   ]
  },
  {
   "cell_type": "code",
   "execution_count": 50,
   "metadata": {},
   "outputs": [
    {
     "name": "stdout",
     "output_type": "stream",
     "text": [
      "['Sheet']\n",
      "Sheet\n"
     ]
    }
   ],
   "source": [
    "wb = openpyxl.load_workbook(r\"c:/Apps/Hello.xlsx\")\n",
    "print(wb.sheetnames)\n",
    "\n",
    "sheet = wb.active\n",
    "print(sheet.title)"
   ]
  },
  {
   "cell_type": "code",
   "execution_count": 54,
   "metadata": {},
   "outputs": [],
   "source": [
    "sheet_last = wb.create_sheet(\"newSheet\")\n",
    "sheet_first =  wb.create_sheet(\"firstSheet\", 0)\n",
    "sheet = wb['newSheet']\n",
    "\n",
    "wb.save(r\"c:/Apps/Hello.xlsx\")"
   ]
  },
  {
   "cell_type": "code",
   "execution_count": 55,
   "metadata": {},
   "outputs": [
    {
     "name": "stdout",
     "output_type": "stream",
     "text": [
      "안녕하세요~\n"
     ]
    }
   ],
   "source": [
    "sheet['A1'] = \"안녕하세요~\"\n",
    "\n",
    "print(sheet['A1'].value)"
   ]
  },
  {
   "cell_type": "code",
   "execution_count": 56,
   "metadata": {},
   "outputs": [],
   "source": [
    "sheet.cell(row=2, column=2).value = 'Python is fun'\n"
   ]
  },
  {
   "cell_type": "code",
   "execution_count": 60,
   "metadata": {},
   "outputs": [
    {
     "data": {
      "text/html": [
       "<div>\n",
       "<style scoped>\n",
       "    .dataframe tbody tr th:only-of-type {\n",
       "        vertical-align: middle;\n",
       "    }\n",
       "\n",
       "    .dataframe tbody tr th {\n",
       "        vertical-align: top;\n",
       "    }\n",
       "\n",
       "    .dataframe thead th {\n",
       "        text-align: right;\n",
       "    }\n",
       "</style>\n",
       "<table border=\"1\" class=\"dataframe\">\n",
       "  <thead>\n",
       "    <tr style=\"text-align: right;\">\n",
       "      <th></th>\n",
       "      <th>0</th>\n",
       "      <th>1</th>\n",
       "      <th>2</th>\n",
       "    </tr>\n",
       "  </thead>\n",
       "  <tbody>\n",
       "    <tr>\n",
       "      <th>0</th>\n",
       "      <td>이름</td>\n",
       "      <td>나이</td>\n",
       "      <td>성별</td>\n",
       "    </tr>\n",
       "    <tr>\n",
       "      <th>1</th>\n",
       "      <td>홍길동</td>\n",
       "      <td>30</td>\n",
       "      <td>남</td>\n",
       "    </tr>\n",
       "    <tr>\n",
       "      <th>2</th>\n",
       "      <td>박철수</td>\n",
       "      <td>25</td>\n",
       "      <td>남</td>\n",
       "    </tr>\n",
       "    <tr>\n",
       "      <th>3</th>\n",
       "      <td>이혜수</td>\n",
       "      <td>33</td>\n",
       "      <td>여</td>\n",
       "    </tr>\n",
       "    <tr>\n",
       "      <th>4</th>\n",
       "      <td>임유리</td>\n",
       "      <td>24</td>\n",
       "      <td>여</td>\n",
       "    </tr>\n",
       "    <tr>\n",
       "      <th>5</th>\n",
       "      <td>김영원</td>\n",
       "      <td>43</td>\n",
       "      <td>남</td>\n",
       "    </tr>\n",
       "  </tbody>\n",
       "</table>\n",
       "</div>"
      ],
      "text/plain": [
       "     0   1   2\n",
       "0   이름  나이  성별\n",
       "1  홍길동  30   남\n",
       "2  박철수  25   남\n",
       "3  이혜수  33   여\n",
       "4  임유리  24   여\n",
       "5  김영원  43   남"
      ]
     },
     "execution_count": 60,
     "metadata": {},
     "output_type": "execute_result"
    }
   ],
   "source": [
    "import openpyxl\n",
    "import pandas as pd\n",
    "\n",
    "wb = openpyxl.load_workbook(r\"c:/Apps/temp/sample.xlsx\")\n",
    "sheet = wb.active\n",
    "\n",
    "df = pd.DataFrame(sheet.values)\n",
    "df"
   ]
  },
  {
   "cell_type": "code",
   "execution_count": 61,
   "metadata": {},
   "outputs": [
    {
     "data": {
      "text/html": [
       "<div>\n",
       "<style scoped>\n",
       "    .dataframe tbody tr th:only-of-type {\n",
       "        vertical-align: middle;\n",
       "    }\n",
       "\n",
       "    .dataframe tbody tr th {\n",
       "        vertical-align: top;\n",
       "    }\n",
       "\n",
       "    .dataframe thead th {\n",
       "        text-align: right;\n",
       "    }\n",
       "</style>\n",
       "<table border=\"1\" class=\"dataframe\">\n",
       "  <thead>\n",
       "    <tr style=\"text-align: right;\">\n",
       "      <th></th>\n",
       "      <th>이름</th>\n",
       "      <th>나이</th>\n",
       "      <th>성별</th>\n",
       "    </tr>\n",
       "  </thead>\n",
       "  <tbody>\n",
       "    <tr>\n",
       "      <th>1</th>\n",
       "      <td>홍길동</td>\n",
       "      <td>30</td>\n",
       "      <td>남</td>\n",
       "    </tr>\n",
       "    <tr>\n",
       "      <th>2</th>\n",
       "      <td>박철수</td>\n",
       "      <td>25</td>\n",
       "      <td>남</td>\n",
       "    </tr>\n",
       "    <tr>\n",
       "      <th>3</th>\n",
       "      <td>이혜수</td>\n",
       "      <td>33</td>\n",
       "      <td>여</td>\n",
       "    </tr>\n",
       "    <tr>\n",
       "      <th>4</th>\n",
       "      <td>임유리</td>\n",
       "      <td>24</td>\n",
       "      <td>여</td>\n",
       "    </tr>\n",
       "    <tr>\n",
       "      <th>5</th>\n",
       "      <td>김영원</td>\n",
       "      <td>43</td>\n",
       "      <td>남</td>\n",
       "    </tr>\n",
       "  </tbody>\n",
       "</table>\n",
       "</div>"
      ],
      "text/plain": [
       "0   이름  나이 성별\n",
       "1  홍길동  30  남\n",
       "2  박철수  25  남\n",
       "3  이혜수  33  여\n",
       "4  임유리  24  여\n",
       "5  김영원  43  남"
      ]
     },
     "execution_count": 61,
     "metadata": {},
     "output_type": "execute_result"
    }
   ],
   "source": [
    "df.columns = df.iloc[0, :]\n",
    "df = df.iloc[1:, :]\n",
    "df"
   ]
  },
  {
   "cell_type": "markdown",
   "metadata": {},
   "source": [
    "## python-docs"
   ]
  },
  {
   "cell_type": "code",
   "execution_count": 64,
   "metadata": {},
   "outputs": [],
   "source": [
    "#pip install python-docx\n",
    "import docx\n",
    "\n",
    "doc = docx.Document()\n",
    "doc.save(r\"c:/Apps/example.docx\")"
   ]
  },
  {
   "cell_type": "code",
   "execution_count": 66,
   "metadata": {},
   "outputs": [],
   "source": [
    "para = doc.add_paragraph()\n",
    "run = para.add_run(\"안녕하세요\")\n",
    "run.bold = True\n",
    "run.font.size = docx.shared.Pt(20)\n",
    "\n",
    "doc.save(r\"c:/Apps/example.docx\")"
   ]
  },
  {
   "cell_type": "code",
   "execution_count": 67,
   "metadata": {},
   "outputs": [
    {
     "data": {
      "text/plain": [
       "{'/Producer': 'FPDF 1.7', '/CreationDate': 'D:20200630103238'}"
      ]
     },
     "execution_count": 67,
     "metadata": {},
     "output_type": "execute_result"
    }
   ],
   "source": [
    "from PyPDF2 import PdfFileReader, PdfFileWriter\n",
    "\n",
    "path = r\"c:/Apps/temp/sample1.pdf\"\n",
    "\n",
    "pdf = PdfFileReader(open(path, 'rb'))\n",
    "docinfo = pdf.getDocumentInfo()\n",
    "docinfo"
   ]
  },
  {
   "cell_type": "code",
   "execution_count": 68,
   "metadata": {},
   "outputs": [
    {
     "data": {
      "text/plain": [
       "1"
      ]
     },
     "execution_count": 68,
     "metadata": {},
     "output_type": "execute_result"
    }
   ],
   "source": [
    "pdf.getNumPages()"
   ]
  },
  {
   "cell_type": "markdown",
   "metadata": {},
   "source": [
    "# Numpy"
   ]
  },
  {
   "cell_type": "code",
   "execution_count": 69,
   "metadata": {},
   "outputs": [
    {
     "data": {
      "text/plain": [
       "'1.18.1'"
      ]
     },
     "execution_count": 69,
     "metadata": {},
     "output_type": "execute_result"
    }
   ],
   "source": [
    "import numpy as np\n",
    "np.__version__"
   ]
  },
  {
   "cell_type": "code",
   "execution_count": 2,
   "metadata": {},
   "outputs": [
    {
     "name": "stdout",
     "output_type": "stream",
     "text": [
      "[1 2 3]\n",
      "(3,)\n",
      "1\n",
      "3\n",
      "(2, 3)\n",
      "2\n",
      "6\n"
     ]
    }
   ],
   "source": [
    "# ndarray\n",
    "import numpy as np\n",
    "list = [1,2,3]\n",
    "\n",
    "array1 = np.array(list) #Array화 시키는 것 \n",
    "print(array1)\n",
    "print(array1.shape)\n",
    "print(array1.ndim)\n",
    "print(array1.size)\n",
    "\n",
    "array2 = np.array([[1,2,3],\n",
    "                   [2,3,4]])\n",
    "\n",
    "print(array2.shape)\n",
    "print(array2.ndim)\n",
    "print(array2.size)"
   ]
  },
  {
   "cell_type": "code",
   "execution_count": 81,
   "metadata": {},
   "outputs": [
    {
     "data": {
      "text/plain": [
       "dtype('float64')"
      ]
     },
     "execution_count": 81,
     "metadata": {},
     "output_type": "execute_result"
    }
   ],
   "source": [
    "# ndarray type\n",
    "array2.dtype\n",
    "\n",
    "array3 = np.array([1,2,3.0])\n",
    "\n"
   ]
  },
  {
   "cell_type": "code",
   "execution_count": 85,
   "metadata": {},
   "outputs": [
    {
     "data": {
      "text/plain": [
       "dtype('float64')"
      ]
     },
     "execution_count": 85,
     "metadata": {},
     "output_type": "execute_result"
    }
   ],
   "source": [
    "# ndarray type 변경\n",
    "array_int = np.array([1,2,3])\n",
    "array_int.dtype\n",
    "\n",
    "array_float = array_int.astype('float64')\n",
    "array_float.dtype"
   ]
  },
  {
   "cell_type": "code",
   "execution_count": 89,
   "metadata": {},
   "outputs": [
    {
     "data": {
      "text/plain": [
       "array([1, 1, 2, 3], dtype=int64)"
      ]
     },
     "execution_count": 89,
     "metadata": {},
     "output_type": "execute_result"
    }
   ],
   "source": [
    "array_float1 = np.array([1,1, 2.1, 3.1], dtype = np.int64)\n",
    "array_float1"
   ]
  },
  {
   "cell_type": "markdown",
   "metadata": {},
   "source": [
    "### 연습 01"
   ]
  },
  {
   "cell_type": "code",
   "execution_count": 91,
   "metadata": {},
   "outputs": [
    {
     "name": "stdout",
     "output_type": "stream",
     "text": [
      "(2, 2, 2)\n",
      "3\n",
      "8\n"
     ]
    }
   ],
   "source": [
    "array = np.array([[[1,2],\n",
    "                    [3,4]],\n",
    "       \n",
    "                    [[5,6],\n",
    "                    [7,8]]])\n",
    "\n",
    "print(array.shape)\n",
    "print(array.ndim)\n",
    "print(array.size)"
   ]
  },
  {
   "cell_type": "code",
   "execution_count": 3,
   "metadata": {},
   "outputs": [
    {
     "name": "stdout",
     "output_type": "stream",
     "text": [
      "(10,)\n",
      "[0 1 2 3 4 5 6 7 8 9]\n"
     ]
    }
   ],
   "source": [
    "# ndarray 생성\n",
    "seq_array = np.arange(10)\n",
    "print(seq_array.shape)\n",
    "print(seq_array)"
   ]
  },
  {
   "cell_type": "code",
   "execution_count": 96,
   "metadata": {},
   "outputs": [
    {
     "data": {
      "text/plain": [
       "array([[0, 0],\n",
       "       [0, 0],\n",
       "       [0, 0]])"
      ]
     },
     "execution_count": 96,
     "metadata": {},
     "output_type": "execute_result"
    }
   ],
   "source": [
    "zero_array = np.zeros( (3,2), dtype='int32')\n",
    "zero_array"
   ]
  },
  {
   "cell_type": "code",
   "execution_count": 98,
   "metadata": {},
   "outputs": [
    {
     "data": {
      "text/plain": [
       "array([[1., 1.],\n",
       "       [1., 1.],\n",
       "       [1., 1.]])"
      ]
     },
     "execution_count": 98,
     "metadata": {},
     "output_type": "execute_result"
    }
   ],
   "source": [
    "one_array = np.ones((3,2))\n",
    "one_array"
   ]
  },
  {
   "cell_type": "code",
   "execution_count": 99,
   "metadata": {},
   "outputs": [
    {
     "data": {
      "text/plain": [
       "array([[2, 2, 2, 2, 2],\n",
       "       [2, 2, 2, 2, 2],\n",
       "       [2, 2, 2, 2, 2],\n",
       "       [2, 2, 2, 2, 2],\n",
       "       [2, 2, 2, 2, 2]])"
      ]
     },
     "execution_count": 99,
     "metadata": {},
     "output_type": "execute_result"
    }
   ],
   "source": [
    "full_array = np.full((5,5), 2)\n",
    "full_array"
   ]
  },
  {
   "cell_type": "code",
   "execution_count": 101,
   "metadata": {},
   "outputs": [
    {
     "data": {
      "text/plain": [
       "array([[0.33653262, 0.03426592, 0.09741362],\n",
       "       [0.014397  , 0.26509538, 0.31476815]])"
      ]
     },
     "execution_count": 101,
     "metadata": {},
     "output_type": "execute_result"
    }
   ],
   "source": [
    "rand_array = np.random.rand(2,3)\n",
    "rand_array"
   ]
  },
  {
   "cell_type": "code",
   "execution_count": 102,
   "metadata": {},
   "outputs": [
    {
     "data": {
      "text/plain": [
       "array([[5, 2, 7],\n",
       "       [4, 5, 8]])"
      ]
     },
     "execution_count": 102,
     "metadata": {},
     "output_type": "execute_result"
    }
   ],
   "source": [
    "rand_array = np.random.randint(2, 10, size=(2,3))\n",
    "rand_array"
   ]
  },
  {
   "cell_type": "markdown",
   "metadata": {},
   "source": [
    "### 연습 02"
   ]
  },
  {
   "cell_type": "code",
   "execution_count": 106,
   "metadata": {},
   "outputs": [
    {
     "name": "stdout",
     "output_type": "stream",
     "text": [
      "[ 1  2  3  4  5  6  7  8  9 10 11 12 13 14 15 16 17 18 19 20 21 22 23 24\n",
      " 25 26 27 28 29 30 31 32 33 34 35 36 37 38 39 40 41 42 43 44 45 46 47 48\n",
      " 49 50]\n"
     ]
    }
   ],
   "source": [
    "array = np.arange(1,51)\n",
    "print(array)"
   ]
  },
  {
   "cell_type": "code",
   "execution_count": 114,
   "metadata": {},
   "outputs": [
    {
     "name": "stdout",
     "output_type": "stream",
     "text": [
      "[[0 1 2 3 4]\n",
      " [5 6 7 8 9]]\n",
      "[[0 1]\n",
      " [2 3]\n",
      " [4 5]\n",
      " [6 7]\n",
      " [8 9]]\n"
     ]
    }
   ],
   "source": [
    "# ndarray 차원(모양) 변경\n",
    "array1 = np.arange(10)\n",
    "array1\n",
    "\n",
    "array2 = array1.reshape(2,5)\n",
    "\n",
    "array3 =array1.reshape(5,2)\n",
    "array3\n",
    "\n",
    "# -1을 넣는 것은 부분적으로 자동으로 해주는 것이다\n",
    "array4= array1.reshape(2, -1)\n",
    "print(array4)\n",
    "\n",
    "array5 = array1.reshape(5, -1)\n",
    "print(array5)"
   ]
  },
  {
   "cell_type": "code",
   "execution_count": 4,
   "metadata": {},
   "outputs": [
    {
     "name": "stdout",
     "output_type": "stream",
     "text": [
      "[[[0 1]\n",
      "  [2 3]]\n",
      "\n",
      " [[4 5]\n",
      "  [6 7]]]\n",
      "\n",
      "[[0]\n",
      " [1]\n",
      " [2]\n",
      " [3]\n",
      " [4]\n",
      " [5]\n",
      " [6]\n",
      " [7]]\n"
     ]
    },
    {
     "data": {
      "text/plain": [
       "2"
      ]
     },
     "execution_count": 4,
     "metadata": {},
     "output_type": "execute_result"
    }
   ],
   "source": [
    "array1 = np.arange(8)\n",
    "array3d = array1.reshape(2,2,2)\n",
    "array3d\n",
    "print(array3d)\n",
    "print()\n",
    "array3d.tolist()\n",
    "\n",
    "array5 = array3d.reshape(-1,1)\n",
    "array5.ndim\n",
    "\n",
    "array6 = array1.reshape(-1, 1) #1차원 배열을 reshape해도 2차원 배열이된다\n",
    "print(array6)\n",
    "array6.ndim"
   ]
  },
  {
   "cell_type": "code",
   "execution_count": 132,
   "metadata": {},
   "outputs": [
    {
     "data": {
      "text/plain": [
       "3"
      ]
     },
     "execution_count": 132,
     "metadata": {},
     "output_type": "execute_result"
    }
   ],
   "source": [
    "#인덱싱 & 슬라이싱 (팬시인덱싱, 불린인덱싱)\n",
    "array = np.arange(start=1, stop=10)\n",
    "v = array[2] #인덱싱\n",
    "v\n",
    "\n"
   ]
  },
  {
   "cell_type": "code",
   "execution_count": 6,
   "metadata": {},
   "outputs": [
    {
     "name": "stdout",
     "output_type": "stream",
     "text": [
      "[[1 2 3]\n",
      " [4 5 6]]\n",
      "2\n",
      "2\n"
     ]
    }
   ],
   "source": [
    "array = np.array([[1,2,3], [4,5,6]])\n",
    "print(array)\n",
    "\n",
    "array[0]\n",
    "array[0][0]\n",
    "print(array[0,1])  #특이하네\n",
    "print(array[0][1])"
   ]
  },
  {
   "cell_type": "code",
   "execution_count": 136,
   "metadata": {},
   "outputs": [
    {
     "name": "stdout",
     "output_type": "stream",
     "text": [
      "[[1 2 3]\n",
      " [4 5 6]\n",
      " [7 8 9]]\n"
     ]
    },
    {
     "data": {
      "text/plain": [
       "9"
      ]
     },
     "execution_count": 136,
     "metadata": {},
     "output_type": "execute_result"
    }
   ],
   "source": [
    "array1d = np.arange(1, 10)\n",
    "array2d = array1d.reshape(3,3)\n",
    "print(array2d)\n",
    "\n",
    "array2d[2,2]\n"
   ]
  },
  {
   "cell_type": "code",
   "execution_count": 137,
   "metadata": {},
   "outputs": [
    {
     "name": "stdout",
     "output_type": "stream",
     "text": [
      "[1 2 3 4 5 6 7 8 9]\n"
     ]
    },
    {
     "data": {
      "text/plain": [
       "array([4, 5, 6, 7, 8, 9])"
      ]
     },
     "execution_count": 137,
     "metadata": {},
     "output_type": "execute_result"
    }
   ],
   "source": [
    "array = np.arange(1, 10)\n",
    "print(array)\n",
    "array[3:]"
   ]
  },
  {
   "cell_type": "code",
   "execution_count": 144,
   "metadata": {},
   "outputs": [
    {
     "name": "stdout",
     "output_type": "stream",
     "text": [
      "[[1 2 3]\n",
      " [4 5 6]\n",
      " [7 8 9]]\n"
     ]
    },
    {
     "data": {
      "text/plain": [
       "array([[2, 3],\n",
       "       [5, 6]])"
      ]
     },
     "execution_count": 144,
     "metadata": {},
     "output_type": "execute_result"
    }
   ],
   "source": [
    "array = np.arange(1,10).reshape(3,3)\n",
    "print(array)\n",
    "\n",
    "array[0:2, 0:2]  #특이하네, row 와 column도 범위 지정 가능\n",
    "array[1:3, 0:3]\n",
    "array[1:3, :]\n",
    "array[:, :]\n",
    "array[:2, 1:]"
   ]
  },
  {
   "cell_type": "code",
   "execution_count": 145,
   "metadata": {},
   "outputs": [
    {
     "name": "stdout",
     "output_type": "stream",
     "text": [
      "[1 2 3 4 5 6 7 8 9]\n"
     ]
    },
    {
     "data": {
      "text/plain": [
       "array([3, 5, 8])"
      ]
     },
     "execution_count": 145,
     "metadata": {},
     "output_type": "execute_result"
    }
   ],
   "source": [
    "#팬시 인덱싱\n",
    "array = np.arange(1, 10)\n",
    "print(array)\n",
    "\n",
    "array[ [2,4,7]]"
   ]
  },
  {
   "cell_type": "code",
   "execution_count": 10,
   "metadata": {},
   "outputs": [
    {
     "name": "stdout",
     "output_type": "stream",
     "text": [
      "[[1 2 3]\n",
      " [4 5 6]\n",
      " [7 8 9]]\n",
      "[3 6]\n",
      "[[1 2]\n",
      " [4 5]]\n",
      "[[1 2 3]\n",
      " [4 5 6]]\n"
     ]
    }
   ],
   "source": [
    "array = np.arange(1, 10).reshape(3,3)\n",
    "print(array)\n",
    "print(array[[0,1], 2])  #콤마를 기준으로 이전은 행, 이후는 열. 0번째와 1번째 행을 가져오고 2번째 열을 가져와라\n",
    "print(array[[0,1], 0:2])\n",
    "print(array[[0,1]])  #행만 지정했으니 열은 전체 #주의 == print(array[[0,1], :])"
   ]
  },
  {
   "cell_type": "code",
   "execution_count": 150,
   "metadata": {},
   "outputs": [
    {
     "data": {
      "text/plain": [
       "array([6, 7, 8, 9])"
      ]
     },
     "execution_count": 150,
     "metadata": {},
     "output_type": "execute_result"
    }
   ],
   "source": [
    "#불린 인덱싱\n",
    "array = np.arange(1,10)\n",
    "array[array>5]"
   ]
  },
  {
   "cell_type": "code",
   "execution_count": 153,
   "metadata": {},
   "outputs": [
    {
     "name": "stdout",
     "output_type": "stream",
     "text": [
      "[[ 60  60]\n",
      " [ 70  70]\n",
      " [ 80  80]\n",
      " [ 90  90]\n",
      " [100 100]]\n"
     ]
    },
    {
     "data": {
      "text/plain": [
       "array([[60, 60]])"
      ]
     },
     "execution_count": 153,
     "metadata": {},
     "output_type": "execute_result"
    }
   ],
   "source": [
    "name = np.array(['홍길동', '박철수', '이혜수', '임유리', '김영원'])\n",
    "name_score = np.array([[60,60], [70,70], [80,80], [90,90], [100, 100]])\n",
    "\n",
    "print(name_score)\n",
    "name_score[name=='홍길동']"
   ]
  },
  {
   "cell_type": "markdown",
   "metadata": {},
   "source": [
    "### 예제 3 BMI 지수 구하기\n",
    "\n",
    "BMI = 몸무게 / 키*키"
   ]
  },
  {
   "cell_type": "code",
   "execution_count": 197,
   "metadata": {},
   "outputs": [
    {
     "data": {
      "text/plain": [
       "array([21.37153104, 27.07018468, 25.86122449, 24.20652885, 16.03543423,\n",
       "       20.14486193, 23.14392095, 21.69720651, 23.62028791, 25.59220998])"
      ]
     },
     "execution_count": 197,
     "metadata": {},
     "output_type": "execute_result"
    }
   ],
   "source": [
    "drive_path = r\"C:/Apps/temp/\"\n",
    "data = np.loadtxt(drive_path+\"height_weight.txt\", delimiter=\",\") #delimiter = 구분자\n",
    "\n",
    "h = data[0]/100\n",
    "w = data[1]\n",
    "\n",
    "BMI = w / h**2\n",
    "BMI\n",
    "\n",
    "# bmi = [None]*10\n",
    "# for i in range(10):\n",
    "#     h = data[0][i]\n",
    "#     w = data[1][i]\n",
    "#     bmi[i] = w/h**2\n",
    "\n",
    "# bmi\n",
    "    "
   ]
  },
  {
   "cell_type": "code",
   "execution_count": 198,
   "metadata": {},
   "outputs": [],
   "source": [
    "#정렬\n",
    "org_array = np.array([3,5,2,1,9])\n",
    "sort_array = np.sort(org_array)\n",
    "sort_array\n",
    "\n",
    "org_array.sort()"
   ]
  },
  {
   "cell_type": "code",
   "execution_count": 199,
   "metadata": {},
   "outputs": [
    {
     "data": {
      "text/plain": [
       "array([9, 5, 3, 2, 1])"
      ]
     },
     "execution_count": 199,
     "metadata": {},
     "output_type": "execute_result"
    }
   ],
   "source": [
    "np.sort(org_array)[::-1] #내림차순"
   ]
  },
  {
   "cell_type": "code",
   "execution_count": 201,
   "metadata": {},
   "outputs": [
    {
     "data": {
      "text/plain": [
       "array([[ 7,  1],\n",
       "       [ 8, 12]])"
      ]
     },
     "execution_count": 201,
     "metadata": {},
     "output_type": "execute_result"
    }
   ],
   "source": [
    "#numpy 정렬하기\n",
    "array = np.array([[8, 12], \n",
    "                 [7,1]])\n",
    "\n",
    "sort_array = np.sort(array, axis = 0)  #column 방향으로 정렬된다\n",
    "sort_array"
   ]
  },
  {
   "cell_type": "code",
   "execution_count": 202,
   "metadata": {},
   "outputs": [
    {
     "data": {
      "text/plain": [
       "array([[ 8, 12],\n",
       "       [ 1,  7]])"
      ]
     },
     "execution_count": 202,
     "metadata": {},
     "output_type": "execute_result"
    }
   ],
   "source": [
    "sort_array = np.sort(array, axis = 1)  #row 방향으로 정렬된다\n",
    "sort_array"
   ]
  },
  {
   "cell_type": "code",
   "execution_count": 205,
   "metadata": {},
   "outputs": [
    {
     "name": "stdout",
     "output_type": "stream",
     "text": [
      "[1 2 3 5 9]\n",
      "[3 2 0 1 4]\n"
     ]
    }
   ],
   "source": [
    "org_array = np.array([3,5,2,1,9])\n",
    "sort_array = np.sort(org_array)\n",
    "sort_index = np.argsort(org_array)  #array한 것의 Index? 서로 다른 두 array가 있을때 연결\n",
    "print(sort_array)\n",
    "print(sort_index)     #정렬되었을 때의 인덱스를 나타낸다, index sort"
   ]
  },
  {
   "cell_type": "code",
   "execution_count": 12,
   "metadata": {},
   "outputs": [
    {
     "name": "stdout",
     "output_type": "stream",
     "text": [
      "[0 2 4 1 3]\n"
     ]
    },
    {
     "data": {
      "text/plain": [
       "array(['홍길동', '이혜수', '김영원', '박철수', '이유리'], dtype='<U3')"
      ]
     },
     "execution_count": 12,
     "metadata": {},
     "output_type": "execute_result"
    }
   ],
   "source": [
    "#argsort 활용\n",
    "name = np.array(['홍길동', '박철수', '이혜수', '이유리', '김영원'])\n",
    "name_score = np.array([78, 95, 84, 98, 88])\n",
    "\n",
    "#정렬되었을 때의 인덱스를 반환하니, 그 인덱스를 원래 자료에 넣으면 그 정렬된 순서대로 출력될 것이다.\n",
    "sort_index = np.argsort(name_score)\n",
    "print(sort_index)\n",
    "name[sort_index]"
   ]
  },
  {
   "cell_type": "code",
   "execution_count": null,
   "metadata": {},
   "outputs": [],
   "source": [
    "# ndarray 연산\n"
   ]
  }
 ],
 "metadata": {
  "kernelspec": {
   "display_name": "Python 3",
   "language": "python",
   "name": "python3"
  },
  "language_info": {
   "codemirror_mode": {
    "name": "ipython",
    "version": 3
   },
   "file_extension": ".py",
   "mimetype": "text/x-python",
   "name": "python",
   "nbconvert_exporter": "python",
   "pygments_lexer": "ipython3",
   "version": "3.7.6"
  }
 },
 "nbformat": 4,
 "nbformat_minor": 4
}
