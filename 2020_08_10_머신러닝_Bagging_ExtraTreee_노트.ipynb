{
 "cells": [
  {
   "cell_type": "markdown",
   "metadata": {
    "colab_type": "text",
    "id": "Is3dKHroTx9l",
    "slideshow": {
     "slide_type": "slide"
    }
   },
   "source": [
    "# Bagging\n",
    "\n",
    "- 중복을 허용한 랜덤 샘플링으로 만든 훈련 세트를 사용하여 분류기를 각기 다르게 학습시킴\n",
    "\n",
    "- 분류기가 predict_proba() 메소드를 지원하는 경우 확률값을 평균하여 예측을 수행\n",
    "\n",
    "- 없는 경우 가장 빈도가 높은 클래스 레이블이 예측 결과가 됨"
   ]
  },
  {
   "cell_type": "code",
   "execution_count": 1,
   "metadata": {
    "colab": {
     "base_uri": "https://localhost:8080/",
     "height": 303
    },
    "colab_type": "code",
    "executionInfo": {
     "elapsed": 4528,
     "status": "ok",
     "timestamp": 1596975278983,
     "user": {
      "displayName": "oz To",
      "photoUrl": "",
      "userId": "12937505880450462933"
     },
     "user_tz": -540
    },
    "id": "YJbfXrHaiX6W",
    "outputId": "94dc7a22-0158-4123-ffe0-1c5405a3aec5",
    "slideshow": {
     "slide_type": "skip"
    }
   },
   "outputs": [],
   "source": [
    "# !pip install mglearn"
   ]
  },
  {
   "cell_type": "code",
   "execution_count": 1,
   "metadata": {},
   "outputs": [],
   "source": [
    "from warnings import filterwarnings\n",
    "filterwarnings('ignore')"
   ]
  },
  {
   "cell_type": "code",
   "execution_count": 2,
   "metadata": {
    "colab": {},
    "colab_type": "code",
    "executionInfo": {
     "elapsed": 4513,
     "status": "ok",
     "timestamp": 1596975278984,
     "user": {
      "displayName": "oz To",
      "photoUrl": "",
      "userId": "12937505880450462933"
     },
     "user_tz": -540
    },
    "id": "f4OmEasj8yK3",
    "slideshow": {
     "slide_type": "slide"
    }
   },
   "outputs": [],
   "source": [
    "from sklearn.model_selection import train_test_split\n",
    "from sklearn.datasets import load_breast_cancer\n",
    "\n",
    "# 데이터 로드\n",
    "cancer = load_breast_cancer()\n",
    "\n",
    "X_train, X_test, y_train, y_test = train_test_split(cancer.data, \n",
    "                                                    cancer.target, \n",
    "                                                    random_state=0)"
   ]
  },
  {
   "cell_type": "code",
   "execution_count": 6,
   "metadata": {
    "colab": {
     "base_uri": "https://localhost:8080/",
     "height": 70
    },
    "colab_type": "code",
    "executionInfo": {
     "elapsed": 5789,
     "status": "ok",
     "timestamp": 1596975280265,
     "user": {
      "displayName": "oz To",
      "photoUrl": "",
      "userId": "12937505880450462933"
     },
     "user_tz": -540
    },
    "id": "7GVHPmBCVW2-",
    "outputId": "4045c29b-99cf-45f9-f59f-f512f999d7d8",
    "slideshow": {
     "slide_type": "slide"
    }
   },
   "outputs": [
    {
     "name": "stdout",
     "output_type": "stream",
     "text": [
      "훈련 세트 정확도: 0.962\n",
      "테스트 세트 정확도: 0.958\n",
      "OOB 샘플의 정확도 : 0.948\n"
     ]
    }
   ],
   "source": [
    "from sklearn.linear_model import LogisticRegression\n",
    "from sklearn.ensemble import BaggingClassifier\n",
    "\n",
    "# oob_score : 부스트래핑에 포함되지 않는 샘플을 기반으로 훈련된 모델을 평가\n",
    "model = BaggingClassifier(LogisticRegression(solver = 'liblinear'),\n",
    "                         n_estimators = 100,\n",
    "                         oob_score = True,\n",
    "                         n_jobs = 1,\n",
    "                         random_state = 42)\n",
    "\n",
    "model.fit(X_train, y_train)\n",
    "# 평가\n",
    "print(\"훈련 세트 정확도: {:.3f}\".format(model.score(X_train, y_train)))\n",
    "print(\"테스트 세트 정확도: {:.3f}\".format(model.score(X_test, y_test)))\n",
    "print(\"OOB 샘플의 정확도 : {:.3f}\".format(model.oob_score_))"
   ]
  },
  {
   "cell_type": "code",
   "execution_count": 4,
   "metadata": {
    "colab": {
     "base_uri": "https://localhost:8080/",
     "height": 283
    },
    "colab_type": "code",
    "executionInfo": {
     "elapsed": 5781,
     "status": "ok",
     "timestamp": 1596975280268,
     "user": {
      "displayName": "oz To",
      "photoUrl": "",
      "userId": "12937505880450462933"
     },
     "user_tz": -540
    },
    "id": "-ZXQveP9HiXr",
    "outputId": "fa795654-902c-442c-c17c-86253d8c3c62",
    "slideshow": {
     "slide_type": "slide"
    }
   },
   "outputs": [],
   "source": [
    "# 특성 중요도 시각화\n",
    "import seaborn as sns\n"
   ]
  },
  {
   "cell_type": "markdown",
   "metadata": {
    "colab_type": "text",
    "id": "MlVy2oBPXXqD",
    "slideshow": {
     "slide_type": "slide"
    }
   },
   "source": [
    "#### Bagging 실습 01\n",
    "\n",
    "결정트리로 배깅을 수행 (two_moon 데이터 셋 적용)"
   ]
  },
  {
   "cell_type": "code",
   "execution_count": 7,
   "metadata": {
    "colab": {},
    "colab_type": "code",
    "executionInfo": {
     "elapsed": 5775,
     "status": "ok",
     "timestamp": 1596975280269,
     "user": {
      "displayName": "oz To",
      "photoUrl": "",
      "userId": "12937505880450462933"
     },
     "user_tz": -540
    },
    "id": "Rd0IFwUnUDnl",
    "slideshow": {
     "slide_type": "slide"
    }
   },
   "outputs": [],
   "source": [
    "from sklearn.model_selection import train_test_split\n",
    "from sklearn.datasets import make_moons\n",
    "import matplotlib.pyplot as plt\n",
    "import mglearn\n",
    "\n",
    "# 데이터 로드\n",
    "X, y = make_moons(n_samples=100, noise=0.25, random_state=3)\n",
    "X_train, X_test, y_train, y_test = train_test_split(X, \n",
    "                                                    y, \n",
    "                                                    stratify=y, \n",
    "                                                    random_state=42)"
   ]
  },
  {
   "cell_type": "code",
   "execution_count": 8,
   "metadata": {
    "colab": {
     "base_uri": "https://localhost:8080/",
     "height": 52
    },
    "colab_type": "code",
    "executionInfo": {
     "elapsed": 5770,
     "status": "ok",
     "timestamp": 1596975280271,
     "user": {
      "displayName": "oz To",
      "photoUrl": "",
      "userId": "12937505880450462933"
     },
     "user_tz": -540
    },
    "id": "W94XEErSXev7",
    "outputId": "ac830a1c-4904-41d5-e577-8cb3ec9114c4",
    "slideshow": {
     "slide_type": "slide"
    }
   },
   "outputs": [
    {
     "name": "stdout",
     "output_type": "stream",
     "text": [
      "훈련 세트 정확도 : 0.987\n",
      "테스트 세트 정확도 : 0.880\n"
     ]
    }
   ],
   "source": [
    "# BaggingClassifier 모델 학습\n",
    "# n_estimators=5\n",
    "from sklearn.tree import DecisionTreeClassifier\n",
    "\n",
    "model = BaggingClassifier(DecisionTreeClassifier(), \n",
    "                             n_estimators = 5,\n",
    "                             n_jobs = 1,\n",
    "                             random_state =42)\n",
    "\n",
    "model.fit(X_train, y_train)\n",
    "\n",
    "# 평가\n",
    "print(\"훈련 세트 정확도 : {:.3f}\".format(model.score(X_train, y_train)))\n",
    "print(\"테스트 세트 정확도 : {:.3f}\".format(model.score(X_test, y_test)))"
   ]
  },
  {
   "cell_type": "code",
   "execution_count": 10,
   "metadata": {
    "colab": {
     "base_uri": "https://localhost:8080/",
     "height": 524
    },
    "colab_type": "code",
    "executionInfo": {
     "elapsed": 7640,
     "status": "ok",
     "timestamp": 1596975282149,
     "user": {
      "displayName": "oz To",
      "photoUrl": "",
      "userId": "12937505880450462933"
     },
     "user_tz": -540
    },
    "id": "bhEVN7dXYcsV",
    "outputId": "d8cf1b52-cb98-47f2-d34f-e2f3a13b4917",
    "slideshow": {
     "slide_type": "slide"
    }
   },
   "outputs": [
    {
     "data": {
      "text/plain": [
       "[<matplotlib.lines.Line2D at 0x21502e52808>,\n",
       " <matplotlib.lines.Line2D at 0x21502e52a08>]"
      ]
     },
     "execution_count": 10,
     "metadata": {},
     "output_type": "execute_result"
    },
    {
     "data": {
      "image/png": "[encoded data removed]",
      "text/plain": [
       "<Figure size 1440x720 with 6 Axes>"
      ]
     },
     "metadata": {},
     "output_type": "display_data"
    }
   ],
   "source": [
    "# 결정 경계 시각화\n",
    "fig, axes = plt.subplots(2, 3, figsize=(20,10) )\n",
    "for i, (ax, tree) in enumerate( zip( axes.ravel(), model.estimators_ ) ):\n",
    "    ax.set_title(\"tree {}\".format(i) )\n",
    "    mglearn.plots.plot_tree_partition(X, y, tree, ax=ax)\n",
    "# 배깅으로 만들어진 결정경계\n",
    "axes[-1, -1].set_title(\"Bagging(DecisionTree)\")\n",
    "mglearn.plots.plot_2d_separator(model, X, fill=True, alpha=0.5, ax=axes[-1,-1] )\n",
    "mglearn.discrete_scatter(X[:,0], X[:,1], y)"
   ]
  },
  {
   "cell_type": "code",
   "execution_count": 12,
   "metadata": {
    "colab": {
     "base_uri": "https://localhost:8080/",
     "height": 70
    },
    "colab_type": "code",
    "executionInfo": {
     "elapsed": 7634,
     "status": "ok",
     "timestamp": 1596975282150,
     "user": {
      "displayName": "oz To",
      "photoUrl": "",
      "userId": "12937505880450462933"
     },
     "user_tz": -540
    },
    "id": "ndxzRK2zZDJs",
    "outputId": "3588f4d5-89ef-4257-e314-611c092ab545",
    "slideshow": {
     "slide_type": "slide"
    }
   },
   "outputs": [
    {
     "name": "stdout",
     "output_type": "stream",
     "text": [
      "훈련 세트 정확도 : 1.000\n",
      "테스트 세트 정확도 : 0.920\n",
      "OOB 샘플의 정확도 : 0.853\n"
     ]
    }
   ],
   "source": [
    "# BaggingClassifier 모델 학습\n",
    "# n_estimator=100으로 설정한 경우\n",
    "model = BaggingClassifier(DecisionTreeClassifier(),\n",
    "                          n_estimators=100,\n",
    "                          n_jobs=-1,\n",
    "                          oob_score=True,\n",
    "                          random_state=42)\n",
    "\n",
    "model.fit(X_train, y_train)\n",
    "\n",
    "# 평가\n",
    "print(\"훈련 세트 정확도 : {:.3f}\".format(model.score(X_train, y_train)))\n",
    "print(\"테스트 세트 정확도 : {:.3f}\".format(model.score(X_test, y_test)))\n",
    "print(\"OOB 샘플의 정확도 : {:.3f}\".format(model.oob_score_))"
   ]
  },
  {
   "cell_type": "markdown",
   "metadata": {
    "colab_type": "text",
    "id": "oFc7YIp8ZTVl",
    "slideshow": {
     "slide_type": "slide"
    }
   },
   "source": [
    "- 배깅은 랜덤포레스트와 달리 max_samples 매개변수에서 부스트랩 샘플의 크기를 지정할 수 있음\n",
    "- 랜덤포레스트는 DecisionTreeClassifier(splitter='best')를 사용하도록 고정되어 있음\n",
    "- 결정트리를 splitter='random'으로 설정하면 무작위로 분할한 후보 노드 중에서 최선의 분할을 찾음"
   ]
  },
  {
   "cell_type": "markdown",
   "metadata": {
    "colab_type": "text",
    "id": "Py7dk01vZ1Xo",
    "slideshow": {
     "slide_type": "slide"
    }
   },
   "source": [
    "# Extra Tree\n",
    "\n",
    "- 랜덤포레스트와 비슷하지만 최적의 임계값을 찾는 대신 후보 특성을 사용해 무작위로 분할한 다음 그중에서 최상의 분할을 선택\n",
    "- 극단적으로 무작위한 트리의 랜덤 포레스트를 익스트림 랜덤 트리(extremely randomized tree) 또는 줄여서 엑스트라 트리(extra-tree)라고 부름\n",
    "\n",
    "- 부스트랩 샘플링은 적용하지 않음\n",
    "\n",
    "- 무작위성을 증가시키면 일반적으로 모델의 편향이 증가하지만 분산이 감소\n",
    "\n",
    "- 예측방식은 랜덤포래스트와 동일하게 각 트리가 만든 확률값을 평균"
   ]
  },
  {
   "cell_type": "code",
   "execution_count": 9,
   "metadata": {
    "colab": {
     "base_uri": "https://localhost:8080/",
     "height": 52
    },
    "colab_type": "code",
    "executionInfo": {
     "elapsed": 7628,
     "status": "ok",
     "timestamp": 1596975282151,
     "user": {
      "displayName": "oz To",
      "photoUrl": "",
      "userId": "12937505880450462933"
     },
     "user_tz": -540
    },
    "id": "hJbCPaEEaUs2",
    "outputId": "31bc129a-8de4-4834-f545-557e6cdd0d71",
    "slideshow": {
     "slide_type": "slide"
    }
   },
   "outputs": [],
   "source": [
    "# ExtraTreesClassifier 모델 학습\n",
    "from sklearn.ensemble import ExtraTreesClassifier\n",
    "\n",
    "\n",
    "# 평가\n"
   ]
  },
  {
   "cell_type": "code",
   "execution_count": 10,
   "metadata": {
    "colab": {
     "base_uri": "https://localhost:8080/",
     "height": 524
    },
    "colab_type": "code",
    "executionInfo": {
     "elapsed": 9377,
     "status": "ok",
     "timestamp": 1596975283909,
     "user": {
      "displayName": "oz To",
      "photoUrl": "",
      "userId": "12937505880450462933"
     },
     "user_tz": -540
    },
    "id": "0jzFH8Xwau41",
    "outputId": "47741aa5-e42d-418e-b70f-01dd206f386b",
    "slideshow": {
     "slide_type": "slide"
    }
   },
   "outputs": [],
   "source": [
    "# 결정 경계 시각화\n",
    "\n",
    "\n"
   ]
  },
  {
   "cell_type": "markdown",
   "metadata": {
    "colab_type": "text",
    "id": "E2HMXrSia5-d",
    "slideshow": {
     "slide_type": "slide"
    }
   },
   "source": [
    "#### Extra Tree 실습 01\n",
    "\n",
    "n_estimator=100으로 설정한 경우 (유방암 데이터 세트에 적용)"
   ]
  },
  {
   "cell_type": "code",
   "execution_count": 11,
   "metadata": {
    "colab": {},
    "colab_type": "code",
    "executionInfo": {
     "elapsed": 9372,
     "status": "ok",
     "timestamp": 1596975283911,
     "user": {
      "displayName": "oz To",
      "photoUrl": "",
      "userId": "12937505880450462933"
     },
     "user_tz": -540
    },
    "id": "CmKFUdpQFm48",
    "slideshow": {
     "slide_type": "slide"
    }
   },
   "outputs": [],
   "source": [
    "from sklearn.model_selection import train_test_split\n",
    "from sklearn.datasets import load_breast_cancer\n",
    "\n",
    "# 데이터 로드\n",
    "cancer = load_breast_cancer()\n",
    "\n",
    "X_train, X_test, y_train, y_test = train_test_split(cancer.data, \n",
    "                                                    cancer.target, \n",
    "                                                    random_state=0)"
   ]
  },
  {
   "cell_type": "code",
   "execution_count": 12,
   "metadata": {
    "colab": {
     "base_uri": "https://localhost:8080/",
     "height": 52
    },
    "colab_type": "code",
    "executionInfo": {
     "elapsed": 9368,
     "status": "ok",
     "timestamp": 1596975283912,
     "user": {
      "displayName": "oz To",
      "photoUrl": "",
      "userId": "12937505880450462933"
     },
     "user_tz": -540
    },
    "id": "x_JFe3raa9Kt",
    "outputId": "2cb3a8b9-dc45-43c4-b80b-8fbc6481c3f0",
    "slideshow": {
     "slide_type": "slide"
    }
   },
   "outputs": [],
   "source": [
    "# ExtraTreesClassifier 모델 학습\n",
    "\n",
    "\n",
    "# 평가\n"
   ]
  },
  {
   "cell_type": "markdown",
   "metadata": {
    "colab_type": "text",
    "id": "I2VPmX06bOeN",
    "slideshow": {
     "slide_type": "slide"
    }
   },
   "source": [
    "- 엑스트라 트리는 랜덤 포레스트와 거의 같은 성능을 냄\n",
    "\n",
    "- 엑스트라 트리는 계산 비용이 적지만 무작위 분할 때문에 일반화 성능을 높이려면 많은 트리가 필요하다는 문제"
   ]
  },
  {
   "cell_type": "code",
   "execution_count": 13,
   "metadata": {
    "colab": {
     "base_uri": "https://localhost:8080/",
     "height": 283
    },
    "colab_type": "code",
    "executionInfo": {
     "elapsed": 10023,
     "status": "ok",
     "timestamp": 1596975284574,
     "user": {
      "displayName": "oz To",
      "photoUrl": "",
      "userId": "12937505880450462933"
     },
     "user_tz": -540
    },
    "id": "yMHGIYIcbdur",
    "outputId": "43d2d9f7-218c-4185-abb7-71daaeed2c33",
    "slideshow": {
     "slide_type": "slide"
    }
   },
   "outputs": [],
   "source": [
    "# 특성 중요도 시각화\n",
    "import seaborn as sns\n"
   ]
  }
 ],
 "metadata": {
  "celltoolbar": "Slideshow",
  "colab": {
   "authorship_tag": "ABX9TyPJj+54wF39abJ+OWDPZTpi",
   "collapsed_sections": [],
   "name": "ml_10_지도학습_Bagging_ExtraTreee.ipynb",
   "provenance": []
  },
  "kernelspec": {
   "display_name": "Python 3",
   "language": "python",
   "name": "python3"
  },
  "language_info": {
   "codemirror_mode": {
    "name": "ipython",
    "version": 3
   },
   "file_extension": ".py",
   "mimetype": "text/x-python",
   "name": "python",
   "nbconvert_exporter": "python",
   "pygments_lexer": "ipython3",
   "version": "3.7.6"
  }
 },
 "nbformat": 4,
 "nbformat_minor": 1
}
